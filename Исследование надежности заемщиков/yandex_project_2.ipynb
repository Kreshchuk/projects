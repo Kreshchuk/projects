{
 "cells": [
  {
   "cell_type": "markdown",
   "id": "457d6914",
   "metadata": {},
   "source": [
    "<div class=\"alert alert-info\">\n",
    "<font size=\"5\"><b>Комментарий ревьюера</b></font>\n",
    "\n",
    "Привет, Ммихаил! Спасибо, что прислал задание:) Меня зовут Слепцов Артем и я буду проверять твой проект) Ты проделал большую работу над проектом. Будет здорово, если ты, надеюсь, не против, если я буду на ты, будешь отвечать на комментарии и участвовать в диалоге. Если обращение на ты неприемлемо, то прошу сообщить. \n",
    "\n",
    "Мои комментарии обозначены пометкой **Комментарий ревьюера**. Далее в файле ты сможешь найти их в похожих ячейках:\n",
    "    \n",
    "<div class=\"alert alert-success\">Успех: Если фон комментария зелёный - всё сделано правильно. Рекомендации укажу таким же цветом;</div>\n",
    "        \n",
    "<div class=\"alert alert-warning\">Совет: Оранжевый - некритичные замечания;</div>\n",
    "        \n",
    "<div class=\"alert alert-danger\">Ошибка: Красный - нужно переделать. </div>\n",
    "        \n",
    "Не удаляй эти комментарии и постарайся учесть их в ходе выполнения данного проекта. Свои же комментарии ты можешь обозначать любым заметным способом. \n",
    "\n",
    "</div>"
   ]
  },
  {
   "cell_type": "markdown",
   "id": "14b1d3e9",
   "metadata": {
    "deletable": false,
    "editable": false,
    "id": "c81daeeb"
   },
   "source": [
    "# Исследование надежности заемщиков\n"
   ]
  },
  {
   "cell_type": "markdown",
   "id": "72175d42",
   "metadata": {
    "deletable": false,
    "editable": false,
    "id": "827c20bf"
   },
   "source": [
    "Во второй части проекта вы выполните шаги 3 и 4. Их вручную проверит ревьюер.\n",
    "Чтобы вам не пришлось писать код заново для шагов 1 и 2, мы добавили авторские решения в ячейки с кодом. \n",
    "\n"
   ]
  },
  {
   "cell_type": "markdown",
   "id": "afa24592",
   "metadata": {
    "deletable": false,
    "editable": false,
    "id": "744d7639"
   },
   "source": [
    "## Откройте таблицу и изучите общую информацию о данных"
   ]
  },
  {
   "cell_type": "markdown",
   "id": "bfa390ed",
   "metadata": {
    "deletable": false,
    "editable": false,
    "id": "e7a14c31"
   },
   "source": [
    "**Задание 1. Импортируйте библиотеку pandas. Считайте данные из csv-файла в датафрейм и сохраните в переменную `data`. Путь к файлу:**\n",
    "\n",
    "`/datasets/data.csv`"
   ]
  },
  {
   "cell_type": "markdown",
   "id": "f663cb98",
   "metadata": {},
   "source": [
    "<div class=\"alert alert-warning\">\n",
    "<font size=\"5\"><b>Комментарий ревьюера</b></font>\n",
    "\n",
    "Совет: Я заметил, что ячейки в твоей тетрадке начинаются не с 1. Перед отправкой работы рекомендую перезапускать ноутбук, чтобы убедиться, что все ячейки выполняются корректно.\n",
    "\n",
    "</div>"
   ]
  },
  {
   "cell_type": "code",
   "execution_count": 26,
   "id": "3b822b22",
   "metadata": {
    "deletable": false,
    "id": "7bcf75c9"
   },
   "outputs": [],
   "source": [
    "import pandas as pd\n",
    "\n",
    "try:\n",
    "    data = pd.read_csv('/datasets/data.csv')\n",
    "except:\n",
    "    data = pd.read_csv('https://code.s3.yandex.net/datasets/data.csv')"
   ]
  },
  {
   "cell_type": "markdown",
   "id": "ce98e175",
   "metadata": {
    "deletable": false,
    "editable": false,
    "id": "b8038fe3"
   },
   "source": [
    "**Задание 2. Выведите первые 20 строчек датафрейма `data` на экран.**"
   ]
  },
  {
   "cell_type": "code",
   "execution_count": 27,
   "id": "a81a1e75",
   "metadata": {
    "deletable": false,
    "id": "2a7cab99",
    "outputId": "1a8f3ef2-d323-4ec2-ddf7-89670b5944c4"
   },
   "outputs": [
    {
     "data": {
      "text/html": [
       "<div>\n",
       "<style scoped>\n",
       "    .dataframe tbody tr th:only-of-type {\n",
       "        vertical-align: middle;\n",
       "    }\n",
       "\n",
       "    .dataframe tbody tr th {\n",
       "        vertical-align: top;\n",
       "    }\n",
       "\n",
       "    .dataframe thead th {\n",
       "        text-align: right;\n",
       "    }\n",
       "</style>\n",
       "<table border=\"1\" class=\"dataframe\">\n",
       "  <thead>\n",
       "    <tr style=\"text-align: right;\">\n",
       "      <th></th>\n",
       "      <th>children</th>\n",
       "      <th>days_employed</th>\n",
       "      <th>dob_years</th>\n",
       "      <th>education</th>\n",
       "      <th>education_id</th>\n",
       "      <th>family_status</th>\n",
       "      <th>family_status_id</th>\n",
       "      <th>gender</th>\n",
       "      <th>income_type</th>\n",
       "      <th>debt</th>\n",
       "      <th>total_income</th>\n",
       "      <th>purpose</th>\n",
       "    </tr>\n",
       "  </thead>\n",
       "  <tbody>\n",
       "    <tr>\n",
       "      <th>0</th>\n",
       "      <td>1</td>\n",
       "      <td>-8437.673028</td>\n",
       "      <td>42</td>\n",
       "      <td>высшее</td>\n",
       "      <td>0</td>\n",
       "      <td>женат / замужем</td>\n",
       "      <td>0</td>\n",
       "      <td>F</td>\n",
       "      <td>сотрудник</td>\n",
       "      <td>0</td>\n",
       "      <td>253875.639453</td>\n",
       "      <td>покупка жилья</td>\n",
       "    </tr>\n",
       "    <tr>\n",
       "      <th>1</th>\n",
       "      <td>1</td>\n",
       "      <td>-4024.803754</td>\n",
       "      <td>36</td>\n",
       "      <td>среднее</td>\n",
       "      <td>1</td>\n",
       "      <td>женат / замужем</td>\n",
       "      <td>0</td>\n",
       "      <td>F</td>\n",
       "      <td>сотрудник</td>\n",
       "      <td>0</td>\n",
       "      <td>112080.014102</td>\n",
       "      <td>приобретение автомобиля</td>\n",
       "    </tr>\n",
       "    <tr>\n",
       "      <th>2</th>\n",
       "      <td>0</td>\n",
       "      <td>-5623.422610</td>\n",
       "      <td>33</td>\n",
       "      <td>Среднее</td>\n",
       "      <td>1</td>\n",
       "      <td>женат / замужем</td>\n",
       "      <td>0</td>\n",
       "      <td>M</td>\n",
       "      <td>сотрудник</td>\n",
       "      <td>0</td>\n",
       "      <td>145885.952297</td>\n",
       "      <td>покупка жилья</td>\n",
       "    </tr>\n",
       "    <tr>\n",
       "      <th>3</th>\n",
       "      <td>3</td>\n",
       "      <td>-4124.747207</td>\n",
       "      <td>32</td>\n",
       "      <td>среднее</td>\n",
       "      <td>1</td>\n",
       "      <td>женат / замужем</td>\n",
       "      <td>0</td>\n",
       "      <td>M</td>\n",
       "      <td>сотрудник</td>\n",
       "      <td>0</td>\n",
       "      <td>267628.550329</td>\n",
       "      <td>дополнительное образование</td>\n",
       "    </tr>\n",
       "    <tr>\n",
       "      <th>4</th>\n",
       "      <td>0</td>\n",
       "      <td>340266.072047</td>\n",
       "      <td>53</td>\n",
       "      <td>среднее</td>\n",
       "      <td>1</td>\n",
       "      <td>гражданский брак</td>\n",
       "      <td>1</td>\n",
       "      <td>F</td>\n",
       "      <td>пенсионер</td>\n",
       "      <td>0</td>\n",
       "      <td>158616.077870</td>\n",
       "      <td>сыграть свадьбу</td>\n",
       "    </tr>\n",
       "    <tr>\n",
       "      <th>5</th>\n",
       "      <td>0</td>\n",
       "      <td>-926.185831</td>\n",
       "      <td>27</td>\n",
       "      <td>высшее</td>\n",
       "      <td>0</td>\n",
       "      <td>гражданский брак</td>\n",
       "      <td>1</td>\n",
       "      <td>M</td>\n",
       "      <td>компаньон</td>\n",
       "      <td>0</td>\n",
       "      <td>255763.565419</td>\n",
       "      <td>покупка жилья</td>\n",
       "    </tr>\n",
       "    <tr>\n",
       "      <th>6</th>\n",
       "      <td>0</td>\n",
       "      <td>-2879.202052</td>\n",
       "      <td>43</td>\n",
       "      <td>высшее</td>\n",
       "      <td>0</td>\n",
       "      <td>женат / замужем</td>\n",
       "      <td>0</td>\n",
       "      <td>F</td>\n",
       "      <td>компаньон</td>\n",
       "      <td>0</td>\n",
       "      <td>240525.971920</td>\n",
       "      <td>операции с жильем</td>\n",
       "    </tr>\n",
       "    <tr>\n",
       "      <th>7</th>\n",
       "      <td>0</td>\n",
       "      <td>-152.779569</td>\n",
       "      <td>50</td>\n",
       "      <td>СРЕДНЕЕ</td>\n",
       "      <td>1</td>\n",
       "      <td>женат / замужем</td>\n",
       "      <td>0</td>\n",
       "      <td>M</td>\n",
       "      <td>сотрудник</td>\n",
       "      <td>0</td>\n",
       "      <td>135823.934197</td>\n",
       "      <td>образование</td>\n",
       "    </tr>\n",
       "    <tr>\n",
       "      <th>8</th>\n",
       "      <td>2</td>\n",
       "      <td>-6929.865299</td>\n",
       "      <td>35</td>\n",
       "      <td>ВЫСШЕЕ</td>\n",
       "      <td>0</td>\n",
       "      <td>гражданский брак</td>\n",
       "      <td>1</td>\n",
       "      <td>F</td>\n",
       "      <td>сотрудник</td>\n",
       "      <td>0</td>\n",
       "      <td>95856.832424</td>\n",
       "      <td>на проведение свадьбы</td>\n",
       "    </tr>\n",
       "    <tr>\n",
       "      <th>9</th>\n",
       "      <td>0</td>\n",
       "      <td>-2188.756445</td>\n",
       "      <td>41</td>\n",
       "      <td>среднее</td>\n",
       "      <td>1</td>\n",
       "      <td>женат / замужем</td>\n",
       "      <td>0</td>\n",
       "      <td>M</td>\n",
       "      <td>сотрудник</td>\n",
       "      <td>0</td>\n",
       "      <td>144425.938277</td>\n",
       "      <td>покупка жилья для семьи</td>\n",
       "    </tr>\n",
       "    <tr>\n",
       "      <th>10</th>\n",
       "      <td>2</td>\n",
       "      <td>-4171.483647</td>\n",
       "      <td>36</td>\n",
       "      <td>высшее</td>\n",
       "      <td>0</td>\n",
       "      <td>женат / замужем</td>\n",
       "      <td>0</td>\n",
       "      <td>M</td>\n",
       "      <td>компаньон</td>\n",
       "      <td>0</td>\n",
       "      <td>113943.491460</td>\n",
       "      <td>покупка недвижимости</td>\n",
       "    </tr>\n",
       "    <tr>\n",
       "      <th>11</th>\n",
       "      <td>0</td>\n",
       "      <td>-792.701887</td>\n",
       "      <td>40</td>\n",
       "      <td>среднее</td>\n",
       "      <td>1</td>\n",
       "      <td>женат / замужем</td>\n",
       "      <td>0</td>\n",
       "      <td>F</td>\n",
       "      <td>сотрудник</td>\n",
       "      <td>0</td>\n",
       "      <td>77069.234271</td>\n",
       "      <td>покупка коммерческой недвижимости</td>\n",
       "    </tr>\n",
       "    <tr>\n",
       "      <th>12</th>\n",
       "      <td>0</td>\n",
       "      <td>NaN</td>\n",
       "      <td>65</td>\n",
       "      <td>среднее</td>\n",
       "      <td>1</td>\n",
       "      <td>гражданский брак</td>\n",
       "      <td>1</td>\n",
       "      <td>M</td>\n",
       "      <td>пенсионер</td>\n",
       "      <td>0</td>\n",
       "      <td>NaN</td>\n",
       "      <td>сыграть свадьбу</td>\n",
       "    </tr>\n",
       "    <tr>\n",
       "      <th>13</th>\n",
       "      <td>0</td>\n",
       "      <td>-1846.641941</td>\n",
       "      <td>54</td>\n",
       "      <td>неоконченное высшее</td>\n",
       "      <td>2</td>\n",
       "      <td>женат / замужем</td>\n",
       "      <td>0</td>\n",
       "      <td>F</td>\n",
       "      <td>сотрудник</td>\n",
       "      <td>0</td>\n",
       "      <td>130458.228857</td>\n",
       "      <td>приобретение автомобиля</td>\n",
       "    </tr>\n",
       "    <tr>\n",
       "      <th>14</th>\n",
       "      <td>0</td>\n",
       "      <td>-1844.956182</td>\n",
       "      <td>56</td>\n",
       "      <td>высшее</td>\n",
       "      <td>0</td>\n",
       "      <td>гражданский брак</td>\n",
       "      <td>1</td>\n",
       "      <td>F</td>\n",
       "      <td>компаньон</td>\n",
       "      <td>1</td>\n",
       "      <td>165127.911772</td>\n",
       "      <td>покупка жилой недвижимости</td>\n",
       "    </tr>\n",
       "    <tr>\n",
       "      <th>15</th>\n",
       "      <td>1</td>\n",
       "      <td>-972.364419</td>\n",
       "      <td>26</td>\n",
       "      <td>среднее</td>\n",
       "      <td>1</td>\n",
       "      <td>женат / замужем</td>\n",
       "      <td>0</td>\n",
       "      <td>F</td>\n",
       "      <td>сотрудник</td>\n",
       "      <td>0</td>\n",
       "      <td>116820.904450</td>\n",
       "      <td>строительство собственной недвижимости</td>\n",
       "    </tr>\n",
       "    <tr>\n",
       "      <th>16</th>\n",
       "      <td>0</td>\n",
       "      <td>-1719.934226</td>\n",
       "      <td>35</td>\n",
       "      <td>среднее</td>\n",
       "      <td>1</td>\n",
       "      <td>женат / замужем</td>\n",
       "      <td>0</td>\n",
       "      <td>F</td>\n",
       "      <td>сотрудник</td>\n",
       "      <td>0</td>\n",
       "      <td>289202.704229</td>\n",
       "      <td>недвижимость</td>\n",
       "    </tr>\n",
       "    <tr>\n",
       "      <th>17</th>\n",
       "      <td>0</td>\n",
       "      <td>-2369.999720</td>\n",
       "      <td>33</td>\n",
       "      <td>высшее</td>\n",
       "      <td>0</td>\n",
       "      <td>гражданский брак</td>\n",
       "      <td>1</td>\n",
       "      <td>M</td>\n",
       "      <td>сотрудник</td>\n",
       "      <td>0</td>\n",
       "      <td>90410.586745</td>\n",
       "      <td>строительство недвижимости</td>\n",
       "    </tr>\n",
       "    <tr>\n",
       "      <th>18</th>\n",
       "      <td>0</td>\n",
       "      <td>400281.136913</td>\n",
       "      <td>53</td>\n",
       "      <td>среднее</td>\n",
       "      <td>1</td>\n",
       "      <td>вдовец / вдова</td>\n",
       "      <td>2</td>\n",
       "      <td>F</td>\n",
       "      <td>пенсионер</td>\n",
       "      <td>0</td>\n",
       "      <td>56823.777243</td>\n",
       "      <td>на покупку подержанного автомобиля</td>\n",
       "    </tr>\n",
       "    <tr>\n",
       "      <th>19</th>\n",
       "      <td>0</td>\n",
       "      <td>-10038.818549</td>\n",
       "      <td>48</td>\n",
       "      <td>СРЕДНЕЕ</td>\n",
       "      <td>1</td>\n",
       "      <td>в разводе</td>\n",
       "      <td>3</td>\n",
       "      <td>F</td>\n",
       "      <td>сотрудник</td>\n",
       "      <td>0</td>\n",
       "      <td>242831.107982</td>\n",
       "      <td>на покупку своего автомобиля</td>\n",
       "    </tr>\n",
       "  </tbody>\n",
       "</table>\n",
       "</div>"
      ],
      "text/plain": [
       "    children  days_employed  dob_years            education  education_id  \\\n",
       "0          1   -8437.673028         42               высшее             0   \n",
       "1          1   -4024.803754         36              среднее             1   \n",
       "2          0   -5623.422610         33              Среднее             1   \n",
       "3          3   -4124.747207         32              среднее             1   \n",
       "4          0  340266.072047         53              среднее             1   \n",
       "5          0    -926.185831         27               высшее             0   \n",
       "6          0   -2879.202052         43               высшее             0   \n",
       "7          0    -152.779569         50              СРЕДНЕЕ             1   \n",
       "8          2   -6929.865299         35               ВЫСШЕЕ             0   \n",
       "9          0   -2188.756445         41              среднее             1   \n",
       "10         2   -4171.483647         36               высшее             0   \n",
       "11         0    -792.701887         40              среднее             1   \n",
       "12         0            NaN         65              среднее             1   \n",
       "13         0   -1846.641941         54  неоконченное высшее             2   \n",
       "14         0   -1844.956182         56               высшее             0   \n",
       "15         1    -972.364419         26              среднее             1   \n",
       "16         0   -1719.934226         35              среднее             1   \n",
       "17         0   -2369.999720         33               высшее             0   \n",
       "18         0  400281.136913         53              среднее             1   \n",
       "19         0  -10038.818549         48              СРЕДНЕЕ             1   \n",
       "\n",
       "       family_status  family_status_id gender income_type  debt  \\\n",
       "0    женат / замужем                 0      F   сотрудник     0   \n",
       "1    женат / замужем                 0      F   сотрудник     0   \n",
       "2    женат / замужем                 0      M   сотрудник     0   \n",
       "3    женат / замужем                 0      M   сотрудник     0   \n",
       "4   гражданский брак                 1      F   пенсионер     0   \n",
       "5   гражданский брак                 1      M   компаньон     0   \n",
       "6    женат / замужем                 0      F   компаньон     0   \n",
       "7    женат / замужем                 0      M   сотрудник     0   \n",
       "8   гражданский брак                 1      F   сотрудник     0   \n",
       "9    женат / замужем                 0      M   сотрудник     0   \n",
       "10   женат / замужем                 0      M   компаньон     0   \n",
       "11   женат / замужем                 0      F   сотрудник     0   \n",
       "12  гражданский брак                 1      M   пенсионер     0   \n",
       "13   женат / замужем                 0      F   сотрудник     0   \n",
       "14  гражданский брак                 1      F   компаньон     1   \n",
       "15   женат / замужем                 0      F   сотрудник     0   \n",
       "16   женат / замужем                 0      F   сотрудник     0   \n",
       "17  гражданский брак                 1      M   сотрудник     0   \n",
       "18    вдовец / вдова                 2      F   пенсионер     0   \n",
       "19         в разводе                 3      F   сотрудник     0   \n",
       "\n",
       "     total_income                                 purpose  \n",
       "0   253875.639453                           покупка жилья  \n",
       "1   112080.014102                 приобретение автомобиля  \n",
       "2   145885.952297                           покупка жилья  \n",
       "3   267628.550329              дополнительное образование  \n",
       "4   158616.077870                         сыграть свадьбу  \n",
       "5   255763.565419                           покупка жилья  \n",
       "6   240525.971920                       операции с жильем  \n",
       "7   135823.934197                             образование  \n",
       "8    95856.832424                   на проведение свадьбы  \n",
       "9   144425.938277                 покупка жилья для семьи  \n",
       "10  113943.491460                    покупка недвижимости  \n",
       "11   77069.234271       покупка коммерческой недвижимости  \n",
       "12            NaN                         сыграть свадьбу  \n",
       "13  130458.228857                 приобретение автомобиля  \n",
       "14  165127.911772              покупка жилой недвижимости  \n",
       "15  116820.904450  строительство собственной недвижимости  \n",
       "16  289202.704229                            недвижимость  \n",
       "17   90410.586745              строительство недвижимости  \n",
       "18   56823.777243      на покупку подержанного автомобиля  \n",
       "19  242831.107982            на покупку своего автомобиля  "
      ]
     },
     "execution_count": 27,
     "metadata": {},
     "output_type": "execute_result"
    }
   ],
   "source": [
    "data.head(20)"
   ]
  },
  {
   "cell_type": "markdown",
   "id": "f08b7cda",
   "metadata": {
    "deletable": false,
    "editable": false,
    "id": "1c12e233"
   },
   "source": [
    "**Задание 3. Выведите основную информацию о датафрейме с помощью метода `info()`.**"
   ]
  },
  {
   "cell_type": "code",
   "execution_count": 28,
   "id": "caf891e0",
   "metadata": {
    "deletable": false,
    "id": "2b757bca",
    "outputId": "15376089-8dad-46c9-b520-c05248d43158"
   },
   "outputs": [
    {
     "name": "stdout",
     "output_type": "stream",
     "text": [
      "<class 'pandas.core.frame.DataFrame'>\n",
      "RangeIndex: 21525 entries, 0 to 21524\n",
      "Data columns (total 12 columns):\n",
      " #   Column            Non-Null Count  Dtype  \n",
      "---  ------            --------------  -----  \n",
      " 0   children          21525 non-null  int64  \n",
      " 1   days_employed     19351 non-null  float64\n",
      " 2   dob_years         21525 non-null  int64  \n",
      " 3   education         21525 non-null  object \n",
      " 4   education_id      21525 non-null  int64  \n",
      " 5   family_status     21525 non-null  object \n",
      " 6   family_status_id  21525 non-null  int64  \n",
      " 7   gender            21525 non-null  object \n",
      " 8   income_type       21525 non-null  object \n",
      " 9   debt              21525 non-null  int64  \n",
      " 10  total_income      19351 non-null  float64\n",
      " 11  purpose           21525 non-null  object \n",
      "dtypes: float64(2), int64(5), object(5)\n",
      "memory usage: 2.0+ MB\n"
     ]
    }
   ],
   "source": [
    "data.info()"
   ]
  },
  {
   "cell_type": "markdown",
   "id": "2c336d6e",
   "metadata": {
    "deletable": false,
    "editable": false,
    "id": "333ec665"
   },
   "source": [
    "## Предобработка данных"
   ]
  },
  {
   "cell_type": "markdown",
   "id": "2f112e9f",
   "metadata": {
    "deletable": false,
    "editable": false,
    "id": "02d92d53"
   },
   "source": [
    "### Удаление пропусков"
   ]
  },
  {
   "cell_type": "markdown",
   "id": "0383049e",
   "metadata": {
    "deletable": false,
    "editable": false,
    "id": "cd84967c"
   },
   "source": [
    "**Задание 4. Выведите количество пропущенных значений для каждого столбца. Используйте комбинацию двух методов.**"
   ]
  },
  {
   "cell_type": "code",
   "execution_count": 29,
   "id": "3a847f9d",
   "metadata": {
    "deletable": false,
    "id": "7f9b2309",
    "outputId": "81f4d817-781c-465c-ed15-91ce4446810d"
   },
   "outputs": [
    {
     "data": {
      "text/plain": [
       "children               0\n",
       "days_employed       2174\n",
       "dob_years              0\n",
       "education              0\n",
       "education_id           0\n",
       "family_status          0\n",
       "family_status_id       0\n",
       "gender                 0\n",
       "income_type            0\n",
       "debt                   0\n",
       "total_income        2174\n",
       "purpose                0\n",
       "dtype: int64"
      ]
     },
     "execution_count": 29,
     "metadata": {},
     "output_type": "execute_result"
    }
   ],
   "source": [
    "data.isna().sum()"
   ]
  },
  {
   "cell_type": "markdown",
   "id": "c0629d4b",
   "metadata": {
    "deletable": false,
    "editable": false,
    "id": "db86e27b"
   },
   "source": [
    "**Задание 5. В двух столбцах есть пропущенные значения. Один из них — `days_employed`. Пропуски в этом столбце вы обработаете на следующем этапе. Другой столбец с пропущенными значениями — `total_income` — хранит данные о доходах. На сумму дохода сильнее всего влияет тип занятости, поэтому заполнить пропуски в этом столбце нужно медианным значением по каждому типу из столбца `income_type`. Например, у человека с типом занятости `сотрудник` пропуск в столбце `total_income` должен быть заполнен медианным доходом среди всех записей с тем же типом.**"
   ]
  },
  {
   "cell_type": "code",
   "execution_count": 30,
   "id": "1acf3f1f",
   "metadata": {
    "deletable": false,
    "id": "42006a93"
   },
   "outputs": [],
   "source": [
    "for i in data['income_type'].unique():\n",
    "    data.loc[(data['income_type'] == i) & (data['total_income'].isna()), 'total_income'] = \\\n",
    "    data.loc[(data['income_type'] == i), 'total_income'].median()"
   ]
  },
  {
   "cell_type": "markdown",
   "id": "56a8c5dd",
   "metadata": {
    "deletable": false,
    "editable": false,
    "id": "89da5ece"
   },
   "source": [
    "### Обработка аномальных значений"
   ]
  },
  {
   "cell_type": "markdown",
   "id": "6de6157c",
   "metadata": {
    "deletable": false,
    "editable": false,
    "id": "57964554"
   },
   "source": [
    "**Задание 6. В данных могут встречаться артефакты (аномалии) — значения, которые не отражают действительность и появились по какой-то ошибке. таким артефактом будет отрицательное количество дней трудового стажа в столбце `days_employed`. Для реальных данных это нормально. Обработайте значения в этом столбце: замените все отрицательные значения положительными с помощью метода `abs()`.**"
   ]
  },
  {
   "cell_type": "code",
   "execution_count": 31,
   "id": "d2ebc4de",
   "metadata": {
    "deletable": false,
    "id": "f6f055bf"
   },
   "outputs": [],
   "source": [
    "data['days_employed'] = data['days_employed'].abs()"
   ]
  },
  {
   "cell_type": "markdown",
   "id": "87d433cd",
   "metadata": {
    "deletable": false,
    "editable": false,
    "id": "6107dd2f"
   },
   "source": [
    "**Задание 7. Для каждого типа занятости выведите медианное значение трудового стажа `days_employed` в днях.**"
   ]
  },
  {
   "cell_type": "code",
   "execution_count": 32,
   "id": "f622ade0",
   "metadata": {
    "deletable": false,
    "id": "85a5faf6",
    "outputId": "801ef80e-522b-4668-f34e-565af7432bcf"
   },
   "outputs": [
    {
     "data": {
      "text/plain": [
       "income_type\n",
       "безработный        366413.652744\n",
       "в декрете            3296.759962\n",
       "госслужащий          2689.368353\n",
       "компаньон            1547.382223\n",
       "пенсионер          365213.306266\n",
       "предприниматель       520.848083\n",
       "сотрудник            1574.202821\n",
       "студент               578.751554\n",
       "Name: days_employed, dtype: float64"
      ]
     },
     "execution_count": 32,
     "metadata": {},
     "output_type": "execute_result"
    }
   ],
   "source": [
    "data.groupby('income_type')['days_employed'].agg('median')"
   ]
  },
  {
   "cell_type": "markdown",
   "id": "98cf2f1f",
   "metadata": {
    "deletable": false,
    "editable": false,
    "id": "38d1a030"
   },
   "source": [
    "У двух типов (безработные и пенсионеры) получатся аномально большие значения. Исправить такие значения сложно, поэтому оставьте их как есть. Тем более этот столбец не понадобится вам для исследования."
   ]
  },
  {
   "cell_type": "markdown",
   "id": "cb4bb094",
   "metadata": {
    "deletable": false,
    "editable": false,
    "id": "d8a9f147"
   },
   "source": [
    "**Задание 8. Выведите перечень уникальных значений столбца `children`.**"
   ]
  },
  {
   "cell_type": "code",
   "execution_count": 33,
   "id": "d9e14311",
   "metadata": {
    "deletable": false,
    "id": "ef5056eb",
    "outputId": "6975b15c-7f95-4697-d16d-a0c79b657b03"
   },
   "outputs": [
    {
     "data": {
      "text/plain": [
       "array([ 1,  0,  3,  2, -1,  4, 20,  5], dtype=int64)"
      ]
     },
     "execution_count": 33,
     "metadata": {},
     "output_type": "execute_result"
    }
   ],
   "source": [
    "data['children'].unique()"
   ]
  },
  {
   "cell_type": "markdown",
   "id": "51143715",
   "metadata": {
    "deletable": false,
    "editable": false,
    "id": "40b9ebf2"
   },
   "source": [
    "**Задание 9. В столбце `children` есть два аномальных значения. Удалите строки, в которых встречаются такие аномальные значения из датафрейма `data`.**"
   ]
  },
  {
   "cell_type": "code",
   "execution_count": 34,
   "id": "98dbddac",
   "metadata": {
    "deletable": false,
    "id": "3ff9801d"
   },
   "outputs": [],
   "source": [
    "data = data[(data['children'] != -1) & (data['children'] != 20)]"
   ]
  },
  {
   "cell_type": "markdown",
   "id": "182ef9a4",
   "metadata": {
    "deletable": false,
    "editable": false,
    "id": "bbc4d0ce"
   },
   "source": [
    "**Задание 10. Ещё раз выведите перечень уникальных значений столбца `children`, чтобы убедиться, что артефакты удалены.**"
   ]
  },
  {
   "cell_type": "code",
   "execution_count": 35,
   "id": "176dd794",
   "metadata": {
    "deletable": false,
    "id": "ad4fa8b7",
    "outputId": "b2097101-d49d-44d9-901b-32a65c9463d1"
   },
   "outputs": [
    {
     "data": {
      "text/plain": [
       "array([1, 0, 3, 2, 4, 5], dtype=int64)"
      ]
     },
     "execution_count": 35,
     "metadata": {},
     "output_type": "execute_result"
    }
   ],
   "source": [
    "data['children'].unique()"
   ]
  },
  {
   "cell_type": "markdown",
   "id": "07485608",
   "metadata": {
    "deletable": false,
    "editable": false,
    "id": "75440b63"
   },
   "source": [
    "### Удаление пропусков (продолжение)"
   ]
  },
  {
   "cell_type": "markdown",
   "id": "6a5a820e",
   "metadata": {
    "deletable": false,
    "editable": false,
    "id": "f4ea573f"
   },
   "source": [
    "**Задание 11. Заполните пропуски в столбце `days_employed` медианными значениями по каждого типа занятости `income_type`.**"
   ]
  },
  {
   "cell_type": "code",
   "execution_count": 36,
   "id": "d112c7dc",
   "metadata": {
    "deletable": false,
    "id": "af6b1a7e"
   },
   "outputs": [],
   "source": [
    "for i in data['income_type'].unique():\n",
    "    data.loc[(data['income_type'] == i) & (data['days_employed'].isna()), 'days_employed'] = \\\n",
    "    data.loc[(data['income_type'] == i), 'days_employed'].median()"
   ]
  },
  {
   "cell_type": "markdown",
   "id": "fe8e5bba",
   "metadata": {
    "deletable": false,
    "editable": false,
    "id": "2753f40d"
   },
   "source": [
    "**Задание 12. Убедитесь, что все пропуски заполнены. Проверьте себя и ещё раз выведите количество пропущенных значений для каждого столбца с помощью двух методов.**"
   ]
  },
  {
   "cell_type": "code",
   "execution_count": 37,
   "id": "4913af9b",
   "metadata": {
    "deletable": false,
    "id": "55f78bc2",
    "outputId": "8da1e4e1-358e-4e87-98c9-f261bce0a7b2"
   },
   "outputs": [
    {
     "data": {
      "text/plain": [
       "children            0\n",
       "days_employed       0\n",
       "dob_years           0\n",
       "education           0\n",
       "education_id        0\n",
       "family_status       0\n",
       "family_status_id    0\n",
       "gender              0\n",
       "income_type         0\n",
       "debt                0\n",
       "total_income        0\n",
       "purpose             0\n",
       "dtype: int64"
      ]
     },
     "execution_count": 37,
     "metadata": {},
     "output_type": "execute_result"
    }
   ],
   "source": [
    "data.isna().sum()"
   ]
  },
  {
   "cell_type": "markdown",
   "id": "5bbbc1ce",
   "metadata": {
    "deletable": false,
    "editable": false,
    "id": "ddc81e43"
   },
   "source": [
    "### Изменение типов данных"
   ]
  },
  {
   "cell_type": "markdown",
   "id": "f04e2d57",
   "metadata": {
    "deletable": false,
    "editable": false,
    "id": "42d19d24"
   },
   "source": [
    "**Задание 13. Замените вещественный тип данных в столбце `total_income` на целочисленный с помощью метода `astype()`.**"
   ]
  },
  {
   "cell_type": "code",
   "execution_count": 38,
   "id": "056e816f",
   "metadata": {
    "deletable": false,
    "id": "920b65ad"
   },
   "outputs": [],
   "source": [
    "data['total_income'] = data['total_income'].astype(int)"
   ]
  },
  {
   "cell_type": "markdown",
   "id": "1ee9e6cc",
   "metadata": {
    "deletable": false,
    "editable": false,
    "id": "80c420ba"
   },
   "source": [
    "### Обработка дубликатов"
   ]
  },
  {
   "cell_type": "markdown",
   "id": "754d8c06",
   "metadata": {
    "deletable": false,
    "editable": false
   },
   "source": [
    "**Задание 14. Обработайте неявные дубликаты в столбце `education`. В этом столбце есть одни и те же значения, но записанные по-разному: с использованием заглавных и строчных букв. Приведите их к нижнему регистру. Проверьте остальные столбцы.**"
   ]
  },
  {
   "cell_type": "code",
   "execution_count": 39,
   "id": "bb0c58e1",
   "metadata": {
    "deletable": false
   },
   "outputs": [],
   "source": [
    "data['education'] = data['education'].str.lower()"
   ]
  },
  {
   "cell_type": "markdown",
   "id": "74a6caf7",
   "metadata": {
    "deletable": false,
    "editable": false,
    "id": "dc587695"
   },
   "source": [
    "**Задание 15. Выведите на экран количество строк-дубликатов в данных. Если такие строки присутствуют, удалите их.**"
   ]
  },
  {
   "cell_type": "code",
   "execution_count": 40,
   "id": "9a8e5791",
   "metadata": {
    "deletable": false,
    "id": "3ee445e4",
    "outputId": "9684deba-1934-42d1-99e1-cda61740f822"
   },
   "outputs": [
    {
     "data": {
      "text/plain": [
       "71"
      ]
     },
     "execution_count": 40,
     "metadata": {},
     "output_type": "execute_result"
    }
   ],
   "source": [
    "data.duplicated().sum()"
   ]
  },
  {
   "cell_type": "code",
   "execution_count": 41,
   "id": "ed9e9dcc",
   "metadata": {
    "deletable": false,
    "id": "8575fe05"
   },
   "outputs": [],
   "source": [
    "data = data.drop_duplicates()"
   ]
  },
  {
   "cell_type": "markdown",
   "id": "6af99d8c",
   "metadata": {
    "deletable": false,
    "editable": false,
    "id": "9904cf55"
   },
   "source": [
    "### Категоризация данных"
   ]
  },
  {
   "cell_type": "markdown",
   "id": "e0bb0bae",
   "metadata": {
    "deletable": false,
    "editable": false,
    "id": "72fcc8a2"
   },
   "source": [
    "**Задание 16. На основании диапазонов, указанных ниже, создайте в датафрейме `data` столбец `total_income_category` с категориями:**\n",
    "\n",
    "- 0–30000 — `'E'`;\n",
    "- 30001–50000 — `'D'`;\n",
    "- 50001–200000 — `'C'`;\n",
    "- 200001–1000000 — `'B'`;\n",
    "- 1000001 и выше — `'A'`.\n",
    "\n",
    "\n",
    "**Например, кредитополучателю с доходом 25000 нужно назначить категорию `'E'`, а клиенту, получающему 235000, — `'B'`. Используйте собственную функцию с именем `categorize_income()` и метод `apply()`.**"
   ]
  },
  {
   "cell_type": "code",
   "execution_count": 42,
   "id": "76d99373",
   "metadata": {
    "deletable": false,
    "id": "e1771346"
   },
   "outputs": [],
   "source": [
    "def categorize_income(income):\n",
    "    try:\n",
    "        if 0 <= income <= 30000:\n",
    "            return 'E'\n",
    "        elif 30001 <= income <= 50000:\n",
    "            return 'D'\n",
    "        elif 50001 <= income <= 200000:\n",
    "            return 'C'\n",
    "        elif 200001 <= income <= 1000000:\n",
    "            return 'B'\n",
    "        elif income >= 1000001:\n",
    "            return 'A'\n",
    "    except:\n",
    "        pass"
   ]
  },
  {
   "cell_type": "code",
   "execution_count": 43,
   "id": "6fc2b3e2",
   "metadata": {
    "deletable": false,
    "id": "d5f3586d"
   },
   "outputs": [
    {
     "data": {
      "text/plain": [
       "C    15921\n",
       "B     5014\n",
       "D      349\n",
       "A       25\n",
       "E       22\n",
       "Name: total_income_category, dtype: int64"
      ]
     },
     "execution_count": 43,
     "metadata": {},
     "output_type": "execute_result"
    }
   ],
   "source": [
    "data['total_income_category'] = data['total_income'].apply(categorize_income)\n",
    "data['total_income_category'].value_counts()"
   ]
  },
  {
   "cell_type": "markdown",
   "id": "5cc2cf21",
   "metadata": {
    "deletable": false,
    "editable": false,
    "id": "dde49b5c"
   },
   "source": [
    "**Задание 17. Выведите на экран перечень уникальных целей взятия кредита из столбца `purpose`.**"
   ]
  },
  {
   "cell_type": "code",
   "execution_count": 44,
   "id": "df558b57",
   "metadata": {
    "deletable": false,
    "id": "f67ce9b3",
    "outputId": "673c12d9-7d7e-4ae0-9812-c622c89dd244"
   },
   "outputs": [
    {
     "data": {
      "text/plain": [
       "array(['покупка жилья', 'приобретение автомобиля',\n",
       "       'дополнительное образование', 'сыграть свадьбу',\n",
       "       'операции с жильем', 'образование', 'на проведение свадьбы',\n",
       "       'покупка жилья для семьи', 'покупка недвижимости',\n",
       "       'покупка коммерческой недвижимости', 'покупка жилой недвижимости',\n",
       "       'строительство собственной недвижимости', 'недвижимость',\n",
       "       'строительство недвижимости', 'на покупку подержанного автомобиля',\n",
       "       'на покупку своего автомобиля',\n",
       "       'операции с коммерческой недвижимостью',\n",
       "       'строительство жилой недвижимости', 'жилье',\n",
       "       'операции со своей недвижимостью', 'автомобили',\n",
       "       'заняться образованием', 'сделка с подержанным автомобилем',\n",
       "       'получение образования', 'автомобиль', 'свадьба',\n",
       "       'получение дополнительного образования', 'покупка своего жилья',\n",
       "       'операции с недвижимостью', 'получение высшего образования',\n",
       "       'свой автомобиль', 'сделка с автомобилем',\n",
       "       'профильное образование', 'высшее образование',\n",
       "       'покупка жилья для сдачи', 'на покупку автомобиля', 'ремонт жилью',\n",
       "       'заняться высшим образованием'], dtype=object)"
      ]
     },
     "execution_count": 44,
     "metadata": {},
     "output_type": "execute_result"
    }
   ],
   "source": [
    "data['purpose'].unique()"
   ]
  },
  {
   "cell_type": "markdown",
   "id": "ea6767af",
   "metadata": {
    "deletable": false,
    "editable": false,
    "id": "85d0aef0"
   },
   "source": [
    "**Задание 18. Создайте функцию, которая на основании данных из столбца `purpose` сформирует новый столбец `purpose_category`, в который войдут следующие категории:**\n",
    "\n",
    "- `'операции с автомобилем'`,\n",
    "- `'операции с недвижимостью'`,\n",
    "- `'проведение свадьбы'`,\n",
    "- `'получение образования'`.\n",
    "\n",
    "**Например, если в столбце `purpose` находится подстрока `'на покупку автомобиля'`, то в столбце `purpose_category` должна появиться строка `'операции с автомобилем'`.**\n",
    "\n",
    "**Используйте собственную функцию с именем `categorize_purpose()` и метод `apply()`. Изучите данные в столбце `purpose` и определите, какие подстроки помогут вам правильно определить категорию.**"
   ]
  },
  {
   "cell_type": "code",
   "execution_count": 45,
   "id": "efe9d51c",
   "metadata": {
    "deletable": false,
    "id": "e149fab4"
   },
   "outputs": [],
   "source": [
    "def categorize_purpose(row):\n",
    "    try:\n",
    "        if 'автом' in row:\n",
    "            return 'операции с автомобилем'\n",
    "        elif 'жил' in row or 'недвиж' in row:\n",
    "            return 'операции с недвижимостью'\n",
    "        elif 'свад' in row:\n",
    "            return 'проведение свадьбы'\n",
    "        elif 'образов' in row:\n",
    "            return 'получение образования'\n",
    "    except:\n",
    "        return 'нет категории'"
   ]
  },
  {
   "cell_type": "code",
   "execution_count": 46,
   "id": "9a501d48",
   "metadata": {
    "deletable": false,
    "id": "bf36e69b"
   },
   "outputs": [],
   "source": [
    "data['purpose_category'] = data['purpose'].apply(categorize_purpose)"
   ]
  },
  {
   "cell_type": "code",
   "execution_count": 47,
   "id": "697a7565",
   "metadata": {},
   "outputs": [
    {
     "ename": "TypeError",
     "evalue": "'DataFrame' object is not callable",
     "output_type": "error",
     "traceback": [
      "\u001b[1;31m---------------------------------------------------------------------------\u001b[0m",
      "\u001b[1;31mTypeError\u001b[0m                                 Traceback (most recent call last)",
      "\u001b[1;32m~\\AppData\\Local\\Temp\\ipykernel_13948\\3707753288.py\u001b[0m in \u001b[0;36m<module>\u001b[1;34m\u001b[0m\n\u001b[1;32m----> 1\u001b[1;33m \u001b[0mdata\u001b[0m\u001b[1;33m(\u001b[0m\u001b[1;34m'purpose_category'\u001b[0m\u001b[1;33m)\u001b[0m\u001b[1;33m\u001b[0m\u001b[1;33m\u001b[0m\u001b[0m\n\u001b[0m",
      "\u001b[1;31mTypeError\u001b[0m: 'DataFrame' object is not callable"
     ]
    }
   ],
   "source": [
    "data('purpose_category')"
   ]
  },
  {
   "cell_type": "markdown",
   "id": "402971b8",
   "metadata": {
    "deletable": false,
    "editable": false,
    "id": "09b242bf"
   },
   "source": [
    "### Шаг 3. Исследуйте данные и ответьте на вопросы"
   ]
  },
  {
   "cell_type": "markdown",
   "id": "4281286d",
   "metadata": {},
   "source": [
    "Перед началом исследования проверим еще раз данные на наличие пропусков и аномалий:"
   ]
  },
  {
   "cell_type": "code",
   "execution_count": 48,
   "id": "8885595c",
   "metadata": {
    "scrolled": false
   },
   "outputs": [
    {
     "name": "stdout",
     "output_type": "stream",
     "text": [
      "<class 'pandas.core.frame.DataFrame'>\n",
      "Int64Index: 21331 entries, 0 to 21524\n",
      "Data columns (total 14 columns):\n",
      " #   Column                 Non-Null Count  Dtype  \n",
      "---  ------                 --------------  -----  \n",
      " 0   children               21331 non-null  int64  \n",
      " 1   days_employed          21331 non-null  float64\n",
      " 2   dob_years              21331 non-null  int64  \n",
      " 3   education              21331 non-null  object \n",
      " 4   education_id           21331 non-null  int64  \n",
      " 5   family_status          21331 non-null  object \n",
      " 6   family_status_id       21331 non-null  int64  \n",
      " 7   gender                 21331 non-null  object \n",
      " 8   income_type            21331 non-null  object \n",
      " 9   debt                   21331 non-null  int64  \n",
      " 10  total_income           21331 non-null  int32  \n",
      " 11  purpose                21331 non-null  object \n",
      " 12  total_income_category  21331 non-null  object \n",
      " 13  purpose_category       21331 non-null  object \n",
      "dtypes: float64(1), int32(1), int64(5), object(7)\n",
      "memory usage: 2.4+ MB\n"
     ]
    },
    {
     "data": {
      "text/html": [
       "<div>\n",
       "<style scoped>\n",
       "    .dataframe tbody tr th:only-of-type {\n",
       "        vertical-align: middle;\n",
       "    }\n",
       "\n",
       "    .dataframe tbody tr th {\n",
       "        vertical-align: top;\n",
       "    }\n",
       "\n",
       "    .dataframe thead th {\n",
       "        text-align: right;\n",
       "    }\n",
       "</style>\n",
       "<table border=\"1\" class=\"dataframe\">\n",
       "  <thead>\n",
       "    <tr style=\"text-align: right;\">\n",
       "      <th></th>\n",
       "      <th>children</th>\n",
       "      <th>days_employed</th>\n",
       "      <th>dob_years</th>\n",
       "      <th>education_id</th>\n",
       "      <th>family_status_id</th>\n",
       "      <th>debt</th>\n",
       "      <th>total_income</th>\n",
       "    </tr>\n",
       "  </thead>\n",
       "  <tbody>\n",
       "    <tr>\n",
       "      <th>count</th>\n",
       "      <td>21331.000000</td>\n",
       "      <td>21331.000000</td>\n",
       "      <td>21331.000000</td>\n",
       "      <td>21331.000000</td>\n",
       "      <td>21331.000000</td>\n",
       "      <td>21331.000000</td>\n",
       "      <td>2.133100e+04</td>\n",
       "    </tr>\n",
       "    <tr>\n",
       "      <th>mean</th>\n",
       "      <td>0.474005</td>\n",
       "      <td>67148.972133</td>\n",
       "      <td>43.277952</td>\n",
       "      <td>0.816980</td>\n",
       "      <td>0.974497</td>\n",
       "      <td>0.081196</td>\n",
       "      <td>1.653427e+05</td>\n",
       "    </tr>\n",
       "    <tr>\n",
       "      <th>std</th>\n",
       "      <td>0.752378</td>\n",
       "      <td>139281.142318</td>\n",
       "      <td>12.575300</td>\n",
       "      <td>0.549282</td>\n",
       "      <td>1.421787</td>\n",
       "      <td>0.273143</td>\n",
       "      <td>9.831399e+04</td>\n",
       "    </tr>\n",
       "    <tr>\n",
       "      <th>min</th>\n",
       "      <td>0.000000</td>\n",
       "      <td>24.141633</td>\n",
       "      <td>0.000000</td>\n",
       "      <td>0.000000</td>\n",
       "      <td>0.000000</td>\n",
       "      <td>0.000000</td>\n",
       "      <td>2.066700e+04</td>\n",
       "    </tr>\n",
       "    <tr>\n",
       "      <th>25%</th>\n",
       "      <td>0.000000</td>\n",
       "      <td>1024.525170</td>\n",
       "      <td>33.000000</td>\n",
       "      <td>1.000000</td>\n",
       "      <td>0.000000</td>\n",
       "      <td>0.000000</td>\n",
       "      <td>1.075070e+05</td>\n",
       "    </tr>\n",
       "    <tr>\n",
       "      <th>50%</th>\n",
       "      <td>0.000000</td>\n",
       "      <td>1996.732855</td>\n",
       "      <td>42.000000</td>\n",
       "      <td>1.000000</td>\n",
       "      <td>0.000000</td>\n",
       "      <td>0.000000</td>\n",
       "      <td>1.425940e+05</td>\n",
       "    </tr>\n",
       "    <tr>\n",
       "      <th>75%</th>\n",
       "      <td>1.000000</td>\n",
       "      <td>5337.759969</td>\n",
       "      <td>53.000000</td>\n",
       "      <td>1.000000</td>\n",
       "      <td>1.000000</td>\n",
       "      <td>0.000000</td>\n",
       "      <td>1.958420e+05</td>\n",
       "    </tr>\n",
       "    <tr>\n",
       "      <th>max</th>\n",
       "      <td>5.000000</td>\n",
       "      <td>401755.400475</td>\n",
       "      <td>75.000000</td>\n",
       "      <td>4.000000</td>\n",
       "      <td>4.000000</td>\n",
       "      <td>1.000000</td>\n",
       "      <td>2.265604e+06</td>\n",
       "    </tr>\n",
       "  </tbody>\n",
       "</table>\n",
       "</div>"
      ],
      "text/plain": [
       "           children  days_employed     dob_years  education_id  \\\n",
       "count  21331.000000   21331.000000  21331.000000  21331.000000   \n",
       "mean       0.474005   67148.972133     43.277952      0.816980   \n",
       "std        0.752378  139281.142318     12.575300      0.549282   \n",
       "min        0.000000      24.141633      0.000000      0.000000   \n",
       "25%        0.000000    1024.525170     33.000000      1.000000   \n",
       "50%        0.000000    1996.732855     42.000000      1.000000   \n",
       "75%        1.000000    5337.759969     53.000000      1.000000   \n",
       "max        5.000000  401755.400475     75.000000      4.000000   \n",
       "\n",
       "       family_status_id          debt  total_income  \n",
       "count      21331.000000  21331.000000  2.133100e+04  \n",
       "mean           0.974497      0.081196  1.653427e+05  \n",
       "std            1.421787      0.273143  9.831399e+04  \n",
       "min            0.000000      0.000000  2.066700e+04  \n",
       "25%            0.000000      0.000000  1.075070e+05  \n",
       "50%            0.000000      0.000000  1.425940e+05  \n",
       "75%            1.000000      0.000000  1.958420e+05  \n",
       "max            4.000000      1.000000  2.265604e+06  "
      ]
     },
     "execution_count": 48,
     "metadata": {},
     "output_type": "execute_result"
    }
   ],
   "source": [
    "data.info()\n",
    "data.describe()"
   ]
  },
  {
   "cell_type": "markdown",
   "id": "6ac1cf31",
   "metadata": {},
   "source": [
    "Пропуски в данных отсутствуют, но при детальном рассмотрении колонки **dob_years** замечено аномальное значение возраста равное нулю.  "
   ]
  },
  {
   "cell_type": "code",
   "execution_count": 49,
   "id": "a8f4ef03",
   "metadata": {},
   "outputs": [
    {
     "data": {
      "text/html": [
       "<div>\n",
       "<style scoped>\n",
       "    .dataframe tbody tr th:only-of-type {\n",
       "        vertical-align: middle;\n",
       "    }\n",
       "\n",
       "    .dataframe tbody tr th {\n",
       "        vertical-align: top;\n",
       "    }\n",
       "\n",
       "    .dataframe thead th {\n",
       "        text-align: right;\n",
       "    }\n",
       "</style>\n",
       "<table border=\"1\" class=\"dataframe\">\n",
       "  <thead>\n",
       "    <tr style=\"text-align: right;\">\n",
       "      <th></th>\n",
       "      <th>children</th>\n",
       "      <th>days_employed</th>\n",
       "      <th>dob_years</th>\n",
       "      <th>education</th>\n",
       "      <th>education_id</th>\n",
       "      <th>family_status</th>\n",
       "      <th>family_status_id</th>\n",
       "      <th>gender</th>\n",
       "      <th>income_type</th>\n",
       "      <th>debt</th>\n",
       "      <th>total_income</th>\n",
       "      <th>purpose</th>\n",
       "      <th>total_income_category</th>\n",
       "      <th>purpose_category</th>\n",
       "    </tr>\n",
       "  </thead>\n",
       "  <tbody>\n",
       "    <tr>\n",
       "      <th>99</th>\n",
       "      <td>0</td>\n",
       "      <td>346541.618895</td>\n",
       "      <td>0</td>\n",
       "      <td>среднее</td>\n",
       "      <td>1</td>\n",
       "      <td>женат / замужем</td>\n",
       "      <td>0</td>\n",
       "      <td>F</td>\n",
       "      <td>пенсионер</td>\n",
       "      <td>0</td>\n",
       "      <td>71291</td>\n",
       "      <td>автомобиль</td>\n",
       "      <td>C</td>\n",
       "      <td>операции с автомобилем</td>\n",
       "    </tr>\n",
       "    <tr>\n",
       "      <th>149</th>\n",
       "      <td>0</td>\n",
       "      <td>2664.273168</td>\n",
       "      <td>0</td>\n",
       "      <td>среднее</td>\n",
       "      <td>1</td>\n",
       "      <td>в разводе</td>\n",
       "      <td>3</td>\n",
       "      <td>F</td>\n",
       "      <td>сотрудник</td>\n",
       "      <td>0</td>\n",
       "      <td>70176</td>\n",
       "      <td>операции с жильем</td>\n",
       "      <td>C</td>\n",
       "      <td>операции с недвижимостью</td>\n",
       "    </tr>\n",
       "    <tr>\n",
       "      <th>270</th>\n",
       "      <td>3</td>\n",
       "      <td>1872.663186</td>\n",
       "      <td>0</td>\n",
       "      <td>среднее</td>\n",
       "      <td>1</td>\n",
       "      <td>женат / замужем</td>\n",
       "      <td>0</td>\n",
       "      <td>F</td>\n",
       "      <td>сотрудник</td>\n",
       "      <td>0</td>\n",
       "      <td>102166</td>\n",
       "      <td>ремонт жилью</td>\n",
       "      <td>C</td>\n",
       "      <td>операции с недвижимостью</td>\n",
       "    </tr>\n",
       "    <tr>\n",
       "      <th>578</th>\n",
       "      <td>0</td>\n",
       "      <td>397856.565013</td>\n",
       "      <td>0</td>\n",
       "      <td>среднее</td>\n",
       "      <td>1</td>\n",
       "      <td>женат / замужем</td>\n",
       "      <td>0</td>\n",
       "      <td>F</td>\n",
       "      <td>пенсионер</td>\n",
       "      <td>0</td>\n",
       "      <td>97620</td>\n",
       "      <td>строительство собственной недвижимости</td>\n",
       "      <td>C</td>\n",
       "      <td>операции с недвижимостью</td>\n",
       "    </tr>\n",
       "    <tr>\n",
       "      <th>1040</th>\n",
       "      <td>0</td>\n",
       "      <td>1158.029561</td>\n",
       "      <td>0</td>\n",
       "      <td>высшее</td>\n",
       "      <td>0</td>\n",
       "      <td>в разводе</td>\n",
       "      <td>3</td>\n",
       "      <td>F</td>\n",
       "      <td>компаньон</td>\n",
       "      <td>0</td>\n",
       "      <td>303994</td>\n",
       "      <td>свой автомобиль</td>\n",
       "      <td>B</td>\n",
       "      <td>операции с автомобилем</td>\n",
       "    </tr>\n",
       "    <tr>\n",
       "      <th>1149</th>\n",
       "      <td>0</td>\n",
       "      <td>934.654854</td>\n",
       "      <td>0</td>\n",
       "      <td>среднее</td>\n",
       "      <td>1</td>\n",
       "      <td>женат / замужем</td>\n",
       "      <td>0</td>\n",
       "      <td>F</td>\n",
       "      <td>компаньон</td>\n",
       "      <td>0</td>\n",
       "      <td>201852</td>\n",
       "      <td>покупка недвижимости</td>\n",
       "      <td>B</td>\n",
       "      <td>операции с недвижимостью</td>\n",
       "    </tr>\n",
       "    <tr>\n",
       "      <th>1175</th>\n",
       "      <td>0</td>\n",
       "      <td>370879.508002</td>\n",
       "      <td>0</td>\n",
       "      <td>среднее</td>\n",
       "      <td>1</td>\n",
       "      <td>женат / замужем</td>\n",
       "      <td>0</td>\n",
       "      <td>F</td>\n",
       "      <td>пенсионер</td>\n",
       "      <td>0</td>\n",
       "      <td>313949</td>\n",
       "      <td>получение дополнительного образования</td>\n",
       "      <td>B</td>\n",
       "      <td>получение образования</td>\n",
       "    </tr>\n",
       "    <tr>\n",
       "      <th>1386</th>\n",
       "      <td>0</td>\n",
       "      <td>5043.219890</td>\n",
       "      <td>0</td>\n",
       "      <td>высшее</td>\n",
       "      <td>0</td>\n",
       "      <td>женат / замужем</td>\n",
       "      <td>0</td>\n",
       "      <td>M</td>\n",
       "      <td>госслужащий</td>\n",
       "      <td>0</td>\n",
       "      <td>240523</td>\n",
       "      <td>сделка с автомобилем</td>\n",
       "      <td>B</td>\n",
       "      <td>операции с автомобилем</td>\n",
       "    </tr>\n",
       "    <tr>\n",
       "      <th>1890</th>\n",
       "      <td>0</td>\n",
       "      <td>1572.328285</td>\n",
       "      <td>0</td>\n",
       "      <td>высшее</td>\n",
       "      <td>0</td>\n",
       "      <td>Не женат / не замужем</td>\n",
       "      <td>4</td>\n",
       "      <td>F</td>\n",
       "      <td>сотрудник</td>\n",
       "      <td>0</td>\n",
       "      <td>142594</td>\n",
       "      <td>жилье</td>\n",
       "      <td>C</td>\n",
       "      <td>операции с недвижимостью</td>\n",
       "    </tr>\n",
       "    <tr>\n",
       "      <th>1898</th>\n",
       "      <td>0</td>\n",
       "      <td>370144.537021</td>\n",
       "      <td>0</td>\n",
       "      <td>среднее</td>\n",
       "      <td>1</td>\n",
       "      <td>вдовец / вдова</td>\n",
       "      <td>2</td>\n",
       "      <td>F</td>\n",
       "      <td>пенсионер</td>\n",
       "      <td>0</td>\n",
       "      <td>127400</td>\n",
       "      <td>на покупку автомобиля</td>\n",
       "      <td>C</td>\n",
       "      <td>операции с автомобилем</td>\n",
       "    </tr>\n",
       "  </tbody>\n",
       "</table>\n",
       "</div>"
      ],
      "text/plain": [
       "      children  days_employed  dob_years education  education_id  \\\n",
       "99           0  346541.618895          0   среднее             1   \n",
       "149          0    2664.273168          0   среднее             1   \n",
       "270          3    1872.663186          0   среднее             1   \n",
       "578          0  397856.565013          0   среднее             1   \n",
       "1040         0    1158.029561          0    высшее             0   \n",
       "1149         0     934.654854          0   среднее             1   \n",
       "1175         0  370879.508002          0   среднее             1   \n",
       "1386         0    5043.219890          0    высшее             0   \n",
       "1890         0    1572.328285          0    высшее             0   \n",
       "1898         0  370144.537021          0   среднее             1   \n",
       "\n",
       "              family_status  family_status_id gender  income_type  debt  \\\n",
       "99          женат / замужем                 0      F    пенсионер     0   \n",
       "149               в разводе                 3      F    сотрудник     0   \n",
       "270         женат / замужем                 0      F    сотрудник     0   \n",
       "578         женат / замужем                 0      F    пенсионер     0   \n",
       "1040              в разводе                 3      F    компаньон     0   \n",
       "1149        женат / замужем                 0      F    компаньон     0   \n",
       "1175        женат / замужем                 0      F    пенсионер     0   \n",
       "1386        женат / замужем                 0      M  госслужащий     0   \n",
       "1890  Не женат / не замужем                 4      F    сотрудник     0   \n",
       "1898         вдовец / вдова                 2      F    пенсионер     0   \n",
       "\n",
       "      total_income                                 purpose  \\\n",
       "99           71291                              автомобиль   \n",
       "149          70176                       операции с жильем   \n",
       "270         102166                            ремонт жилью   \n",
       "578          97620  строительство собственной недвижимости   \n",
       "1040        303994                         свой автомобиль   \n",
       "1149        201852                    покупка недвижимости   \n",
       "1175        313949   получение дополнительного образования   \n",
       "1386        240523                    сделка с автомобилем   \n",
       "1890        142594                                   жилье   \n",
       "1898        127400                   на покупку автомобиля   \n",
       "\n",
       "     total_income_category          purpose_category  \n",
       "99                       C    операции с автомобилем  \n",
       "149                      C  операции с недвижимостью  \n",
       "270                      C  операции с недвижимостью  \n",
       "578                      C  операции с недвижимостью  \n",
       "1040                     B    операции с автомобилем  \n",
       "1149                     B  операции с недвижимостью  \n",
       "1175                     B     получение образования  \n",
       "1386                     B    операции с автомобилем  \n",
       "1890                     C  операции с недвижимостью  \n",
       "1898                     C    операции с автомобилем  "
      ]
     },
     "execution_count": 49,
     "metadata": {},
     "output_type": "execute_result"
    }
   ],
   "source": [
    "data[data['dob_years'] == 0].head(10)"
   ]
  },
  {
   "cell_type": "code",
   "execution_count": 50,
   "id": "d520cd2d",
   "metadata": {},
   "outputs": [
    {
     "data": {
      "text/plain": [
       "(100, 14)"
      ]
     },
     "execution_count": 50,
     "metadata": {},
     "output_type": "execute_result"
    }
   ],
   "source": [
    "data[data['dob_years'] == 0].shape"
   ]
  },
  {
   "cell_type": "markdown",
   "id": "e5b305ed",
   "metadata": {},
   "source": [
    "Получили данные 100 клиентов, в которых заменим значение возраста на медианное:"
   ]
  },
  {
   "cell_type": "code",
   "execution_count": 51,
   "id": "e712211e",
   "metadata": {},
   "outputs": [],
   "source": [
    "data.loc[data['dob_years'] == 0, 'dob_years'] = data['dob_years'].median()"
   ]
  },
  {
   "cell_type": "code",
   "execution_count": 52,
   "id": "75101963",
   "metadata": {},
   "outputs": [
    {
     "data": {
      "text/html": [
       "<div>\n",
       "<style scoped>\n",
       "    .dataframe tbody tr th:only-of-type {\n",
       "        vertical-align: middle;\n",
       "    }\n",
       "\n",
       "    .dataframe tbody tr th {\n",
       "        vertical-align: top;\n",
       "    }\n",
       "\n",
       "    .dataframe thead th {\n",
       "        text-align: right;\n",
       "    }\n",
       "</style>\n",
       "<table border=\"1\" class=\"dataframe\">\n",
       "  <thead>\n",
       "    <tr style=\"text-align: right;\">\n",
       "      <th></th>\n",
       "      <th>children</th>\n",
       "      <th>days_employed</th>\n",
       "      <th>dob_years</th>\n",
       "      <th>education_id</th>\n",
       "      <th>family_status_id</th>\n",
       "      <th>debt</th>\n",
       "      <th>total_income</th>\n",
       "    </tr>\n",
       "  </thead>\n",
       "  <tbody>\n",
       "    <tr>\n",
       "      <th>count</th>\n",
       "      <td>21331.000000</td>\n",
       "      <td>21331.000000</td>\n",
       "      <td>21331.000000</td>\n",
       "      <td>21331.000000</td>\n",
       "      <td>21331.000000</td>\n",
       "      <td>21331.000000</td>\n",
       "      <td>2.133100e+04</td>\n",
       "    </tr>\n",
       "    <tr>\n",
       "      <th>mean</th>\n",
       "      <td>0.474005</td>\n",
       "      <td>67148.972133</td>\n",
       "      <td>43.474849</td>\n",
       "      <td>0.816980</td>\n",
       "      <td>0.974497</td>\n",
       "      <td>0.081196</td>\n",
       "      <td>1.653427e+05</td>\n",
       "    </tr>\n",
       "    <tr>\n",
       "      <th>std</th>\n",
       "      <td>0.752378</td>\n",
       "      <td>139281.142318</td>\n",
       "      <td>12.219905</td>\n",
       "      <td>0.549282</td>\n",
       "      <td>1.421787</td>\n",
       "      <td>0.273143</td>\n",
       "      <td>9.831399e+04</td>\n",
       "    </tr>\n",
       "    <tr>\n",
       "      <th>min</th>\n",
       "      <td>0.000000</td>\n",
       "      <td>24.141633</td>\n",
       "      <td>19.000000</td>\n",
       "      <td>0.000000</td>\n",
       "      <td>0.000000</td>\n",
       "      <td>0.000000</td>\n",
       "      <td>2.066700e+04</td>\n",
       "    </tr>\n",
       "    <tr>\n",
       "      <th>25%</th>\n",
       "      <td>0.000000</td>\n",
       "      <td>1024.525170</td>\n",
       "      <td>33.000000</td>\n",
       "      <td>1.000000</td>\n",
       "      <td>0.000000</td>\n",
       "      <td>0.000000</td>\n",
       "      <td>1.075070e+05</td>\n",
       "    </tr>\n",
       "    <tr>\n",
       "      <th>50%</th>\n",
       "      <td>0.000000</td>\n",
       "      <td>1996.732855</td>\n",
       "      <td>42.000000</td>\n",
       "      <td>1.000000</td>\n",
       "      <td>0.000000</td>\n",
       "      <td>0.000000</td>\n",
       "      <td>1.425940e+05</td>\n",
       "    </tr>\n",
       "    <tr>\n",
       "      <th>75%</th>\n",
       "      <td>1.000000</td>\n",
       "      <td>5337.759969</td>\n",
       "      <td>53.000000</td>\n",
       "      <td>1.000000</td>\n",
       "      <td>1.000000</td>\n",
       "      <td>0.000000</td>\n",
       "      <td>1.958420e+05</td>\n",
       "    </tr>\n",
       "    <tr>\n",
       "      <th>max</th>\n",
       "      <td>5.000000</td>\n",
       "      <td>401755.400475</td>\n",
       "      <td>75.000000</td>\n",
       "      <td>4.000000</td>\n",
       "      <td>4.000000</td>\n",
       "      <td>1.000000</td>\n",
       "      <td>2.265604e+06</td>\n",
       "    </tr>\n",
       "  </tbody>\n",
       "</table>\n",
       "</div>"
      ],
      "text/plain": [
       "           children  days_employed     dob_years  education_id  \\\n",
       "count  21331.000000   21331.000000  21331.000000  21331.000000   \n",
       "mean       0.474005   67148.972133     43.474849      0.816980   \n",
       "std        0.752378  139281.142318     12.219905      0.549282   \n",
       "min        0.000000      24.141633     19.000000      0.000000   \n",
       "25%        0.000000    1024.525170     33.000000      1.000000   \n",
       "50%        0.000000    1996.732855     42.000000      1.000000   \n",
       "75%        1.000000    5337.759969     53.000000      1.000000   \n",
       "max        5.000000  401755.400475     75.000000      4.000000   \n",
       "\n",
       "       family_status_id          debt  total_income  \n",
       "count      21331.000000  21331.000000  2.133100e+04  \n",
       "mean           0.974497      0.081196  1.653427e+05  \n",
       "std            1.421787      0.273143  9.831399e+04  \n",
       "min            0.000000      0.000000  2.066700e+04  \n",
       "25%            0.000000      0.000000  1.075070e+05  \n",
       "50%            0.000000      0.000000  1.425940e+05  \n",
       "75%            1.000000      0.000000  1.958420e+05  \n",
       "max            4.000000      1.000000  2.265604e+06  "
      ]
     },
     "execution_count": 52,
     "metadata": {},
     "output_type": "execute_result"
    }
   ],
   "source": [
    "data.describe()"
   ]
  },
  {
   "cell_type": "markdown",
   "id": "0c5ca1da",
   "metadata": {
    "deletable": false,
    "editable": false,
    "id": "c5d66278"
   },
   "source": [
    "#### 3.1 Есть ли зависимость между количеством детей и возвратом кредита в срок?"
   ]
  },
  {
   "cell_type": "markdown",
   "id": "cdb0589b",
   "metadata": {},
   "source": [
    "Проверим значения в столбце **debt**:"
   ]
  },
  {
   "cell_type": "code",
   "execution_count": 53,
   "id": "dc14db80",
   "metadata": {},
   "outputs": [
    {
     "data": {
      "text/plain": [
       "0    19599\n",
       "1     1732\n",
       "Name: debt, dtype: int64"
      ]
     },
     "execution_count": 53,
     "metadata": {},
     "output_type": "execute_result"
    }
   ],
   "source": [
    "data['debt'].value_counts()"
   ]
  },
  {
   "cell_type": "markdown",
   "id": "4e819b7e",
   "metadata": {},
   "source": [
    "Видим 2 значения, 0 и 1. Соответственно при суммировании значений в столбце сможем получить количество просроченных платежей."
   ]
  },
  {
   "cell_type": "markdown",
   "id": "833b9b7b",
   "metadata": {},
   "source": [
    "Сгруппируем данные по количеству детей и выведем количество задолженностей по платежам *debt*, кочисчество заемщиков в группе *all_of_depts* и долю просроченных платажей в каждой группе *share*"
   ]
  },
  {
   "cell_type": "code",
   "execution_count": 54,
   "id": "7b5c00ec",
   "metadata": {
    "deletable": false,
    "id": "2cacfc4a",
    "scrolled": true
   },
   "outputs": [
    {
     "data": {
      "text/html": [
       "<div>\n",
       "<style scoped>\n",
       "    .dataframe tbody tr th:only-of-type {\n",
       "        vertical-align: middle;\n",
       "    }\n",
       "\n",
       "    .dataframe tbody tr th {\n",
       "        vertical-align: top;\n",
       "    }\n",
       "\n",
       "    .dataframe thead th {\n",
       "        text-align: right;\n",
       "    }\n",
       "</style>\n",
       "<table border=\"1\" class=\"dataframe\">\n",
       "  <thead>\n",
       "    <tr style=\"text-align: right;\">\n",
       "      <th></th>\n",
       "      <th>debt</th>\n",
       "      <th>all_of_depts</th>\n",
       "      <th>share</th>\n",
       "    </tr>\n",
       "    <tr>\n",
       "      <th>children</th>\n",
       "      <th></th>\n",
       "      <th></th>\n",
       "      <th></th>\n",
       "    </tr>\n",
       "  </thead>\n",
       "  <tbody>\n",
       "    <tr>\n",
       "      <th>0</th>\n",
       "      <td>1063</td>\n",
       "      <td>14091</td>\n",
       "      <td>0.075438</td>\n",
       "    </tr>\n",
       "    <tr>\n",
       "      <th>1</th>\n",
       "      <td>444</td>\n",
       "      <td>4808</td>\n",
       "      <td>0.092346</td>\n",
       "    </tr>\n",
       "    <tr>\n",
       "      <th>2</th>\n",
       "      <td>194</td>\n",
       "      <td>2052</td>\n",
       "      <td>0.094542</td>\n",
       "    </tr>\n",
       "    <tr>\n",
       "      <th>3</th>\n",
       "      <td>27</td>\n",
       "      <td>330</td>\n",
       "      <td>0.081818</td>\n",
       "    </tr>\n",
       "    <tr>\n",
       "      <th>4</th>\n",
       "      <td>4</td>\n",
       "      <td>41</td>\n",
       "      <td>0.097561</td>\n",
       "    </tr>\n",
       "    <tr>\n",
       "      <th>5</th>\n",
       "      <td>0</td>\n",
       "      <td>9</td>\n",
       "      <td>0.000000</td>\n",
       "    </tr>\n",
       "  </tbody>\n",
       "</table>\n",
       "</div>"
      ],
      "text/plain": [
       "          debt  all_of_depts     share\n",
       "children                              \n",
       "0         1063         14091  0.075438\n",
       "1          444          4808  0.092346\n",
       "2          194          2052  0.094542\n",
       "3           27           330  0.081818\n",
       "4            4            41  0.097561\n",
       "5            0             9  0.000000"
      ]
     },
     "execution_count": 54,
     "metadata": {},
     "output_type": "execute_result"
    }
   ],
   "source": [
    "children_debt = data.groupby('children')[['debt']].sum() \n",
    "children_debt['all_of_depts'] = data.groupby('children')['debt'].count() \n",
    "children_debt['share'] = children_debt['debt'] / children_debt['all_of_depts'] \n",
    "children_debt"
   ]
  },
  {
   "cell_type": "markdown",
   "id": "1fa21b96",
   "metadata": {},
   "source": [
    "Проверим, не потеряли ли данные:"
   ]
  },
  {
   "cell_type": "code",
   "execution_count": 55,
   "id": "b88ff2f3",
   "metadata": {},
   "outputs": [
    {
     "name": "stdout",
     "output_type": "stream",
     "text": [
      "Сумма клиентов из  таблицы children_debt: 21331\n",
      "Количество строк в данных: 21331\n"
     ]
    }
   ],
   "source": [
    "print('Сумма клиентов из  таблицы children_debt:', children_debt['all_of_depts'].sum())\n",
    "print('Количество строк в данных:' ,data.shape[0])"
   ]
  },
  {
   "cell_type": "markdown",
   "id": "4c134f88",
   "metadata": {},
   "source": [
    "Воспользуемся альтернативным вариантом: выведем сводную таблицу с теми же данными."
   ]
  },
  {
   "cell_type": "code",
   "execution_count": 56,
   "id": "c3c9cf9d",
   "metadata": {},
   "outputs": [
    {
     "data": {
      "text/html": [
       "<div>\n",
       "<style scoped>\n",
       "    .dataframe tbody tr th:only-of-type {\n",
       "        vertical-align: middle;\n",
       "    }\n",
       "\n",
       "    .dataframe tbody tr th {\n",
       "        vertical-align: top;\n",
       "    }\n",
       "\n",
       "    .dataframe thead th {\n",
       "        text-align: right;\n",
       "    }\n",
       "</style>\n",
       "<table border=\"1\" class=\"dataframe\">\n",
       "  <thead>\n",
       "    <tr style=\"text-align: right;\">\n",
       "      <th></th>\n",
       "      <th>debt</th>\n",
       "    </tr>\n",
       "    <tr>\n",
       "      <th>children</th>\n",
       "      <th></th>\n",
       "    </tr>\n",
       "  </thead>\n",
       "  <tbody>\n",
       "    <tr>\n",
       "      <th>0</th>\n",
       "      <td>0.075438</td>\n",
       "    </tr>\n",
       "    <tr>\n",
       "      <th>1</th>\n",
       "      <td>0.092346</td>\n",
       "    </tr>\n",
       "    <tr>\n",
       "      <th>2</th>\n",
       "      <td>0.094542</td>\n",
       "    </tr>\n",
       "    <tr>\n",
       "      <th>3</th>\n",
       "      <td>0.081818</td>\n",
       "    </tr>\n",
       "    <tr>\n",
       "      <th>4</th>\n",
       "      <td>0.097561</td>\n",
       "    </tr>\n",
       "    <tr>\n",
       "      <th>5</th>\n",
       "      <td>0.000000</td>\n",
       "    </tr>\n",
       "  </tbody>\n",
       "</table>\n",
       "</div>"
      ],
      "text/plain": [
       "              debt\n",
       "children          \n",
       "0         0.075438\n",
       "1         0.092346\n",
       "2         0.094542\n",
       "3         0.081818\n",
       "4         0.097561\n",
       "5         0.000000"
      ]
     },
     "execution_count": 56,
     "metadata": {},
     "output_type": "execute_result"
    }
   ],
   "source": [
    "data_dependence_children = data.pivot_table(index = ['children'], values='debt', aggfunc = 'mean')\n",
    "data_dependence_children"
   ]
  },
  {
   "cell_type": "code",
   "execution_count": 57,
   "id": "529329db",
   "metadata": {},
   "outputs": [
    {
     "data": {
      "text/html": [
       "<div>\n",
       "<style scoped>\n",
       "    .dataframe tbody tr th:only-of-type {\n",
       "        vertical-align: middle;\n",
       "    }\n",
       "\n",
       "    .dataframe tbody tr th {\n",
       "        vertical-align: top;\n",
       "    }\n",
       "\n",
       "    .dataframe thead tr th {\n",
       "        text-align: left;\n",
       "    }\n",
       "\n",
       "    .dataframe thead tr:last-of-type th {\n",
       "        text-align: right;\n",
       "    }\n",
       "</style>\n",
       "<table border=\"1\" class=\"dataframe\">\n",
       "  <thead>\n",
       "    <tr>\n",
       "      <th></th>\n",
       "      <th>sum</th>\n",
       "      <th>count</th>\n",
       "      <th>mean</th>\n",
       "    </tr>\n",
       "    <tr>\n",
       "      <th></th>\n",
       "      <th>debt</th>\n",
       "      <th>debt</th>\n",
       "      <th>debt</th>\n",
       "    </tr>\n",
       "    <tr>\n",
       "      <th>children</th>\n",
       "      <th></th>\n",
       "      <th></th>\n",
       "      <th></th>\n",
       "    </tr>\n",
       "  </thead>\n",
       "  <tbody>\n",
       "    <tr>\n",
       "      <th>0</th>\n",
       "      <td>1063</td>\n",
       "      <td>14091</td>\n",
       "      <td>0.075438</td>\n",
       "    </tr>\n",
       "    <tr>\n",
       "      <th>1</th>\n",
       "      <td>444</td>\n",
       "      <td>4808</td>\n",
       "      <td>0.092346</td>\n",
       "    </tr>\n",
       "    <tr>\n",
       "      <th>2</th>\n",
       "      <td>194</td>\n",
       "      <td>2052</td>\n",
       "      <td>0.094542</td>\n",
       "    </tr>\n",
       "    <tr>\n",
       "      <th>3</th>\n",
       "      <td>27</td>\n",
       "      <td>330</td>\n",
       "      <td>0.081818</td>\n",
       "    </tr>\n",
       "    <tr>\n",
       "      <th>4</th>\n",
       "      <td>4</td>\n",
       "      <td>41</td>\n",
       "      <td>0.097561</td>\n",
       "    </tr>\n",
       "    <tr>\n",
       "      <th>5</th>\n",
       "      <td>0</td>\n",
       "      <td>9</td>\n",
       "      <td>0.000000</td>\n",
       "    </tr>\n",
       "  </tbody>\n",
       "</table>\n",
       "</div>"
      ],
      "text/plain": [
       "           sum  count      mean\n",
       "          debt   debt      debt\n",
       "children                       \n",
       "0         1063  14091  0.075438\n",
       "1          444   4808  0.092346\n",
       "2          194   2052  0.094542\n",
       "3           27    330  0.081818\n",
       "4            4     41  0.097561\n",
       "5            0      9  0.000000"
      ]
     },
     "execution_count": 57,
     "metadata": {},
     "output_type": "execute_result"
    }
   ],
   "source": [
    "pd.pivot_table(data, index=['children'], values='debt', aggfunc=['sum', 'count', 'mean'])"
   ]
  },
  {
   "cell_type": "code",
   "execution_count": 58,
   "id": "33d0d860",
   "metadata": {},
   "outputs": [
    {
     "data": {
      "text/plain": [
       "<AxesSubplot:xlabel='children'>"
      ]
     },
     "execution_count": 58,
     "metadata": {},
     "output_type": "execute_result"
    },
    {
     "data": {
      "image/png": "[encoded data removed]",
      "text/plain": [
       "<Figure size 640x480 with 1 Axes>"
      ]
     },
     "metadata": {},
     "output_type": "display_data"
    }
   ],
   "source": [
    "children_debt['share'].plot.bar()"
   ]
  },
  {
   "cell_type": "markdown",
   "id": "043dc98d",
   "metadata": {
    "deletable": false,
    "id": "3a6b99ec"
   },
   "source": [
    "**Вывод:** наблюдается слабая зависимость между количеством детей и возвратом кредита в срок с общей тенденцией к увеличению доли просроченных платежей от 7.5 % до 9.8%. Исключением из общей тенденции является группа заемщиков с 3-мя детьми (8.2%). Группа плательщиков имеющих 5 детей в данной выборке является нерепрезентативной по причине малого количества заемщиков."
   ]
  },
  {
   "cell_type": "markdown",
   "id": "a4de8b07",
   "metadata": {},
   "source": [
    "<div class=\"alert alert-success\">\n",
    "<font size=\"5\"><b>Комментарий ревьюера</b></font>\n",
    "\n",
    "Успех: Вывод не противоречит полученному результату. \n",
    "\n",
    "</div>"
   ]
  },
  {
   "cell_type": "markdown",
   "id": "57addd0c",
   "metadata": {
    "deletable": false,
    "editable": false,
    "id": "97be82ca"
   },
   "source": [
    "#### 3.2 Есть ли зависимость между семейным положением и возвратом кредита в срок?"
   ]
  },
  {
   "cell_type": "markdown",
   "id": "d0c40f3a",
   "metadata": {
    "deletable": false,
    "id": "dc3f7ee8"
   },
   "source": [
    "Выведем значения из столбца **family_status**"
   ]
  },
  {
   "cell_type": "code",
   "execution_count": 59,
   "id": "ebd4d233",
   "metadata": {
    "scrolled": true
   },
   "outputs": [
    {
     "data": {
      "text/plain": [
       "женат / замужем          12261\n",
       "гражданский брак          4134\n",
       "Не женат / не замужем     2796\n",
       "в разводе                 1189\n",
       "вдовец / вдова             951\n",
       "Name: family_status, dtype: int64"
      ]
     },
     "execution_count": 59,
     "metadata": {},
     "output_type": "execute_result"
    }
   ],
   "source": [
    "data['family_status'].value_counts()"
   ]
  },
  {
   "cell_type": "markdown",
   "id": "3babb5a2",
   "metadata": {},
   "source": [
    "Исследуем зависимость просроченных платажей в зависимости от семейного положения.\n",
    "Выведем сводную таблицу и отсортируем по убыванию доли просроченных платажей."
   ]
  },
  {
   "cell_type": "code",
   "execution_count": 60,
   "id": "9fcd60d9",
   "metadata": {},
   "outputs": [
    {
     "data": {
      "text/html": [
       "<div>\n",
       "<style scoped>\n",
       "    .dataframe tbody tr th:only-of-type {\n",
       "        vertical-align: middle;\n",
       "    }\n",
       "\n",
       "    .dataframe tbody tr th {\n",
       "        vertical-align: top;\n",
       "    }\n",
       "\n",
       "    .dataframe thead th {\n",
       "        text-align: right;\n",
       "    }\n",
       "</style>\n",
       "<table border=\"1\" class=\"dataframe\">\n",
       "  <thead>\n",
       "    <tr style=\"text-align: right;\">\n",
       "      <th></th>\n",
       "      <th>debt</th>\n",
       "      <th>all_of_depts</th>\n",
       "      <th>overdue_payment</th>\n",
       "    </tr>\n",
       "    <tr>\n",
       "      <th>family_status</th>\n",
       "      <th></th>\n",
       "      <th></th>\n",
       "      <th></th>\n",
       "    </tr>\n",
       "  </thead>\n",
       "  <tbody>\n",
       "    <tr>\n",
       "      <th>вдовец / вдова</th>\n",
       "      <td>0.066246</td>\n",
       "      <td>951</td>\n",
       "      <td>63</td>\n",
       "    </tr>\n",
       "    <tr>\n",
       "      <th>в разводе</th>\n",
       "      <td>0.070648</td>\n",
       "      <td>1189</td>\n",
       "      <td>84</td>\n",
       "    </tr>\n",
       "    <tr>\n",
       "      <th>женат / замужем</th>\n",
       "      <td>0.075606</td>\n",
       "      <td>12261</td>\n",
       "      <td>927</td>\n",
       "    </tr>\n",
       "    <tr>\n",
       "      <th>гражданский брак</th>\n",
       "      <td>0.093130</td>\n",
       "      <td>4134</td>\n",
       "      <td>385</td>\n",
       "    </tr>\n",
       "    <tr>\n",
       "      <th>Не женат / не замужем</th>\n",
       "      <td>0.097639</td>\n",
       "      <td>2796</td>\n",
       "      <td>273</td>\n",
       "    </tr>\n",
       "  </tbody>\n",
       "</table>\n",
       "</div>"
      ],
      "text/plain": [
       "                           debt  all_of_depts  overdue_payment\n",
       "family_status                                                 \n",
       "вдовец / вдова         0.066246           951               63\n",
       "в разводе              0.070648          1189               84\n",
       "женат / замужем        0.075606         12261              927\n",
       "гражданский брак       0.093130          4134              385\n",
       "Не женат / не замужем  0.097639          2796              273"
      ]
     },
     "execution_count": 60,
     "metadata": {},
     "output_type": "execute_result"
    }
   ],
   "source": [
    "family_status_pvt = pd.pivot_table(data, index=['family_status'], values='debt')\n",
    "family_status_pvt['all_of_depts'] = data['family_status'].value_counts()\n",
    "family_status_pvt['overdue_payment'] = data.groupby('family_status')['debt'].sum()\n",
    "family_status_pvt.sort_values(by='debt')"
   ]
  },
  {
   "cell_type": "code",
   "execution_count": 61,
   "id": "9085c0f9",
   "metadata": {},
   "outputs": [
    {
     "data": {
      "text/plain": [
       "<AxesSubplot:xlabel='family_status'>"
      ]
     },
     "execution_count": 61,
     "metadata": {},
     "output_type": "execute_result"
    },
    {
     "data": {
      "image/png": "[encoded data removed]",
      "text/plain": [
       "<Figure size 640x480 with 1 Axes>"
      ]
     },
     "metadata": {},
     "output_type": "display_data"
    }
   ],
   "source": [
    "family_status_pvt['debt'].sort_values().plot.bar()"
   ]
  },
  {
   "cell_type": "markdown",
   "id": "995cced0",
   "metadata": {
    "deletable": false,
    "id": "1cef7837"
   },
   "source": [
    "**Вывод:** по результатам видно, что наибольшая доля просрочек наблюдается в группах, состоящих в гражданском браке и не находящихся в браке. Заемщики, которые ранее состояли в браке и в данный момент одиноки по причине развода или смерти супруга допускают меньше просрочек в сравнении с другими группами. "
   ]
  },
  {
   "cell_type": "markdown",
   "id": "e9aca7f1",
   "metadata": {},
   "source": [
    "<div class=\"alert alert-success\">\n",
    "<font size=\"5\"><b>Комментарий ревьюера</b></font>\n",
    "\n",
    "Успех: Подумай над причинами получения такого результата. \n",
    "\n",
    "</div>"
   ]
  },
  {
   "cell_type": "markdown",
   "id": "b401ce94",
   "metadata": {
    "deletable": false,
    "editable": false,
    "id": "1e8b2fca"
   },
   "source": [
    "#### 3.3 Есть ли зависимость между уровнем дохода и возвратом кредита в срок?"
   ]
  },
  {
   "cell_type": "markdown",
   "id": "723c7f1b",
   "metadata": {
    "deletable": false,
    "id": "cd7e3720"
   },
   "source": [
    "В ходе предобработки данных мы разделили заемщиков на следующие группы по уровню дохода:\n",
    "- 'A' (менее 30000)\n",
    "- 'B' (от 30000 до 50000)\n",
    "- 'C' (от 500000 до 200000)\n",
    "- 'D' (от 200000 до 1000000)\n",
    "- 'E' (более 1000000)"
   ]
  },
  {
   "cell_type": "code",
   "execution_count": 62,
   "id": "8747606c",
   "metadata": {
    "scrolled": true
   },
   "outputs": [
    {
     "data": {
      "text/plain": [
       "C    15921\n",
       "B     5014\n",
       "D      349\n",
       "A       25\n",
       "E       22\n",
       "Name: total_income_category, dtype: int64"
      ]
     },
     "execution_count": 62,
     "metadata": {},
     "output_type": "execute_result"
    }
   ],
   "source": [
    "data['total_income_category'].value_counts()"
   ]
  },
  {
   "cell_type": "code",
   "execution_count": 63,
   "id": "bd4052e4",
   "metadata": {},
   "outputs": [
    {
     "data": {
      "text/html": [
       "<div>\n",
       "<style scoped>\n",
       "    .dataframe tbody tr th:only-of-type {\n",
       "        vertical-align: middle;\n",
       "    }\n",
       "\n",
       "    .dataframe tbody tr th {\n",
       "        vertical-align: top;\n",
       "    }\n",
       "\n",
       "    .dataframe thead th {\n",
       "        text-align: right;\n",
       "    }\n",
       "</style>\n",
       "<table border=\"1\" class=\"dataframe\">\n",
       "  <thead>\n",
       "    <tr style=\"text-align: right;\">\n",
       "      <th></th>\n",
       "      <th>debt</th>\n",
       "      <th>all_of_depts</th>\n",
       "      <th>overdue_payment</th>\n",
       "    </tr>\n",
       "    <tr>\n",
       "      <th>total_income_category</th>\n",
       "      <th></th>\n",
       "      <th></th>\n",
       "      <th></th>\n",
       "    </tr>\n",
       "  </thead>\n",
       "  <tbody>\n",
       "    <tr>\n",
       "      <th>A</th>\n",
       "      <td>0.080000</td>\n",
       "      <td>25</td>\n",
       "      <td>2</td>\n",
       "    </tr>\n",
       "    <tr>\n",
       "      <th>B</th>\n",
       "      <td>0.070602</td>\n",
       "      <td>5014</td>\n",
       "      <td>354</td>\n",
       "    </tr>\n",
       "    <tr>\n",
       "      <th>C</th>\n",
       "      <td>0.084982</td>\n",
       "      <td>15921</td>\n",
       "      <td>1353</td>\n",
       "    </tr>\n",
       "    <tr>\n",
       "      <th>D</th>\n",
       "      <td>0.060172</td>\n",
       "      <td>349</td>\n",
       "      <td>21</td>\n",
       "    </tr>\n",
       "    <tr>\n",
       "      <th>E</th>\n",
       "      <td>0.090909</td>\n",
       "      <td>22</td>\n",
       "      <td>2</td>\n",
       "    </tr>\n",
       "  </tbody>\n",
       "</table>\n",
       "</div>"
      ],
      "text/plain": [
       "                           debt  all_of_depts  overdue_payment\n",
       "total_income_category                                         \n",
       "A                      0.080000            25                2\n",
       "B                      0.070602          5014              354\n",
       "C                      0.084982         15921             1353\n",
       "D                      0.060172           349               21\n",
       "E                      0.090909            22                2"
      ]
     },
     "execution_count": 63,
     "metadata": {},
     "output_type": "execute_result"
    }
   ],
   "source": [
    "total_income_pvt = pd.pivot_table(data, index=['total_income_category'], values='debt')\n",
    "total_income_pvt['all_of_depts'] = data['total_income_category'].value_counts()\n",
    "total_income_pvt['overdue_payment'] = data.groupby('total_income_category')['debt'].sum()\n",
    "total_income_pvt"
   ]
  },
  {
   "cell_type": "code",
   "execution_count": 64,
   "id": "421d377b",
   "metadata": {},
   "outputs": [
    {
     "data": {
      "text/plain": [
       "<AxesSubplot:xlabel='total_income_category'>"
      ]
     },
     "execution_count": 64,
     "metadata": {},
     "output_type": "execute_result"
    },
    {
     "data": {
      "image/png": "[encoded data removed]",
      "text/plain": [
       "<Figure size 640x480 with 1 Axes>"
      ]
     },
     "metadata": {},
     "output_type": "display_data"
    }
   ],
   "source": [
    "total_income_pvt['debt'].plot.bar()"
   ]
  },
  {
   "cell_type": "markdown",
   "id": "593754d6",
   "metadata": {},
   "source": [
    "<div class=\"alert alert-warning\">\n",
    "<font size=\"5\"><b>Комментарий ревьюера</b></font>\n",
    "\n",
    "Совет: Не забывай подписывать оси на графиках и делать им названия. Это все же также важные элементы любой визуализации. Как делать подписи и названия, смотри [тут](https://pyprog.pro/mpl/mpl_axis_signatures.html) и [тут](https://pyprog.pro/mpl/mpl_title.html).\n",
    "\n",
    "</div>"
   ]
  },
  {
   "cell_type": "markdown",
   "id": "7b066339",
   "metadata": {
    "deletable": false,
    "id": "e8593def"
   },
   "source": [
    "**Вывод:** среди результатов выделяются группы **D** и **E**, как группы с наименьшей и наибольшей долей просроченных платежей.\n",
    "По резутьтатам неозможно определить зависимость доли просрочек от уровня дохода. Возможно есть необходимость провести дополнительное исследование с корректировкой категоризации по уровню дохода."
   ]
  },
  {
   "cell_type": "markdown",
   "id": "6d9331f5",
   "metadata": {
    "deletable": false,
    "editable": false,
    "id": "99ecbd1f"
   },
   "source": [
    "#### 3.4 Как разные цели кредита влияют на его возврат в срок?"
   ]
  },
  {
   "cell_type": "markdown",
   "id": "3283f4aa",
   "metadata": {},
   "source": [
    "Выведем категории и количество заемщиков в каждой:"
   ]
  },
  {
   "cell_type": "code",
   "execution_count": 65,
   "id": "0055eae1",
   "metadata": {
    "deletable": false,
    "id": "2b687290"
   },
   "outputs": [
    {
     "data": {
      "text/plain": [
       "операции с недвижимостью    10751\n",
       "операции с автомобилем       4279\n",
       "получение образования        3988\n",
       "проведение свадьбы           2313\n",
       "Name: purpose_category, dtype: int64"
      ]
     },
     "execution_count": 65,
     "metadata": {},
     "output_type": "execute_result"
    }
   ],
   "source": [
    "data['purpose_category'].value_counts()"
   ]
  },
  {
   "cell_type": "markdown",
   "id": "15a0ff04",
   "metadata": {},
   "source": [
    "Выведем сводную таблицу по каждой группе с долей просрочек и общим количеством заемщиков в каждой группе"
   ]
  },
  {
   "cell_type": "code",
   "execution_count": 66,
   "id": "e56e7722",
   "metadata": {},
   "outputs": [
    {
     "data": {
      "text/html": [
       "<div>\n",
       "<style scoped>\n",
       "    .dataframe tbody tr th:only-of-type {\n",
       "        vertical-align: middle;\n",
       "    }\n",
       "\n",
       "    .dataframe tbody tr th {\n",
       "        vertical-align: top;\n",
       "    }\n",
       "\n",
       "    .dataframe thead th {\n",
       "        text-align: right;\n",
       "    }\n",
       "</style>\n",
       "<table border=\"1\" class=\"dataframe\">\n",
       "  <thead>\n",
       "    <tr style=\"text-align: right;\">\n",
       "      <th></th>\n",
       "      <th>debt</th>\n",
       "      <th>all_of_depts</th>\n",
       "      <th>overdue_payment</th>\n",
       "    </tr>\n",
       "    <tr>\n",
       "      <th>purpose_category</th>\n",
       "      <th></th>\n",
       "      <th></th>\n",
       "      <th></th>\n",
       "    </tr>\n",
       "  </thead>\n",
       "  <tbody>\n",
       "    <tr>\n",
       "      <th>операции с недвижимостью</th>\n",
       "      <td>0.072551</td>\n",
       "      <td>10751</td>\n",
       "      <td>780</td>\n",
       "    </tr>\n",
       "    <tr>\n",
       "      <th>проведение свадьбы</th>\n",
       "      <td>0.079118</td>\n",
       "      <td>2313</td>\n",
       "      <td>183</td>\n",
       "    </tr>\n",
       "    <tr>\n",
       "      <th>получение образования</th>\n",
       "      <td>0.092528</td>\n",
       "      <td>3988</td>\n",
       "      <td>369</td>\n",
       "    </tr>\n",
       "    <tr>\n",
       "      <th>операции с автомобилем</th>\n",
       "      <td>0.093480</td>\n",
       "      <td>4279</td>\n",
       "      <td>400</td>\n",
       "    </tr>\n",
       "  </tbody>\n",
       "</table>\n",
       "</div>"
      ],
      "text/plain": [
       "                              debt  all_of_depts  overdue_payment\n",
       "purpose_category                                                 \n",
       "операции с недвижимостью  0.072551         10751              780\n",
       "проведение свадьбы        0.079118          2313              183\n",
       "получение образования     0.092528          3988              369\n",
       "операции с автомобилем    0.093480          4279              400"
      ]
     },
     "execution_count": 66,
     "metadata": {},
     "output_type": "execute_result"
    }
   ],
   "source": [
    "purpose_category_pvt = pd.pivot_table(data, index=['purpose_category'], values='debt')\n",
    "purpose_category_pvt['all_of_depts'] = data['purpose_category'].value_counts()\n",
    "purpose_category_pvt['overdue_payment'] = data.groupby('purpose_category')['debt'].sum()\n",
    "purpose_category_pvt.sort_values(by='debt')"
   ]
  },
  {
   "cell_type": "code",
   "execution_count": 67,
   "id": "9051d187",
   "metadata": {
    "scrolled": true
   },
   "outputs": [
    {
     "data": {
      "text/plain": [
       "<AxesSubplot:xlabel='purpose_category'>"
      ]
     },
     "execution_count": 67,
     "metadata": {},
     "output_type": "execute_result"
    },
    {
     "data": {
      "image/png": "[encoded data removed]",
      "text/plain": [
       "<Figure size 640x480 with 1 Axes>"
      ]
     },
     "metadata": {},
     "output_type": "display_data"
    }
   ],
   "source": [
    "purpose_category_pvt['debt'].sort_values().plot.bar()"
   ]
  },
  {
   "cell_type": "markdown",
   "id": "b1b7727e",
   "metadata": {
    "deletable": false,
    "id": "b4bb2ce6"
   },
   "source": [
    "**Вывод:** выделяются две группы заемщиков с разными долями просроченных платежей. С наименьшей долей - люди взявшие кредит на недвижимость и свадьбу, другая на автомобиль и учебу. Возможно существует связь возраста заемщика с целью кредита (деньги на авто и свадьбу ищут люди более молодого возрата)."
   ]
  },
  {
   "cell_type": "markdown",
   "id": "8e667f29",
   "metadata": {},
   "source": [
    "<div class=\"alert alert-success\">\n",
    "<font size=\"5\"><b>Комментарий ревьюера</b></font>\n",
    "\n",
    "Успех: Здорово, что при анализе использован метод сводных таблиц. Он пригодится в дальнейших проектах.\n",
    "\n",
    "Выводы сделаны по всем пунктам. \n",
    "\n",
    "</div>"
   ]
  },
  {
   "cell_type": "markdown",
   "id": "594c36c6",
   "metadata": {},
   "source": [
    "Для проверки гипотезы дополнительно проверим медианный возраст в этих группах:"
   ]
  },
  {
   "cell_type": "code",
   "execution_count": 68,
   "id": "224b58cc",
   "metadata": {},
   "outputs": [
    {
     "data": {
      "text/plain": [
       "purpose_category\n",
       "операции с автомобилем      43.0\n",
       "операции с недвижимостью    42.0\n",
       "получение образования       42.0\n",
       "проведение свадьбы          42.0\n",
       "Name: dob_years, dtype: float64"
      ]
     },
     "execution_count": 68,
     "metadata": {},
     "output_type": "execute_result"
    }
   ],
   "source": [
    "data.groupby('purpose_category')['dob_years'].agg('median')"
   ]
  },
  {
   "cell_type": "markdown",
   "id": "17319299",
   "metadata": {},
   "source": [
    "Как видно, медианный возраст в группах почти совпадает. Утверждать что цель кредита зависит от возраста заемщика невозможно."
   ]
  },
  {
   "cell_type": "code",
   "execution_count": 69,
   "id": "8483f7c8",
   "metadata": {},
   "outputs": [
    {
     "data": {
      "text/plain": [
       "Text(0.5, 0, 'возраст')"
      ]
     },
     "execution_count": 69,
     "metadata": {},
     "output_type": "execute_result"
    },
    {
     "data": {
      "image/png": "[encoded data removed]",
      "text/plain": [
       "<Figure size 640x480 with 1 Axes>"
      ]
     },
     "metadata": {},
     "output_type": "display_data"
    }
   ],
   "source": [
    "ax = pd.pivot_table(data, values='debt', index=['dob_years']).plot()\n",
    "ax.set_title('Отношение доли просрочек и возраста')\n",
    "ax.set_ylabel('доля зодолженностей')\n",
    "ax.set_xlabel('возраст')"
   ]
  },
  {
   "cell_type": "markdown",
   "id": "0d8f0cab",
   "metadata": {},
   "source": [
    "На графике изображена зависимость влияния возраста на долю просроченных платежей во всей выборке"
   ]
  },
  {
   "cell_type": "markdown",
   "id": "9ffbbc14",
   "metadata": {
    "deletable": false,
    "editable": false,
    "id": "09c3ac4c"
   },
   "source": [
    "#### 3.5 Приведите возможные причины появления пропусков в исходных данных."
   ]
  },
  {
   "cell_type": "markdown",
   "id": "582084bf",
   "metadata": {
    "deletable": false,
    "id": "9da2ceda"
   },
   "source": [
    "*Ответ:* В данных были обнаружены пропуски в столбцах *days_emplyed* и *total_income*. Одна из возможных причин отсутствия данных это отсутствие информации со стороны заемщика. Вторая возможная причина это проблемы с хранением или выгрузкой данных.\n",
    "Для начала необходимо проконсультироваться с коллегами и узнать обязательно ли заполнение всех данных заемщика или нет."
   ]
  },
  {
   "cell_type": "markdown",
   "id": "1c385a26",
   "metadata": {
    "deletable": false,
    "editable": false,
    "id": "7b0487d6"
   },
   "source": [
    "#### 3.6 Объясните, почему заполнить пропуски медианным значением — лучшее решение для количественных переменных."
   ]
  },
  {
   "cell_type": "markdown",
   "id": "5a292749",
   "metadata": {
    "deletable": false,
    "id": "7ecf2b8e"
   },
   "source": [
    "*Ответ:* В большинстве данных с количественными переменными встречаются вырбосы, которые сильно вляют на смещение среднего значения переменной. В случае заполнения пропусков нам необходимо их заполнить таким образом, чтобы общая картина распределения значений осталась неизменной. Для этого отлично подходит значение медианы, как менее зависимое от наличия выбросов в данных."
   ]
  },
  {
   "cell_type": "markdown",
   "id": "1458558f",
   "metadata": {},
   "source": [
    "<div class=\"alert alert-success\">\n",
    "<font size=\"5\"><b>Комментарий ревьюера</b></font>\n",
    "\n",
    "Успех: Да, все верно. \n",
    "\n",
    "</div>"
   ]
  },
  {
   "cell_type": "markdown",
   "id": "cbf37775",
   "metadata": {
    "deletable": false,
    "editable": false,
    "id": "6db5255a"
   },
   "source": [
    "### Шаг 4: общий вывод."
   ]
  },
  {
   "cell_type": "markdown",
   "id": "01f493dd",
   "metadata": {
    "deletable": false,
    "id": "bad65432"
   },
   "source": [
    "В данной практической работе мы выполнили исследование надежности заемщиков. Чтобы ответить на вопросы, поставленные в задании мы провели:\n",
    " - выгрузку данных из csv файла\n",
    " - работу с пропусками и аномалиями\n",
    " - изменение типов данных\n",
    " - поиск и устранение дубликатов\n",
    " - категоризацию данных\n",
    " \n",
    " \n",
    " **В результате исследования мы определили что:**\n",
    " - количество детей заемщика в целом влияет на долю задолженности от 7.5 % до 9.8%\n",
    " - доля задолженнностей у клиентов которые ранее состояли в браке меньше, чем у клиентов не состоящих в официальном браке на данный момент\n",
    " - в данной работе не выявлена зависимость доли просроченных платежей от дохода в группах\n",
    " - доля задолженнностей у клиентов которые взяли кредит на недвижимость и проведение свадьбы меньше чем у клиентов взявших кредит на автомобиль и образование\n",
    " - доля просроченных платежей зависит от возраста заемщика с максимальным значением у людей возраста 20 - 30 лет и минимальным у людей в возрасте 60 - 70\n",
    " \n",
    "\n",
    " \n",
    "**Дальнейшие шаги:**\n",
    " - определить с коллегами источник пропусков в данных\n",
    " - изменить параметры категоризации групп клиентов по доходу и посмотреть на результаты\n",
    " - изучить подробнее возраст в группах и его влияние на олю просроченных платежей.\n",
    " "
   ]
  },
  {
   "cell_type": "markdown",
   "id": "6691ef2e",
   "metadata": {},
   "source": [
    "<div class=\"alert alert-success\">\n",
    "<font size=\"5\"><b>Комментарий ревьюера</b></font>\n",
    "\n",
    "Успех: Выводы описаны грамотно. Приведены ответы на главные вопросы проекта. В выводах можно приводить полученные ранее значения, правильно. Здорово, что по каждому пункту работы приведен вывод.     \n",
    "\n",
    "</div>"
   ]
  },
  {
   "cell_type": "markdown",
   "id": "c36c9560",
   "metadata": {},
   "source": [
    "<div class=\"alert alert-info\">\n",
    "<font size=\"5\"><b>Комментарий ревьюера</b></font>\n",
    "\n",
    "Если тебе нравится тема визуализации, то можешь изучить и методы библиотеки seaborn. Она позволяет строить довольно презентабельные графики. Рекомендую ресурс https://www.python-graph-gallery.com/. В нем содержится большая библиотека графиков с готовым кодом, который можно использовать при работе.\n",
    "\n",
    "Ты проделал большую работу, молодец! Ты овладел важными на данном этапе обучения инструментами, а также довольно качественно их используешь. Критических замечаний нет, это хорошо. Поэтому я принимаю твой проект. Продолжай в том же духе. Успехов в дальнейшем пути :)\n",
    "\n",
    "</div>"
   ]
  },
  {
   "cell_type": "code",
   "execution_count": null,
   "id": "e3e4a065",
   "metadata": {},
   "outputs": [],
   "source": []
  }
 ],
 "metadata": {
  "ExecuteTimeLog": [
   {
    "duration": 46,
    "start_time": "2022-12-06T10:53:21.765Z"
   },
   {
    "duration": 435,
    "start_time": "2022-12-06T10:53:31.039Z"
   },
   {
    "duration": 21,
    "start_time": "2022-12-06T10:53:31.476Z"
   },
   {
    "duration": 16,
    "start_time": "2022-12-06T10:53:31.499Z"
   },
   {
    "duration": 19,
    "start_time": "2022-12-06T10:53:31.517Z"
   },
   {
    "duration": 47,
    "start_time": "2022-12-06T10:53:31.538Z"
   },
   {
    "duration": 4,
    "start_time": "2022-12-06T10:53:31.586Z"
   },
   {
    "duration": 47,
    "start_time": "2022-12-06T10:53:31.591Z"
   },
   {
    "duration": 13,
    "start_time": "2022-12-06T10:53:31.640Z"
   },
   {
    "duration": 23,
    "start_time": "2022-12-06T10:53:31.655Z"
   },
   {
    "duration": 8,
    "start_time": "2022-12-06T10:53:31.680Z"
   },
   {
    "duration": 46,
    "start_time": "2022-12-06T10:53:31.689Z"
   },
   {
    "duration": 10,
    "start_time": "2022-12-06T10:53:31.736Z"
   },
   {
    "duration": 10,
    "start_time": "2022-12-06T10:53:31.747Z"
   },
   {
    "duration": 35,
    "start_time": "2022-12-06T10:53:31.759Z"
   },
   {
    "duration": 23,
    "start_time": "2022-12-06T10:53:31.796Z"
   },
   {
    "duration": 17,
    "start_time": "2022-12-06T10:53:31.820Z"
   },
   {
    "duration": 4,
    "start_time": "2022-12-06T10:53:31.838Z"
   },
   {
    "duration": 17,
    "start_time": "2022-12-06T10:53:31.843Z"
   },
   {
    "duration": 15,
    "start_time": "2022-12-06T10:53:31.862Z"
   },
   {
    "duration": 28,
    "start_time": "2022-12-06T10:53:31.878Z"
   },
   {
    "duration": 28,
    "start_time": "2022-12-06T10:53:31.908Z"
   },
   {
    "duration": 33,
    "start_time": "2022-12-06T10:53:31.937Z"
   },
   {
    "duration": 2,
    "start_time": "2022-12-06T10:53:31.972Z"
   },
   {
    "duration": 16,
    "start_time": "2022-12-06T10:53:31.976Z"
   },
   {
    "duration": 7,
    "start_time": "2022-12-06T10:53:31.994Z"
   },
   {
    "duration": 7,
    "start_time": "2022-12-06T10:53:32.003Z"
   },
   {
    "duration": 45,
    "start_time": "2022-12-06T10:54:07.010Z"
   },
   {
    "duration": 40,
    "start_time": "2022-12-06T10:54:23.344Z"
   },
   {
    "duration": 74,
    "start_time": "2022-12-06T10:58:45.443Z"
   },
   {
    "duration": 21,
    "start_time": "2022-12-06T11:02:23.778Z"
   },
   {
    "duration": 16,
    "start_time": "2022-12-06T11:04:22.358Z"
   },
   {
    "duration": 7,
    "start_time": "2022-12-06T11:04:45.062Z"
   },
   {
    "duration": 15,
    "start_time": "2022-12-06T11:05:04.500Z"
   },
   {
    "duration": 8,
    "start_time": "2022-12-06T11:05:21.334Z"
   },
   {
    "duration": 6,
    "start_time": "2022-12-06T11:05:32.910Z"
   },
   {
    "duration": 14,
    "start_time": "2022-12-06T11:05:40.712Z"
   },
   {
    "duration": 14,
    "start_time": "2022-12-06T11:05:57.286Z"
   },
   {
    "duration": 5,
    "start_time": "2022-12-06T11:06:06.820Z"
   },
   {
    "duration": 31,
    "start_time": "2022-12-06T11:13:26.673Z"
   },
   {
    "duration": 69,
    "start_time": "2022-12-06T11:13:31.760Z"
   },
   {
    "duration": 15,
    "start_time": "2022-12-06T11:13:31.831Z"
   },
   {
    "duration": 42,
    "start_time": "2022-12-06T11:13:31.848Z"
   },
   {
    "duration": 14,
    "start_time": "2022-12-06T11:13:31.891Z"
   },
   {
    "duration": 48,
    "start_time": "2022-12-06T11:13:31.908Z"
   },
   {
    "duration": 4,
    "start_time": "2022-12-06T11:13:31.958Z"
   },
   {
    "duration": 35,
    "start_time": "2022-12-06T11:13:31.964Z"
   },
   {
    "duration": 37,
    "start_time": "2022-12-06T11:13:32.001Z"
   },
   {
    "duration": 17,
    "start_time": "2022-12-06T11:13:32.040Z"
   },
   {
    "duration": 18,
    "start_time": "2022-12-06T11:13:32.059Z"
   },
   {
    "duration": 59,
    "start_time": "2022-12-06T11:13:32.079Z"
   },
   {
    "duration": 10,
    "start_time": "2022-12-06T11:13:32.140Z"
   },
   {
    "duration": 27,
    "start_time": "2022-12-06T11:13:32.151Z"
   },
   {
    "duration": 19,
    "start_time": "2022-12-06T11:13:32.182Z"
   },
   {
    "duration": 39,
    "start_time": "2022-12-06T11:13:32.203Z"
   },
   {
    "duration": 17,
    "start_time": "2022-12-06T11:13:32.244Z"
   },
   {
    "duration": 6,
    "start_time": "2022-12-06T11:13:32.263Z"
   },
   {
    "duration": 43,
    "start_time": "2022-12-06T11:13:32.270Z"
   },
   {
    "duration": 24,
    "start_time": "2022-12-06T11:13:32.315Z"
   },
   {
    "duration": 26,
    "start_time": "2022-12-06T11:13:32.341Z"
   },
   {
    "duration": 58,
    "start_time": "2022-12-06T11:13:32.369Z"
   },
   {
    "duration": 63,
    "start_time": "2022-12-06T11:13:32.429Z"
   },
   {
    "duration": 14,
    "start_time": "2022-12-06T11:13:32.493Z"
   },
   {
    "duration": 29,
    "start_time": "2022-12-06T11:13:32.509Z"
   },
   {
    "duration": 13,
    "start_time": "2022-12-06T11:13:32.540Z"
   },
   {
    "duration": 22,
    "start_time": "2022-12-06T11:13:32.555Z"
   },
   {
    "duration": 13,
    "start_time": "2022-12-06T11:13:32.579Z"
   },
   {
    "duration": 35,
    "start_time": "2022-12-06T11:13:32.594Z"
   },
   {
    "duration": 72,
    "start_time": "2022-12-06T11:13:53.812Z"
   },
   {
    "duration": 15,
    "start_time": "2022-12-06T11:13:53.886Z"
   },
   {
    "duration": 24,
    "start_time": "2022-12-06T11:13:53.903Z"
   },
   {
    "duration": 13,
    "start_time": "2022-12-06T11:13:53.930Z"
   },
   {
    "duration": 33,
    "start_time": "2022-12-06T11:13:53.945Z"
   },
   {
    "duration": 4,
    "start_time": "2022-12-06T11:13:53.980Z"
   },
   {
    "duration": 10,
    "start_time": "2022-12-06T11:13:54.006Z"
   },
   {
    "duration": 6,
    "start_time": "2022-12-06T11:13:54.018Z"
   },
   {
    "duration": 23,
    "start_time": "2022-12-06T11:13:54.026Z"
   },
   {
    "duration": 9,
    "start_time": "2022-12-06T11:13:54.052Z"
   },
   {
    "duration": 63,
    "start_time": "2022-12-06T11:13:54.062Z"
   },
   {
    "duration": 12,
    "start_time": "2022-12-06T11:13:54.127Z"
   },
   {
    "duration": 5,
    "start_time": "2022-12-06T11:13:54.141Z"
   },
   {
    "duration": 18,
    "start_time": "2022-12-06T11:13:54.147Z"
   },
   {
    "duration": 39,
    "start_time": "2022-12-06T11:13:54.167Z"
   },
   {
    "duration": 18,
    "start_time": "2022-12-06T11:13:54.207Z"
   },
   {
    "duration": 3,
    "start_time": "2022-12-06T11:13:54.227Z"
   },
   {
    "duration": 13,
    "start_time": "2022-12-06T11:13:54.231Z"
   },
   {
    "duration": 10,
    "start_time": "2022-12-06T11:13:54.245Z"
   },
   {
    "duration": 3,
    "start_time": "2022-12-06T11:13:54.257Z"
   },
   {
    "duration": 14,
    "start_time": "2022-12-06T11:13:54.261Z"
   },
   {
    "duration": 71,
    "start_time": "2022-12-06T11:13:54.278Z"
   },
   {
    "duration": 15,
    "start_time": "2022-12-06T11:13:54.351Z"
   },
   {
    "duration": 8,
    "start_time": "2022-12-06T11:13:54.368Z"
   },
   {
    "duration": 12,
    "start_time": "2022-12-06T11:13:54.378Z"
   },
   {
    "duration": 2,
    "start_time": "2022-12-06T11:13:54.406Z"
   },
   {
    "duration": 12,
    "start_time": "2022-12-06T11:13:54.410Z"
   },
   {
    "duration": 3,
    "start_time": "2022-12-06T11:13:54.426Z"
   },
   {
    "duration": 12,
    "start_time": "2022-12-06T11:17:17.075Z"
   },
   {
    "duration": 15,
    "start_time": "2022-12-06T11:17:30.925Z"
   },
   {
    "duration": 37,
    "start_time": "2022-12-06T11:17:34.022Z"
   },
   {
    "duration": 7,
    "start_time": "2022-12-06T11:21:57.829Z"
   },
   {
    "duration": 12,
    "start_time": "2022-12-06T11:22:04.506Z"
   },
   {
    "duration": 74,
    "start_time": "2022-12-06T11:22:19.845Z"
   },
   {
    "duration": 21,
    "start_time": "2022-12-06T11:22:19.921Z"
   },
   {
    "duration": 32,
    "start_time": "2022-12-06T11:22:19.944Z"
   },
   {
    "duration": 35,
    "start_time": "2022-12-06T11:22:19.978Z"
   },
   {
    "duration": 35,
    "start_time": "2022-12-06T11:22:20.015Z"
   },
   {
    "duration": 3,
    "start_time": "2022-12-06T11:22:20.052Z"
   },
   {
    "duration": 11,
    "start_time": "2022-12-06T11:22:20.059Z"
   },
   {
    "duration": 34,
    "start_time": "2022-12-06T11:22:20.072Z"
   },
   {
    "duration": 8,
    "start_time": "2022-12-06T11:22:20.108Z"
   },
   {
    "duration": 5,
    "start_time": "2022-12-06T11:22:20.120Z"
   },
   {
    "duration": 52,
    "start_time": "2022-12-06T11:22:20.127Z"
   },
   {
    "duration": 32,
    "start_time": "2022-12-06T11:22:20.180Z"
   },
   {
    "duration": 9,
    "start_time": "2022-12-06T11:22:20.215Z"
   },
   {
    "duration": 15,
    "start_time": "2022-12-06T11:22:20.226Z"
   },
   {
    "duration": 40,
    "start_time": "2022-12-06T11:22:20.244Z"
   },
   {
    "duration": 31,
    "start_time": "2022-12-06T11:22:20.286Z"
   },
   {
    "duration": 5,
    "start_time": "2022-12-06T11:22:20.320Z"
   },
   {
    "duration": 14,
    "start_time": "2022-12-06T11:22:20.327Z"
   },
   {
    "duration": 14,
    "start_time": "2022-12-06T11:22:20.343Z"
   },
   {
    "duration": 8,
    "start_time": "2022-12-06T11:22:20.359Z"
   },
   {
    "duration": 33,
    "start_time": "2022-12-06T11:22:20.369Z"
   },
   {
    "duration": 56,
    "start_time": "2022-12-06T11:22:20.405Z"
   },
   {
    "duration": 18,
    "start_time": "2022-12-06T11:22:20.462Z"
   },
   {
    "duration": 26,
    "start_time": "2022-12-06T11:22:20.482Z"
   },
   {
    "duration": 16,
    "start_time": "2022-12-06T11:22:20.510Z"
   },
   {
    "duration": 32,
    "start_time": "2022-12-06T11:22:20.529Z"
   },
   {
    "duration": 11,
    "start_time": "2022-12-06T11:22:20.563Z"
   },
   {
    "duration": 2,
    "start_time": "2022-12-06T11:22:20.605Z"
   },
   {
    "duration": 5,
    "start_time": "2022-12-06T11:22:20.609Z"
   },
   {
    "duration": 5,
    "start_time": "2022-12-06T11:22:20.616Z"
   },
   {
    "duration": 4,
    "start_time": "2022-12-06T11:22:46.759Z"
   },
   {
    "duration": 70,
    "start_time": "2022-12-06T11:32:03.168Z"
   },
   {
    "duration": 17,
    "start_time": "2022-12-06T11:32:03.240Z"
   },
   {
    "duration": 18,
    "start_time": "2022-12-06T11:32:03.260Z"
   },
   {
    "duration": 16,
    "start_time": "2022-12-06T11:32:03.305Z"
   },
   {
    "duration": 53,
    "start_time": "2022-12-06T11:32:03.323Z"
   },
   {
    "duration": 5,
    "start_time": "2022-12-06T11:32:03.379Z"
   },
   {
    "duration": 14,
    "start_time": "2022-12-06T11:32:03.405Z"
   },
   {
    "duration": 10,
    "start_time": "2022-12-06T11:32:03.421Z"
   },
   {
    "duration": 11,
    "start_time": "2022-12-06T11:32:03.433Z"
   },
   {
    "duration": 13,
    "start_time": "2022-12-06T11:32:03.447Z"
   },
   {
    "duration": 61,
    "start_time": "2022-12-06T11:32:03.462Z"
   },
   {
    "duration": 12,
    "start_time": "2022-12-06T11:32:03.526Z"
   },
   {
    "duration": 10,
    "start_time": "2022-12-06T11:32:03.539Z"
   },
   {
    "duration": 21,
    "start_time": "2022-12-06T11:32:03.551Z"
   },
   {
    "duration": 37,
    "start_time": "2022-12-06T11:32:03.576Z"
   },
   {
    "duration": 25,
    "start_time": "2022-12-06T11:32:03.615Z"
   },
   {
    "duration": 5,
    "start_time": "2022-12-06T11:32:03.643Z"
   },
   {
    "duration": 21,
    "start_time": "2022-12-06T11:32:03.651Z"
   },
   {
    "duration": 32,
    "start_time": "2022-12-06T11:32:03.674Z"
   },
   {
    "duration": 5,
    "start_time": "2022-12-06T11:32:03.708Z"
   },
   {
    "duration": 12,
    "start_time": "2022-12-06T11:32:03.715Z"
   },
   {
    "duration": 84,
    "start_time": "2022-12-06T11:32:03.729Z"
   },
   {
    "duration": 24,
    "start_time": "2022-12-06T11:32:03.815Z"
   },
   {
    "duration": 10,
    "start_time": "2022-12-06T11:32:03.842Z"
   },
   {
    "duration": 55,
    "start_time": "2022-12-06T11:32:03.854Z"
   },
   {
    "duration": 10,
    "start_time": "2022-12-06T11:32:03.911Z"
   },
   {
    "duration": 11,
    "start_time": "2022-12-06T11:32:03.922Z"
   },
   {
    "duration": 9,
    "start_time": "2022-12-06T11:32:03.938Z"
   },
   {
    "duration": 10,
    "start_time": "2022-12-06T11:32:03.949Z"
   },
   {
    "duration": 15,
    "start_time": "2022-12-06T11:32:23.226Z"
   },
   {
    "duration": 5,
    "start_time": "2022-12-06T11:41:41.888Z"
   },
   {
    "duration": 28,
    "start_time": "2022-12-06T11:41:43.515Z"
   },
   {
    "duration": 8,
    "start_time": "2022-12-06T11:41:56.199Z"
   },
   {
    "duration": 11,
    "start_time": "2022-12-06T11:44:23.614Z"
   },
   {
    "duration": 11,
    "start_time": "2022-12-06T11:44:46.561Z"
   },
   {
    "duration": 1144,
    "start_time": "2022-12-06T11:46:04.157Z"
   },
   {
    "duration": 11,
    "start_time": "2022-12-06T11:46:20.086Z"
   },
   {
    "duration": 12,
    "start_time": "2022-12-06T11:47:12.394Z"
   },
   {
    "duration": 70,
    "start_time": "2022-12-06T11:50:20.516Z"
   },
   {
    "duration": 11,
    "start_time": "2022-12-06T11:52:29.414Z"
   },
   {
    "duration": 68,
    "start_time": "2022-12-06T11:53:33.009Z"
   },
   {
    "duration": 24,
    "start_time": "2022-12-06T11:54:01.689Z"
   },
   {
    "duration": 30,
    "start_time": "2022-12-06T11:54:27.593Z"
   },
   {
    "duration": 24,
    "start_time": "2022-12-06T11:55:03.918Z"
   },
   {
    "duration": 4,
    "start_time": "2022-12-06T11:56:00.270Z"
   },
   {
    "duration": 5,
    "start_time": "2022-12-06T11:56:33.775Z"
   },
   {
    "duration": 18,
    "start_time": "2022-12-06T11:58:30.017Z"
   },
   {
    "duration": 22,
    "start_time": "2022-12-06T11:58:55.388Z"
   },
   {
    "duration": 497,
    "start_time": "2022-12-06T11:59:11.978Z"
   },
   {
    "duration": 134,
    "start_time": "2022-12-06T11:59:19.623Z"
   },
   {
    "duration": 19,
    "start_time": "2022-12-06T12:21:18.295Z"
   },
   {
    "duration": 6,
    "start_time": "2022-12-06T12:21:22.992Z"
   },
   {
    "duration": 15,
    "start_time": "2022-12-06T12:26:09.241Z"
   },
   {
    "duration": 15,
    "start_time": "2022-12-06T12:26:52.158Z"
   },
   {
    "duration": 8,
    "start_time": "2022-12-06T12:27:16.083Z"
   },
   {
    "duration": 136,
    "start_time": "2022-12-06T12:27:29.277Z"
   },
   {
    "duration": 7,
    "start_time": "2022-12-06T12:35:17.145Z"
   },
   {
    "duration": 68,
    "start_time": "2022-12-06T12:41:26.670Z"
   },
   {
    "duration": 8,
    "start_time": "2022-12-06T12:41:29.359Z"
   },
   {
    "duration": 4,
    "start_time": "2022-12-06T12:41:41.194Z"
   },
   {
    "duration": 6,
    "start_time": "2022-12-06T12:42:04.674Z"
   },
   {
    "duration": 11,
    "start_time": "2022-12-06T12:43:05.641Z"
   },
   {
    "duration": 13,
    "start_time": "2022-12-06T12:43:11.799Z"
   },
   {
    "duration": 71,
    "start_time": "2022-12-06T12:43:46.921Z"
   },
   {
    "duration": 167,
    "start_time": "2022-12-06T12:43:49.159Z"
   },
   {
    "duration": 12,
    "start_time": "2022-12-06T12:58:35.223Z"
   },
   {
    "duration": 19,
    "start_time": "2022-12-06T12:58:41.584Z"
   },
   {
    "duration": 1238,
    "start_time": "2022-12-06T12:59:31.921Z"
   },
   {
    "duration": 1196,
    "start_time": "2022-12-06T12:59:51.539Z"
   },
   {
    "duration": 14,
    "start_time": "2022-12-06T12:59:56.929Z"
   },
   {
    "duration": 17,
    "start_time": "2022-12-06T13:00:15.559Z"
   },
   {
    "duration": 6,
    "start_time": "2022-12-06T13:01:09.092Z"
   },
   {
    "duration": 18,
    "start_time": "2022-12-06T13:01:36.633Z"
   },
   {
    "duration": 164,
    "start_time": "2022-12-06T13:01:55.324Z"
   },
   {
    "duration": 148,
    "start_time": "2022-12-06T13:02:14.429Z"
   },
   {
    "duration": 116,
    "start_time": "2022-12-06T13:02:40.502Z"
   },
   {
    "duration": 162,
    "start_time": "2022-12-06T13:02:49.385Z"
   },
   {
    "duration": 101,
    "start_time": "2022-12-06T13:02:54.214Z"
   },
   {
    "duration": 148,
    "start_time": "2022-12-06T13:02:59.655Z"
   },
   {
    "duration": 124,
    "start_time": "2022-12-06T13:03:07.684Z"
   },
   {
    "duration": 71,
    "start_time": "2022-12-06T13:03:57.912Z"
   },
   {
    "duration": 10,
    "start_time": "2022-12-06T13:04:21.053Z"
   },
   {
    "duration": 8,
    "start_time": "2022-12-06T13:04:43.463Z"
   },
   {
    "duration": 18,
    "start_time": "2022-12-06T13:04:45.965Z"
   },
   {
    "duration": 21,
    "start_time": "2022-12-06T13:08:12.864Z"
   },
   {
    "duration": 19,
    "start_time": "2022-12-06T13:09:11.469Z"
   },
   {
    "duration": 20,
    "start_time": "2022-12-06T13:09:33.699Z"
   },
   {
    "duration": 19,
    "start_time": "2022-12-06T13:09:57.840Z"
   },
   {
    "duration": 20,
    "start_time": "2022-12-06T13:10:17.056Z"
   },
   {
    "duration": 26,
    "start_time": "2022-12-06T13:10:25.013Z"
   },
   {
    "duration": 122,
    "start_time": "2022-12-06T13:17:59.276Z"
   },
   {
    "duration": 67,
    "start_time": "2022-12-06T13:19:48.647Z"
   },
   {
    "duration": 139,
    "start_time": "2022-12-06T13:19:53.398Z"
   },
   {
    "duration": 46,
    "start_time": "2022-12-07T05:17:38.747Z"
   },
   {
    "duration": 6,
    "start_time": "2022-12-07T05:17:48.782Z"
   },
   {
    "duration": 534,
    "start_time": "2022-12-07T05:17:52.152Z"
   },
   {
    "duration": 21,
    "start_time": "2022-12-07T05:17:52.688Z"
   },
   {
    "duration": 14,
    "start_time": "2022-12-07T05:17:52.710Z"
   },
   {
    "duration": 9,
    "start_time": "2022-12-07T05:17:52.726Z"
   },
   {
    "duration": 36,
    "start_time": "2022-12-07T05:17:52.736Z"
   },
   {
    "duration": 4,
    "start_time": "2022-12-07T05:17:52.773Z"
   },
   {
    "duration": 11,
    "start_time": "2022-12-07T05:17:52.778Z"
   },
   {
    "duration": 5,
    "start_time": "2022-12-07T05:17:52.790Z"
   },
   {
    "duration": 9,
    "start_time": "2022-12-07T05:17:52.822Z"
   },
   {
    "duration": 4,
    "start_time": "2022-12-07T05:17:52.833Z"
   },
   {
    "duration": 34,
    "start_time": "2022-12-07T05:17:52.839Z"
   },
   {
    "duration": 10,
    "start_time": "2022-12-07T05:17:52.875Z"
   },
   {
    "duration": 6,
    "start_time": "2022-12-07T05:17:52.887Z"
   },
   {
    "duration": 34,
    "start_time": "2022-12-07T05:17:52.895Z"
   },
   {
    "duration": 19,
    "start_time": "2022-12-07T05:17:52.931Z"
   },
   {
    "duration": 17,
    "start_time": "2022-12-07T05:17:52.952Z"
   },
   {
    "duration": 4,
    "start_time": "2022-12-07T05:17:52.971Z"
   },
   {
    "duration": 11,
    "start_time": "2022-12-07T05:17:52.977Z"
   },
   {
    "duration": 33,
    "start_time": "2022-12-07T05:17:52.990Z"
   },
   {
    "duration": 3,
    "start_time": "2022-12-07T05:17:53.025Z"
   },
   {
    "duration": 14,
    "start_time": "2022-12-07T05:17:53.029Z"
   },
   {
    "duration": 48,
    "start_time": "2022-12-07T05:17:53.044Z"
   },
   {
    "duration": 29,
    "start_time": "2022-12-07T05:17:53.093Z"
   },
   {
    "duration": 8,
    "start_time": "2022-12-07T05:17:53.124Z"
   },
   {
    "duration": 14,
    "start_time": "2022-12-07T05:17:53.134Z"
   },
   {
    "duration": 30,
    "start_time": "2022-12-07T05:17:53.150Z"
   },
   {
    "duration": 13,
    "start_time": "2022-12-07T05:17:53.182Z"
   },
   {
    "duration": 34,
    "start_time": "2022-12-07T05:17:53.196Z"
   },
   {
    "duration": 26,
    "start_time": "2022-12-07T05:17:53.231Z"
   },
   {
    "duration": 565,
    "start_time": "2022-12-07T05:17:53.259Z"
   },
   {
    "duration": 7,
    "start_time": "2022-12-07T05:17:53.826Z"
   },
   {
    "duration": 39,
    "start_time": "2022-12-07T05:17:53.836Z"
   },
   {
    "duration": 152,
    "start_time": "2022-12-07T05:17:53.877Z"
   },
   {
    "duration": 8,
    "start_time": "2022-12-07T05:17:54.031Z"
   },
   {
    "duration": 56,
    "start_time": "2022-12-07T05:17:54.040Z"
   },
   {
    "duration": 149,
    "start_time": "2022-12-07T05:17:54.099Z"
   },
   {
    "duration": 8,
    "start_time": "2022-12-07T05:17:54.249Z"
   },
   {
    "duration": 32,
    "start_time": "2022-12-07T05:17:54.259Z"
   },
   {
    "duration": 168,
    "start_time": "2022-12-07T05:17:54.293Z"
   },
   {
    "duration": 210,
    "start_time": "2022-12-07T05:17:54.462Z"
   },
   {
    "duration": 11,
    "start_time": "2022-12-07T05:18:07.809Z"
   },
   {
    "duration": 16,
    "start_time": "2022-12-07T05:18:17.220Z"
   },
   {
    "duration": 15,
    "start_time": "2022-12-07T05:19:21.480Z"
   },
   {
    "duration": 5,
    "start_time": "2022-12-07T05:19:30.007Z"
   },
   {
    "duration": 3,
    "start_time": "2022-12-07T05:22:21.252Z"
   },
   {
    "duration": 66,
    "start_time": "2022-12-07T05:23:15.487Z"
   },
   {
    "duration": 4,
    "start_time": "2022-12-07T05:23:20.968Z"
   },
   {
    "duration": 4,
    "start_time": "2022-12-07T05:24:11.131Z"
   },
   {
    "duration": 4,
    "start_time": "2022-12-07T05:24:16.068Z"
   },
   {
    "duration": 4,
    "start_time": "2022-12-07T05:25:11.163Z"
   },
   {
    "duration": 5,
    "start_time": "2022-12-07T05:27:06.385Z"
   },
   {
    "duration": 33,
    "start_time": "2022-12-07T05:29:27.584Z"
   },
   {
    "duration": 29,
    "start_time": "2022-12-07T05:33:21.914Z"
   },
   {
    "duration": 35,
    "start_time": "2022-12-07T05:33:31.476Z"
   },
   {
    "duration": 134,
    "start_time": "2022-12-07T05:33:42.698Z"
   },
   {
    "duration": 914,
    "start_time": "2022-12-07T05:35:04.190Z"
   },
   {
    "duration": 152,
    "start_time": "2022-12-07T05:35:12.794Z"
   },
   {
    "duration": 1269,
    "start_time": "2022-12-07T05:44:13.805Z"
   },
   {
    "duration": 23,
    "start_time": "2022-12-07T05:44:43.147Z"
   },
   {
    "duration": 85,
    "start_time": "2022-12-07T05:49:02.111Z"
   },
   {
    "duration": 81,
    "start_time": "2022-12-07T05:52:59.796Z"
   },
   {
    "duration": 18,
    "start_time": "2022-12-07T05:53:06.805Z"
   },
   {
    "duration": 40,
    "start_time": "2022-12-07T05:53:18.497Z"
   },
   {
    "duration": 4,
    "start_time": "2022-12-07T05:53:21.173Z"
   },
   {
    "duration": 10,
    "start_time": "2022-12-07T05:53:24.191Z"
   },
   {
    "duration": 15,
    "start_time": "2022-12-07T05:54:38.456Z"
   },
   {
    "duration": 14,
    "start_time": "2022-12-07T05:55:19.825Z"
   },
   {
    "duration": 10,
    "start_time": "2022-12-07T05:55:37.956Z"
   },
   {
    "duration": 10,
    "start_time": "2022-12-07T05:55:47.181Z"
   },
   {
    "duration": 560,
    "start_time": "2022-12-07T07:30:50.426Z"
   },
   {
    "duration": 23,
    "start_time": "2022-12-07T07:30:50.988Z"
   },
   {
    "duration": 15,
    "start_time": "2022-12-07T07:30:51.012Z"
   },
   {
    "duration": 11,
    "start_time": "2022-12-07T07:30:51.029Z"
   },
   {
    "duration": 32,
    "start_time": "2022-12-07T07:30:51.042Z"
   },
   {
    "duration": 3,
    "start_time": "2022-12-07T07:30:51.076Z"
   },
   {
    "duration": 13,
    "start_time": "2022-12-07T07:30:51.080Z"
   },
   {
    "duration": 4,
    "start_time": "2022-12-07T07:30:51.094Z"
   },
   {
    "duration": 10,
    "start_time": "2022-12-07T07:30:51.099Z"
   },
   {
    "duration": 26,
    "start_time": "2022-12-07T07:30:51.113Z"
   },
   {
    "duration": 32,
    "start_time": "2022-12-07T07:30:51.141Z"
   },
   {
    "duration": 9,
    "start_time": "2022-12-07T07:30:51.175Z"
   },
   {
    "duration": 4,
    "start_time": "2022-12-07T07:30:51.186Z"
   },
   {
    "duration": 14,
    "start_time": "2022-12-07T07:30:51.191Z"
   },
   {
    "duration": 44,
    "start_time": "2022-12-07T07:30:51.207Z"
   },
   {
    "duration": 17,
    "start_time": "2022-12-07T07:30:51.253Z"
   },
   {
    "duration": 4,
    "start_time": "2022-12-07T07:30:51.271Z"
   },
   {
    "duration": 14,
    "start_time": "2022-12-07T07:30:51.276Z"
   },
   {
    "duration": 6,
    "start_time": "2022-12-07T07:30:51.292Z"
   },
   {
    "duration": 9,
    "start_time": "2022-12-07T07:30:51.299Z"
   },
   {
    "duration": 31,
    "start_time": "2022-12-07T07:30:51.309Z"
   },
   {
    "duration": 46,
    "start_time": "2022-12-07T07:30:51.341Z"
   },
   {
    "duration": 15,
    "start_time": "2022-12-07T07:30:51.389Z"
   },
   {
    "duration": 7,
    "start_time": "2022-12-07T07:30:51.405Z"
   },
   {
    "duration": 5,
    "start_time": "2022-12-07T07:30:51.438Z"
   },
   {
    "duration": 31,
    "start_time": "2022-12-07T07:30:51.445Z"
   },
   {
    "duration": 5,
    "start_time": "2022-12-07T07:30:51.477Z"
   },
   {
    "duration": 13,
    "start_time": "2022-12-07T07:30:51.485Z"
   },
   {
    "duration": 5,
    "start_time": "2022-12-07T07:30:51.499Z"
   },
   {
    "duration": 25,
    "start_time": "2022-12-07T07:30:51.537Z"
   },
   {
    "duration": 385,
    "start_time": "2022-12-07T07:30:51.564Z"
   },
   {
    "duration": 8,
    "start_time": "2022-12-07T07:30:51.951Z"
   },
   {
    "duration": 27,
    "start_time": "2022-12-07T07:30:51.961Z"
   },
   {
    "duration": 149,
    "start_time": "2022-12-07T07:30:51.990Z"
   },
   {
    "duration": 7,
    "start_time": "2022-12-07T07:30:52.140Z"
   },
   {
    "duration": 25,
    "start_time": "2022-12-07T07:30:52.149Z"
   },
   {
    "duration": 129,
    "start_time": "2022-12-07T07:30:52.176Z"
   },
   {
    "duration": 7,
    "start_time": "2022-12-07T07:30:52.306Z"
   },
   {
    "duration": 43,
    "start_time": "2022-12-07T07:30:52.314Z"
   },
   {
    "duration": 127,
    "start_time": "2022-12-07T07:30:52.359Z"
   },
   {
    "duration": 8,
    "start_time": "2022-12-07T07:30:52.488Z"
   },
   {
    "duration": 174,
    "start_time": "2022-12-07T07:30:52.498Z"
   },
   {
    "duration": 61,
    "start_time": "2022-12-07T08:18:47.682Z"
   },
   {
    "duration": 701,
    "start_time": "2022-12-07T08:19:05.252Z"
   },
   {
    "duration": 37,
    "start_time": "2022-12-07T08:19:05.957Z"
   },
   {
    "duration": 38,
    "start_time": "2022-12-07T08:19:05.998Z"
   },
   {
    "duration": 29,
    "start_time": "2022-12-07T08:19:06.043Z"
   },
   {
    "duration": 57,
    "start_time": "2022-12-07T08:19:06.075Z"
   },
   {
    "duration": 4,
    "start_time": "2022-12-07T08:19:06.134Z"
   },
   {
    "duration": 32,
    "start_time": "2022-12-07T08:19:06.140Z"
   },
   {
    "duration": 13,
    "start_time": "2022-12-07T08:19:06.175Z"
   },
   {
    "duration": 19,
    "start_time": "2022-12-07T08:19:06.190Z"
   },
   {
    "duration": 5,
    "start_time": "2022-12-07T08:19:06.213Z"
   },
   {
    "duration": 39,
    "start_time": "2022-12-07T08:19:06.220Z"
   },
   {
    "duration": 12,
    "start_time": "2022-12-07T08:19:06.260Z"
   },
   {
    "duration": 29,
    "start_time": "2022-12-07T08:19:06.274Z"
   },
   {
    "duration": 26,
    "start_time": "2022-12-07T08:19:06.305Z"
   },
   {
    "duration": 34,
    "start_time": "2022-12-07T08:19:06.332Z"
   },
   {
    "duration": 16,
    "start_time": "2022-12-07T08:19:06.368Z"
   },
   {
    "duration": 4,
    "start_time": "2022-12-07T08:19:06.386Z"
   },
   {
    "duration": 28,
    "start_time": "2022-12-07T08:19:06.392Z"
   },
   {
    "duration": 10,
    "start_time": "2022-12-07T08:19:06.422Z"
   },
   {
    "duration": 4,
    "start_time": "2022-12-07T08:19:06.434Z"
   },
   {
    "duration": 22,
    "start_time": "2022-12-07T08:19:06.441Z"
   },
   {
    "duration": 49,
    "start_time": "2022-12-07T08:19:06.465Z"
   },
   {
    "duration": 22,
    "start_time": "2022-12-07T08:19:06.516Z"
   },
   {
    "duration": 14,
    "start_time": "2022-12-07T08:19:06.540Z"
   },
   {
    "duration": 9,
    "start_time": "2022-12-07T08:19:06.556Z"
   },
   {
    "duration": 30,
    "start_time": "2022-12-07T08:19:06.566Z"
   },
   {
    "duration": 5,
    "start_time": "2022-12-07T08:19:06.597Z"
   },
   {
    "duration": 12,
    "start_time": "2022-12-07T08:19:06.626Z"
   },
   {
    "duration": 4,
    "start_time": "2022-12-07T08:19:06.640Z"
   },
   {
    "duration": 26,
    "start_time": "2022-12-07T08:19:06.645Z"
   },
   {
    "duration": 541,
    "start_time": "2022-12-07T08:19:06.673Z"
   },
   {
    "duration": 12,
    "start_time": "2022-12-07T08:19:07.215Z"
   },
   {
    "duration": 52,
    "start_time": "2022-12-07T08:19:07.229Z"
   },
   {
    "duration": 147,
    "start_time": "2022-12-07T08:19:07.282Z"
   },
   {
    "duration": 7,
    "start_time": "2022-12-07T08:19:07.431Z"
   },
   {
    "duration": 35,
    "start_time": "2022-12-07T08:19:07.440Z"
   },
   {
    "duration": 118,
    "start_time": "2022-12-07T08:19:07.477Z"
   },
   {
    "duration": 7,
    "start_time": "2022-12-07T08:19:07.597Z"
   },
   {
    "duration": 36,
    "start_time": "2022-12-07T08:19:07.605Z"
   },
   {
    "duration": 125,
    "start_time": "2022-12-07T08:19:07.643Z"
   },
   {
    "duration": 8,
    "start_time": "2022-12-07T08:19:07.770Z"
   },
   {
    "duration": 209,
    "start_time": "2022-12-07T08:19:07.780Z"
   },
   {
    "duration": 160,
    "start_time": "2022-12-07T08:19:17.210Z"
   },
   {
    "duration": 263,
    "start_time": "2022-12-07T08:19:50.824Z"
   },
   {
    "duration": 157,
    "start_time": "2022-12-07T08:20:00.699Z"
   },
   {
    "duration": 150,
    "start_time": "2022-12-07T08:20:33.537Z"
   },
   {
    "duration": 156,
    "start_time": "2022-12-07T08:21:35.318Z"
   },
   {
    "duration": 139,
    "start_time": "2022-12-07T08:21:58.302Z"
   },
   {
    "duration": 206,
    "start_time": "2022-12-07T08:22:47.722Z"
   }
  ],
  "colab": {
   "name": "dpp_template_part2.ipynb",
   "provenance": []
  },
  "kernelspec": {
   "display_name": "Python 3 (ipykernel)",
   "language": "python",
   "name": "python3"
  },
  "language_info": {
   "codemirror_mode": {
    "name": "ipython",
    "version": 3
   },
   "file_extension": ".py",
   "mimetype": "text/x-python",
   "name": "python",
   "nbconvert_exporter": "python",
   "pygments_lexer": "ipython3",
   "version": "3.9.13"
  },
  "toc": {
   "base_numbering": 1,
   "nav_menu": {},
   "number_sections": true,
   "sideBar": true,
   "skip_h1_title": true,
   "title_cell": "Table of Contents",
   "title_sidebar": "Contents",
   "toc_cell": false,
   "toc_position": {},
   "toc_section_display": true,
   "toc_window_display": false
  }
 },
 "nbformat": 4,
 "nbformat_minor": 5
}
