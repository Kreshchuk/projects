{
 "cells": [
  {
   "cell_type": "markdown",
   "metadata": {},
   "source": [
    "# Исследование продаж игр\n",
    "\n",
    "В нашем распоряжении исторические данные из открытых источников о продаже игр, оценки пользователей, экспертов, жанры и платформы. Необходимо выявить определяющие успешность игры закономерности. Это позволит сделать ставку на потенциально популярный продукт и спланировать рекламные кампании.\n",
    "\n",
    "**Цель исследования:**\n",
    "- определить суммарные продажи во всех регионах\n",
    "- проанализировать продажи игр за предыдущие годы, определить факторы влияющие на продажи\n",
    "- составить портрет пользователя каждого региона\n",
    "- проверить гипотезу о различии пользовательских рейтингов платформ Xbox One и PC\n",
    "- проверить гипотезу о различии пользовательских рейтингов жанров Action и Sports\n",
    "\n",
    "**Данные**\n",
    "\n",
    "Данные для исследования будут получены из файла `/datasets/games.csv`. В первую очередь необходимо проверить данные на ошибки и пропуски в значениях, определить их влияние на результат исследования. Далее, при необходимости будут изменены типы данных, добавлены столбцы и заполнены пропуски.\n",
    "\n",
    "Описание данных:\n",
    " - Name — название игры\n",
    " - Platform — платформа\n",
    " - Year_of_Release — год выпуска\n",
    " - Genre — жанр игры\n",
    " - NA_sales — продажи в Северной Америке (миллионы проданных копий)\n",
    " - EU_sales — продажи в Европе (миллионы проданных копий)\n",
    " - JP_sales — продажи в Японии (миллионы проданных копий)\n",
    " - Other_sales — продажи в других странах (миллионы проданных копий)\n",
    " - Critic_Score — оценка критиков (максимум 100)\n",
    " - User_Score — оценка пользователей (максимум 10)\n",
    " - Rating — рейтинг от организации ESRB (англ. Entertainment Software Rating Board). Эта ассоциация определяет рейтинг компьютерных игр и присваивает им подходящую возрастную категорию.\n",
    "\n",
    " \n",
    " **Ход исследования:**\n",
    " 1. Обзор данных\n",
    " 2. Предобработка данных\n",
    " 3. Рассчеты и добавление данных о продажах\n",
    " 4. Исследовательский анализ данных продаж\n",
    " 5. Составление портрета пользователя каждого региона\n",
    " 6. Проверка гипотез\n",
    " 7. Общий вывод"
   ]
  },
  {
   "cell_type": "markdown",
   "metadata": {},
   "source": [
    "## Обзор данных"
   ]
  },
  {
   "cell_type": "code",
   "execution_count": 64,
   "metadata": {},
   "outputs": [],
   "source": [
    "import pandas as pd\n",
    "import numpy as np\n",
    "import seaborn as sns\n",
    "import matplotlib.pyplot as plt\n",
    "from scipy import stats as st"
   ]
  },
  {
   "cell_type": "code",
   "execution_count": 66,
   "metadata": {
    "scrolled": true
   },
   "outputs": [
    {
     "data": {
      "text/html": [
       "<div>\n",
       "<style scoped>\n",
       "    .dataframe tbody tr th:only-of-type {\n",
       "        vertical-align: middle;\n",
       "    }\n",
       "\n",
       "    .dataframe tbody tr th {\n",
       "        vertical-align: top;\n",
       "    }\n",
       "\n",
       "    .dataframe thead th {\n",
       "        text-align: right;\n",
       "    }\n",
       "</style>\n",
       "<table border=\"1\" class=\"dataframe\">\n",
       "  <thead>\n",
       "    <tr style=\"text-align: right;\">\n",
       "      <th></th>\n",
       "      <th>Name</th>\n",
       "      <th>Platform</th>\n",
       "      <th>Year_of_Release</th>\n",
       "      <th>Genre</th>\n",
       "      <th>NA_sales</th>\n",
       "      <th>EU_sales</th>\n",
       "      <th>JP_sales</th>\n",
       "      <th>Other_sales</th>\n",
       "      <th>Critic_Score</th>\n",
       "      <th>User_Score</th>\n",
       "      <th>Rating</th>\n",
       "    </tr>\n",
       "  </thead>\n",
       "  <tbody>\n",
       "    <tr>\n",
       "      <th>0</th>\n",
       "      <td>Wii Sports</td>\n",
       "      <td>Wii</td>\n",
       "      <td>2006.0</td>\n",
       "      <td>Sports</td>\n",
       "      <td>41.36</td>\n",
       "      <td>28.96</td>\n",
       "      <td>3.77</td>\n",
       "      <td>8.45</td>\n",
       "      <td>76.0</td>\n",
       "      <td>8</td>\n",
       "      <td>E</td>\n",
       "    </tr>\n",
       "    <tr>\n",
       "      <th>1</th>\n",
       "      <td>Super Mario Bros.</td>\n",
       "      <td>NES</td>\n",
       "      <td>1985.0</td>\n",
       "      <td>Platform</td>\n",
       "      <td>29.08</td>\n",
       "      <td>3.58</td>\n",
       "      <td>6.81</td>\n",
       "      <td>0.77</td>\n",
       "      <td>NaN</td>\n",
       "      <td>NaN</td>\n",
       "      <td>NaN</td>\n",
       "    </tr>\n",
       "    <tr>\n",
       "      <th>2</th>\n",
       "      <td>Mario Kart Wii</td>\n",
       "      <td>Wii</td>\n",
       "      <td>2008.0</td>\n",
       "      <td>Racing</td>\n",
       "      <td>15.68</td>\n",
       "      <td>12.76</td>\n",
       "      <td>3.79</td>\n",
       "      <td>3.29</td>\n",
       "      <td>82.0</td>\n",
       "      <td>8.3</td>\n",
       "      <td>E</td>\n",
       "    </tr>\n",
       "    <tr>\n",
       "      <th>3</th>\n",
       "      <td>Wii Sports Resort</td>\n",
       "      <td>Wii</td>\n",
       "      <td>2009.0</td>\n",
       "      <td>Sports</td>\n",
       "      <td>15.61</td>\n",
       "      <td>10.93</td>\n",
       "      <td>3.28</td>\n",
       "      <td>2.95</td>\n",
       "      <td>80.0</td>\n",
       "      <td>8</td>\n",
       "      <td>E</td>\n",
       "    </tr>\n",
       "    <tr>\n",
       "      <th>4</th>\n",
       "      <td>Pokemon Red/Pokemon Blue</td>\n",
       "      <td>GB</td>\n",
       "      <td>1996.0</td>\n",
       "      <td>Role-Playing</td>\n",
       "      <td>11.27</td>\n",
       "      <td>8.89</td>\n",
       "      <td>10.22</td>\n",
       "      <td>1.00</td>\n",
       "      <td>NaN</td>\n",
       "      <td>NaN</td>\n",
       "      <td>NaN</td>\n",
       "    </tr>\n",
       "    <tr>\n",
       "      <th>5</th>\n",
       "      <td>Tetris</td>\n",
       "      <td>GB</td>\n",
       "      <td>1989.0</td>\n",
       "      <td>Puzzle</td>\n",
       "      <td>23.20</td>\n",
       "      <td>2.26</td>\n",
       "      <td>4.22</td>\n",
       "      <td>0.58</td>\n",
       "      <td>NaN</td>\n",
       "      <td>NaN</td>\n",
       "      <td>NaN</td>\n",
       "    </tr>\n",
       "    <tr>\n",
       "      <th>6</th>\n",
       "      <td>New Super Mario Bros.</td>\n",
       "      <td>DS</td>\n",
       "      <td>2006.0</td>\n",
       "      <td>Platform</td>\n",
       "      <td>11.28</td>\n",
       "      <td>9.14</td>\n",
       "      <td>6.50</td>\n",
       "      <td>2.88</td>\n",
       "      <td>89.0</td>\n",
       "      <td>8.5</td>\n",
       "      <td>E</td>\n",
       "    </tr>\n",
       "    <tr>\n",
       "      <th>7</th>\n",
       "      <td>Wii Play</td>\n",
       "      <td>Wii</td>\n",
       "      <td>2006.0</td>\n",
       "      <td>Misc</td>\n",
       "      <td>13.96</td>\n",
       "      <td>9.18</td>\n",
       "      <td>2.93</td>\n",
       "      <td>2.84</td>\n",
       "      <td>58.0</td>\n",
       "      <td>6.6</td>\n",
       "      <td>E</td>\n",
       "    </tr>\n",
       "    <tr>\n",
       "      <th>8</th>\n",
       "      <td>New Super Mario Bros. Wii</td>\n",
       "      <td>Wii</td>\n",
       "      <td>2009.0</td>\n",
       "      <td>Platform</td>\n",
       "      <td>14.44</td>\n",
       "      <td>6.94</td>\n",
       "      <td>4.70</td>\n",
       "      <td>2.24</td>\n",
       "      <td>87.0</td>\n",
       "      <td>8.4</td>\n",
       "      <td>E</td>\n",
       "    </tr>\n",
       "    <tr>\n",
       "      <th>9</th>\n",
       "      <td>Duck Hunt</td>\n",
       "      <td>NES</td>\n",
       "      <td>1984.0</td>\n",
       "      <td>Shooter</td>\n",
       "      <td>26.93</td>\n",
       "      <td>0.63</td>\n",
       "      <td>0.28</td>\n",
       "      <td>0.47</td>\n",
       "      <td>NaN</td>\n",
       "      <td>NaN</td>\n",
       "      <td>NaN</td>\n",
       "    </tr>\n",
       "  </tbody>\n",
       "</table>\n",
       "</div>"
      ],
      "text/plain": [
       "                        Name Platform  Year_of_Release         Genre  \\\n",
       "0                 Wii Sports      Wii           2006.0        Sports   \n",
       "1          Super Mario Bros.      NES           1985.0      Platform   \n",
       "2             Mario Kart Wii      Wii           2008.0        Racing   \n",
       "3          Wii Sports Resort      Wii           2009.0        Sports   \n",
       "4   Pokemon Red/Pokemon Blue       GB           1996.0  Role-Playing   \n",
       "5                     Tetris       GB           1989.0        Puzzle   \n",
       "6      New Super Mario Bros.       DS           2006.0      Platform   \n",
       "7                   Wii Play      Wii           2006.0          Misc   \n",
       "8  New Super Mario Bros. Wii      Wii           2009.0      Platform   \n",
       "9                  Duck Hunt      NES           1984.0       Shooter   \n",
       "\n",
       "   NA_sales  EU_sales  JP_sales  Other_sales  Critic_Score User_Score Rating  \n",
       "0     41.36     28.96      3.77         8.45          76.0          8      E  \n",
       "1     29.08      3.58      6.81         0.77           NaN        NaN    NaN  \n",
       "2     15.68     12.76      3.79         3.29          82.0        8.3      E  \n",
       "3     15.61     10.93      3.28         2.95          80.0          8      E  \n",
       "4     11.27      8.89     10.22         1.00           NaN        NaN    NaN  \n",
       "5     23.20      2.26      4.22         0.58           NaN        NaN    NaN  \n",
       "6     11.28      9.14      6.50         2.88          89.0        8.5      E  \n",
       "7     13.96      9.18      2.93         2.84          58.0        6.6      E  \n",
       "8     14.44      6.94      4.70         2.24          87.0        8.4      E  \n",
       "9     26.93      0.63      0.28         0.47           NaN        NaN    NaN  "
      ]
     },
     "execution_count": 66,
     "metadata": {},
     "output_type": "execute_result"
    }
   ],
   "source": [
    "df = pd.read_csv('ds/games.csv')\n",
    "df.head(10)"
   ]
  },
  {
   "cell_type": "code",
   "execution_count": 67,
   "metadata": {},
   "outputs": [
    {
     "name": "stdout",
     "output_type": "stream",
     "text": [
      "Перед нами датасет из 16715 строк и 11 столбцов.\n"
     ]
    }
   ],
   "source": [
    "df.shape\n",
    "print(f'Перед нами датасет из {df.shape[0]} строк и {df.shape[1]} столбцов.')"
   ]
  },
  {
   "cell_type": "code",
   "execution_count": 68,
   "metadata": {},
   "outputs": [
    {
     "name": "stdout",
     "output_type": "stream",
     "text": [
      "<class 'pandas.core.frame.DataFrame'>\n",
      "RangeIndex: 16715 entries, 0 to 16714\n",
      "Data columns (total 11 columns):\n",
      " #   Column           Non-Null Count  Dtype  \n",
      "---  ------           --------------  -----  \n",
      " 0   Name             16713 non-null  object \n",
      " 1   Platform         16715 non-null  object \n",
      " 2   Year_of_Release  16446 non-null  float64\n",
      " 3   Genre            16713 non-null  object \n",
      " 4   NA_sales         16715 non-null  float64\n",
      " 5   EU_sales         16715 non-null  float64\n",
      " 6   JP_sales         16715 non-null  float64\n",
      " 7   Other_sales      16715 non-null  float64\n",
      " 8   Critic_Score     8137 non-null   float64\n",
      " 9   User_Score       10014 non-null  object \n",
      " 10  Rating           9949 non-null   object \n",
      "dtypes: float64(6), object(5)\n",
      "memory usage: 1.4+ MB\n"
     ]
    }
   ],
   "source": [
    "df.info()\n"
   ]
  },
  {
   "cell_type": "markdown",
   "metadata": {},
   "source": [
    "Необходмо:\n",
    " - изменить регистр названия столбцов для удобства\n",
    " - изменить типы данных в столбцах `Year_of_Release`, `User_Score` и `Rating`"
   ]
  },
  {
   "cell_type": "code",
   "execution_count": 69,
   "metadata": {},
   "outputs": [],
   "source": [
    "df.columns = df.columns.str.lower()"
   ]
  },
  {
   "cell_type": "code",
   "execution_count": 70,
   "metadata": {},
   "outputs": [
    {
     "data": {
      "text/html": [
       "<div>\n",
       "<style scoped>\n",
       "    .dataframe tbody tr th:only-of-type {\n",
       "        vertical-align: middle;\n",
       "    }\n",
       "\n",
       "    .dataframe tbody tr th {\n",
       "        vertical-align: top;\n",
       "    }\n",
       "\n",
       "    .dataframe thead th {\n",
       "        text-align: right;\n",
       "    }\n",
       "</style>\n",
       "<table border=\"1\" class=\"dataframe\">\n",
       "  <thead>\n",
       "    <tr style=\"text-align: right;\">\n",
       "      <th></th>\n",
       "      <th>year_of_release</th>\n",
       "      <th>na_sales</th>\n",
       "      <th>eu_sales</th>\n",
       "      <th>jp_sales</th>\n",
       "      <th>other_sales</th>\n",
       "      <th>critic_score</th>\n",
       "    </tr>\n",
       "  </thead>\n",
       "  <tbody>\n",
       "    <tr>\n",
       "      <th>count</th>\n",
       "      <td>16446.000000</td>\n",
       "      <td>16715.000000</td>\n",
       "      <td>16715.000000</td>\n",
       "      <td>16715.000000</td>\n",
       "      <td>16715.000000</td>\n",
       "      <td>8137.000000</td>\n",
       "    </tr>\n",
       "    <tr>\n",
       "      <th>mean</th>\n",
       "      <td>2006.484616</td>\n",
       "      <td>0.263377</td>\n",
       "      <td>0.145060</td>\n",
       "      <td>0.077617</td>\n",
       "      <td>0.047342</td>\n",
       "      <td>68.967679</td>\n",
       "    </tr>\n",
       "    <tr>\n",
       "      <th>std</th>\n",
       "      <td>5.877050</td>\n",
       "      <td>0.813604</td>\n",
       "      <td>0.503339</td>\n",
       "      <td>0.308853</td>\n",
       "      <td>0.186731</td>\n",
       "      <td>13.938165</td>\n",
       "    </tr>\n",
       "    <tr>\n",
       "      <th>min</th>\n",
       "      <td>1980.000000</td>\n",
       "      <td>0.000000</td>\n",
       "      <td>0.000000</td>\n",
       "      <td>0.000000</td>\n",
       "      <td>0.000000</td>\n",
       "      <td>13.000000</td>\n",
       "    </tr>\n",
       "    <tr>\n",
       "      <th>25%</th>\n",
       "      <td>2003.000000</td>\n",
       "      <td>0.000000</td>\n",
       "      <td>0.000000</td>\n",
       "      <td>0.000000</td>\n",
       "      <td>0.000000</td>\n",
       "      <td>60.000000</td>\n",
       "    </tr>\n",
       "    <tr>\n",
       "      <th>50%</th>\n",
       "      <td>2007.000000</td>\n",
       "      <td>0.080000</td>\n",
       "      <td>0.020000</td>\n",
       "      <td>0.000000</td>\n",
       "      <td>0.010000</td>\n",
       "      <td>71.000000</td>\n",
       "    </tr>\n",
       "    <tr>\n",
       "      <th>75%</th>\n",
       "      <td>2010.000000</td>\n",
       "      <td>0.240000</td>\n",
       "      <td>0.110000</td>\n",
       "      <td>0.040000</td>\n",
       "      <td>0.030000</td>\n",
       "      <td>79.000000</td>\n",
       "    </tr>\n",
       "    <tr>\n",
       "      <th>max</th>\n",
       "      <td>2016.000000</td>\n",
       "      <td>41.360000</td>\n",
       "      <td>28.960000</td>\n",
       "      <td>10.220000</td>\n",
       "      <td>10.570000</td>\n",
       "      <td>98.000000</td>\n",
       "    </tr>\n",
       "  </tbody>\n",
       "</table>\n",
       "</div>"
      ],
      "text/plain": [
       "       year_of_release      na_sales      eu_sales      jp_sales  \\\n",
       "count     16446.000000  16715.000000  16715.000000  16715.000000   \n",
       "mean       2006.484616      0.263377      0.145060      0.077617   \n",
       "std           5.877050      0.813604      0.503339      0.308853   \n",
       "min        1980.000000      0.000000      0.000000      0.000000   \n",
       "25%        2003.000000      0.000000      0.000000      0.000000   \n",
       "50%        2007.000000      0.080000      0.020000      0.000000   \n",
       "75%        2010.000000      0.240000      0.110000      0.040000   \n",
       "max        2016.000000     41.360000     28.960000     10.220000   \n",
       "\n",
       "        other_sales  critic_score  \n",
       "count  16715.000000   8137.000000  \n",
       "mean       0.047342     68.967679  \n",
       "std        0.186731     13.938165  \n",
       "min        0.000000     13.000000  \n",
       "25%        0.000000     60.000000  \n",
       "50%        0.010000     71.000000  \n",
       "75%        0.030000     79.000000  \n",
       "max       10.570000     98.000000  "
      ]
     },
     "execution_count": 70,
     "metadata": {},
     "output_type": "execute_result"
    }
   ],
   "source": [
    "df.describe()"
   ]
  },
  {
   "cell_type": "markdown",
   "metadata": {},
   "source": [
    "Минимальные и максимальные значения количественных переменных выглядят адекватно. Проверим еще раз позже со сначениями столбцов `user_score` и `rating` после изменения типов"
   ]
  },
  {
   "cell_type": "code",
   "execution_count": 71,
   "metadata": {
    "scrolled": false
   },
   "outputs": [
    {
     "data": {
      "text/plain": [
       "critic_score       0.513192\n",
       "rating             0.404786\n",
       "user_score         0.400897\n",
       "year_of_release    0.016093\n",
       "name               0.000120\n",
       "genre              0.000120\n",
       "platform           0.000000\n",
       "na_sales           0.000000\n",
       "eu_sales           0.000000\n",
       "jp_sales           0.000000\n",
       "other_sales        0.000000\n",
       "dtype: float64"
      ]
     },
     "execution_count": 71,
     "metadata": {},
     "output_type": "execute_result"
    }
   ],
   "source": [
    "(df.isna().sum() / len(df)).sort_values(ascending=False)"
   ]
  },
  {
   "cell_type": "markdown",
   "metadata": {},
   "source": [
    "Наибольшая доля пропусков в столбцах `critic_score`, `user_score`и `rating`. На этапе предобработки определимся, как поступить с ними."
   ]
  },
  {
   "cell_type": "code",
   "execution_count": 8,
   "metadata": {},
   "outputs": [
    {
     "data": {
      "text/plain": [
       "0"
      ]
     },
     "execution_count": 8,
     "metadata": {},
     "output_type": "execute_result"
    }
   ],
   "source": [
    "df.duplicated().sum()"
   ]
  },
  {
   "cell_type": "markdown",
   "metadata": {},
   "source": [
    "Явных дубликатов в датасете нет. Попробуем привести к нижнему регистру названия игр и поискать неявные дубликаты"
   ]
  },
  {
   "cell_type": "code",
   "execution_count": 9,
   "metadata": {},
   "outputs": [
    {
     "data": {
      "text/plain": [
       "0"
      ]
     },
     "execution_count": 9,
     "metadata": {},
     "output_type": "execute_result"
    }
   ],
   "source": [
    "df['name'] = df['name'].str.lower()\n",
    "df.duplicated().sum()\n"
   ]
  },
  {
   "cell_type": "markdown",
   "metadata": {},
   "source": [
    "Дубликатов так же нет. Искать дубликаты в колонке `name` не имеет смысла так, как одна и таже игра могла выходить на разных платформах и иметь разные показатели продаж."
   ]
  },
  {
   "cell_type": "markdown",
   "metadata": {},
   "source": [
    "**Вывод:**\n",
    "\n",
    "- Перед нами датасет с данными о продажах игр по регионам NA, EU, и JP в  периоде с 1980 по 2016 года. Так же в данных представлена информация о жанрах и платформах на которых она выпускалась. В этих данных доля пропусков составляет менне 2%.\n",
    "- Так же представлены рейтинги ESRB, оценки пользователей и критиков. В данных колонках доля пропусков составляет от 40% до 51%, необходимо будет оценить возможность и целесообразность их заполнения для дальнейшей работы.\n",
    "- В основном типы данных соответствуют их значениям, за исключением колонок `Year_of_Release`, `User_Score` и `Rating` их мы поменяем на этапе предобработки."
   ]
  },
  {
   "cell_type": "markdown",
   "metadata": {},
   "source": [
    "## Предобработка данных"
   ]
  },
  {
   "cell_type": "markdown",
   "metadata": {},
   "source": [
    "### Работа с пропусками"
   ]
  },
  {
   "cell_type": "code",
   "execution_count": 10,
   "metadata": {},
   "outputs": [
    {
     "data": {
      "text/plain": [
       "critic_score       0.513192\n",
       "rating             0.404786\n",
       "user_score         0.400897\n",
       "year_of_release    0.016093\n",
       "name               0.000120\n",
       "genre              0.000120\n",
       "platform           0.000000\n",
       "na_sales           0.000000\n",
       "eu_sales           0.000000\n",
       "jp_sales           0.000000\n",
       "other_sales        0.000000\n",
       "dtype: float64"
      ]
     },
     "execution_count": 10,
     "metadata": {},
     "output_type": "execute_result"
    }
   ],
   "source": [
    "(df.isna().sum() / len(df)).sort_values(ascending=False)"
   ]
  },
  {
   "cell_type": "markdown",
   "metadata": {},
   "source": [
    "**Удалим строки с пропусками в столбцах `genre` и `name`.** Их мало и удаление не изменит общей картины данных"
   ]
  },
  {
   "cell_type": "code",
   "execution_count": 11,
   "metadata": {},
   "outputs": [],
   "source": [
    "df = df.dropna(subset=['genre', 'name'])"
   ]
  },
  {
   "cell_type": "markdown",
   "metadata": {},
   "source": [
    "**Колонка `year_of_release`**"
   ]
  },
  {
   "cell_type": "code",
   "execution_count": 12,
   "metadata": {
    "scrolled": false
   },
   "outputs": [
    {
     "data": {
      "text/plain": [
       "array([2006., 1985., 2008., 2009., 1996., 1989., 1984., 2005., 1999.,\n",
       "       2007., 2010., 2013., 2004., 1990., 1988., 2002., 2001., 2011.,\n",
       "       1998., 2015., 2012., 2014., 1992., 1997., 1993., 1994., 1982.,\n",
       "       2016., 2003., 1986., 2000.,   nan, 1995., 1991., 1981., 1987.,\n",
       "       1980., 1983.])"
      ]
     },
     "execution_count": 12,
     "metadata": {},
     "output_type": "execute_result"
    }
   ],
   "source": [
    "df['year_of_release'].unique()"
   ]
  },
  {
   "cell_type": "code",
   "execution_count": 13,
   "metadata": {},
   "outputs": [
    {
     "data": {
      "text/plain": [
       "269"
      ]
     },
     "execution_count": 13,
     "metadata": {},
     "output_type": "execute_result"
    }
   ],
   "source": [
    "df['year_of_release'].isna().sum()"
   ]
  },
  {
   "cell_type": "markdown",
   "metadata": {},
   "source": [
    "Имеем 269 строк с пропущенными значениями годов выпуска. Удалять и заменять пропуски не будем, поскольку в данных все равно хранятся знчания рейтингов и продаж. Заменять значения так же не станем, впоследствии заменим тип данных"
   ]
  },
  {
   "cell_type": "markdown",
   "metadata": {},
   "source": [
    "**Посмотрим на столбец `rating` и посмотрим на значения**"
   ]
  },
  {
   "cell_type": "code",
   "execution_count": 14,
   "metadata": {},
   "outputs": [
    {
     "data": {
      "text/plain": [
       "array(['E', nan, 'M', 'T', 'E10+', 'K-A', 'AO', 'EC', 'RP'], dtype=object)"
      ]
     },
     "execution_count": 14,
     "metadata": {},
     "output_type": "execute_result"
    }
   ],
   "source": [
    "df['rating'].unique()"
   ]
  },
  {
   "cell_type": "markdown",
   "metadata": {},
   "source": [
    "В данном столбце представлены рейтинги [ESRB](https://www.esrb.org/ratings-guide/)\n",
    "- E - Для всех\n",
    "- M - Для взрослых\n",
    "- T - Подросткам\n",
    "- E10+ - Для всех от 10 лет и старше\n",
    "- K-A - Для всех (рейтинг до 1998 года)\n",
    "- AO - Только для взрослых\n",
    "- EC - Для детей младшего возраста\n",
    "- RP - Рейтинг ожидается\n",
    "\n",
    "Рейтинг K-A и E целесообразно объеденить в одну группу, поскольку это одно и тоже название в разные года.\n",
    "Пропущенные значения заменим на `unknown`, так как рейтинг не определен. И в конце взглянем на строки с рейтингом RP, если их окажется незначительное количество - удалим\n"
   ]
  },
  {
   "cell_type": "code",
   "execution_count": 15,
   "metadata": {},
   "outputs": [],
   "source": [
    "df['rating'] = df['rating'].replace('K-A', 'E')\n",
    "df['rating'] = df['rating'].fillna('unknown')"
   ]
  },
  {
   "cell_type": "code",
   "execution_count": 16,
   "metadata": {},
   "outputs": [
    {
     "data": {
      "text/html": [
       "<div>\n",
       "<style scoped>\n",
       "    .dataframe tbody tr th:only-of-type {\n",
       "        vertical-align: middle;\n",
       "    }\n",
       "\n",
       "    .dataframe tbody tr th {\n",
       "        vertical-align: top;\n",
       "    }\n",
       "\n",
       "    .dataframe thead th {\n",
       "        text-align: right;\n",
       "    }\n",
       "</style>\n",
       "<table border=\"1\" class=\"dataframe\">\n",
       "  <thead>\n",
       "    <tr style=\"text-align: right;\">\n",
       "      <th></th>\n",
       "      <th>name</th>\n",
       "      <th>platform</th>\n",
       "      <th>year_of_release</th>\n",
       "      <th>genre</th>\n",
       "      <th>na_sales</th>\n",
       "      <th>eu_sales</th>\n",
       "      <th>jp_sales</th>\n",
       "      <th>other_sales</th>\n",
       "      <th>critic_score</th>\n",
       "      <th>user_score</th>\n",
       "      <th>rating</th>\n",
       "    </tr>\n",
       "  </thead>\n",
       "  <tbody>\n",
       "    <tr>\n",
       "      <th>13672</th>\n",
       "      <td>clockwork empires</td>\n",
       "      <td>PC</td>\n",
       "      <td>NaN</td>\n",
       "      <td>Strategy</td>\n",
       "      <td>0.0</td>\n",
       "      <td>0.04</td>\n",
       "      <td>0.0</td>\n",
       "      <td>0.00</td>\n",
       "      <td>58.0</td>\n",
       "      <td>3.8</td>\n",
       "      <td>RP</td>\n",
       "    </tr>\n",
       "    <tr>\n",
       "      <th>14270</th>\n",
       "      <td>supreme ruler: cold war</td>\n",
       "      <td>PC</td>\n",
       "      <td>2011.0</td>\n",
       "      <td>Strategy</td>\n",
       "      <td>0.0</td>\n",
       "      <td>0.03</td>\n",
       "      <td>0.0</td>\n",
       "      <td>0.01</td>\n",
       "      <td>63.0</td>\n",
       "      <td>6.8</td>\n",
       "      <td>RP</td>\n",
       "    </tr>\n",
       "    <tr>\n",
       "      <th>16180</th>\n",
       "      <td>wrc: fia world rally championship</td>\n",
       "      <td>PC</td>\n",
       "      <td>NaN</td>\n",
       "      <td>Racing</td>\n",
       "      <td>0.0</td>\n",
       "      <td>0.01</td>\n",
       "      <td>0.0</td>\n",
       "      <td>0.00</td>\n",
       "      <td>65.0</td>\n",
       "      <td>NaN</td>\n",
       "      <td>RP</td>\n",
       "    </tr>\n",
       "  </tbody>\n",
       "</table>\n",
       "</div>"
      ],
      "text/plain": [
       "                                    name platform  year_of_release     genre  \\\n",
       "13672                  clockwork empires       PC              NaN  Strategy   \n",
       "14270            supreme ruler: cold war       PC           2011.0  Strategy   \n",
       "16180  wrc: fia world rally championship       PC              NaN    Racing   \n",
       "\n",
       "       na_sales  eu_sales  jp_sales  other_sales  critic_score user_score  \\\n",
       "13672       0.0      0.04       0.0         0.00          58.0        3.8   \n",
       "14270       0.0      0.03       0.0         0.01          63.0        6.8   \n",
       "16180       0.0      0.01       0.0         0.00          65.0        NaN   \n",
       "\n",
       "      rating  \n",
       "13672     RP  \n",
       "14270     RP  \n",
       "16180     RP  "
      ]
     },
     "execution_count": 16,
     "metadata": {},
     "output_type": "execute_result"
    }
   ],
   "source": [
    "df[df['rating'] == 'RP']\n"
   ]
  },
  {
   "cell_type": "markdown",
   "metadata": {},
   "source": [
    "С рейтингом RP всего 3 позици"
   ]
  },
  {
   "cell_type": "code",
   "execution_count": 17,
   "metadata": {},
   "outputs": [],
   "source": [
    "df = df[df['rating'] !='RP']"
   ]
  },
  {
   "cell_type": "markdown",
   "metadata": {},
   "source": [
    "**Колонка `critic_score`:**"
   ]
  },
  {
   "cell_type": "code",
   "execution_count": 18,
   "metadata": {},
   "outputs": [
    {
     "name": "stdout",
     "output_type": "stream",
     "text": [
      "Доля пропусков:  0.5132256134051466\n",
      "[76. nan 82. 80. 89. 58. 87. 91. 61. 97. 95. 77. 88. 83. 94. 93. 85. 86.\n",
      " 98. 96. 90. 84. 73. 74. 78. 92. 71. 72. 68. 62. 49. 67. 81. 66. 56. 79.\n",
      " 70. 59. 64. 75. 60. 63. 69. 50. 25. 42. 44. 55. 48. 57. 29. 47. 65. 54.\n",
      " 20. 53. 37. 38. 33. 52. 30. 32. 43. 45. 51. 40. 46. 39. 34. 35. 41. 36.\n",
      " 28. 31. 27. 26. 19. 23. 24. 21. 17. 22. 13.]\n"
     ]
    }
   ],
   "source": [
    "print('Доля пропусков: ', df['critic_score'].isna().sum() / len(df))\n",
    "print(df['critic_score'].unique())"
   ]
  },
  {
   "cell_type": "markdown",
   "metadata": {},
   "source": [
    "К колонке `critic_score` 51% пропусков. Заменять пропуски значениями не будем, для того что бы не исказать данные по рейтингам."
   ]
  },
  {
   "cell_type": "markdown",
   "metadata": {},
   "source": [
    "**Колонка `user_score`:**"
   ]
  },
  {
   "cell_type": "code",
   "execution_count": 19,
   "metadata": {},
   "outputs": [
    {
     "name": "stdout",
     "output_type": "stream",
     "text": [
      "Доля пропусков:  0.40083782166367443\n",
      "['8' nan '8.3' '8.5' '6.6' '8.4' '8.6' '7.7' '6.3' '7.4' '8.2' '9' '7.9'\n",
      " '8.1' '8.7' '7.1' '3.4' '5.3' '4.8' '3.2' '8.9' '6.4' '7.8' '7.5' '2.6'\n",
      " '7.2' '9.2' '7' '7.3' '4.3' '7.6' '5.7' '5' '9.1' '6.5' 'tbd' '8.8' '6.9'\n",
      " '9.4' '6.8' '6.1' '6.7' '5.4' '4' '4.9' '4.5' '9.3' '6.2' '4.2' '6' '3.7'\n",
      " '4.1' '5.8' '5.6' '5.5' '4.4' '4.6' '5.9' '3.9' '3.1' '2.9' '5.2' '3.3'\n",
      " '4.7' '5.1' '3.5' '2.5' '1.9' '3' '2.7' '2.2' '2' '9.5' '2.1' '3.6' '2.8'\n",
      " '1.8' '3.8' '0' '1.6' '9.6' '2.4' '1.7' '1.1' '0.3' '1.5' '0.7' '1.2'\n",
      " '2.3' '0.5' '1.3' '0.2' '0.6' '1.4' '0.9' '1' '9.7']\n"
     ]
    }
   ],
   "source": [
    "print('Доля пропусков: ',df['user_score'].isna().sum() / len(df))\n",
    "print(df['user_score'].unique())"
   ]
  },
  {
   "cell_type": "markdown",
   "metadata": {},
   "source": [
    "В колонке `user_score` около 40% пропусков и есть значение 'tbd'(to be determined),которое предположительно, обозначает, что рейтинг не сформирован по причине малого количества оценок или не прошел определенные этапы. Для того чтобы в дальнейшем работать с данными целесобразнее всего `tbd` заменать на `NaN` для того чтобы заменить тип данных в колонке и в то же время не исказить данные, заменяя значения например `0`"
   ]
  },
  {
   "cell_type": "code",
   "execution_count": 20,
   "metadata": {},
   "outputs": [
    {
     "data": {
      "text/plain": [
       "0.1450628366247756"
      ]
     },
     "execution_count": 20,
     "metadata": {},
     "output_type": "execute_result"
    }
   ],
   "source": [
    "len(df[df['user_score'] == 'tbd']) / len(df)"
   ]
  },
  {
   "cell_type": "markdown",
   "metadata": {},
   "source": [
    "Как видно строк со значением tbd 14.5% от всех данных. Удалить их так же выглядит нецелесообразно. "
   ]
  },
  {
   "cell_type": "code",
   "execution_count": 21,
   "metadata": {},
   "outputs": [],
   "source": [
    "df['user_score'] = df['user_score'].replace('tbd', np.nan)"
   ]
  },
  {
   "cell_type": "markdown",
   "metadata": {},
   "source": [
    "**Вывод:**"
   ]
  },
  {
   "cell_type": "code",
   "execution_count": 22,
   "metadata": {},
   "outputs": [
    {
     "data": {
      "text/plain": [
       "user_score         0.545901\n",
       "critic_score       0.513226\n",
       "year_of_release    0.015978\n",
       "name               0.000000\n",
       "platform           0.000000\n",
       "genre              0.000000\n",
       "na_sales           0.000000\n",
       "eu_sales           0.000000\n",
       "jp_sales           0.000000\n",
       "other_sales        0.000000\n",
       "rating             0.000000\n",
       "dtype: float64"
      ]
     },
     "execution_count": 22,
     "metadata": {},
     "output_type": "execute_result"
    }
   ],
   "source": [
    "(df.isna().sum() / len(df)).sort_values(ascending=False)"
   ]
  },
  {
   "cell_type": "markdown",
   "metadata": {},
   "source": [
    "У нас остался датасет с пропусками в 3-х колонках. Для подготовки данных пришлось увеличить колиество пропусков в колонке `user_score`, но для поставленных задача считаю, что это допустимо, так как подстановка или удаление значений снизит репрезентативность данных."
   ]
  },
  {
   "cell_type": "markdown",
   "metadata": {},
   "source": [
    "### Изменение типов данных"
   ]
  },
  {
   "cell_type": "code",
   "execution_count": 23,
   "metadata": {},
   "outputs": [
    {
     "name": "stdout",
     "output_type": "stream",
     "text": [
      "<class 'pandas.core.frame.DataFrame'>\n",
      "Int64Index: 16710 entries, 0 to 16714\n",
      "Data columns (total 11 columns):\n",
      " #   Column           Non-Null Count  Dtype  \n",
      "---  ------           --------------  -----  \n",
      " 0   name             16710 non-null  object \n",
      " 1   platform         16710 non-null  object \n",
      " 2   year_of_release  16443 non-null  float64\n",
      " 3   genre            16710 non-null  object \n",
      " 4   na_sales         16710 non-null  float64\n",
      " 5   eu_sales         16710 non-null  float64\n",
      " 6   jp_sales         16710 non-null  float64\n",
      " 7   other_sales      16710 non-null  float64\n",
      " 8   critic_score     8134 non-null   float64\n",
      " 9   user_score       7588 non-null   object \n",
      " 10  rating           16710 non-null  object \n",
      "dtypes: float64(6), object(5)\n",
      "memory usage: 1.5+ MB\n"
     ]
    }
   ],
   "source": [
    "df.info()"
   ]
  },
  {
   "cell_type": "markdown",
   "metadata": {},
   "source": [
    "Необходимо:\n",
    "- заменить тип данных `year_of_release` на `int`, (не будем приволить к типу `datetime`, так как в данных имеем только год)\n",
    "- заменить `critic_score` на `float`\n",
    "- `user_score` на `float` "
   ]
  },
  {
   "cell_type": "code",
   "execution_count": 24,
   "metadata": {},
   "outputs": [],
   "source": [
    "df['year_of_release'] = df['year_of_release'].astype('Int64', errors='ignore')\n",
    "df['critic_score'] = df['critic_score'].astype('float')\n",
    "df['user_score'] = df['user_score'].astype('float')"
   ]
  },
  {
   "cell_type": "code",
   "execution_count": 25,
   "metadata": {
    "scrolled": true
   },
   "outputs": [
    {
     "name": "stdout",
     "output_type": "stream",
     "text": [
      "<class 'pandas.core.frame.DataFrame'>\n",
      "Int64Index: 16710 entries, 0 to 16714\n",
      "Data columns (total 11 columns):\n",
      " #   Column           Non-Null Count  Dtype  \n",
      "---  ------           --------------  -----  \n",
      " 0   name             16710 non-null  object \n",
      " 1   platform         16710 non-null  object \n",
      " 2   year_of_release  16443 non-null  Int64  \n",
      " 3   genre            16710 non-null  object \n",
      " 4   na_sales         16710 non-null  float64\n",
      " 5   eu_sales         16710 non-null  float64\n",
      " 6   jp_sales         16710 non-null  float64\n",
      " 7   other_sales      16710 non-null  float64\n",
      " 8   critic_score     8134 non-null   float64\n",
      " 9   user_score       7588 non-null   float64\n",
      " 10  rating           16710 non-null  object \n",
      "dtypes: Int64(1), float64(6), object(4)\n",
      "memory usage: 1.5+ MB\n"
     ]
    }
   ],
   "source": [
    "df.info()"
   ]
  },
  {
   "cell_type": "markdown",
   "metadata": {},
   "source": [
    "### Рассчеты и добавление данных о продажах"
   ]
  },
  {
   "cell_type": "markdown",
   "metadata": {},
   "source": [
    "Для дальнейшего анализа добавим в датасет колонку с общим количеством продаж по регионам."
   ]
  },
  {
   "cell_type": "code",
   "execution_count": 26,
   "metadata": {},
   "outputs": [],
   "source": [
    "df['all_sales'] = df['na_sales'] + df['eu_sales'] + df['jp_sales'] + df['other_sales']"
   ]
  },
  {
   "cell_type": "markdown",
   "metadata": {},
   "source": [
    "## Исследовательский анализ данных продаж"
   ]
  },
  {
   "cell_type": "markdown",
   "metadata": {},
   "source": [
    "### Выпуск игр по годам"
   ]
  },
  {
   "cell_type": "markdown",
   "metadata": {},
   "source": [
    "Посмотрим сколько игр выпускалость в разные годы:"
   ]
  },
  {
   "cell_type": "code",
   "execution_count": 27,
   "metadata": {},
   "outputs": [
    {
     "data": {
      "text/html": [
       "<div>\n",
       "<style scoped>\n",
       "    .dataframe tbody tr th:only-of-type {\n",
       "        vertical-align: middle;\n",
       "    }\n",
       "\n",
       "    .dataframe tbody tr th {\n",
       "        vertical-align: top;\n",
       "    }\n",
       "\n",
       "    .dataframe thead th {\n",
       "        text-align: right;\n",
       "    }\n",
       "</style>\n",
       "<table border=\"1\" class=\"dataframe\">\n",
       "  <thead>\n",
       "    <tr style=\"text-align: right;\">\n",
       "      <th></th>\n",
       "      <th>name</th>\n",
       "    </tr>\n",
       "    <tr>\n",
       "      <th>year_of_release</th>\n",
       "      <th></th>\n",
       "    </tr>\n",
       "  </thead>\n",
       "  <tbody>\n",
       "    <tr>\n",
       "      <th>1980</th>\n",
       "      <td>9</td>\n",
       "    </tr>\n",
       "    <tr>\n",
       "      <th>1981</th>\n",
       "      <td>46</td>\n",
       "    </tr>\n",
       "    <tr>\n",
       "      <th>1982</th>\n",
       "      <td>36</td>\n",
       "    </tr>\n",
       "    <tr>\n",
       "      <th>1983</th>\n",
       "      <td>17</td>\n",
       "    </tr>\n",
       "    <tr>\n",
       "      <th>1984</th>\n",
       "      <td>14</td>\n",
       "    </tr>\n",
       "    <tr>\n",
       "      <th>1985</th>\n",
       "      <td>14</td>\n",
       "    </tr>\n",
       "    <tr>\n",
       "      <th>1986</th>\n",
       "      <td>21</td>\n",
       "    </tr>\n",
       "    <tr>\n",
       "      <th>1987</th>\n",
       "      <td>16</td>\n",
       "    </tr>\n",
       "    <tr>\n",
       "      <th>1988</th>\n",
       "      <td>15</td>\n",
       "    </tr>\n",
       "    <tr>\n",
       "      <th>1989</th>\n",
       "      <td>17</td>\n",
       "    </tr>\n",
       "    <tr>\n",
       "      <th>1990</th>\n",
       "      <td>16</td>\n",
       "    </tr>\n",
       "    <tr>\n",
       "      <th>1991</th>\n",
       "      <td>41</td>\n",
       "    </tr>\n",
       "    <tr>\n",
       "      <th>1992</th>\n",
       "      <td>43</td>\n",
       "    </tr>\n",
       "    <tr>\n",
       "      <th>1993</th>\n",
       "      <td>60</td>\n",
       "    </tr>\n",
       "    <tr>\n",
       "      <th>1994</th>\n",
       "      <td>121</td>\n",
       "    </tr>\n",
       "    <tr>\n",
       "      <th>1995</th>\n",
       "      <td>219</td>\n",
       "    </tr>\n",
       "    <tr>\n",
       "      <th>1996</th>\n",
       "      <td>263</td>\n",
       "    </tr>\n",
       "    <tr>\n",
       "      <th>1997</th>\n",
       "      <td>289</td>\n",
       "    </tr>\n",
       "    <tr>\n",
       "      <th>1998</th>\n",
       "      <td>379</td>\n",
       "    </tr>\n",
       "    <tr>\n",
       "      <th>1999</th>\n",
       "      <td>338</td>\n",
       "    </tr>\n",
       "    <tr>\n",
       "      <th>2000</th>\n",
       "      <td>350</td>\n",
       "    </tr>\n",
       "    <tr>\n",
       "      <th>2001</th>\n",
       "      <td>482</td>\n",
       "    </tr>\n",
       "    <tr>\n",
       "      <th>2002</th>\n",
       "      <td>829</td>\n",
       "    </tr>\n",
       "    <tr>\n",
       "      <th>2003</th>\n",
       "      <td>775</td>\n",
       "    </tr>\n",
       "    <tr>\n",
       "      <th>2004</th>\n",
       "      <td>762</td>\n",
       "    </tr>\n",
       "    <tr>\n",
       "      <th>2005</th>\n",
       "      <td>939</td>\n",
       "    </tr>\n",
       "    <tr>\n",
       "      <th>2006</th>\n",
       "      <td>1006</td>\n",
       "    </tr>\n",
       "    <tr>\n",
       "      <th>2007</th>\n",
       "      <td>1197</td>\n",
       "    </tr>\n",
       "    <tr>\n",
       "      <th>2008</th>\n",
       "      <td>1427</td>\n",
       "    </tr>\n",
       "    <tr>\n",
       "      <th>2009</th>\n",
       "      <td>1426</td>\n",
       "    </tr>\n",
       "    <tr>\n",
       "      <th>2010</th>\n",
       "      <td>1255</td>\n",
       "    </tr>\n",
       "    <tr>\n",
       "      <th>2011</th>\n",
       "      <td>1135</td>\n",
       "    </tr>\n",
       "    <tr>\n",
       "      <th>2012</th>\n",
       "      <td>653</td>\n",
       "    </tr>\n",
       "    <tr>\n",
       "      <th>2013</th>\n",
       "      <td>544</td>\n",
       "    </tr>\n",
       "    <tr>\n",
       "      <th>2014</th>\n",
       "      <td>581</td>\n",
       "    </tr>\n",
       "    <tr>\n",
       "      <th>2015</th>\n",
       "      <td>606</td>\n",
       "    </tr>\n",
       "    <tr>\n",
       "      <th>2016</th>\n",
       "      <td>502</td>\n",
       "    </tr>\n",
       "  </tbody>\n",
       "</table>\n",
       "</div>"
      ],
      "text/plain": [
       "                 name\n",
       "year_of_release      \n",
       "1980                9\n",
       "1981               46\n",
       "1982               36\n",
       "1983               17\n",
       "1984               14\n",
       "1985               14\n",
       "1986               21\n",
       "1987               16\n",
       "1988               15\n",
       "1989               17\n",
       "1990               16\n",
       "1991               41\n",
       "1992               43\n",
       "1993               60\n",
       "1994              121\n",
       "1995              219\n",
       "1996              263\n",
       "1997              289\n",
       "1998              379\n",
       "1999              338\n",
       "2000              350\n",
       "2001              482\n",
       "2002              829\n",
       "2003              775\n",
       "2004              762\n",
       "2005              939\n",
       "2006             1006\n",
       "2007             1197\n",
       "2008             1427\n",
       "2009             1426\n",
       "2010             1255\n",
       "2011             1135\n",
       "2012              653\n",
       "2013              544\n",
       "2014              581\n",
       "2015              606\n",
       "2016              502"
      ]
     },
     "execution_count": 27,
     "metadata": {},
     "output_type": "execute_result"
    }
   ],
   "source": [
    "df.groupby('year_of_release')[['name']].count()"
   ]
  },
  {
   "cell_type": "code",
   "execution_count": 28,
   "metadata": {
    "scrolled": false
   },
   "outputs": [
    {
     "data": {
      "image/png": "[encoded data removed]",
      "text/plain": [
       "<Figure size 1080x360 with 1 Axes>"
      ]
     },
     "metadata": {
      "needs_background": "light"
     },
     "output_type": "display_data"
    }
   ],
   "source": [
    "df.groupby('year_of_release')[['name']].count() \\\n",
    ".plot(kind='bar', figsize=(15,5), title='Выпуск игр по годам', ylabel='количество', xlabel='год', legend=False);"
   ]
  },
  {
   "cell_type": "markdown",
   "metadata": {},
   "source": [
    "На графике видно 2 года (1993, 2001), после которых резко увеличивался выпуск игр. Так же наблюдается спад после 2011 года."
   ]
  },
  {
   "cell_type": "markdown",
   "metadata": {},
   "source": [
    "### Анализ популярных платформ"
   ]
  },
  {
   "cell_type": "markdown",
   "metadata": {},
   "source": [
    "Найдем платформы с наибольшими суммарными продажами по всем годам"
   ]
  },
  {
   "cell_type": "code",
   "execution_count": 29,
   "metadata": {
    "scrolled": true
   },
   "outputs": [
    {
     "data": {
      "image/png": "[encoded data removed]",
      "text/plain": [
       "<Figure size 864x360 with 1 Axes>"
      ]
     },
     "metadata": {
      "needs_background": "light"
     },
     "output_type": "display_data"
    }
   ],
   "source": [
    "df.groupby('platform')['all_sales'].sum().sort_values(ascending=False)\\\n",
    ".plot(kind='bar', figsize=(12,5), title='Продажи по платформам', ylabel='млн. копий', xlabel='платформа');"
   ]
  },
  {
   "cell_type": "markdown",
   "metadata": {},
   "source": [
    "На графике видно, что больше всего копий было продано у 6 платформ."
   ]
  },
  {
   "cell_type": "markdown",
   "metadata": {},
   "source": [
    "Посмотрим на продажи этих платформ и посчитаем их долю от общего количества"
   ]
  },
  {
   "cell_type": "code",
   "execution_count": 30,
   "metadata": {
    "scrolled": true
   },
   "outputs": [
    {
     "data": {
      "text/html": [
       "<div>\n",
       "<style scoped>\n",
       "    .dataframe tbody tr th:only-of-type {\n",
       "        vertical-align: middle;\n",
       "    }\n",
       "\n",
       "    .dataframe tbody tr th {\n",
       "        vertical-align: top;\n",
       "    }\n",
       "\n",
       "    .dataframe thead th {\n",
       "        text-align: right;\n",
       "    }\n",
       "</style>\n",
       "<table border=\"1\" class=\"dataframe\">\n",
       "  <thead>\n",
       "    <tr style=\"text-align: right;\">\n",
       "      <th></th>\n",
       "      <th>all_sales</th>\n",
       "    </tr>\n",
       "    <tr>\n",
       "      <th>platform</th>\n",
       "      <th></th>\n",
       "    </tr>\n",
       "  </thead>\n",
       "  <tbody>\n",
       "    <tr>\n",
       "      <th>PS2</th>\n",
       "      <td>1255.77</td>\n",
       "    </tr>\n",
       "    <tr>\n",
       "      <th>X360</th>\n",
       "      <td>971.42</td>\n",
       "    </tr>\n",
       "    <tr>\n",
       "      <th>PS3</th>\n",
       "      <td>939.65</td>\n",
       "    </tr>\n",
       "    <tr>\n",
       "      <th>Wii</th>\n",
       "      <td>907.51</td>\n",
       "    </tr>\n",
       "    <tr>\n",
       "      <th>DS</th>\n",
       "      <td>806.12</td>\n",
       "    </tr>\n",
       "    <tr>\n",
       "      <th>PS</th>\n",
       "      <td>730.86</td>\n",
       "    </tr>\n",
       "  </tbody>\n",
       "</table>\n",
       "</div>"
      ],
      "text/plain": [
       "          all_sales\n",
       "platform           \n",
       "PS2         1255.77\n",
       "X360         971.42\n",
       "PS3          939.65\n",
       "Wii          907.51\n",
       "DS           806.12\n",
       "PS           730.86"
      ]
     },
     "execution_count": 30,
     "metadata": {},
     "output_type": "execute_result"
    }
   ],
   "source": [
    "top_6_platforms = df.groupby('platform')[['all_sales']].sum().sort_values(by='all_sales',ascending=False).head(6)\n",
    "top_6_platforms"
   ]
  },
  {
   "cell_type": "code",
   "execution_count": 31,
   "metadata": {},
   "outputs": [
    {
     "name": "stdout",
     "output_type": "stream",
     "text": [
      "Доля продаж 6-ти самых популярных платформ от отбего количества составляет: 0.63\n"
     ]
    }
   ],
   "source": [
    "top_platforms = df[df['platform'].isin(top_6_platforms.index)]\n",
    "print('Доля продаж 6-ти самых популярных платформ от отбего количества составляет:',\\\n",
    "      round(top_platforms['all_sales'].sum() / df['all_sales'].sum(),2))"
   ]
  },
  {
   "cell_type": "markdown",
   "metadata": {},
   "source": [
    "Посмотрим, как распределялись продажи по годам"
   ]
  },
  {
   "cell_type": "code",
   "execution_count": 32,
   "metadata": {
    "scrolled": true
   },
   "outputs": [
    {
     "data": {
      "image/png": "[encoded data removed]",
      "text/plain": [
       "<Figure size 1080x360 with 1 Axes>"
      ]
     },
     "metadata": {
      "needs_background": "light"
     },
     "output_type": "display_data"
    }
   ],
   "source": [
    "top_platforms.pivot_table(index='year_of_release', values='all_sales', columns='platform', aggfunc='sum')\\\n",
    ".plot(figsize=(15,5), title='Распределние продаж');"
   ]
  },
  {
   "cell_type": "markdown",
   "metadata": {},
   "source": [
    "На графике видно, что в среднем каждая платформа 'живет' около 10 лет."
   ]
  },
  {
   "cell_type": "markdown",
   "metadata": {},
   "source": [
    "Для дальшейшего анализа будем учитывать период с 2005 года, так как популярные платформы выпущенные до 2005 года на данный момент не поддерживаются."
   ]
  },
  {
   "cell_type": "code",
   "execution_count": 33,
   "metadata": {},
   "outputs": [],
   "source": [
    "df_actual = df[df['year_of_release'] >= 2005] #269 строк с отсутствующими значениями по дате релиза так же опускаем, из-за неактуальности данных в этом случае"
   ]
  },
  {
   "cell_type": "markdown",
   "metadata": {},
   "source": [
    "Взглянем на лидеров продаж запериоды с 2005 по 2016 и с  2014 по 2016 года."
   ]
  },
  {
   "cell_type": "code",
   "execution_count": 34,
   "metadata": {},
   "outputs": [],
   "source": [
    "a = df_actual[df_actual['year_of_release']>=2005].groupby('platform')[['all_sales']].sum().sort_values(by='all_sales', ascending=False)\n",
    "b = df_actual[df_actual['year_of_release']>=2014].groupby('platform')[['all_sales']].sum().sort_values(by='all_sales', ascending=False)"
   ]
  },
  {
   "cell_type": "code",
   "execution_count": 35,
   "metadata": {},
   "outputs": [
    {
     "data": {
      "text/html": [
       "<div>\n",
       "<style scoped>\n",
       "    .dataframe tbody tr th:only-of-type {\n",
       "        vertical-align: middle;\n",
       "    }\n",
       "\n",
       "    .dataframe tbody tr th {\n",
       "        vertical-align: top;\n",
       "    }\n",
       "\n",
       "    .dataframe thead th {\n",
       "        text-align: right;\n",
       "    }\n",
       "</style>\n",
       "<table border=\"1\" class=\"dataframe\">\n",
       "  <thead>\n",
       "    <tr style=\"text-align: right;\">\n",
       "      <th></th>\n",
       "      <th>all_sales_2005-2016</th>\n",
       "      <th>all_sales_2014-2016</th>\n",
       "    </tr>\n",
       "    <tr>\n",
       "      <th>platform</th>\n",
       "      <th></th>\n",
       "      <th></th>\n",
       "    </tr>\n",
       "  </thead>\n",
       "  <tbody>\n",
       "    <tr>\n",
       "      <th>PS4</th>\n",
       "      <td>314.14</td>\n",
       "      <td>288.15</td>\n",
       "    </tr>\n",
       "    <tr>\n",
       "      <th>XOne</th>\n",
       "      <td>159.32</td>\n",
       "      <td>140.36</td>\n",
       "    </tr>\n",
       "    <tr>\n",
       "      <th>3DS</th>\n",
       "      <td>257.81</td>\n",
       "      <td>86.68</td>\n",
       "    </tr>\n",
       "    <tr>\n",
       "      <th>PS3</th>\n",
       "      <td>931.34</td>\n",
       "      <td>68.18</td>\n",
       "    </tr>\n",
       "    <tr>\n",
       "      <th>X360</th>\n",
       "      <td>961.24</td>\n",
       "      <td>48.22</td>\n",
       "    </tr>\n",
       "    <tr>\n",
       "      <th>WiiU</th>\n",
       "      <td>82.19</td>\n",
       "      <td>42.98</td>\n",
       "    </tr>\n",
       "    <tr>\n",
       "      <th>PC</th>\n",
       "      <td>167.75</td>\n",
       "      <td>27.05</td>\n",
       "    </tr>\n",
       "    <tr>\n",
       "      <th>PSV</th>\n",
       "      <td>53.81</td>\n",
       "      <td>22.40</td>\n",
       "    </tr>\n",
       "    <tr>\n",
       "      <th>Wii</th>\n",
       "      <td>891.18</td>\n",
       "      <td>5.07</td>\n",
       "    </tr>\n",
       "    <tr>\n",
       "      <th>PSP</th>\n",
       "      <td>282.47</td>\n",
       "      <td>0.36</td>\n",
       "    </tr>\n",
       "    <tr>\n",
       "      <th>DS</th>\n",
       "      <td>785.49</td>\n",
       "      <td>NaN</td>\n",
       "    </tr>\n",
       "    <tr>\n",
       "      <th>PS2</th>\n",
       "      <td>426.46</td>\n",
       "      <td>NaN</td>\n",
       "    </tr>\n",
       "    <tr>\n",
       "      <th>XB</th>\n",
       "      <td>59.85</td>\n",
       "      <td>NaN</td>\n",
       "    </tr>\n",
       "    <tr>\n",
       "      <th>GBA</th>\n",
       "      <td>42.54</td>\n",
       "      <td>NaN</td>\n",
       "    </tr>\n",
       "    <tr>\n",
       "      <th>GC</th>\n",
       "      <td>39.15</td>\n",
       "      <td>NaN</td>\n",
       "    </tr>\n",
       "    <tr>\n",
       "      <th>DC</th>\n",
       "      <td>0.06</td>\n",
       "      <td>NaN</td>\n",
       "    </tr>\n",
       "  </tbody>\n",
       "</table>\n",
       "</div>"
      ],
      "text/plain": [
       "          all_sales_2005-2016  all_sales_2014-2016\n",
       "platform                                          \n",
       "PS4                    314.14               288.15\n",
       "XOne                   159.32               140.36\n",
       "3DS                    257.81                86.68\n",
       "PS3                    931.34                68.18\n",
       "X360                   961.24                48.22\n",
       "WiiU                    82.19                42.98\n",
       "PC                     167.75                27.05\n",
       "PSV                     53.81                22.40\n",
       "Wii                    891.18                 5.07\n",
       "PSP                    282.47                 0.36\n",
       "DS                     785.49                  NaN\n",
       "PS2                    426.46                  NaN\n",
       "XB                      59.85                  NaN\n",
       "GBA                     42.54                  NaN\n",
       "GC                      39.15                  NaN\n",
       "DC                       0.06                  NaN"
      ]
     },
     "execution_count": 35,
     "metadata": {},
     "output_type": "execute_result"
    }
   ],
   "source": [
    "a.merge(b, how='left', on='platform', suffixes=('_2005-2016', '_2014-2016')).sort_values(by='all_sales_2014-2016', ascending=False)"
   ]
  },
  {
   "cell_type": "markdown",
   "metadata": {},
   "source": [
    "Из таблицы видно, что лидерами по продажам с 2005 по 2016 год являются платформы X360 и Wii, но за период с 2014 по 2016 из популярность заметно снизилась. Потенциальными лидерами будем считать платформы лидеры за период с 2014 года."
   ]
  },
  {
   "cell_type": "code",
   "execution_count": 36,
   "metadata": {
    "scrolled": true
   },
   "outputs": [
    {
     "data": {
      "image/png": "[encoded data removed]",
      "text/plain": [
       "<Figure size 720x360 with 1 Axes>"
      ]
     },
     "metadata": {
      "needs_background": "light"
     },
     "output_type": "display_data"
    }
   ],
   "source": [
    "df_actual[df_actual['year_of_release']>=2014] \\\n",
    ".groupby('platform')['all_sales'].sum().sort_values(ascending=False)\\\n",
    ".plot(kind='bar', figsize=(10,5), title='Продажи за 2014-2016 года');\n"
   ]
  },
  {
   "cell_type": "markdown",
   "metadata": {},
   "source": [
    "Для того чтобы определить продажи каких платформ растут или падают возьмем период с 2012 по 2016 года."
   ]
  },
  {
   "cell_type": "code",
   "execution_count": 37,
   "metadata": {},
   "outputs": [
    {
     "data": {
      "image/png": "[encoded data removed]",
      "text/plain": [
       "<Figure size 576x576 with 1 Axes>"
      ]
     },
     "metadata": {
      "needs_background": "light"
     },
     "output_type": "display_data"
    }
   ],
   "source": [
    "df_actual[df_actual['year_of_release'] >= 2014] \\\n",
    "    .pivot_table(index='year_of_release',\n",
    "                 values='all_sales',\n",
    "                 columns='platform',\n",
    "                 aggfunc='sum') \\\n",
    "    .plot(figsize=(8,8), title='Продажи за 2014 - 2016 года');"
   ]
  },
  {
   "cell_type": "markdown",
   "metadata": {},
   "source": [
    "Продажи с 2014 по 2015 растут у платформ PS4 и XOne и наоборот падают у PS3 и X360, что является абсолютно логичным так как это платформы предыдущих поколений.\n",
    "К потенциально прибыльным платформам отнесем:\n",
    "- PS4\n",
    "- XOne\n",
    "- 3DS\n",
    "- WiiU\n",
    "\n",
    "Распределение продаж в 2016 году схоже с 2015 годом, но продажи на всех платформах снизились. Такая картина возможна из-за того что за 2016 год неполные."
   ]
  },
  {
   "cell_type": "code",
   "execution_count": 38,
   "metadata": {
    "scrolled": false
   },
   "outputs": [
    {
     "data": {
      "text/plain": [
       "<AxesSubplot:title={'center':'all_sales'}, xlabel='platform'>"
      ]
     },
     "execution_count": 38,
     "metadata": {},
     "output_type": "execute_result"
    },
    {
     "data": {
      "image/png": "[encoded data removed]",
      "text/plain": [
       "<Figure size 1080x576 with 1 Axes>"
      ]
     },
     "metadata": {
      "needs_background": "light"
     },
     "output_type": "display_data"
    }
   ],
   "source": [
    "df_actual.boxplot(column='all_sales', by='platform', rot=90, figsize=(15,8))"
   ]
  },
  {
   "cell_type": "markdown",
   "metadata": {},
   "source": [
    "На графике наблюдается много выбрасов из-за чего не удается оценить распределения достаточно точно. Дополнительно посмотрим на распределения с ограничением до 1 млн. копий за год:"
   ]
  },
  {
   "cell_type": "code",
   "execution_count": 39,
   "metadata": {
    "scrolled": false
   },
   "outputs": [
    {
     "data": {
      "text/plain": [
       "<AxesSubplot:title={'center':'all_sales'}, xlabel='platform'>"
      ]
     },
     "execution_count": 39,
     "metadata": {},
     "output_type": "execute_result"
    },
    {
     "data": {
      "image/png": "[encoded data removed]",
      "text/plain": [
       "<Figure size 1080x576 with 1 Axes>"
      ]
     },
     "metadata": {
      "needs_background": "light"
     },
     "output_type": "display_data"
    }
   ],
   "source": [
    "df_actual.query('all_sales < 1').boxplot(column='all_sales', by='platform', rot=90, figsize=(15,8))"
   ]
  },
  {
   "cell_type": "markdown",
   "metadata": {},
   "source": [
    "По двум графикам можно сделать следующие выводы:\n",
    "- наибольшее количество продданых копий за год у платформы Wii\n",
    "- наибольшие медианные значения у платформа PS3 и X360\n",
    "- наименее низкие медианные значения у платформ DC и PC\n",
    "\n",
    "Среди птаформ выделяются несколько с более выраженными выбросами чем у остальных, это может нам говорить о наличии периодов высокой популярности платформы в определенном периоде времени и удачной маркетинговой компании."
   ]
  },
  {
   "cell_type": "markdown",
   "metadata": {},
   "source": [
    "### Влияние отзывов на продажи "
   ]
  },
  {
   "cell_type": "markdown",
   "metadata": {},
   "source": [
    "Взглянем еще раз на самые популярные птаформы за последний переод и проанализируем влияние отзывов пользователей и оценок критиков на продажи"
   ]
  },
  {
   "cell_type": "code",
   "execution_count": 40,
   "metadata": {
    "scrolled": true
   },
   "outputs": [
    {
     "data": {
      "text/plain": [
       "platform\n",
       "PS4     188.15\n",
       "XOne     86.29\n",
       "3DS      42.92\n",
       "WiiU     20.95\n",
       "PS3      20.42\n",
       "PC       13.77\n",
       "X360     13.48\n",
       "PSV      10.50\n",
       "Wii       1.32\n",
       "PSP       0.12\n",
       "Name: all_sales, dtype: float64"
      ]
     },
     "execution_count": 40,
     "metadata": {},
     "output_type": "execute_result"
    }
   ],
   "source": [
    "df_actual[df_actual['year_of_release']>=2015].groupby('platform')['all_sales'].sum().sort_values(ascending=False)"
   ]
  },
  {
   "cell_type": "markdown",
   "metadata": {},
   "source": [
    "Построим диаграммы рассеяния для платформы PS4:"
   ]
  },
  {
   "cell_type": "code",
   "execution_count": 41,
   "metadata": {
    "scrolled": false
   },
   "outputs": [
    {
     "data": {
      "text/plain": [
       "<AxesSubplot:title={'center':'WiiU'}, xlabel='user_score', ylabel='all_sales'>"
      ]
     },
     "execution_count": 41,
     "metadata": {},
     "output_type": "execute_result"
    },
    {
     "data": {
      "image/png": "[encoded data removed]",
      "text/plain": [
       "<Figure size 864x1728 with 8 Axes>"
      ]
     },
     "metadata": {
      "needs_background": "light"
     },
     "output_type": "display_data"
    }
   ],
   "source": [
    "list = ['PS4', 'XOne', '3DS', 'WiiU']\n",
    "fig, axes = plt.subplots(nrows=4, ncols=2, figsize=(12, 24))\n",
    "df_actual[df_actual['platform'] == 'PS4'].plot(kind='scatter', x='critic_score', y = 'all_sales', ax=axes[0,0], title='PS4')\n",
    "df_actual[df_actual['platform'] == 'PS4'].plot(kind='scatter', x='user_score', y = 'all_sales', ax=axes[0,1], title='PS4')\n",
    "df_actual[df_actual['platform'] == 'XOne'].plot(kind='scatter', x='critic_score', y = 'all_sales', ax=axes[1,0], title='XOne')\n",
    "df_actual[df_actual['platform'] == 'XOne'].plot(kind='scatter', x='user_score', y = 'all_sales', ax=axes[1,1], title='XOne')\n",
    "df_actual[df_actual['platform'] == '3DS'].plot(kind='scatter', x='critic_score', y = 'all_sales', ax=axes[2,0], title='3DS')\n",
    "df_actual[df_actual['platform'] == '3DS'].plot(kind='scatter', x='user_score', y = 'all_sales', ax=axes[2,1], title='3DS')\n",
    "df_actual[df_actual['platform'] == 'WiiU'].plot(kind='scatter', x='critic_score', y = 'all_sales', ax=axes[3,0], title='WiiU')\n",
    "df_actual[df_actual['platform'] == 'WiiU'].plot(kind='scatter', x='user_score', y = 'all_sales', ax=axes[3,1], title='WiiU')\n"
   ]
  },
  {
   "cell_type": "markdown",
   "metadata": {},
   "source": [
    "Посмотрим на корреляции `all_sales` с `user_score` и `critic_score`:"
   ]
  },
  {
   "cell_type": "code",
   "execution_count": 42,
   "metadata": {},
   "outputs": [],
   "source": [
    "user_cor = []\n",
    "critic_cor = []\n",
    "for i in ['PS4', 'XOne', '3DS', 'WiiU']:\n",
    "    user_cor.append(df_actual[df_actual['platform'] == i]['all_sales'].corr(df_actual[df_actual['platform'] == i]['user_score']))\n",
    "    critic_cor.append(df_actual[df_actual['platform'] == i]['all_sales'].corr(df_actual[df_actual['platform'] == i]['critic_score']))"
   ]
  },
  {
   "cell_type": "code",
   "execution_count": 43,
   "metadata": {
    "scrolled": true
   },
   "outputs": [
    {
     "data": {
      "text/html": [
       "<div>\n",
       "<style scoped>\n",
       "    .dataframe tbody tr th:only-of-type {\n",
       "        vertical-align: middle;\n",
       "    }\n",
       "\n",
       "    .dataframe tbody tr th {\n",
       "        vertical-align: top;\n",
       "    }\n",
       "\n",
       "    .dataframe thead th {\n",
       "        text-align: right;\n",
       "    }\n",
       "</style>\n",
       "<table border=\"1\" class=\"dataframe\">\n",
       "  <thead>\n",
       "    <tr style=\"text-align: right;\">\n",
       "      <th></th>\n",
       "      <th>user_cor</th>\n",
       "      <th>critic_cor</th>\n",
       "    </tr>\n",
       "  </thead>\n",
       "  <tbody>\n",
       "    <tr>\n",
       "      <th>0</th>\n",
       "      <td>-0.031957</td>\n",
       "      <td>0.406568</td>\n",
       "    </tr>\n",
       "    <tr>\n",
       "      <th>1</th>\n",
       "      <td>-0.068925</td>\n",
       "      <td>0.416998</td>\n",
       "    </tr>\n",
       "    <tr>\n",
       "      <th>2</th>\n",
       "      <td>0.222078</td>\n",
       "      <td>0.348740</td>\n",
       "    </tr>\n",
       "    <tr>\n",
       "      <th>3</th>\n",
       "      <td>0.400219</td>\n",
       "      <td>0.348380</td>\n",
       "    </tr>\n",
       "  </tbody>\n",
       "</table>\n",
       "</div>"
      ],
      "text/plain": [
       "   user_cor  critic_cor\n",
       "0 -0.031957    0.406568\n",
       "1 -0.068925    0.416998\n",
       "2  0.222078    0.348740\n",
       "3  0.400219    0.348380"
      ]
     },
     "execution_count": 43,
     "metadata": {},
     "output_type": "execute_result"
    }
   ],
   "source": [
    "pd.DataFrame(\n",
    "    {'user_cor': user_cor,\n",
    "     'critic_cor': critic_cor, \n",
    "    })"
   ]
  },
  {
   "cell_type": "markdown",
   "metadata": {},
   "source": [
    "По результатам вычислений можно сделать вывод о том, что продажи умеренно положительно коррелируют с отывами критиков, чего нельзя сказать о корреляции с отзывами пользователей. Она может быть как положительной так и почти нулевой, что говорит нам о том что продажи не сильно зависят от оценок пользователей."
   ]
  },
  {
   "cell_type": "markdown",
   "metadata": {},
   "source": [
    "### Анализ жанров"
   ]
  },
  {
   "cell_type": "markdown",
   "metadata": {},
   "source": [
    "Посмотрим на количество выпущенных уникальных игр в разрезе жанров:"
   ]
  },
  {
   "cell_type": "code",
   "execution_count": 44,
   "metadata": {},
   "outputs": [
    {
     "data": {
      "text/plain": [
       "<AxesSubplot:title={'center':'Количество уникальных выпущенных ирг по жанрам'}, xlabel='genre'>"
      ]
     },
     "execution_count": 44,
     "metadata": {},
     "output_type": "execute_result"
    },
    {
     "data": {
      "image/png": "[encoded data removed]",
      "text/plain": [
       "<Figure size 720x360 with 1 Axes>"
      ]
     },
     "metadata": {
      "needs_background": "light"
     },
     "output_type": "display_data"
    }
   ],
   "source": [
    "df_actual.groupby('genre')['name'].count().sort_values(ascending=False).plot(kind='bar', figsize=(10,5), title='Количество уникальных выпущенных ирг по жанрам')"
   ]
  },
  {
   "cell_type": "markdown",
   "metadata": {},
   "source": [
    "Посмотрим как размределяются жанры в зависимости от среднего показателя продаж. Для этого посмотрим как в целом распределяются значения по всем продажам."
   ]
  },
  {
   "cell_type": "code",
   "execution_count": 45,
   "metadata": {},
   "outputs": [
    {
     "data": {
      "image/png": "[encoded data removed]",
      "text/plain": [
       "<Figure size 432x288 with 1 Axes>"
      ]
     },
     "metadata": {
      "needs_background": "light"
     },
     "output_type": "display_data"
    }
   ],
   "source": [
    "df_actual['all_sales'].hist(bins=50);"
   ]
  },
  {
   "cell_type": "markdown",
   "metadata": {},
   "source": [
    "Как и ожидалось распределение экспоненциальное, поэтому будем использовать медиану для более корректного анализа."
   ]
  },
  {
   "cell_type": "code",
   "execution_count": 46,
   "metadata": {},
   "outputs": [
    {
     "data": {
      "text/plain": [
       "<AxesSubplot:title={'center':'Количество проданных копий'}, xlabel='genre'>"
      ]
     },
     "execution_count": 46,
     "metadata": {},
     "output_type": "execute_result"
    },
    {
     "data": {
      "image/png": "[encoded data removed]",
      "text/plain": [
       "<Figure size 720x360 with 1 Axes>"
      ]
     },
     "metadata": {
      "needs_background": "light"
     },
     "output_type": "display_data"
    }
   ],
   "source": [
    "df_actual.groupby('genre')['all_sales'].median().sort_values(ascending=False).plot(kind='bar', figsize=(10,5), title='Количество проданных копий')"
   ]
  },
  {
   "cell_type": "markdown",
   "metadata": {},
   "source": [
    "Можно выделить следующие жанры наиболее высокими медианными продажами:\n",
    "- Shooter\n",
    "- Sports\n",
    "- Platform\n",
    "- Rasing\n",
    "- Action\n",
    "\n",
    "С наименьшими значениями жанры Adventure и Strategy"
   ]
  },
  {
   "cell_type": "markdown",
   "metadata": {},
   "source": [
    "## Портрет пользователя"
   ]
  },
  {
   "cell_type": "markdown",
   "metadata": {},
   "source": [
    "Составим портреты пользователей на основе данных по регионам NA, EU и JP"
   ]
  },
  {
   "cell_type": "markdown",
   "metadata": {},
   "source": [
    "**Предпочтения по платформам**"
   ]
  },
  {
   "cell_type": "code",
   "execution_count": 47,
   "metadata": {
    "scrolled": true
   },
   "outputs": [
    {
     "data": {
      "text/html": [
       "<div>\n",
       "<style scoped>\n",
       "    .dataframe tbody tr th:only-of-type {\n",
       "        vertical-align: middle;\n",
       "    }\n",
       "\n",
       "    .dataframe tbody tr th {\n",
       "        vertical-align: top;\n",
       "    }\n",
       "\n",
       "    .dataframe thead th {\n",
       "        text-align: right;\n",
       "    }\n",
       "</style>\n",
       "<table border=\"1\" class=\"dataframe\">\n",
       "  <thead>\n",
       "    <tr style=\"text-align: right;\">\n",
       "      <th></th>\n",
       "      <th>na_sales</th>\n",
       "      <th>eu_sales</th>\n",
       "      <th>jp_sales</th>\n",
       "    </tr>\n",
       "    <tr>\n",
       "      <th>platform</th>\n",
       "      <th></th>\n",
       "      <th></th>\n",
       "      <th></th>\n",
       "    </tr>\n",
       "  </thead>\n",
       "  <tbody>\n",
       "    <tr>\n",
       "      <th>3DS</th>\n",
       "      <td>82.65</td>\n",
       "      <td>61.27</td>\n",
       "      <td>100.62</td>\n",
       "    </tr>\n",
       "    <tr>\n",
       "      <th>DC</th>\n",
       "      <td>0.00</td>\n",
       "      <td>0.00</td>\n",
       "      <td>0.06</td>\n",
       "    </tr>\n",
       "    <tr>\n",
       "      <th>DS</th>\n",
       "      <td>371.98</td>\n",
       "      <td>184.48</td>\n",
       "      <td>171.35</td>\n",
       "    </tr>\n",
       "    <tr>\n",
       "      <th>GBA</th>\n",
       "      <td>26.85</td>\n",
       "      <td>10.19</td>\n",
       "      <td>4.78</td>\n",
       "    </tr>\n",
       "    <tr>\n",
       "      <th>GC</th>\n",
       "      <td>27.97</td>\n",
       "      <td>7.47</td>\n",
       "      <td>2.78</td>\n",
       "    </tr>\n",
       "    <tr>\n",
       "      <th>PC</th>\n",
       "      <td>45.84</td>\n",
       "      <td>102.98</td>\n",
       "      <td>0.00</td>\n",
       "    </tr>\n",
       "    <tr>\n",
       "      <th>PS2</th>\n",
       "      <td>200.49</td>\n",
       "      <td>87.14</td>\n",
       "      <td>50.98</td>\n",
       "    </tr>\n",
       "    <tr>\n",
       "      <th>PS3</th>\n",
       "      <td>390.13</td>\n",
       "      <td>327.21</td>\n",
       "      <td>79.41</td>\n",
       "    </tr>\n",
       "    <tr>\n",
       "      <th>PS4</th>\n",
       "      <td>108.74</td>\n",
       "      <td>141.09</td>\n",
       "      <td>15.96</td>\n",
       "    </tr>\n",
       "    <tr>\n",
       "      <th>PSP</th>\n",
       "      <td>105.02</td>\n",
       "      <td>63.92</td>\n",
       "      <td>73.85</td>\n",
       "    </tr>\n",
       "    <tr>\n",
       "      <th>PSV</th>\n",
       "      <td>12.47</td>\n",
       "      <td>13.07</td>\n",
       "      <td>21.84</td>\n",
       "    </tr>\n",
       "    <tr>\n",
       "      <th>Wii</th>\n",
       "      <td>486.87</td>\n",
       "      <td>258.32</td>\n",
       "      <td>68.28</td>\n",
       "    </tr>\n",
       "    <tr>\n",
       "      <th>WiiU</th>\n",
       "      <td>38.10</td>\n",
       "      <td>25.13</td>\n",
       "      <td>13.01</td>\n",
       "    </tr>\n",
       "    <tr>\n",
       "      <th>X360</th>\n",
       "      <td>595.74</td>\n",
       "      <td>268.32</td>\n",
       "      <td>12.30</td>\n",
       "    </tr>\n",
       "    <tr>\n",
       "      <th>XB</th>\n",
       "      <td>42.85</td>\n",
       "      <td>14.90</td>\n",
       "      <td>0.02</td>\n",
       "    </tr>\n",
       "    <tr>\n",
       "      <th>XOne</th>\n",
       "      <td>93.12</td>\n",
       "      <td>51.59</td>\n",
       "      <td>0.34</td>\n",
       "    </tr>\n",
       "  </tbody>\n",
       "</table>\n",
       "</div>"
      ],
      "text/plain": [
       "          na_sales  eu_sales  jp_sales\n",
       "platform                              \n",
       "3DS          82.65     61.27    100.62\n",
       "DC            0.00      0.00      0.06\n",
       "DS          371.98    184.48    171.35\n",
       "GBA          26.85     10.19      4.78\n",
       "GC           27.97      7.47      2.78\n",
       "PC           45.84    102.98      0.00\n",
       "PS2         200.49     87.14     50.98\n",
       "PS3         390.13    327.21     79.41\n",
       "PS4         108.74    141.09     15.96\n",
       "PSP         105.02     63.92     73.85\n",
       "PSV          12.47     13.07     21.84\n",
       "Wii         486.87    258.32     68.28\n",
       "WiiU         38.10     25.13     13.01\n",
       "X360        595.74    268.32     12.30\n",
       "XB           42.85     14.90      0.02\n",
       "XOne         93.12     51.59      0.34"
      ]
     },
     "execution_count": 47,
     "metadata": {},
     "output_type": "execute_result"
    }
   ],
   "source": [
    "df_actual.groupby('platform')[['na_sales','eu_sales','jp_sales']].sum()"
   ]
  },
  {
   "cell_type": "code",
   "execution_count": 48,
   "metadata": {
    "scrolled": true
   },
   "outputs": [
    {
     "data": {
      "image/png": "[encoded data removed]",
      "text/plain": [
       "<Figure size 1440x360 with 3 Axes>"
      ]
     },
     "metadata": {},
     "output_type": "display_data"
    }
   ],
   "source": [
    "fig, axes = plt.subplots(nrows=1, ncols=3, figsize=(20, 5))\n",
    "df_actual.pivot_table(index='platform', values = 'na_sales', aggfunc='sum').sort_values(by='na_sales', ascending=False).head().plot(kind='pie', subplots=True, legend=False,  ax=axes[0])\n",
    "df_actual.pivot_table(index='platform', values = 'eu_sales', aggfunc='sum').sort_values(by='eu_sales', ascending=False).head().plot(kind='pie', subplots=True, legend=False,  ax=axes[1])\n",
    "df_actual.pivot_table(index='platform', values = 'jp_sales', aggfunc='sum').sort_values(by='jp_sales', ascending=False).head().plot(kind='pie', subplots=True, legend=False,  ax=axes[2]);"
   ]
  },
  {
   "cell_type": "markdown",
   "metadata": {},
   "source": [
    "В целом регионы NA и EU схожи по предпочтению платформ за исключением того, что в регионе NA более популярна платформа X360 чем в EU,  что закономерно, так как X360 производится в регионе NA.\n",
    "Регион JP отличается от остальных предпочтением локальных платформ таких как Nintendo DS и Nintendo 3DS, которые не так популярны в остальном мире."
   ]
  },
  {
   "cell_type": "markdown",
   "metadata": {},
   "source": [
    "**Предпочтения по жанрам**"
   ]
  },
  {
   "cell_type": "code",
   "execution_count": 49,
   "metadata": {},
   "outputs": [
    {
     "data": {
      "text/html": [
       "<div>\n",
       "<style scoped>\n",
       "    .dataframe tbody tr th:only-of-type {\n",
       "        vertical-align: middle;\n",
       "    }\n",
       "\n",
       "    .dataframe tbody tr th {\n",
       "        vertical-align: top;\n",
       "    }\n",
       "\n",
       "    .dataframe thead th {\n",
       "        text-align: right;\n",
       "    }\n",
       "</style>\n",
       "<table border=\"1\" class=\"dataframe\">\n",
       "  <thead>\n",
       "    <tr style=\"text-align: right;\">\n",
       "      <th></th>\n",
       "      <th>na_sales</th>\n",
       "      <th>eu_sales</th>\n",
       "      <th>jp_sales</th>\n",
       "    </tr>\n",
       "    <tr>\n",
       "      <th>genre</th>\n",
       "      <th></th>\n",
       "      <th></th>\n",
       "      <th></th>\n",
       "    </tr>\n",
       "  </thead>\n",
       "  <tbody>\n",
       "    <tr>\n",
       "      <th>Action</th>\n",
       "      <td>580.04</td>\n",
       "      <td>372.58</td>\n",
       "      <td>108.39</td>\n",
       "    </tr>\n",
       "    <tr>\n",
       "      <th>Adventure</th>\n",
       "      <td>66.57</td>\n",
       "      <td>39.93</td>\n",
       "      <td>30.27</td>\n",
       "    </tr>\n",
       "    <tr>\n",
       "      <th>Fighting</th>\n",
       "      <td>104.63</td>\n",
       "      <td>47.09</td>\n",
       "      <td>31.68</td>\n",
       "    </tr>\n",
       "    <tr>\n",
       "      <th>Misc</th>\n",
       "      <td>311.82</td>\n",
       "      <td>167.09</td>\n",
       "      <td>72.49</td>\n",
       "    </tr>\n",
       "    <tr>\n",
       "      <th>Platform</th>\n",
       "      <td>149.75</td>\n",
       "      <td>86.93</td>\n",
       "      <td>36.32</td>\n",
       "    </tr>\n",
       "    <tr>\n",
       "      <th>Puzzle</th>\n",
       "      <td>49.03</td>\n",
       "      <td>33.81</td>\n",
       "      <td>18.64</td>\n",
       "    </tr>\n",
       "    <tr>\n",
       "      <th>Racing</th>\n",
       "      <td>163.58</td>\n",
       "      <td>129.05</td>\n",
       "      <td>17.57</td>\n",
       "    </tr>\n",
       "    <tr>\n",
       "      <th>Role-Playing</th>\n",
       "      <td>211.85</td>\n",
       "      <td>115.52</td>\n",
       "      <td>179.60</td>\n",
       "    </tr>\n",
       "    <tr>\n",
       "      <th>Shooter</th>\n",
       "      <td>400.96</td>\n",
       "      <td>248.07</td>\n",
       "      <td>20.67</td>\n",
       "    </tr>\n",
       "    <tr>\n",
       "      <th>Simulation</th>\n",
       "      <td>126.95</td>\n",
       "      <td>86.02</td>\n",
       "      <td>32.33</td>\n",
       "    </tr>\n",
       "    <tr>\n",
       "      <th>Sports</th>\n",
       "      <td>432.70</td>\n",
       "      <td>265.61</td>\n",
       "      <td>52.51</td>\n",
       "    </tr>\n",
       "    <tr>\n",
       "      <th>Strategy</th>\n",
       "      <td>30.94</td>\n",
       "      <td>25.38</td>\n",
       "      <td>15.11</td>\n",
       "    </tr>\n",
       "  </tbody>\n",
       "</table>\n",
       "</div>"
      ],
      "text/plain": [
       "              na_sales  eu_sales  jp_sales\n",
       "genre                                     \n",
       "Action          580.04    372.58    108.39\n",
       "Adventure        66.57     39.93     30.27\n",
       "Fighting        104.63     47.09     31.68\n",
       "Misc            311.82    167.09     72.49\n",
       "Platform        149.75     86.93     36.32\n",
       "Puzzle           49.03     33.81     18.64\n",
       "Racing          163.58    129.05     17.57\n",
       "Role-Playing    211.85    115.52    179.60\n",
       "Shooter         400.96    248.07     20.67\n",
       "Simulation      126.95     86.02     32.33\n",
       "Sports          432.70    265.61     52.51\n",
       "Strategy         30.94     25.38     15.11"
      ]
     },
     "execution_count": 49,
     "metadata": {},
     "output_type": "execute_result"
    }
   ],
   "source": [
    "df_actual.groupby('genre')[['na_sales','eu_sales','jp_sales']].sum()"
   ]
  },
  {
   "cell_type": "code",
   "execution_count": 50,
   "metadata": {
    "scrolled": true
   },
   "outputs": [
    {
     "data": {
      "image/png": "[encoded data removed]",
      "text/plain": [
       "<Figure size 1440x360 with 3 Axes>"
      ]
     },
     "metadata": {},
     "output_type": "display_data"
    }
   ],
   "source": [
    "fig, axes = plt.subplots(nrows=1, ncols=3, figsize=(20, 5))\n",
    "df_actual.pivot_table(index='genre', values = 'na_sales', aggfunc='sum').sort_values(by='na_sales', ascending=False).head().plot(kind='pie', subplots=True, legend=False,  ax=axes[0])\n",
    "df_actual.pivot_table(index='genre', values = 'eu_sales', aggfunc='sum').sort_values(by='eu_sales', ascending=False).head().plot(kind='pie', subplots=True, legend=False,  ax=axes[1])\n",
    "df_actual.pivot_table(index='genre', values = 'jp_sales', aggfunc='sum').sort_values(by='jp_sales', ascending=False).head().plot(kind='pie', subplots=True, legend=False,  ax=axes[2]);"
   ]
  },
  {
   "cell_type": "markdown",
   "metadata": {},
   "source": [
    "В регионах NA и EU предпочтения по жанрам схожи, за исключением жарнов Role-Playing и Racing, которые находятся на 5-х местах. В отличии от этих регионов, в регионе JP самый популярный жанр Role-Playing и в пятерке популярных присутствует жанр Platfotm возможно по той причине, что эти жанры самые популярные на платформах DS и 3DS."
   ]
  },
  {
   "cell_type": "markdown",
   "metadata": {},
   "source": [
    "**Влияние рейтинга ESRB**"
   ]
  },
  {
   "cell_type": "code",
   "execution_count": 51,
   "metadata": {},
   "outputs": [
    {
     "data": {
      "image/png": "[encoded data removed]",
      "text/plain": [
       "<Figure size 720x360 with 1 Axes>"
      ]
     },
     "metadata": {
      "needs_background": "light"
     },
     "output_type": "display_data"
    }
   ],
   "source": [
    "df_actual.groupby('rating')[['na_sales', 'eu_sales', 'jp_sales']].sum().sort_values(by='na_sales', ascending=False)\\\n",
    ".plot(kind='bar', figsize=(10,5), title='Влияние ESRB на продажи');"
   ]
  },
  {
   "cell_type": "markdown",
   "metadata": {},
   "source": [
    "На графике продемонстрирована зависимость продаж от рейтинга ESRB. При этом рейтинг ESRB создан для регулирования продаж игр только в  регионе NA. Исходя из этого можно сделасть следующие выводы:\n",
    "\n",
    "- влияние рейтинга ESRB зависит от конкретного региона. В случае региона NA мы видим, чем больше охват рейтинга по возрасту, тем больше продаж игр с данным рейтингом.\n",
    "- влияние рейтигра на регион EU в целом схож с рейтингом в NA, но заметно что доля игр без рейтинга больше чем в NA. Можем сделать вывод о менее выраженном влиянии рейтинга на этот регион в сравнении с NA.\n",
    "- наименее подверден влиянию рейтинга регион JP, так как доля игр без рейтинга превосходит остальные.\n",
    "- во всех регионах продажи игр с рейтингом EC и AO (для детей и для взрослых соответственно) незначительны, ввиду специфики возрастных ограничений."
   ]
  },
  {
   "cell_type": "markdown",
   "metadata": {},
   "source": [
    "## Проверка гипотез"
   ]
  },
  {
   "cell_type": "markdown",
   "metadata": {},
   "source": [
    "Проверим следующие гипотезы:\n",
    "- Средние пользовательские рейтинги платформ Xbox One и PC одинаковые\n",
    "- Средние пользовательские рейтинги жанров Action и Sports разные\n",
    "\n",
    "Для обоих проверок установим значение `alpha` равное 0.05"
   ]
  },
  {
   "cell_type": "code",
   "execution_count": 52,
   "metadata": {},
   "outputs": [],
   "source": [
    "alpha = 0.05"
   ]
  },
  {
   "cell_type": "markdown",
   "metadata": {},
   "source": [
    "### Средние пользовательские рейтинги платформ"
   ]
  },
  {
   "cell_type": "code",
   "execution_count": 53,
   "metadata": {},
   "outputs": [
    {
     "name": "stdout",
     "output_type": "stream",
     "text": [
      "182 643\n"
     ]
    }
   ],
   "source": [
    "xbox = df_actual.query('platform == \"XOne\" & user_score.notna()')['user_score']\n",
    "pc = df_actual.query('platform == \"PC\" & user_score.notna()')['user_score']\n",
    "print(len(xbox), len(pc))"
   ]
  },
  {
   "cell_type": "code",
   "execution_count": 54,
   "metadata": {
    "scrolled": true
   },
   "outputs": [
    {
     "data": {
      "image/png": "[encoded data removed]",
      "text/plain": [
       "<Figure size 432x288 with 1 Axes>"
      ]
     },
     "metadata": {
      "needs_background": "light"
     },
     "output_type": "display_data"
    }
   ],
   "source": [
    "xbox.hist(alpha=0.5)\n",
    "pc.hist(alpha=0.5);"
   ]
  },
  {
   "cell_type": "markdown",
   "metadata": {},
   "source": [
    "- Нулевая гипотеза - средние пользовательские рейтинги платформ равны\n",
    "- Альтернатинвая гипотеза - средние пользовательские рейтинги платформ не равны\n",
    "\n",
    "Для проверки применим Т-Критерий Стьюдента для независимых выборок. В выборках 182 и 643 наблюдения, что должно невелировать ненормальность распределения в выборках. Так же будем считаль что дисперсии в выборках не равны."
   ]
  },
  {
   "cell_type": "code",
   "execution_count": 55,
   "metadata": {},
   "outputs": [],
   "source": [
    "results_1 = st.ttest_ind(xbox, pc, equal_var = False)"
   ]
  },
  {
   "cell_type": "code",
   "execution_count": 56,
   "metadata": {},
   "outputs": [
    {
     "name": "stdout",
     "output_type": "stream",
     "text": [
      "p-значение:  0.002348497820855446\n",
      "Отклоняем нулевую гипотезу\n"
     ]
    }
   ],
   "source": [
    "print('p-значение: ', results_1.pvalue)\n",
    "if results_1.pvalue < alpha:\n",
    "    print('Отклоняем нулевую гипотезу')\n",
    "else:\n",
    "    print('Принимаем нулевую гипотезу')"
   ]
  },
  {
   "cell_type": "markdown",
   "metadata": {},
   "source": [
    "### Средние пользовательские рейтинги жанров Action и Sports"
   ]
  },
  {
   "cell_type": "code",
   "execution_count": 57,
   "metadata": {},
   "outputs": [
    {
     "name": "stdout",
     "output_type": "stream",
     "text": [
      "1463 757\n"
     ]
    }
   ],
   "source": [
    "action = df_actual.query('genre == \"Action\" & user_score.notna()')['user_score']\n",
    "sports = df_actual.query('genre == \"Sports\" & user_score.notna()')['user_score']\n",
    "print(len(action), len(sports))"
   ]
  },
  {
   "cell_type": "code",
   "execution_count": 58,
   "metadata": {},
   "outputs": [
    {
     "data": {
      "image/png": "[encoded data removed]",
      "text/plain": [
       "<Figure size 432x288 with 1 Axes>"
      ]
     },
     "metadata": {
      "needs_background": "light"
     },
     "output_type": "display_data"
    }
   ],
   "source": [
    "action.hist(alpha=0.5)\n",
    "sports.hist(alpha=0.5);"
   ]
  },
  {
   "cell_type": "markdown",
   "metadata": {},
   "source": [
    "- Нулевая гипотеза - средние пользовательские рейтинги жанров равны\n",
    "- Альтернатинвая гипотеза - средние пользовательские рейтинги жанров не равны\n",
    "\n",
    "Для проверки применим Т-Критерий Стьюдента для независимых выборок. В выборках 1463 и 757 наблюдения, что должно невелировать ненормальность распределения в выборках. Так же будем считаль что дисперсии в выборках не равны."
   ]
  },
  {
   "cell_type": "code",
   "execution_count": 59,
   "metadata": {},
   "outputs": [],
   "source": [
    "results_2 = st.ttest_ind(action, sports, equal_var = False)"
   ]
  },
  {
   "cell_type": "code",
   "execution_count": 60,
   "metadata": {
    "scrolled": true
   },
   "outputs": [
    {
     "name": "stdout",
     "output_type": "stream",
     "text": [
      "p-значение:  5.717661260563379e-09\n",
      "Отклоняем нулевую гипотезу\n"
     ]
    }
   ],
   "source": [
    "print('p-значение: ', results_2.pvalue)\n",
    "if results_2.pvalue < alpha:\n",
    "    print('Отклоняем нулевую гипотезу')\n",
    "else:\n",
    "    print('Принимаем нулевую гипотезу')"
   ]
  },
  {
   "cell_type": "markdown",
   "metadata": {},
   "source": [
    "## Вывод"
   ]
  },
  {
   "cell_type": "markdown",
   "metadata": {},
   "source": [
    "В данном проекте мы изучили данные о продажах игр. Для того, чтобы решить поставленные задачи мы провели:\n",
    "\n",
    "- Предобработкe данных\n",
    "- Рассчитали данные о продажах\n",
    "- Провели исследовательский анализ данных продаж\n",
    "- Составили портрет пользователя каждого региона\n",
    "- Проверили гипотезы о средних оценказ пользователей\n",
    "\n",
    "В результате исследования мы определили следующее:\n",
    "\n",
    "- 1993 и 2001 года являются ключевыми в игровой индустрии, после которых резко увеличивался выпуск игр. Так же наблюдался спад после 2011 года.\n",
    "- самые популярные платформы за все время наблюжений: PS2, X360, PS3, Wii, DS и PS\n",
    "- в среднем каждая платформа 'живет' около 10 лет.\n",
    "- самые популярны платформы последних двух лет не совпадают с самыми популярными за все время\n",
    "- к потенциально прибыльным платформам  на текущий момент отнесли: PS4, XOne, 3DS, WiiU\n",
    "- продажи зависят от оценок критиков в большей степени чем от отзывов покупателей\n",
    "- выделены следующие жанры наиболее высокими медианными продажами: Shooter, Sports, Platform, Rasing, Action. С наименьшими значениями жанры Adventure и Strategy\n",
    "- Action и Sports и Shooter самые популярные жанры за исключением Японии. Там самый популярный жанр Role-Playing\n",
    "- рейтинг ESRB влияет на продажи в основном в регионе NA и в меньшей степени в EU. Расценивать влияние рейтинга в регионе JP нецелесообразно\n",
    "- получили статистически значимые различия между средними пользовательских рейтингов платформ Xbox One и PC\n",
    "- получили статистически значимые различия между средними пользовательских рейтингов жанров Action и Sports\n",
    "\n",
    "Дальнейшие шаги:\n",
    "\n",
    "- при обновлении данных за 2016 сможем получить более достоверные данные о росте или падении продаж\n",
    "- необходимо узнать и по возможности устранить причину большой доли отсутвующих данных по рейтингам\n",
    "- проанализировать взаимосвязб платформ и жанров"
   ]
  }
 ],
 "metadata": {
  "ExecuteTimeLog": [
   {
    "duration": 342,
    "start_time": "2023-01-23T08:10:45.542Z"
   },
   {
    "duration": 99,
    "start_time": "2023-01-23T08:11:14.543Z"
   },
   {
    "duration": 30,
    "start_time": "2023-01-23T08:11:17.583Z"
   },
   {
    "duration": 59,
    "start_time": "2023-01-23T08:11:23.136Z"
   },
   {
    "duration": 14,
    "start_time": "2023-01-23T08:11:55.689Z"
   },
   {
    "duration": 59,
    "start_time": "2023-01-23T08:12:11.455Z"
   },
   {
    "duration": 57,
    "start_time": "2023-01-23T08:12:15.297Z"
   },
   {
    "duration": 15,
    "start_time": "2023-01-23T08:12:49.239Z"
   },
   {
    "duration": 60,
    "start_time": "2023-01-23T08:12:57.055Z"
   },
   {
    "duration": 4,
    "start_time": "2023-01-23T08:12:59.823Z"
   },
   {
    "duration": 78,
    "start_time": "2023-01-23T08:14:06.514Z"
   },
   {
    "duration": 3,
    "start_time": "2023-01-23T08:14:11.636Z"
   },
   {
    "duration": 2,
    "start_time": "2023-01-23T08:14:43.158Z"
   },
   {
    "duration": 4,
    "start_time": "2023-01-23T08:14:48.154Z"
   },
   {
    "duration": 15,
    "start_time": "2023-01-23T08:15:03.801Z"
   },
   {
    "duration": 18,
    "start_time": "2023-01-23T08:16:07.021Z"
   },
   {
    "duration": 17,
    "start_time": "2023-01-23T08:16:20.927Z"
   },
   {
    "duration": 31,
    "start_time": "2023-01-23T08:16:32.030Z"
   },
   {
    "duration": 15,
    "start_time": "2023-01-23T08:16:45.261Z"
   },
   {
    "duration": 33,
    "start_time": "2023-01-23T08:16:56.567Z"
   },
   {
    "duration": 8,
    "start_time": "2023-01-23T08:19:37.597Z"
   },
   {
    "duration": 11,
    "start_time": "2023-01-23T08:19:48.608Z"
   },
   {
    "duration": 6,
    "start_time": "2023-01-23T08:28:26.189Z"
   },
   {
    "duration": 5,
    "start_time": "2023-01-23T08:28:32.234Z"
   },
   {
    "duration": 3,
    "start_time": "2023-01-23T08:31:29.553Z"
   },
   {
    "duration": 33,
    "start_time": "2023-01-23T08:31:32.540Z"
   },
   {
    "duration": 10,
    "start_time": "2023-01-23T08:31:55.256Z"
   },
   {
    "duration": 679,
    "start_time": "2023-01-23T08:33:32.372Z"
   },
   {
    "duration": 465,
    "start_time": "2023-01-23T08:33:39.724Z"
   },
   {
    "duration": 19,
    "start_time": "2023-01-23T08:36:23.150Z"
   },
   {
    "duration": 6,
    "start_time": "2023-01-23T08:37:44.767Z"
   },
   {
    "duration": 22,
    "start_time": "2023-01-23T08:37:51.469Z"
   },
   {
    "duration": 4,
    "start_time": "2023-01-23T08:38:11.230Z"
   },
   {
    "duration": 19,
    "start_time": "2023-01-23T08:38:13.832Z"
   },
   {
    "duration": 15,
    "start_time": "2023-01-23T08:38:18.895Z"
   },
   {
    "duration": 5,
    "start_time": "2023-01-23T08:38:28.029Z"
   },
   {
    "duration": 14,
    "start_time": "2023-01-23T08:38:29.970Z"
   },
   {
    "duration": 4,
    "start_time": "2023-01-23T08:39:01.672Z"
   },
   {
    "duration": 12,
    "start_time": "2023-01-23T08:39:02.272Z"
   },
   {
    "duration": 20,
    "start_time": "2023-01-23T08:39:08.321Z"
   },
   {
    "duration": 12,
    "start_time": "2023-01-23T08:40:12.294Z"
   },
   {
    "duration": 4,
    "start_time": "2023-01-23T08:40:56.821Z"
   },
   {
    "duration": 6,
    "start_time": "2023-01-23T08:41:23.432Z"
   },
   {
    "duration": 5,
    "start_time": "2023-01-23T08:41:30.512Z"
   },
   {
    "duration": 9,
    "start_time": "2023-01-23T08:42:24.760Z"
   },
   {
    "duration": 21,
    "start_time": "2023-01-23T08:42:41.411Z"
   },
   {
    "duration": 15,
    "start_time": "2023-01-23T08:45:34.972Z"
   },
   {
    "duration": 13,
    "start_time": "2023-01-23T08:45:43.455Z"
   },
   {
    "duration": 9,
    "start_time": "2023-01-23T08:45:51.337Z"
   },
   {
    "duration": 8,
    "start_time": "2023-01-23T08:46:45.045Z"
   },
   {
    "duration": 16,
    "start_time": "2023-01-23T08:46:50.648Z"
   },
   {
    "duration": 3,
    "start_time": "2023-01-23T08:48:28.138Z"
   },
   {
    "duration": 1180,
    "start_time": "2023-01-23T08:50:37.693Z"
   },
   {
    "duration": 9,
    "start_time": "2023-01-23T08:50:42.848Z"
   },
   {
    "duration": 15,
    "start_time": "2023-01-23T08:50:52.367Z"
   },
   {
    "duration": 13,
    "start_time": "2023-01-23T08:53:17.698Z"
   },
   {
    "duration": 10,
    "start_time": "2023-01-23T08:53:29.196Z"
   },
   {
    "duration": 11,
    "start_time": "2023-01-23T08:54:11.109Z"
   },
   {
    "duration": 19,
    "start_time": "2023-01-23T08:55:04.953Z"
   },
   {
    "duration": 5,
    "start_time": "2023-01-23T08:56:23.103Z"
   },
   {
    "duration": 21,
    "start_time": "2023-01-23T08:57:14.553Z"
   },
   {
    "duration": 9,
    "start_time": "2023-01-23T08:58:04.433Z"
   },
   {
    "duration": 22,
    "start_time": "2023-01-23T08:58:32.348Z"
   },
   {
    "duration": 7,
    "start_time": "2023-01-23T09:00:18.136Z"
   },
   {
    "duration": 14,
    "start_time": "2023-01-23T09:00:25.458Z"
   },
   {
    "duration": 8,
    "start_time": "2023-01-23T09:00:36.677Z"
   },
   {
    "duration": 8,
    "start_time": "2023-01-23T09:02:17.322Z"
   },
   {
    "duration": 11,
    "start_time": "2023-01-23T09:02:20.422Z"
   },
   {
    "duration": 8,
    "start_time": "2023-01-23T09:07:11.305Z"
   },
   {
    "duration": 12,
    "start_time": "2023-01-23T09:07:19.048Z"
   },
   {
    "duration": 5,
    "start_time": "2023-01-23T09:08:32.290Z"
   },
   {
    "duration": 13,
    "start_time": "2023-01-23T09:18:09.921Z"
   },
   {
    "duration": 6,
    "start_time": "2023-01-23T09:23:02.969Z"
   },
   {
    "duration": 19,
    "start_time": "2023-01-23T09:23:11.773Z"
   },
   {
    "duration": 4,
    "start_time": "2023-01-23T09:23:14.762Z"
   },
   {
    "duration": 5,
    "start_time": "2023-01-23T09:23:32.532Z"
   },
   {
    "duration": 4,
    "start_time": "2023-01-23T09:23:44.470Z"
   },
   {
    "duration": 6,
    "start_time": "2023-01-23T09:24:23.388Z"
   },
   {
    "duration": 7,
    "start_time": "2023-01-23T09:24:41.628Z"
   },
   {
    "duration": 5,
    "start_time": "2023-01-23T09:24:51.263Z"
   },
   {
    "duration": 13,
    "start_time": "2023-01-23T09:24:53.089Z"
   },
   {
    "duration": 21,
    "start_time": "2023-01-23T09:26:27.012Z"
   },
   {
    "duration": 13,
    "start_time": "2023-01-23T09:26:51.855Z"
   },
   {
    "duration": 22,
    "start_time": "2023-01-23T09:26:53.865Z"
   },
   {
    "duration": 6,
    "start_time": "2023-01-23T09:27:29.159Z"
   },
   {
    "duration": 19,
    "start_time": "2023-01-23T09:27:35.395Z"
   },
   {
    "duration": 398,
    "start_time": "2023-01-23T09:27:57.784Z"
   },
   {
    "duration": 62,
    "start_time": "2023-01-23T09:27:58.184Z"
   },
   {
    "duration": 3,
    "start_time": "2023-01-23T09:27:58.248Z"
   },
   {
    "duration": 15,
    "start_time": "2023-01-23T09:27:58.254Z"
   },
   {
    "duration": 6,
    "start_time": "2023-01-23T09:27:58.271Z"
   },
   {
    "duration": 44,
    "start_time": "2023-01-23T09:27:58.278Z"
   },
   {
    "duration": 11,
    "start_time": "2023-01-23T09:27:58.324Z"
   },
   {
    "duration": 18,
    "start_time": "2023-01-23T09:27:58.337Z"
   },
   {
    "duration": 12,
    "start_time": "2023-01-23T09:27:58.357Z"
   },
   {
    "duration": 10,
    "start_time": "2023-01-23T09:27:58.400Z"
   },
   {
    "duration": 7,
    "start_time": "2023-01-23T09:27:58.411Z"
   },
   {
    "duration": 7,
    "start_time": "2023-01-23T09:27:58.420Z"
   },
   {
    "duration": 15,
    "start_time": "2023-01-23T09:27:58.429Z"
   },
   {
    "duration": 54,
    "start_time": "2023-01-23T09:27:58.446Z"
   },
   {
    "duration": 19,
    "start_time": "2023-01-23T09:28:02.521Z"
   },
   {
    "duration": 63,
    "start_time": "2023-01-23T09:28:14.901Z"
   },
   {
    "duration": 5,
    "start_time": "2023-01-23T09:28:17.661Z"
   },
   {
    "duration": 22,
    "start_time": "2023-01-23T09:28:33.123Z"
   },
   {
    "duration": 23,
    "start_time": "2023-01-23T09:28:50.811Z"
   },
   {
    "duration": 7,
    "start_time": "2023-01-23T09:28:55.534Z"
   },
   {
    "duration": 20,
    "start_time": "2023-01-23T09:29:00.157Z"
   },
   {
    "duration": 8,
    "start_time": "2023-01-23T09:59:42.634Z"
   },
   {
    "duration": 6,
    "start_time": "2023-01-23T09:59:51.902Z"
   },
   {
    "duration": 17,
    "start_time": "2023-01-23T09:59:54.301Z"
   },
   {
    "duration": 407,
    "start_time": "2023-01-23T10:00:06.801Z"
   },
   {
    "duration": 70,
    "start_time": "2023-01-23T10:00:07.210Z"
   },
   {
    "duration": 3,
    "start_time": "2023-01-23T10:00:07.282Z"
   },
   {
    "duration": 25,
    "start_time": "2023-01-23T10:00:07.287Z"
   },
   {
    "duration": 3,
    "start_time": "2023-01-23T10:00:07.314Z"
   },
   {
    "duration": 40,
    "start_time": "2023-01-23T10:00:07.319Z"
   },
   {
    "duration": 10,
    "start_time": "2023-01-23T10:00:07.361Z"
   },
   {
    "duration": 32,
    "start_time": "2023-01-23T10:00:07.372Z"
   },
   {
    "duration": 10,
    "start_time": "2023-01-23T10:00:07.406Z"
   },
   {
    "duration": 7,
    "start_time": "2023-01-23T10:00:07.418Z"
   },
   {
    "duration": 10,
    "start_time": "2023-01-23T10:00:07.426Z"
   },
   {
    "duration": 10,
    "start_time": "2023-01-23T10:00:07.438Z"
   },
   {
    "duration": 40,
    "start_time": "2023-01-23T10:00:07.450Z"
   },
   {
    "duration": 12,
    "start_time": "2023-01-23T10:00:07.492Z"
   },
   {
    "duration": 32,
    "start_time": "2023-01-23T10:00:07.505Z"
   },
   {
    "duration": 21,
    "start_time": "2023-01-23T10:00:12.768Z"
   },
   {
    "duration": 20,
    "start_time": "2023-01-23T10:01:28.435Z"
   },
   {
    "duration": 5,
    "start_time": "2023-01-23T10:04:39.884Z"
   },
   {
    "duration": 9,
    "start_time": "2023-01-23T10:05:46.969Z"
   },
   {
    "duration": 20,
    "start_time": "2023-01-23T10:05:54.484Z"
   },
   {
    "duration": 61,
    "start_time": "2023-01-23T10:06:22.938Z"
   },
   {
    "duration": 8,
    "start_time": "2023-01-23T10:06:30.865Z"
   },
   {
    "duration": 5,
    "start_time": "2023-01-23T10:07:08.413Z"
   },
   {
    "duration": 21,
    "start_time": "2023-01-23T10:07:11.988Z"
   },
   {
    "duration": 6,
    "start_time": "2023-01-23T10:07:25.541Z"
   },
   {
    "duration": 5,
    "start_time": "2023-01-23T10:09:02.958Z"
   },
   {
    "duration": 9,
    "start_time": "2023-01-23T10:10:05.265Z"
   },
   {
    "duration": 5,
    "start_time": "2023-01-23T10:10:11.146Z"
   },
   {
    "duration": 5,
    "start_time": "2023-01-23T10:10:23.041Z"
   },
   {
    "duration": 341,
    "start_time": "2023-01-23T10:10:33.046Z"
   },
   {
    "duration": 62,
    "start_time": "2023-01-23T10:10:33.389Z"
   },
   {
    "duration": 3,
    "start_time": "2023-01-23T10:10:33.453Z"
   },
   {
    "duration": 18,
    "start_time": "2023-01-23T10:10:33.458Z"
   },
   {
    "duration": 4,
    "start_time": "2023-01-23T10:10:33.477Z"
   },
   {
    "duration": 38,
    "start_time": "2023-01-23T10:10:33.483Z"
   },
   {
    "duration": 12,
    "start_time": "2023-01-23T10:10:33.523Z"
   },
   {
    "duration": 18,
    "start_time": "2023-01-23T10:10:33.536Z"
   },
   {
    "duration": 47,
    "start_time": "2023-01-23T10:10:33.555Z"
   },
   {
    "duration": 10,
    "start_time": "2023-01-23T10:10:33.604Z"
   },
   {
    "duration": 9,
    "start_time": "2023-01-23T10:10:33.615Z"
   },
   {
    "duration": 12,
    "start_time": "2023-01-23T10:10:33.626Z"
   },
   {
    "duration": 12,
    "start_time": "2023-01-23T10:10:33.639Z"
   },
   {
    "duration": 16,
    "start_time": "2023-01-23T10:10:33.652Z"
   },
   {
    "duration": 30,
    "start_time": "2023-01-23T10:10:33.669Z"
   },
   {
    "duration": 5,
    "start_time": "2023-01-23T10:10:37.980Z"
   },
   {
    "duration": 24,
    "start_time": "2023-01-23T10:11:17.882Z"
   },
   {
    "duration": 1176,
    "start_time": "2023-01-23T10:11:23.740Z"
   },
   {
    "duration": 8,
    "start_time": "2023-01-23T10:11:29.516Z"
   },
   {
    "duration": 19,
    "start_time": "2023-01-23T10:11:37.854Z"
   },
   {
    "duration": 6,
    "start_time": "2023-01-23T10:11:47.713Z"
   },
   {
    "duration": 6,
    "start_time": "2023-01-23T10:11:51.308Z"
   },
   {
    "duration": 10,
    "start_time": "2023-01-23T10:16:13.258Z"
   },
   {
    "duration": 6,
    "start_time": "2023-01-23T10:16:22.174Z"
   },
   {
    "duration": 9,
    "start_time": "2023-01-23T10:16:22.541Z"
   },
   {
    "duration": 406,
    "start_time": "2023-01-23T10:16:38.490Z"
   },
   {
    "duration": 69,
    "start_time": "2023-01-23T10:16:38.899Z"
   },
   {
    "duration": 3,
    "start_time": "2023-01-23T10:16:38.970Z"
   },
   {
    "duration": 36,
    "start_time": "2023-01-23T10:16:38.975Z"
   },
   {
    "duration": 25,
    "start_time": "2023-01-23T10:16:39.013Z"
   },
   {
    "duration": 44,
    "start_time": "2023-01-23T10:16:39.040Z"
   },
   {
    "duration": 14,
    "start_time": "2023-01-23T10:16:39.086Z"
   },
   {
    "duration": 38,
    "start_time": "2023-01-23T10:16:39.101Z"
   },
   {
    "duration": 38,
    "start_time": "2023-01-23T10:16:39.141Z"
   },
   {
    "duration": 64,
    "start_time": "2023-01-23T10:16:39.180Z"
   },
   {
    "duration": 13,
    "start_time": "2023-01-23T10:16:39.246Z"
   },
   {
    "duration": 44,
    "start_time": "2023-01-23T10:16:39.261Z"
   },
   {
    "duration": 19,
    "start_time": "2023-01-23T10:16:39.307Z"
   },
   {
    "duration": 40,
    "start_time": "2023-01-23T10:16:39.328Z"
   },
   {
    "duration": 13,
    "start_time": "2023-01-23T10:16:41.357Z"
   },
   {
    "duration": 6,
    "start_time": "2023-01-23T10:16:43.379Z"
   },
   {
    "duration": 6,
    "start_time": "2023-01-23T10:18:13.916Z"
   },
   {
    "duration": 69,
    "start_time": "2023-01-23T10:18:17.992Z"
   },
   {
    "duration": 5,
    "start_time": "2023-01-23T10:18:23.056Z"
   },
   {
    "duration": 5,
    "start_time": "2023-01-23T10:20:56.282Z"
   },
   {
    "duration": 7,
    "start_time": "2023-01-23T10:21:08.988Z"
   },
   {
    "duration": 7,
    "start_time": "2023-01-23T10:21:18.557Z"
   },
   {
    "duration": 6,
    "start_time": "2023-01-23T10:27:02.013Z"
   },
   {
    "duration": 1077,
    "start_time": "2023-01-23T10:42:37.493Z"
   },
   {
    "duration": 68,
    "start_time": "2023-01-23T10:42:53.572Z"
   },
   {
    "duration": 22,
    "start_time": "2023-01-23T10:42:57.759Z"
   },
   {
    "duration": 12,
    "start_time": "2023-01-23T10:43:17.550Z"
   },
   {
    "duration": 6,
    "start_time": "2023-01-23T10:43:52.509Z"
   },
   {
    "duration": 6,
    "start_time": "2023-01-23T10:44:42.900Z"
   },
   {
    "duration": 2,
    "start_time": "2023-01-23T10:49:30.618Z"
   },
   {
    "duration": 4,
    "start_time": "2023-01-23T10:50:11.080Z"
   },
   {
    "duration": 5,
    "start_time": "2023-01-23T10:50:19.429Z"
   },
   {
    "duration": 9,
    "start_time": "2023-01-23T10:50:50.193Z"
   },
   {
    "duration": 21,
    "start_time": "2023-01-23T10:50:57.557Z"
   },
   {
    "duration": 7,
    "start_time": "2023-01-23T10:51:11.371Z"
   },
   {
    "duration": 6,
    "start_time": "2023-01-23T10:51:19.007Z"
   },
   {
    "duration": 7,
    "start_time": "2023-01-23T10:51:55.186Z"
   },
   {
    "duration": 7,
    "start_time": "2023-01-23T10:51:57.371Z"
   },
   {
    "duration": 15,
    "start_time": "2023-01-23T10:52:14.210Z"
   },
   {
    "duration": 14,
    "start_time": "2023-01-23T10:52:28.650Z"
   },
   {
    "duration": 43,
    "start_time": "2023-01-23T12:12:46.910Z"
   },
   {
    "duration": 437,
    "start_time": "2023-01-23T12:12:57.798Z"
   },
   {
    "duration": 107,
    "start_time": "2023-01-23T12:12:58.237Z"
   },
   {
    "duration": 4,
    "start_time": "2023-01-23T12:12:58.346Z"
   },
   {
    "duration": 24,
    "start_time": "2023-01-23T12:12:58.352Z"
   },
   {
    "duration": 15,
    "start_time": "2023-01-23T12:12:58.378Z"
   },
   {
    "duration": 35,
    "start_time": "2023-01-23T12:12:58.395Z"
   },
   {
    "duration": 10,
    "start_time": "2023-01-23T12:12:58.432Z"
   },
   {
    "duration": 30,
    "start_time": "2023-01-23T12:12:58.443Z"
   },
   {
    "duration": 9,
    "start_time": "2023-01-23T12:12:58.474Z"
   },
   {
    "duration": 19,
    "start_time": "2023-01-23T12:12:58.485Z"
   },
   {
    "duration": 11,
    "start_time": "2023-01-23T12:12:58.506Z"
   },
   {
    "duration": 9,
    "start_time": "2023-01-23T12:12:58.518Z"
   },
   {
    "duration": 11,
    "start_time": "2023-01-23T12:12:58.529Z"
   },
   {
    "duration": 8,
    "start_time": "2023-01-23T12:12:58.542Z"
   },
   {
    "duration": 12,
    "start_time": "2023-01-23T12:12:58.552Z"
   },
   {
    "duration": 23,
    "start_time": "2023-01-23T12:12:58.566Z"
   },
   {
    "duration": 13,
    "start_time": "2023-01-23T12:12:58.591Z"
   },
   {
    "duration": 20,
    "start_time": "2023-01-23T12:12:58.606Z"
   },
   {
    "duration": 14,
    "start_time": "2023-01-23T12:12:58.627Z"
   },
   {
    "duration": 12,
    "start_time": "2023-01-23T12:12:58.643Z"
   },
   {
    "duration": 19,
    "start_time": "2023-01-23T12:12:58.657Z"
   },
   {
    "duration": 14,
    "start_time": "2023-01-23T12:12:58.678Z"
   },
   {
    "duration": 8,
    "start_time": "2023-01-23T12:13:07.032Z"
   },
   {
    "duration": 27,
    "start_time": "2023-01-23T12:13:09.241Z"
   },
   {
    "duration": 14,
    "start_time": "2023-01-23T12:13:27.608Z"
   },
   {
    "duration": 11,
    "start_time": "2023-01-23T12:13:31.705Z"
   },
   {
    "duration": 12,
    "start_time": "2023-01-23T12:13:37.755Z"
   },
   {
    "duration": 5,
    "start_time": "2023-01-23T12:14:03.082Z"
   },
   {
    "duration": 7,
    "start_time": "2023-01-23T12:14:19.626Z"
   },
   {
    "duration": 14,
    "start_time": "2023-01-23T12:14:35.971Z"
   },
   {
    "duration": 6,
    "start_time": "2023-01-23T12:14:57.051Z"
   },
   {
    "duration": 9,
    "start_time": "2023-01-23T12:15:07.348Z"
   },
   {
    "duration": 25,
    "start_time": "2023-01-23T12:15:51.447Z"
   },
   {
    "duration": 16,
    "start_time": "2023-01-23T12:15:56.223Z"
   },
   {
    "duration": 14,
    "start_time": "2023-01-23T12:16:00.907Z"
   },
   {
    "duration": 29,
    "start_time": "2023-01-23T12:16:08.456Z"
   },
   {
    "duration": 26,
    "start_time": "2023-01-23T12:16:49.423Z"
   },
   {
    "duration": 17,
    "start_time": "2023-01-23T12:20:10.004Z"
   },
   {
    "duration": 41,
    "start_time": "2023-01-23T12:23:08.597Z"
   },
   {
    "duration": 5,
    "start_time": "2023-01-23T12:23:47.177Z"
   },
   {
    "duration": 18,
    "start_time": "2023-01-23T12:23:53.129Z"
   },
   {
    "duration": 4,
    "start_time": "2023-01-23T12:24:10.761Z"
   },
   {
    "duration": 14,
    "start_time": "2023-01-23T12:24:12.557Z"
   },
   {
    "duration": 5,
    "start_time": "2023-01-23T12:25:18.178Z"
   },
   {
    "duration": 12,
    "start_time": "2023-01-23T12:25:20.144Z"
   },
   {
    "duration": 3,
    "start_time": "2023-01-23T12:25:28.035Z"
   },
   {
    "duration": 14,
    "start_time": "2023-01-23T12:25:28.912Z"
   },
   {
    "duration": 3,
    "start_time": "2023-01-23T12:25:40.617Z"
   },
   {
    "duration": 19,
    "start_time": "2023-01-23T12:25:43.343Z"
   },
   {
    "duration": 6,
    "start_time": "2023-01-23T12:26:47.663Z"
   },
   {
    "duration": 18,
    "start_time": "2023-01-23T12:26:49.910Z"
   },
   {
    "duration": 18,
    "start_time": "2023-01-23T12:26:53.781Z"
   },
   {
    "duration": 5,
    "start_time": "2023-01-23T12:27:15.500Z"
   },
   {
    "duration": 14,
    "start_time": "2023-01-23T12:27:16.630Z"
   },
   {
    "duration": 21,
    "start_time": "2023-01-23T12:27:19.445Z"
   },
   {
    "duration": 4,
    "start_time": "2023-01-23T12:27:28.393Z"
   },
   {
    "duration": 14,
    "start_time": "2023-01-23T12:27:29.083Z"
   },
   {
    "duration": 6,
    "start_time": "2023-01-23T12:27:58.806Z"
   },
   {
    "duration": 12,
    "start_time": "2023-01-23T12:28:00.533Z"
   },
   {
    "duration": 21,
    "start_time": "2023-01-23T12:28:09.176Z"
   },
   {
    "duration": 5,
    "start_time": "2023-01-23T12:28:20.581Z"
   },
   {
    "duration": 13,
    "start_time": "2023-01-23T12:28:23.842Z"
   },
   {
    "duration": 5,
    "start_time": "2023-01-23T12:28:32.485Z"
   },
   {
    "duration": 13,
    "start_time": "2023-01-23T12:28:35.482Z"
   },
   {
    "duration": 22,
    "start_time": "2023-01-23T12:28:39.478Z"
   },
   {
    "duration": 5,
    "start_time": "2023-01-23T12:28:56.560Z"
   },
   {
    "duration": 12,
    "start_time": "2023-01-23T12:29:08.777Z"
   },
   {
    "duration": 10,
    "start_time": "2023-01-23T12:32:05.699Z"
   },
   {
    "duration": 10,
    "start_time": "2023-01-23T12:32:15.612Z"
   },
   {
    "duration": 11,
    "start_time": "2023-01-23T12:32:37.698Z"
   },
   {
    "duration": 6,
    "start_time": "2023-01-23T12:32:42.911Z"
   },
   {
    "duration": 19,
    "start_time": "2023-01-23T12:32:44.571Z"
   },
   {
    "duration": 5,
    "start_time": "2023-01-23T12:33:01.265Z"
   },
   {
    "duration": 30,
    "start_time": "2023-01-23T12:33:01.801Z"
   },
   {
    "duration": 1441,
    "start_time": "2023-01-23T12:34:02.923Z"
   },
   {
    "duration": 28,
    "start_time": "2023-01-23T12:42:33.499Z"
   },
   {
    "duration": 23,
    "start_time": "2023-01-23T12:43:49.080Z"
   },
   {
    "duration": 9,
    "start_time": "2023-01-23T12:44:13.121Z"
   },
   {
    "duration": 885,
    "start_time": "2023-01-23T12:44:19.982Z"
   },
   {
    "duration": 21,
    "start_time": "2023-01-23T12:44:25.657Z"
   },
   {
    "duration": 12,
    "start_time": "2023-01-23T12:44:31.263Z"
   },
   {
    "duration": 339,
    "start_time": "2023-01-23T12:44:36.086Z"
   },
   {
    "duration": 15,
    "start_time": "2023-01-23T12:45:33.674Z"
   },
   {
    "duration": 8,
    "start_time": "2023-01-23T12:46:30.042Z"
   },
   {
    "duration": 12,
    "start_time": "2023-01-23T12:46:35.828Z"
   },
   {
    "duration": 317,
    "start_time": "2023-01-23T12:47:29.074Z"
   },
   {
    "duration": 382,
    "start_time": "2023-01-23T12:47:38.582Z"
   },
   {
    "duration": 161,
    "start_time": "2023-01-23T12:47:45.524Z"
   },
   {
    "duration": 164,
    "start_time": "2023-01-23T12:47:56.693Z"
   },
   {
    "duration": 166,
    "start_time": "2023-01-23T12:48:00.930Z"
   },
   {
    "duration": 398,
    "start_time": "2023-01-23T12:48:15.827Z"
   },
   {
    "duration": 353,
    "start_time": "2023-01-23T12:48:22.906Z"
   },
   {
    "duration": 351,
    "start_time": "2023-01-23T12:48:32.357Z"
   },
   {
    "duration": 355,
    "start_time": "2023-01-23T12:49:21.138Z"
   },
   {
    "duration": 368,
    "start_time": "2023-01-23T12:49:44.473Z"
   },
   {
    "duration": 389,
    "start_time": "2023-01-23T12:49:57.089Z"
   },
   {
    "duration": 22,
    "start_time": "2023-01-23T12:51:27.658Z"
   },
   {
    "duration": 10,
    "start_time": "2023-01-23T12:51:50.371Z"
   },
   {
    "duration": 11,
    "start_time": "2023-01-23T12:52:11.495Z"
   },
   {
    "duration": 114,
    "start_time": "2023-01-23T12:52:34.252Z"
   },
   {
    "duration": 269,
    "start_time": "2023-01-23T12:52:44.219Z"
   },
   {
    "duration": 313,
    "start_time": "2023-01-23T12:53:09.575Z"
   },
   {
    "duration": 318,
    "start_time": "2023-01-23T12:53:16.832Z"
   },
   {
    "duration": 299,
    "start_time": "2023-01-23T12:53:44.229Z"
   },
   {
    "duration": 207,
    "start_time": "2023-01-23T12:54:17.654Z"
   },
   {
    "duration": 169,
    "start_time": "2023-01-23T12:56:03.722Z"
   },
   {
    "duration": 23,
    "start_time": "2023-01-23T12:58:15.052Z"
   },
   {
    "duration": 66,
    "start_time": "2023-01-23T12:58:31.982Z"
   },
   {
    "duration": 55,
    "start_time": "2023-01-23T12:58:57.040Z"
   },
   {
    "duration": 20,
    "start_time": "2023-01-23T13:00:02.409Z"
   },
   {
    "duration": 1365,
    "start_time": "2023-01-23T13:00:10.130Z"
   },
   {
    "duration": 12,
    "start_time": "2023-01-23T13:00:18.999Z"
   },
   {
    "duration": 61,
    "start_time": "2023-01-23T13:00:42.341Z"
   },
   {
    "duration": 14,
    "start_time": "2023-01-23T13:03:14.555Z"
   },
   {
    "duration": 11,
    "start_time": "2023-01-23T13:03:30.241Z"
   },
   {
    "duration": 15,
    "start_time": "2023-01-23T13:03:49.268Z"
   },
   {
    "duration": 153,
    "start_time": "2023-01-23T13:04:09.440Z"
   },
   {
    "duration": 170,
    "start_time": "2023-01-23T13:04:14.430Z"
   },
   {
    "duration": 154,
    "start_time": "2023-01-23T13:04:29.830Z"
   },
   {
    "duration": 171,
    "start_time": "2023-01-23T13:04:38.866Z"
   },
   {
    "duration": 603,
    "start_time": "2023-01-23T13:04:47.921Z"
   },
   {
    "duration": 181,
    "start_time": "2023-01-23T13:05:03.057Z"
   },
   {
    "duration": 218,
    "start_time": "2023-01-23T13:05:14.064Z"
   },
   {
    "duration": 250,
    "start_time": "2023-01-23T13:05:23.096Z"
   },
   {
    "duration": 240,
    "start_time": "2023-01-23T13:05:31.415Z"
   },
   {
    "duration": 142,
    "start_time": "2023-01-23T13:05:36.267Z"
   },
   {
    "duration": 114,
    "start_time": "2023-01-23T13:05:46.034Z"
   },
   {
    "duration": 135,
    "start_time": "2023-01-23T13:06:08.181Z"
   },
   {
    "duration": 435,
    "start_time": "2023-01-23T13:06:56.418Z"
   },
   {
    "duration": 395,
    "start_time": "2023-01-23T13:07:56.032Z"
   },
   {
    "duration": 64,
    "start_time": "2023-01-23T13:57:43.625Z"
   },
   {
    "duration": 10,
    "start_time": "2023-01-23T13:57:51.960Z"
   },
   {
    "duration": 8,
    "start_time": "2023-01-23T13:57:54.761Z"
   },
   {
    "duration": 1493,
    "start_time": "2023-01-23T13:58:00.866Z"
   },
   {
    "duration": 150,
    "start_time": "2023-01-23T13:58:02.362Z"
   },
   {
    "duration": 5,
    "start_time": "2023-01-23T13:58:02.514Z"
   },
   {
    "duration": 30,
    "start_time": "2023-01-23T13:58:02.521Z"
   },
   {
    "duration": 4,
    "start_time": "2023-01-23T13:58:02.553Z"
   },
   {
    "duration": 50,
    "start_time": "2023-01-23T13:58:02.559Z"
   },
   {
    "duration": 34,
    "start_time": "2023-01-23T13:58:02.612Z"
   },
   {
    "duration": 44,
    "start_time": "2023-01-23T13:58:02.649Z"
   },
   {
    "duration": 31,
    "start_time": "2023-01-23T13:58:02.698Z"
   },
   {
    "duration": 12,
    "start_time": "2023-01-23T13:58:02.742Z"
   },
   {
    "duration": 14,
    "start_time": "2023-01-23T13:58:02.755Z"
   },
   {
    "duration": 19,
    "start_time": "2023-01-23T13:58:02.771Z"
   },
   {
    "duration": 12,
    "start_time": "2023-01-23T13:58:02.794Z"
   },
   {
    "duration": 13,
    "start_time": "2023-01-23T13:58:02.808Z"
   },
   {
    "duration": 9,
    "start_time": "2023-01-23T13:58:02.839Z"
   },
   {
    "duration": 38,
    "start_time": "2023-01-23T13:58:02.850Z"
   },
   {
    "duration": 10,
    "start_time": "2023-01-23T13:58:02.891Z"
   },
   {
    "duration": 14,
    "start_time": "2023-01-23T13:58:02.904Z"
   },
   {
    "duration": 20,
    "start_time": "2023-01-23T13:58:02.921Z"
   },
   {
    "duration": 14,
    "start_time": "2023-01-23T13:58:02.944Z"
   },
   {
    "duration": 9,
    "start_time": "2023-01-23T13:58:02.960Z"
   },
   {
    "duration": 24,
    "start_time": "2023-01-23T13:58:02.971Z"
   },
   {
    "duration": 20,
    "start_time": "2023-01-23T13:58:02.997Z"
   },
   {
    "duration": 13,
    "start_time": "2023-01-23T13:58:03.041Z"
   },
   {
    "duration": 23,
    "start_time": "2023-01-23T13:58:03.056Z"
   },
   {
    "duration": 5,
    "start_time": "2023-01-23T13:58:03.082Z"
   },
   {
    "duration": 438,
    "start_time": "2023-01-23T13:58:03.090Z"
   },
   {
    "duration": 353,
    "start_time": "2023-01-23T13:58:03.533Z"
   },
   {
    "duration": 87,
    "start_time": "2023-01-23T13:58:03.889Z"
   },
   {
    "duration": 36,
    "start_time": "2023-01-23T13:58:12.729Z"
   },
   {
    "duration": 14,
    "start_time": "2023-01-23T13:58:18.125Z"
   },
   {
    "duration": 10,
    "start_time": "2023-01-23T13:58:52.993Z"
   },
   {
    "duration": 7,
    "start_time": "2023-01-23T13:59:08.678Z"
   },
   {
    "duration": 5,
    "start_time": "2023-01-23T13:59:12.062Z"
   },
   {
    "duration": 1140,
    "start_time": "2023-01-23T14:00:17.322Z"
   },
   {
    "duration": 12,
    "start_time": "2023-01-23T14:00:22.276Z"
   },
   {
    "duration": 5,
    "start_time": "2023-01-23T14:00:26.609Z"
   },
   {
    "duration": 6,
    "start_time": "2023-01-23T14:00:26.802Z"
   },
   {
    "duration": 6,
    "start_time": "2023-01-23T14:00:27.553Z"
   },
   {
    "duration": 26,
    "start_time": "2023-01-23T14:00:30.764Z"
   },
   {
    "duration": 18,
    "start_time": "2023-01-23T14:00:59.113Z"
   },
   {
    "duration": 8,
    "start_time": "2023-01-23T14:01:13.451Z"
   },
   {
    "duration": 7,
    "start_time": "2023-01-23T14:01:14.324Z"
   },
   {
    "duration": 7,
    "start_time": "2023-01-23T14:01:18.304Z"
   },
   {
    "duration": 24,
    "start_time": "2023-01-23T14:01:18.789Z"
   },
   {
    "duration": 63,
    "start_time": "2023-01-24T06:32:44.892Z"
   },
   {
    "duration": 45,
    "start_time": "2023-01-24T06:32:51.566Z"
   },
   {
    "duration": 1360,
    "start_time": "2023-01-24T06:32:55.316Z"
   },
   {
    "duration": 244,
    "start_time": "2023-01-24T06:32:56.679Z"
   },
   {
    "duration": 4,
    "start_time": "2023-01-24T06:32:56.925Z"
   },
   {
    "duration": 37,
    "start_time": "2023-01-24T06:32:56.932Z"
   },
   {
    "duration": 7,
    "start_time": "2023-01-24T06:32:56.970Z"
   },
   {
    "duration": 45,
    "start_time": "2023-01-24T06:32:56.978Z"
   },
   {
    "duration": 11,
    "start_time": "2023-01-24T06:32:57.024Z"
   },
   {
    "duration": 45,
    "start_time": "2023-01-24T06:32:57.036Z"
   },
   {
    "duration": 39,
    "start_time": "2023-01-24T06:32:57.083Z"
   },
   {
    "duration": 14,
    "start_time": "2023-01-24T06:32:57.126Z"
   },
   {
    "duration": 34,
    "start_time": "2023-01-24T06:32:57.142Z"
   },
   {
    "duration": 11,
    "start_time": "2023-01-24T06:32:57.178Z"
   },
   {
    "duration": 17,
    "start_time": "2023-01-24T06:32:57.191Z"
   },
   {
    "duration": 8,
    "start_time": "2023-01-24T06:32:57.210Z"
   },
   {
    "duration": 21,
    "start_time": "2023-01-24T06:32:57.219Z"
   },
   {
    "duration": 24,
    "start_time": "2023-01-24T06:32:57.241Z"
   },
   {
    "duration": 10,
    "start_time": "2023-01-24T06:32:57.270Z"
   },
   {
    "duration": 24,
    "start_time": "2023-01-24T06:32:57.282Z"
   },
   {
    "duration": 18,
    "start_time": "2023-01-24T06:32:57.308Z"
   },
   {
    "duration": 40,
    "start_time": "2023-01-24T06:32:57.328Z"
   },
   {
    "duration": 19,
    "start_time": "2023-01-24T06:32:57.370Z"
   },
   {
    "duration": 21,
    "start_time": "2023-01-24T06:32:57.390Z"
   },
   {
    "duration": 41,
    "start_time": "2023-01-24T06:32:57.412Z"
   },
   {
    "duration": 26,
    "start_time": "2023-01-24T06:32:57.455Z"
   },
   {
    "duration": 19,
    "start_time": "2023-01-24T06:32:57.483Z"
   },
   {
    "duration": 14,
    "start_time": "2023-01-24T06:32:57.505Z"
   },
   {
    "duration": 415,
    "start_time": "2023-01-24T06:32:57.521Z"
   },
   {
    "duration": 273,
    "start_time": "2023-01-24T06:32:57.939Z"
   },
   {
    "duration": 7,
    "start_time": "2023-01-24T06:32:58.214Z"
   },
   {
    "duration": 16,
    "start_time": "2023-01-24T06:32:58.222Z"
   },
   {
    "duration": 16,
    "start_time": "2023-01-24T06:32:58.249Z"
   },
   {
    "duration": 30,
    "start_time": "2023-01-24T06:32:58.268Z"
   },
   {
    "duration": 6,
    "start_time": "2023-01-24T06:33:29.835Z"
   },
   {
    "duration": 13,
    "start_time": "2023-01-24T06:35:41.977Z"
   },
   {
    "duration": 358,
    "start_time": "2023-01-24T06:38:34.468Z"
   },
   {
    "duration": 376,
    "start_time": "2023-01-24T06:38:49.018Z"
   },
   {
    "duration": 411,
    "start_time": "2023-01-24T06:39:11.187Z"
   },
   {
    "duration": 85,
    "start_time": "2023-01-24T06:39:21.428Z"
   },
   {
    "duration": 365,
    "start_time": "2023-01-24T06:39:25.798Z"
   },
   {
    "duration": 12,
    "start_time": "2023-01-24T06:39:52.475Z"
   },
   {
    "duration": 65,
    "start_time": "2023-01-24T06:43:35.113Z"
   },
   {
    "duration": 405,
    "start_time": "2023-01-24T06:45:13.528Z"
   },
   {
    "duration": 412,
    "start_time": "2023-01-24T06:45:18.379Z"
   },
   {
    "duration": 420,
    "start_time": "2023-01-24T06:45:48.792Z"
   },
   {
    "duration": 302,
    "start_time": "2023-01-24T06:46:00.608Z"
   },
   {
    "duration": 429,
    "start_time": "2023-01-24T06:46:05.433Z"
   },
   {
    "duration": 18,
    "start_time": "2023-01-24T06:48:58.604Z"
   },
   {
    "duration": 274,
    "start_time": "2023-01-24T06:50:33.687Z"
   },
   {
    "duration": 10,
    "start_time": "2023-01-24T06:51:49.476Z"
   },
   {
    "duration": 10,
    "start_time": "2023-01-24T06:52:15.281Z"
   },
   {
    "duration": 13,
    "start_time": "2023-01-24T06:52:21.084Z"
   },
   {
    "duration": 36,
    "start_time": "2023-01-24T06:52:46.965Z"
   },
   {
    "duration": 14,
    "start_time": "2023-01-24T06:53:11.854Z"
   },
   {
    "duration": 6,
    "start_time": "2023-01-24T06:53:33.132Z"
   },
   {
    "duration": 8,
    "start_time": "2023-01-24T06:53:58.487Z"
   },
   {
    "duration": 11,
    "start_time": "2023-01-24T06:55:20.378Z"
   },
   {
    "duration": 7,
    "start_time": "2023-01-24T06:56:28.296Z"
   },
   {
    "duration": 7,
    "start_time": "2023-01-24T06:56:37.538Z"
   },
   {
    "duration": 42,
    "start_time": "2023-01-24T06:56:49.077Z"
   },
   {
    "duration": 10,
    "start_time": "2023-01-24T06:57:07.966Z"
   },
   {
    "duration": 30,
    "start_time": "2023-01-24T06:59:14.104Z"
   },
   {
    "duration": 134,
    "start_time": "2023-01-24T07:00:07.110Z"
   },
   {
    "duration": 8,
    "start_time": "2023-01-24T07:00:09.904Z"
   },
   {
    "duration": 23,
    "start_time": "2023-01-24T07:00:22.717Z"
   },
   {
    "duration": 468,
    "start_time": "2023-01-24T07:01:23.649Z"
   },
   {
    "duration": 103,
    "start_time": "2023-01-24T07:01:48.364Z"
   },
   {
    "duration": 21,
    "start_time": "2023-01-24T07:02:04.164Z"
   },
   {
    "duration": 287,
    "start_time": "2023-01-24T07:02:09.338Z"
   },
   {
    "duration": 16,
    "start_time": "2023-01-24T07:02:50.396Z"
   },
   {
    "duration": 17,
    "start_time": "2023-01-24T07:03:01.467Z"
   },
   {
    "duration": 30,
    "start_time": "2023-01-24T07:03:06.983Z"
   },
   {
    "duration": 40,
    "start_time": "2023-01-24T07:03:22.048Z"
   },
   {
    "duration": 627,
    "start_time": "2023-01-24T07:03:31.112Z"
   },
   {
    "duration": 33,
    "start_time": "2023-01-24T07:03:38.794Z"
   },
   {
    "duration": 7,
    "start_time": "2023-01-24T07:04:13.276Z"
   },
   {
    "duration": 12,
    "start_time": "2023-01-24T07:04:53.674Z"
   },
   {
    "duration": 265,
    "start_time": "2023-01-24T07:05:48.358Z"
   },
   {
    "duration": 139,
    "start_time": "2023-01-24T07:06:00.238Z"
   },
   {
    "duration": 31,
    "start_time": "2023-01-24T07:06:06.930Z"
   },
   {
    "duration": 16,
    "start_time": "2023-01-24T07:06:35.529Z"
   },
   {
    "duration": 11,
    "start_time": "2023-01-24T07:06:45.531Z"
   },
   {
    "duration": 119,
    "start_time": "2023-01-24T07:06:52.987Z"
   },
   {
    "duration": 185,
    "start_time": "2023-01-24T07:07:05.296Z"
   },
   {
    "duration": 217,
    "start_time": "2023-01-24T07:07:23.535Z"
   },
   {
    "duration": 12,
    "start_time": "2023-01-24T07:08:50.479Z"
   },
   {
    "duration": 11,
    "start_time": "2023-01-24T07:08:59.020Z"
   },
   {
    "duration": 11,
    "start_time": "2023-01-24T07:09:30.464Z"
   },
   {
    "duration": 153,
    "start_time": "2023-01-24T07:10:01.570Z"
   },
   {
    "duration": 476,
    "start_time": "2023-01-24T07:10:25.234Z"
   },
   {
    "duration": 209,
    "start_time": "2023-01-24T07:10:36.070Z"
   },
   {
    "duration": 139,
    "start_time": "2023-01-24T07:10:43.551Z"
   },
   {
    "duration": 184,
    "start_time": "2023-01-24T07:10:47.395Z"
   },
   {
    "duration": 184,
    "start_time": "2023-01-24T07:11:09.183Z"
   },
   {
    "duration": 259,
    "start_time": "2023-01-24T07:11:24.675Z"
   },
   {
    "duration": 17,
    "start_time": "2023-01-24T07:13:43.268Z"
   },
   {
    "duration": 42,
    "start_time": "2023-01-24T07:13:46.632Z"
   },
   {
    "duration": 15,
    "start_time": "2023-01-24T07:13:56.372Z"
   },
   {
    "duration": 587,
    "start_time": "2023-01-24T07:14:20.811Z"
   },
   {
    "duration": 20,
    "start_time": "2023-01-24T07:14:47.961Z"
   },
   {
    "duration": 534,
    "start_time": "2023-01-24T07:15:34.861Z"
   },
   {
    "duration": 567,
    "start_time": "2023-01-24T07:15:46.023Z"
   },
   {
    "duration": 605,
    "start_time": "2023-01-24T07:16:00.313Z"
   },
   {
    "duration": 17,
    "start_time": "2023-01-24T07:16:16.302Z"
   },
   {
    "duration": 5,
    "start_time": "2023-01-24T07:17:09.044Z"
   },
   {
    "duration": 13,
    "start_time": "2023-01-24T07:17:11.273Z"
   },
   {
    "duration": 5,
    "start_time": "2023-01-24T07:17:41.812Z"
   },
   {
    "duration": 8,
    "start_time": "2023-01-24T07:17:54.815Z"
   },
   {
    "duration": 16,
    "start_time": "2023-01-24T07:18:06.968Z"
   },
   {
    "duration": 607,
    "start_time": "2023-01-24T07:18:42.551Z"
   },
   {
    "duration": 12,
    "start_time": "2023-01-24T07:19:22.601Z"
   },
   {
    "duration": 9,
    "start_time": "2023-01-24T07:19:39.979Z"
   },
   {
    "duration": 10,
    "start_time": "2023-01-24T07:20:41.314Z"
   },
   {
    "duration": 129,
    "start_time": "2023-01-24T07:20:46.906Z"
   },
   {
    "duration": 10,
    "start_time": "2023-01-24T07:20:57.487Z"
   },
   {
    "duration": 16,
    "start_time": "2023-01-24T07:21:18.110Z"
   },
   {
    "duration": 136,
    "start_time": "2023-01-24T07:21:31.514Z"
   },
   {
    "duration": 166,
    "start_time": "2023-01-24T07:21:45.741Z"
   },
   {
    "duration": 15,
    "start_time": "2023-01-24T07:21:57.723Z"
   },
   {
    "duration": 19,
    "start_time": "2023-01-24T07:22:34.174Z"
   },
   {
    "duration": 143,
    "start_time": "2023-01-24T07:22:41.956Z"
   },
   {
    "duration": 22,
    "start_time": "2023-01-24T07:25:37.370Z"
   },
   {
    "duration": 196,
    "start_time": "2023-01-24T07:25:48.394Z"
   },
   {
    "duration": 189,
    "start_time": "2023-01-24T07:26:16.454Z"
   },
   {
    "duration": 210,
    "start_time": "2023-01-24T07:27:43.709Z"
   },
   {
    "duration": 26,
    "start_time": "2023-01-24T07:29:02.221Z"
   },
   {
    "duration": 193,
    "start_time": "2023-01-24T07:32:58.014Z"
   },
   {
    "duration": 281,
    "start_time": "2023-01-24T07:33:05.399Z"
   },
   {
    "duration": 233,
    "start_time": "2023-01-24T07:34:05.459Z"
   },
   {
    "duration": 162,
    "start_time": "2023-01-24T07:35:32.743Z"
   },
   {
    "duration": 231,
    "start_time": "2023-01-24T07:35:50.263Z"
   },
   {
    "duration": 210,
    "start_time": "2023-01-24T07:36:34.536Z"
   },
   {
    "duration": 200,
    "start_time": "2023-01-24T07:37:26.618Z"
   },
   {
    "duration": 171,
    "start_time": "2023-01-24T07:37:34.734Z"
   },
   {
    "duration": 139,
    "start_time": "2023-01-24T07:37:40.178Z"
   },
   {
    "duration": 235,
    "start_time": "2023-01-24T07:37:57.051Z"
   },
   {
    "duration": 33,
    "start_time": "2023-01-24T07:41:55.795Z"
   },
   {
    "duration": 51,
    "start_time": "2023-01-24T07:42:22.806Z"
   },
   {
    "duration": 24,
    "start_time": "2023-01-24T07:42:36.037Z"
   },
   {
    "duration": 26,
    "start_time": "2023-01-24T07:42:41.664Z"
   },
   {
    "duration": 24,
    "start_time": "2023-01-24T07:42:49.742Z"
   },
   {
    "duration": 6,
    "start_time": "2023-01-24T07:47:50.543Z"
   },
   {
    "duration": 21,
    "start_time": "2023-01-24T07:47:53.502Z"
   },
   {
    "duration": 5,
    "start_time": "2023-01-24T07:48:10.420Z"
   },
   {
    "duration": 5,
    "start_time": "2023-01-24T07:49:57.970Z"
   },
   {
    "duration": 5,
    "start_time": "2023-01-24T07:50:14.117Z"
   },
   {
    "duration": 5,
    "start_time": "2023-01-24T07:51:06.438Z"
   },
   {
    "duration": 310,
    "start_time": "2023-01-24T07:52:12.483Z"
   },
   {
    "duration": 5,
    "start_time": "2023-01-24T07:53:20.723Z"
   },
   {
    "duration": 528,
    "start_time": "2023-01-24T07:53:21.086Z"
   },
   {
    "duration": 5,
    "start_time": "2023-01-24T07:53:30.533Z"
   },
   {
    "duration": 253,
    "start_time": "2023-01-24T07:53:31.005Z"
   },
   {
    "duration": 5,
    "start_time": "2023-01-24T07:56:21.398Z"
   },
   {
    "duration": 23,
    "start_time": "2023-01-24T07:57:28.609Z"
   },
   {
    "duration": 11,
    "start_time": "2023-01-24T07:57:52.689Z"
   },
   {
    "duration": 8,
    "start_time": "2023-01-24T07:57:58.098Z"
   },
   {
    "duration": 7,
    "start_time": "2023-01-24T07:58:20.019Z"
   },
   {
    "duration": 10,
    "start_time": "2023-01-24T07:58:27.442Z"
   },
   {
    "duration": 45,
    "start_time": "2023-01-24T08:00:48.840Z"
   },
   {
    "duration": 11,
    "start_time": "2023-01-24T08:01:57.395Z"
   },
   {
    "duration": 11,
    "start_time": "2023-01-24T08:02:09.325Z"
   },
   {
    "duration": 8,
    "start_time": "2023-01-24T08:02:39.653Z"
   },
   {
    "duration": 108,
    "start_time": "2023-01-24T08:02:52.361Z"
   },
   {
    "duration": 12,
    "start_time": "2023-01-24T08:03:06.587Z"
   },
   {
    "duration": 148,
    "start_time": "2023-01-24T08:03:10.514Z"
   },
   {
    "duration": 8,
    "start_time": "2023-01-24T08:03:31.597Z"
   },
   {
    "duration": 141,
    "start_time": "2023-01-24T08:03:53.954Z"
   },
   {
    "duration": 146,
    "start_time": "2023-01-24T08:04:17.530Z"
   },
   {
    "duration": 149,
    "start_time": "2023-01-24T08:04:45.286Z"
   },
   {
    "duration": 14,
    "start_time": "2023-01-24T08:04:54.073Z"
   },
   {
    "duration": 285,
    "start_time": "2023-01-24T08:05:05.098Z"
   },
   {
    "duration": 12,
    "start_time": "2023-01-24T08:05:11.266Z"
   },
   {
    "duration": 12,
    "start_time": "2023-01-24T08:05:42.426Z"
   },
   {
    "duration": 17,
    "start_time": "2023-01-24T08:06:39.605Z"
   },
   {
    "duration": 12,
    "start_time": "2023-01-24T08:06:55.762Z"
   },
   {
    "duration": 9,
    "start_time": "2023-01-24T08:07:30.013Z"
   },
   {
    "duration": 9,
    "start_time": "2023-01-24T08:07:35.579Z"
   },
   {
    "duration": 6,
    "start_time": "2023-01-24T08:08:18.941Z"
   },
   {
    "duration": 12,
    "start_time": "2023-01-24T08:08:28.231Z"
   },
   {
    "duration": 12,
    "start_time": "2023-01-24T08:10:04.360Z"
   },
   {
    "duration": 14,
    "start_time": "2023-01-24T08:10:08.993Z"
   },
   {
    "duration": 16,
    "start_time": "2023-01-24T08:10:24.305Z"
   },
   {
    "duration": 12,
    "start_time": "2023-01-24T08:11:07.364Z"
   },
   {
    "duration": 18,
    "start_time": "2023-01-24T08:12:24.998Z"
   },
   {
    "duration": 301,
    "start_time": "2023-01-24T08:23:38.728Z"
   },
   {
    "duration": 16,
    "start_time": "2023-01-24T08:24:03.881Z"
   },
   {
    "duration": 268,
    "start_time": "2023-01-24T08:24:31.395Z"
   },
   {
    "duration": 266,
    "start_time": "2023-01-24T08:24:54.784Z"
   },
   {
    "duration": 322,
    "start_time": "2023-01-24T08:25:25.558Z"
   },
   {
    "duration": 22,
    "start_time": "2023-01-24T08:26:10.656Z"
   },
   {
    "duration": 21,
    "start_time": "2023-01-24T08:27:03.843Z"
   },
   {
    "duration": 4,
    "start_time": "2023-01-24T08:28:12.613Z"
   },
   {
    "duration": 9,
    "start_time": "2023-01-24T08:28:18.659Z"
   },
   {
    "duration": 24,
    "start_time": "2023-01-24T08:28:38.790Z"
   },
   {
    "duration": 272,
    "start_time": "2023-01-24T08:29:04.495Z"
   },
   {
    "duration": 245,
    "start_time": "2023-01-24T08:29:11.803Z"
   },
   {
    "duration": 244,
    "start_time": "2023-01-24T08:29:18.895Z"
   },
   {
    "duration": 274,
    "start_time": "2023-01-24T08:29:29.488Z"
   },
   {
    "duration": 266,
    "start_time": "2023-01-24T08:31:07.283Z"
   },
   {
    "duration": 275,
    "start_time": "2023-01-24T08:31:29.450Z"
   },
   {
    "duration": 264,
    "start_time": "2023-01-24T08:34:06.880Z"
   },
   {
    "duration": 255,
    "start_time": "2023-01-24T08:34:16.560Z"
   },
   {
    "duration": 31,
    "start_time": "2023-01-24T08:40:01.607Z"
   },
   {
    "duration": 95,
    "start_time": "2023-01-24T08:40:36.837Z"
   },
   {
    "duration": 22,
    "start_time": "2023-01-24T08:41:03.224Z"
   },
   {
    "duration": 319,
    "start_time": "2023-01-24T08:41:08.719Z"
   },
   {
    "duration": 314,
    "start_time": "2023-01-24T08:41:47.838Z"
   },
   {
    "duration": 316,
    "start_time": "2023-01-24T08:42:00.734Z"
   },
   {
    "duration": 133,
    "start_time": "2023-01-24T08:42:32.501Z"
   },
   {
    "duration": 156,
    "start_time": "2023-01-24T08:42:49.188Z"
   },
   {
    "duration": 316,
    "start_time": "2023-01-24T08:44:36.792Z"
   },
   {
    "duration": 283,
    "start_time": "2023-01-24T08:44:56.029Z"
   },
   {
    "duration": 23,
    "start_time": "2023-01-24T08:45:36.435Z"
   },
   {
    "duration": 305,
    "start_time": "2023-01-24T08:45:44.104Z"
   },
   {
    "duration": 330,
    "start_time": "2023-01-24T08:45:49.134Z"
   },
   {
    "duration": 419,
    "start_time": "2023-01-24T08:47:20.486Z"
   },
   {
    "duration": 11,
    "start_time": "2023-01-24T08:47:49.123Z"
   },
   {
    "duration": 9,
    "start_time": "2023-01-24T08:47:54.756Z"
   },
   {
    "duration": 431,
    "start_time": "2023-01-24T08:48:17.836Z"
   },
   {
    "duration": 939,
    "start_time": "2023-01-24T08:48:28.415Z"
   },
   {
    "duration": 355,
    "start_time": "2023-01-24T08:48:39.480Z"
   },
   {
    "duration": 341,
    "start_time": "2023-01-24T08:48:43.308Z"
   },
   {
    "duration": 450,
    "start_time": "2023-01-24T08:49:02.730Z"
   },
   {
    "duration": 380,
    "start_time": "2023-01-24T08:49:46.707Z"
   },
   {
    "duration": 408,
    "start_time": "2023-01-24T08:49:59.917Z"
   },
   {
    "duration": 34,
    "start_time": "2023-01-24T08:50:28.280Z"
   },
   {
    "duration": 18,
    "start_time": "2023-01-24T08:50:37.488Z"
   },
   {
    "duration": 130,
    "start_time": "2023-01-24T08:50:39.245Z"
   },
   {
    "duration": 347,
    "start_time": "2023-01-24T08:51:01.271Z"
   },
   {
    "duration": 160,
    "start_time": "2023-01-24T08:52:05.923Z"
   },
   {
    "duration": 420,
    "start_time": "2023-01-24T08:52:15.441Z"
   },
   {
    "duration": 360,
    "start_time": "2023-01-24T08:54:16.034Z"
   },
   {
    "duration": 416,
    "start_time": "2023-01-24T08:54:24.893Z"
   },
   {
    "duration": 378,
    "start_time": "2023-01-24T08:54:29.920Z"
   },
   {
    "duration": 8,
    "start_time": "2023-01-24T09:01:00.190Z"
   },
   {
    "duration": 860,
    "start_time": "2023-01-24T09:02:41.028Z"
   },
   {
    "duration": 23,
    "start_time": "2023-01-24T09:02:51.210Z"
   },
   {
    "duration": 23,
    "start_time": "2023-01-24T09:03:08.462Z"
   },
   {
    "duration": 26,
    "start_time": "2023-01-24T09:03:12.138Z"
   },
   {
    "duration": 170,
    "start_time": "2023-01-24T09:05:26.663Z"
   },
   {
    "duration": 129,
    "start_time": "2023-01-24T09:05:46.468Z"
   },
   {
    "duration": 147,
    "start_time": "2023-01-24T09:05:54.543Z"
   },
   {
    "duration": 138,
    "start_time": "2023-01-24T09:06:03.290Z"
   },
   {
    "duration": 150,
    "start_time": "2023-01-24T09:06:32.249Z"
   },
   {
    "duration": 136,
    "start_time": "2023-01-24T09:07:16.483Z"
   },
   {
    "duration": 8,
    "start_time": "2023-01-24T09:08:26.071Z"
   },
   {
    "duration": 9,
    "start_time": "2023-01-24T09:08:46.477Z"
   },
   {
    "duration": 473,
    "start_time": "2023-01-24T09:08:56.540Z"
   },
   {
    "duration": 149,
    "start_time": "2023-01-24T09:09:23.325Z"
   },
   {
    "duration": 16,
    "start_time": "2023-01-24T09:09:43.818Z"
   },
   {
    "duration": 143,
    "start_time": "2023-01-24T09:09:50.059Z"
   },
   {
    "duration": 5,
    "start_time": "2023-01-24T09:10:32.312Z"
   },
   {
    "duration": 27,
    "start_time": "2023-01-24T09:10:38.234Z"
   },
   {
    "duration": 7,
    "start_time": "2023-01-24T09:10:55.506Z"
   },
   {
    "duration": 6,
    "start_time": "2023-01-24T09:11:01.542Z"
   },
   {
    "duration": 24,
    "start_time": "2023-01-24T09:11:06.533Z"
   },
   {
    "duration": 30,
    "start_time": "2023-01-24T09:11:37.129Z"
   },
   {
    "duration": 35,
    "start_time": "2023-01-24T09:11:40.924Z"
   },
   {
    "duration": 23,
    "start_time": "2023-01-24T09:11:50.273Z"
   },
   {
    "duration": 142,
    "start_time": "2023-01-24T09:12:13.295Z"
   },
   {
    "duration": 147,
    "start_time": "2023-01-24T09:12:29.024Z"
   },
   {
    "duration": 61,
    "start_time": "2023-01-24T09:12:34.617Z"
   },
   {
    "duration": 155,
    "start_time": "2023-01-24T09:12:42.509Z"
   },
   {
    "duration": 192,
    "start_time": "2023-01-24T09:12:55.453Z"
   },
   {
    "duration": 137,
    "start_time": "2023-01-24T09:13:59.670Z"
   },
   {
    "duration": 183,
    "start_time": "2023-01-24T09:15:24.093Z"
   },
   {
    "duration": 23,
    "start_time": "2023-01-24T09:15:41.160Z"
   },
   {
    "duration": 149,
    "start_time": "2023-01-24T09:15:58.688Z"
   },
   {
    "duration": 147,
    "start_time": "2023-01-24T09:16:12.954Z"
   },
   {
    "duration": 147,
    "start_time": "2023-01-24T09:16:18.765Z"
   },
   {
    "duration": 25,
    "start_time": "2023-01-24T09:16:46.134Z"
   },
   {
    "duration": 317,
    "start_time": "2023-01-24T09:17:01.245Z"
   },
   {
    "duration": 294,
    "start_time": "2023-01-24T09:17:16.146Z"
   },
   {
    "duration": 268,
    "start_time": "2023-01-24T09:17:34.836Z"
   },
   {
    "duration": 271,
    "start_time": "2023-01-24T09:17:43.194Z"
   },
   {
    "duration": 276,
    "start_time": "2023-01-24T09:17:53.081Z"
   },
   {
    "duration": 309,
    "start_time": "2023-01-24T09:19:22.754Z"
   },
   {
    "duration": 59,
    "start_time": "2023-01-24T09:20:36.021Z"
   },
   {
    "duration": 100,
    "start_time": "2023-01-24T09:20:59.687Z"
   },
   {
    "duration": 44,
    "start_time": "2023-01-24T09:21:14.012Z"
   },
   {
    "duration": 8,
    "start_time": "2023-01-24T09:24:12.872Z"
   },
   {
    "duration": 15,
    "start_time": "2023-01-24T09:24:50.942Z"
   },
   {
    "duration": 8,
    "start_time": "2023-01-24T09:24:59.289Z"
   },
   {
    "duration": 13,
    "start_time": "2023-01-24T09:25:38.989Z"
   },
   {
    "duration": 1055,
    "start_time": "2023-01-24T09:26:57.512Z"
   },
   {
    "duration": 1056,
    "start_time": "2023-01-24T09:27:30.209Z"
   },
   {
    "duration": 1626,
    "start_time": "2023-01-24T09:27:34.247Z"
   },
   {
    "duration": 1179,
    "start_time": "2023-01-24T09:27:48.175Z"
   },
   {
    "duration": 1162,
    "start_time": "2023-01-24T09:28:25.234Z"
   },
   {
    "duration": 893,
    "start_time": "2023-01-24T09:28:52.845Z"
   },
   {
    "duration": 1073,
    "start_time": "2023-01-24T09:29:02.567Z"
   },
   {
    "duration": 3,
    "start_time": "2023-01-24T09:30:10.942Z"
   },
   {
    "duration": 1204,
    "start_time": "2023-01-24T09:30:47.296Z"
   },
   {
    "duration": 484,
    "start_time": "2023-01-24T09:30:53.696Z"
   },
   {
    "duration": 1099,
    "start_time": "2023-01-24T09:31:09.267Z"
   },
   {
    "duration": 1242,
    "start_time": "2023-01-24T09:32:21.647Z"
   },
   {
    "duration": 425,
    "start_time": "2023-01-24T09:33:08.964Z"
   },
   {
    "duration": 561,
    "start_time": "2023-01-24T09:33:39.874Z"
   },
   {
    "duration": 298,
    "start_time": "2023-01-24T09:34:30.023Z"
   },
   {
    "duration": 391,
    "start_time": "2023-01-24T09:35:01.612Z"
   },
   {
    "duration": 330,
    "start_time": "2023-01-24T09:35:07.731Z"
   },
   {
    "duration": 909,
    "start_time": "2023-01-24T09:35:13.316Z"
   },
   {
    "duration": 334,
    "start_time": "2023-01-24T09:35:22.509Z"
   },
   {
    "duration": 174,
    "start_time": "2023-01-24T09:35:43.223Z"
   },
   {
    "duration": 166,
    "start_time": "2023-01-24T09:36:00.977Z"
   },
   {
    "duration": 171,
    "start_time": "2023-01-24T09:36:29.168Z"
   },
   {
    "duration": 167,
    "start_time": "2023-01-24T09:36:37.069Z"
   },
   {
    "duration": 179,
    "start_time": "2023-01-24T09:36:42.924Z"
   },
   {
    "duration": 170,
    "start_time": "2023-01-24T09:37:34.524Z"
   },
   {
    "duration": 154,
    "start_time": "2023-01-24T09:37:48.707Z"
   },
   {
    "duration": 162,
    "start_time": "2023-01-24T09:37:52.963Z"
   },
   {
    "duration": 5,
    "start_time": "2023-01-24T09:39:31.523Z"
   },
   {
    "duration": 225,
    "start_time": "2023-01-24T09:39:55.270Z"
   },
   {
    "duration": 23,
    "start_time": "2023-01-24T09:40:03.278Z"
   },
   {
    "duration": 173,
    "start_time": "2023-01-24T09:40:08.871Z"
   },
   {
    "duration": 182,
    "start_time": "2023-01-24T09:40:16.745Z"
   },
   {
    "duration": 221,
    "start_time": "2023-01-24T09:41:01.099Z"
   },
   {
    "duration": 181,
    "start_time": "2023-01-24T09:41:06.718Z"
   },
   {
    "duration": 174,
    "start_time": "2023-01-24T09:41:18.460Z"
   },
   {
    "duration": 177,
    "start_time": "2023-01-24T09:41:27.422Z"
   },
   {
    "duration": 291,
    "start_time": "2023-01-24T09:42:24.373Z"
   },
   {
    "duration": 173,
    "start_time": "2023-01-24T09:42:34.691Z"
   },
   {
    "duration": 61,
    "start_time": "2023-01-24T09:42:41.035Z"
   },
   {
    "duration": 316,
    "start_time": "2023-01-24T09:42:43.428Z"
   },
   {
    "duration": 202,
    "start_time": "2023-01-24T09:42:54.363Z"
   },
   {
    "duration": 16,
    "start_time": "2023-01-24T09:43:18.547Z"
   },
   {
    "duration": 151,
    "start_time": "2023-01-24T09:43:30.837Z"
   },
   {
    "duration": 311,
    "start_time": "2023-01-24T09:43:44.901Z"
   },
   {
    "duration": 502,
    "start_time": "2023-01-24T09:45:54.181Z"
   },
   {
    "duration": 419,
    "start_time": "2023-01-24T09:46:11.890Z"
   },
   {
    "duration": 318,
    "start_time": "2023-01-24T09:46:28.140Z"
   },
   {
    "duration": 383,
    "start_time": "2023-01-24T09:49:57.595Z"
   },
   {
    "duration": 593,
    "start_time": "2023-01-24T09:50:04.585Z"
   },
   {
    "duration": 643,
    "start_time": "2023-01-24T09:50:10.495Z"
   },
   {
    "duration": 617,
    "start_time": "2023-01-24T09:50:16.589Z"
   },
   {
    "duration": 647,
    "start_time": "2023-01-24T09:50:21.123Z"
   },
   {
    "duration": 668,
    "start_time": "2023-01-24T09:50:36.256Z"
   },
   {
    "duration": 1289,
    "start_time": "2023-01-24T09:51:16.667Z"
   },
   {
    "duration": 718,
    "start_time": "2023-01-24T09:51:22.927Z"
   },
   {
    "duration": 792,
    "start_time": "2023-01-24T09:51:55.906Z"
   },
   {
    "duration": 831,
    "start_time": "2023-01-24T09:52:41.241Z"
   },
   {
    "duration": 809,
    "start_time": "2023-01-24T09:53:10.680Z"
   },
   {
    "duration": 836,
    "start_time": "2023-01-24T09:53:22.979Z"
   },
   {
    "duration": 838,
    "start_time": "2023-01-24T09:53:31.735Z"
   },
   {
    "duration": 50,
    "start_time": "2023-01-24T09:54:01.674Z"
   },
   {
    "duration": 8,
    "start_time": "2023-01-24T09:54:19.109Z"
   },
   {
    "duration": 51,
    "start_time": "2023-01-24T09:55:55.514Z"
   },
   {
    "duration": 8,
    "start_time": "2023-01-24T09:55:59.463Z"
   },
   {
    "duration": 9,
    "start_time": "2023-01-24T09:56:11.244Z"
   },
   {
    "duration": 18,
    "start_time": "2023-01-24T09:56:23.293Z"
   },
   {
    "duration": 28,
    "start_time": "2023-01-24T09:56:57.999Z"
   },
   {
    "duration": 56,
    "start_time": "2023-01-24T09:57:48.317Z"
   },
   {
    "duration": 48,
    "start_time": "2023-01-24T09:57:57.695Z"
   },
   {
    "duration": 54,
    "start_time": "2023-01-24T09:58:05.494Z"
   },
   {
    "duration": 55,
    "start_time": "2023-01-24T09:58:10.218Z"
   },
   {
    "duration": 16,
    "start_time": "2023-01-24T09:58:15.143Z"
   },
   {
    "duration": 3,
    "start_time": "2023-01-24T09:58:17.111Z"
   },
   {
    "duration": 30,
    "start_time": "2023-01-24T09:58:49.635Z"
   },
   {
    "duration": 4,
    "start_time": "2023-01-24T09:58:51.968Z"
   },
   {
    "duration": 26,
    "start_time": "2023-01-24T09:59:17.327Z"
   },
   {
    "duration": 5,
    "start_time": "2023-01-24T09:59:21.500Z"
   },
   {
    "duration": 32,
    "start_time": "2023-01-24T09:59:37.927Z"
   },
   {
    "duration": 4,
    "start_time": "2023-01-24T09:59:39.827Z"
   },
   {
    "duration": 5,
    "start_time": "2023-01-24T09:59:45.603Z"
   },
   {
    "duration": 5,
    "start_time": "2023-01-24T10:01:30.753Z"
   },
   {
    "duration": 7,
    "start_time": "2023-01-24T10:01:33.014Z"
   },
   {
    "duration": 3,
    "start_time": "2023-01-24T10:02:19.411Z"
   },
   {
    "duration": 7,
    "start_time": "2023-01-24T10:02:23.237Z"
   },
   {
    "duration": 8,
    "start_time": "2023-01-24T10:02:34.395Z"
   },
   {
    "duration": 10,
    "start_time": "2023-01-24T10:02:48.606Z"
   },
   {
    "duration": 22,
    "start_time": "2023-01-24T10:09:16.898Z"
   },
   {
    "duration": 7,
    "start_time": "2023-01-24T10:09:47.770Z"
   },
   {
    "duration": 122,
    "start_time": "2023-01-24T10:09:54.550Z"
   },
   {
    "duration": 138,
    "start_time": "2023-01-24T10:10:09.500Z"
   },
   {
    "duration": 149,
    "start_time": "2023-01-24T10:10:28.149Z"
   },
   {
    "duration": 146,
    "start_time": "2023-01-24T10:10:39.986Z"
   },
   {
    "duration": 158,
    "start_time": "2023-01-24T10:12:02.895Z"
   },
   {
    "duration": 150,
    "start_time": "2023-01-24T10:12:29.278Z"
   },
   {
    "duration": 162,
    "start_time": "2023-01-24T10:12:57.159Z"
   },
   {
    "duration": 164,
    "start_time": "2023-01-24T10:13:13.600Z"
   },
   {
    "duration": 44,
    "start_time": "2023-01-24T10:16:20.159Z"
   },
   {
    "duration": 23,
    "start_time": "2023-01-24T10:22:54.950Z"
   },
   {
    "duration": 85,
    "start_time": "2023-01-24T10:23:28.222Z"
   },
   {
    "duration": 15,
    "start_time": "2023-01-24T10:23:43.333Z"
   },
   {
    "duration": 22,
    "start_time": "2023-01-24T10:23:51.660Z"
   },
   {
    "duration": 26,
    "start_time": "2023-01-24T10:23:58.826Z"
   },
   {
    "duration": 14,
    "start_time": "2023-01-24T10:24:37.858Z"
   },
   {
    "duration": 11,
    "start_time": "2023-01-24T10:26:46.120Z"
   },
   {
    "duration": 11,
    "start_time": "2023-01-24T10:27:00.823Z"
   },
   {
    "duration": 232,
    "start_time": "2023-01-24T10:27:43.290Z"
   },
   {
    "duration": 66,
    "start_time": "2023-01-24T10:28:29.259Z"
   },
   {
    "duration": 44,
    "start_time": "2023-01-24T10:28:42.325Z"
   },
   {
    "duration": 59,
    "start_time": "2023-01-24T10:29:57.887Z"
   },
   {
    "duration": 140,
    "start_time": "2023-01-24T10:30:01.957Z"
   },
   {
    "duration": 305,
    "start_time": "2023-01-24T10:30:08.118Z"
   },
   {
    "duration": 385,
    "start_time": "2023-01-24T10:30:12.715Z"
   },
   {
    "duration": 294,
    "start_time": "2023-01-24T10:30:43.216Z"
   },
   {
    "duration": 318,
    "start_time": "2023-01-24T10:31:01.458Z"
   },
   {
    "duration": 296,
    "start_time": "2023-01-24T10:31:12.970Z"
   },
   {
    "duration": 268,
    "start_time": "2023-01-24T10:31:23.128Z"
   },
   {
    "duration": 330,
    "start_time": "2023-01-24T10:31:31.877Z"
   },
   {
    "duration": 284,
    "start_time": "2023-01-24T10:31:52.094Z"
   },
   {
    "duration": 237,
    "start_time": "2023-01-24T10:31:56.075Z"
   },
   {
    "duration": 304,
    "start_time": "2023-01-24T10:32:09.650Z"
   },
   {
    "duration": 237,
    "start_time": "2023-01-24T10:32:14.329Z"
   },
   {
    "duration": 238,
    "start_time": "2023-01-24T10:32:19.625Z"
   },
   {
    "duration": 244,
    "start_time": "2023-01-24T10:32:31.326Z"
   },
   {
    "duration": 13,
    "start_time": "2023-01-24T10:37:45.157Z"
   },
   {
    "duration": 236,
    "start_time": "2023-01-24T10:38:10.789Z"
   },
   {
    "duration": 232,
    "start_time": "2023-01-24T10:38:24.493Z"
   },
   {
    "duration": 905,
    "start_time": "2023-01-24T10:38:29.261Z"
   },
   {
    "duration": 22,
    "start_time": "2023-01-24T10:48:51.775Z"
   },
   {
    "duration": 7,
    "start_time": "2023-01-24T10:49:34.667Z"
   },
   {
    "duration": 10,
    "start_time": "2023-01-24T10:49:49.930Z"
   },
   {
    "duration": 13,
    "start_time": "2023-01-24T10:50:03.578Z"
   },
   {
    "duration": 13,
    "start_time": "2023-01-24T10:50:51.758Z"
   },
   {
    "duration": 138,
    "start_time": "2023-01-24T10:51:35.592Z"
   },
   {
    "duration": 161,
    "start_time": "2023-01-24T10:51:45.257Z"
   },
   {
    "duration": 168,
    "start_time": "2023-01-24T10:52:06.785Z"
   },
   {
    "duration": 8,
    "start_time": "2023-01-24T11:37:35.270Z"
   },
   {
    "duration": 42,
    "start_time": "2023-01-24T11:40:59.304Z"
   },
   {
    "duration": 1111,
    "start_time": "2023-01-24T11:41:10.276Z"
   },
   {
    "duration": 68,
    "start_time": "2023-01-24T11:41:11.389Z"
   },
   {
    "duration": 3,
    "start_time": "2023-01-24T11:41:11.459Z"
   },
   {
    "duration": 41,
    "start_time": "2023-01-24T11:41:11.465Z"
   },
   {
    "duration": 16,
    "start_time": "2023-01-24T11:41:11.508Z"
   },
   {
    "duration": 41,
    "start_time": "2023-01-24T11:41:11.526Z"
   },
   {
    "duration": 13,
    "start_time": "2023-01-24T11:41:11.571Z"
   },
   {
    "duration": 26,
    "start_time": "2023-01-24T11:41:11.586Z"
   },
   {
    "duration": 48,
    "start_time": "2023-01-24T11:41:11.615Z"
   },
   {
    "duration": 14,
    "start_time": "2023-01-24T11:41:11.666Z"
   },
   {
    "duration": 20,
    "start_time": "2023-01-24T11:41:11.682Z"
   },
   {
    "duration": 10,
    "start_time": "2023-01-24T11:41:11.704Z"
   },
   {
    "duration": 32,
    "start_time": "2023-01-24T11:41:11.716Z"
   },
   {
    "duration": 16,
    "start_time": "2023-01-24T11:41:11.750Z"
   },
   {
    "duration": 29,
    "start_time": "2023-01-24T11:41:11.767Z"
   },
   {
    "duration": 36,
    "start_time": "2023-01-24T11:41:11.798Z"
   },
   {
    "duration": 17,
    "start_time": "2023-01-24T11:41:11.836Z"
   },
   {
    "duration": 35,
    "start_time": "2023-01-24T11:41:11.855Z"
   },
   {
    "duration": 41,
    "start_time": "2023-01-24T11:41:11.895Z"
   },
   {
    "duration": 24,
    "start_time": "2023-01-24T11:41:11.938Z"
   },
   {
    "duration": 14,
    "start_time": "2023-01-24T11:41:11.964Z"
   },
   {
    "duration": 15,
    "start_time": "2023-01-24T11:41:11.980Z"
   },
   {
    "duration": 28,
    "start_time": "2023-01-24T11:41:11.996Z"
   },
   {
    "duration": 26,
    "start_time": "2023-01-24T11:41:12.026Z"
   },
   {
    "duration": 19,
    "start_time": "2023-01-24T11:41:12.054Z"
   },
   {
    "duration": 17,
    "start_time": "2023-01-24T11:41:12.075Z"
   },
   {
    "duration": 27,
    "start_time": "2023-01-24T11:41:12.094Z"
   },
   {
    "duration": 325,
    "start_time": "2023-01-24T11:41:12.126Z"
   },
   {
    "duration": 276,
    "start_time": "2023-01-24T11:41:12.453Z"
   },
   {
    "duration": 22,
    "start_time": "2023-01-24T11:41:12.731Z"
   },
   {
    "duration": 7,
    "start_time": "2023-01-24T11:41:12.755Z"
   },
   {
    "duration": 295,
    "start_time": "2023-01-24T11:41:12.763Z"
   },
   {
    "duration": 6,
    "start_time": "2023-01-24T11:41:13.060Z"
   },
   {
    "duration": 35,
    "start_time": "2023-01-24T11:41:13.068Z"
   },
   {
    "duration": 14,
    "start_time": "2023-01-24T11:41:13.105Z"
   },
   {
    "duration": 163,
    "start_time": "2023-01-24T11:41:13.122Z"
   },
   {
    "duration": 277,
    "start_time": "2023-01-24T11:41:13.287Z"
   },
   {
    "duration": 332,
    "start_time": "2023-01-24T11:41:13.566Z"
   },
   {
    "duration": 476,
    "start_time": "2023-01-24T11:41:13.902Z"
   },
   {
    "duration": 8,
    "start_time": "2023-01-24T11:41:14.380Z"
   },
   {
    "duration": 970,
    "start_time": "2023-01-24T11:41:14.390Z"
   },
   {
    "duration": 39,
    "start_time": "2023-01-24T11:41:15.363Z"
   },
   {
    "duration": 10,
    "start_time": "2023-01-24T11:41:15.404Z"
   },
   {
    "duration": 251,
    "start_time": "2023-01-24T11:41:15.415Z"
   },
   {
    "duration": 214,
    "start_time": "2023-01-24T11:41:15.668Z"
   },
   {
    "duration": 15,
    "start_time": "2023-01-24T11:41:15.884Z"
   },
   {
    "duration": 294,
    "start_time": "2023-01-24T11:41:15.901Z"
   },
   {
    "duration": 17,
    "start_time": "2023-01-24T11:41:16.197Z"
   },
   {
    "duration": 336,
    "start_time": "2023-01-24T11:41:16.216Z"
   },
   {
    "duration": 276,
    "start_time": "2023-01-24T11:41:16.554Z"
   },
   {
    "duration": 47,
    "start_time": "2023-01-24T11:41:16.832Z"
   },
   {
    "duration": 0,
    "start_time": "2023-01-24T11:41:16.881Z"
   },
   {
    "duration": 0,
    "start_time": "2023-01-24T11:41:16.884Z"
   },
   {
    "duration": 8,
    "start_time": "2023-01-24T11:41:18.467Z"
   },
   {
    "duration": 6,
    "start_time": "2023-01-24T11:41:23.680Z"
   },
   {
    "duration": 4,
    "start_time": "2023-01-24T11:41:37.312Z"
   },
   {
    "duration": 17,
    "start_time": "2023-01-24T11:42:03.821Z"
   },
   {
    "duration": 6,
    "start_time": "2023-01-24T11:42:05.477Z"
   },
   {
    "duration": 3,
    "start_time": "2023-01-24T11:42:20.946Z"
   },
   {
    "duration": 316,
    "start_time": "2023-01-24T11:42:35.574Z"
   },
   {
    "duration": 13,
    "start_time": "2023-01-24T11:42:42.578Z"
   },
   {
    "duration": 148,
    "start_time": "2023-01-24T11:42:53.046Z"
   },
   {
    "duration": 166,
    "start_time": "2023-01-24T11:42:58.168Z"
   },
   {
    "duration": 147,
    "start_time": "2023-01-24T11:43:07.672Z"
   },
   {
    "duration": 170,
    "start_time": "2023-01-24T11:43:12.659Z"
   },
   {
    "duration": 166,
    "start_time": "2023-01-24T11:43:38.875Z"
   },
   {
    "duration": 12,
    "start_time": "2023-01-24T11:43:51.912Z"
   },
   {
    "duration": 3,
    "start_time": "2023-01-24T11:43:52.319Z"
   },
   {
    "duration": 148,
    "start_time": "2023-01-24T11:43:54.580Z"
   },
   {
    "duration": 171,
    "start_time": "2023-01-24T11:44:02.791Z"
   },
   {
    "duration": 126,
    "start_time": "2023-01-24T11:44:07.762Z"
   },
   {
    "duration": 155,
    "start_time": "2023-01-24T11:44:11.143Z"
   },
   {
    "duration": 71,
    "start_time": "2023-01-24T11:47:13.563Z"
   },
   {
    "duration": 4,
    "start_time": "2023-01-24T11:47:32.251Z"
   },
   {
    "duration": 10,
    "start_time": "2023-01-24T11:47:35.279Z"
   },
   {
    "duration": 5,
    "start_time": "2023-01-24T11:47:44.305Z"
   },
   {
    "duration": 5,
    "start_time": "2023-01-24T11:47:46.987Z"
   },
   {
    "duration": 8,
    "start_time": "2023-01-24T11:48:03.729Z"
   },
   {
    "duration": 5,
    "start_time": "2023-01-24T11:48:11.512Z"
   },
   {
    "duration": 11,
    "start_time": "2023-01-24T11:48:23.640Z"
   },
   {
    "duration": 4,
    "start_time": "2023-01-24T11:48:24.686Z"
   },
   {
    "duration": 6,
    "start_time": "2023-01-24T11:48:39.852Z"
   },
   {
    "duration": 5,
    "start_time": "2023-01-24T11:48:42.501Z"
   },
   {
    "duration": 6,
    "start_time": "2023-01-24T11:48:42.889Z"
   },
   {
    "duration": 896,
    "start_time": "2023-01-24T11:50:15.258Z"
   },
   {
    "duration": 8,
    "start_time": "2023-01-24T11:50:24.076Z"
   },
   {
    "duration": 6,
    "start_time": "2023-01-24T11:50:26.888Z"
   },
   {
    "duration": 4,
    "start_time": "2023-01-24T11:50:36.119Z"
   },
   {
    "duration": 17,
    "start_time": "2023-01-24T11:50:51.305Z"
   },
   {
    "duration": 16,
    "start_time": "2023-01-24T11:51:12.510Z"
   },
   {
    "duration": 6,
    "start_time": "2023-01-24T11:51:24.425Z"
   },
   {
    "duration": 6,
    "start_time": "2023-01-24T11:51:34.152Z"
   },
   {
    "duration": 4,
    "start_time": "2023-01-24T11:52:39.029Z"
   },
   {
    "duration": 9,
    "start_time": "2023-01-24T11:53:17.183Z"
   },
   {
    "duration": 3,
    "start_time": "2023-01-24T11:53:35.597Z"
   },
   {
    "duration": 6,
    "start_time": "2023-01-24T11:53:40.739Z"
   },
   {
    "duration": 49,
    "start_time": "2023-01-24T11:54:13.601Z"
   },
   {
    "duration": 5,
    "start_time": "2023-01-24T11:54:20.062Z"
   },
   {
    "duration": 4,
    "start_time": "2023-01-24T11:54:29.357Z"
   },
   {
    "duration": 4,
    "start_time": "2023-01-24T11:54:35.010Z"
   },
   {
    "duration": 11,
    "start_time": "2023-01-24T11:55:51.924Z"
   },
   {
    "duration": 12,
    "start_time": "2023-01-24T11:56:08.831Z"
   },
   {
    "duration": 123,
    "start_time": "2023-01-24T11:56:31.690Z"
   },
   {
    "duration": 4,
    "start_time": "2023-01-24T11:58:12.655Z"
   },
   {
    "duration": 5,
    "start_time": "2023-01-24T11:58:26.106Z"
   },
   {
    "duration": 6,
    "start_time": "2023-01-24T12:02:09.007Z"
   },
   {
    "duration": 4,
    "start_time": "2023-01-24T12:02:18.088Z"
   },
   {
    "duration": 4,
    "start_time": "2023-01-24T12:02:18.747Z"
   },
   {
    "duration": 3,
    "start_time": "2023-01-24T12:02:26.728Z"
   },
   {
    "duration": 4,
    "start_time": "2023-01-24T12:02:40.540Z"
   },
   {
    "duration": 3,
    "start_time": "2023-01-24T12:02:41.848Z"
   },
   {
    "duration": 4,
    "start_time": "2023-01-24T12:02:45.443Z"
   },
   {
    "duration": 6,
    "start_time": "2023-01-24T12:02:46.315Z"
   },
   {
    "duration": 5,
    "start_time": "2023-01-24T12:03:00.123Z"
   },
   {
    "duration": 5,
    "start_time": "2023-01-24T12:03:05.736Z"
   },
   {
    "duration": 1196,
    "start_time": "2023-01-24T12:26:53.430Z"
   },
   {
    "duration": 68,
    "start_time": "2023-01-24T12:26:54.628Z"
   },
   {
    "duration": 6,
    "start_time": "2023-01-24T12:26:54.698Z"
   },
   {
    "duration": 31,
    "start_time": "2023-01-24T12:26:54.706Z"
   },
   {
    "duration": 4,
    "start_time": "2023-01-24T12:26:54.739Z"
   },
   {
    "duration": 44,
    "start_time": "2023-01-24T12:26:54.748Z"
   },
   {
    "duration": 11,
    "start_time": "2023-01-24T12:26:54.794Z"
   },
   {
    "duration": 22,
    "start_time": "2023-01-24T12:26:54.807Z"
   },
   {
    "duration": 20,
    "start_time": "2023-01-24T12:26:54.849Z"
   },
   {
    "duration": 9,
    "start_time": "2023-01-24T12:26:54.873Z"
   },
   {
    "duration": 9,
    "start_time": "2023-01-24T12:26:54.884Z"
   },
   {
    "duration": 9,
    "start_time": "2023-01-24T12:26:54.895Z"
   },
   {
    "duration": 44,
    "start_time": "2023-01-24T12:26:54.905Z"
   },
   {
    "duration": 27,
    "start_time": "2023-01-24T12:26:54.951Z"
   },
   {
    "duration": 29,
    "start_time": "2023-01-24T12:26:54.980Z"
   },
   {
    "duration": 22,
    "start_time": "2023-01-24T12:26:55.011Z"
   },
   {
    "duration": 34,
    "start_time": "2023-01-24T12:26:55.035Z"
   },
   {
    "duration": 16,
    "start_time": "2023-01-24T12:26:55.071Z"
   },
   {
    "duration": 19,
    "start_time": "2023-01-24T12:26:55.089Z"
   },
   {
    "duration": 14,
    "start_time": "2023-01-24T12:26:55.110Z"
   },
   {
    "duration": 11,
    "start_time": "2023-01-24T12:26:55.126Z"
   },
   {
    "duration": 29,
    "start_time": "2023-01-24T12:26:55.139Z"
   },
   {
    "duration": 18,
    "start_time": "2023-01-24T12:26:55.170Z"
   },
   {
    "duration": 10,
    "start_time": "2023-01-24T12:26:55.190Z"
   },
   {
    "duration": 17,
    "start_time": "2023-01-24T12:26:55.203Z"
   },
   {
    "duration": 12,
    "start_time": "2023-01-24T12:26:55.222Z"
   },
   {
    "duration": 26,
    "start_time": "2023-01-24T12:26:55.235Z"
   },
   {
    "duration": 350,
    "start_time": "2023-01-24T12:26:55.264Z"
   },
   {
    "duration": 292,
    "start_time": "2023-01-24T12:26:55.616Z"
   },
   {
    "duration": 14,
    "start_time": "2023-01-24T12:26:55.910Z"
   },
   {
    "duration": 27,
    "start_time": "2023-01-24T12:26:55.925Z"
   },
   {
    "duration": 221,
    "start_time": "2023-01-24T12:26:55.954Z"
   },
   {
    "duration": 7,
    "start_time": "2023-01-24T12:26:56.177Z"
   },
   {
    "duration": 16,
    "start_time": "2023-01-24T12:26:56.186Z"
   },
   {
    "duration": 25,
    "start_time": "2023-01-24T12:26:56.203Z"
   },
   {
    "duration": 169,
    "start_time": "2023-01-24T12:26:56.230Z"
   },
   {
    "duration": 308,
    "start_time": "2023-01-24T12:26:56.400Z"
   },
   {
    "duration": 322,
    "start_time": "2023-01-24T12:26:56.709Z"
   },
   {
    "duration": 407,
    "start_time": "2023-01-24T12:26:57.033Z"
   },
   {
    "duration": 13,
    "start_time": "2023-01-24T12:26:57.441Z"
   },
   {
    "duration": 939,
    "start_time": "2023-01-24T12:26:57.456Z"
   },
   {
    "duration": 28,
    "start_time": "2023-01-24T12:26:58.397Z"
   },
   {
    "duration": 23,
    "start_time": "2023-01-24T12:26:58.427Z"
   },
   {
    "duration": 184,
    "start_time": "2023-01-24T12:26:58.452Z"
   },
   {
    "duration": 188,
    "start_time": "2023-01-24T12:26:58.647Z"
   },
   {
    "duration": 22,
    "start_time": "2023-01-24T12:26:58.837Z"
   },
   {
    "duration": 318,
    "start_time": "2023-01-24T12:26:58.862Z"
   },
   {
    "duration": 19,
    "start_time": "2023-01-24T12:26:59.182Z"
   },
   {
    "duration": 324,
    "start_time": "2023-01-24T12:26:59.203Z"
   },
   {
    "duration": 223,
    "start_time": "2023-01-24T12:26:59.529Z"
   },
   {
    "duration": 4,
    "start_time": "2023-01-24T12:26:59.754Z"
   },
   {
    "duration": 45,
    "start_time": "2023-01-24T12:26:59.759Z"
   },
   {
    "duration": 253,
    "start_time": "2023-01-24T12:26:59.806Z"
   },
   {
    "duration": 4,
    "start_time": "2023-01-24T12:27:00.060Z"
   },
   {
    "duration": 23,
    "start_time": "2023-01-24T12:27:00.066Z"
   },
   {
    "duration": 51,
    "start_time": "2023-01-24T12:27:00.091Z"
   },
   {
    "duration": 136,
    "start_time": "2023-01-24T12:27:00.144Z"
   },
   {
    "duration": 5,
    "start_time": "2023-01-24T12:27:00.282Z"
   },
   {
    "duration": 26,
    "start_time": "2023-01-24T12:27:00.288Z"
   },
   {
    "duration": 194,
    "start_time": "2023-01-24T12:29:00.666Z"
   },
   {
    "duration": 1360,
    "start_time": "2023-01-24T12:29:35.013Z"
   },
   {
    "duration": 74,
    "start_time": "2023-01-24T12:29:36.375Z"
   },
   {
    "duration": 5,
    "start_time": "2023-01-24T12:29:36.451Z"
   },
   {
    "duration": 42,
    "start_time": "2023-01-24T12:29:36.458Z"
   },
   {
    "duration": 4,
    "start_time": "2023-01-24T12:29:36.502Z"
   },
   {
    "duration": 35,
    "start_time": "2023-01-24T12:29:36.507Z"
   },
   {
    "duration": 12,
    "start_time": "2023-01-24T12:29:36.549Z"
   },
   {
    "duration": 35,
    "start_time": "2023-01-24T12:29:36.563Z"
   },
   {
    "duration": 48,
    "start_time": "2023-01-24T12:29:36.600Z"
   },
   {
    "duration": 12,
    "start_time": "2023-01-24T12:29:36.650Z"
   },
   {
    "duration": 10,
    "start_time": "2023-01-24T12:29:36.664Z"
   },
   {
    "duration": 6,
    "start_time": "2023-01-24T12:29:36.676Z"
   },
   {
    "duration": 10,
    "start_time": "2023-01-24T12:29:36.684Z"
   },
   {
    "duration": 7,
    "start_time": "2023-01-24T12:29:36.697Z"
   },
   {
    "duration": 48,
    "start_time": "2023-01-24T12:29:36.706Z"
   },
   {
    "duration": 23,
    "start_time": "2023-01-24T12:29:36.756Z"
   },
   {
    "duration": 9,
    "start_time": "2023-01-24T12:29:36.780Z"
   },
   {
    "duration": 11,
    "start_time": "2023-01-24T12:29:36.790Z"
   },
   {
    "duration": 14,
    "start_time": "2023-01-24T12:29:36.803Z"
   },
   {
    "duration": 10,
    "start_time": "2023-01-24T12:29:36.819Z"
   },
   {
    "duration": 15,
    "start_time": "2023-01-24T12:29:36.848Z"
   },
   {
    "duration": 19,
    "start_time": "2023-01-24T12:29:36.865Z"
   },
   {
    "duration": 15,
    "start_time": "2023-01-24T12:29:36.887Z"
   },
   {
    "duration": 7,
    "start_time": "2023-01-24T12:29:36.904Z"
   },
   {
    "duration": 16,
    "start_time": "2023-01-24T12:29:36.913Z"
   },
   {
    "duration": 7,
    "start_time": "2023-01-24T12:29:36.949Z"
   },
   {
    "duration": 20,
    "start_time": "2023-01-24T12:29:36.958Z"
   },
   {
    "duration": 383,
    "start_time": "2023-01-24T12:29:36.980Z"
   },
   {
    "duration": 438,
    "start_time": "2023-01-24T12:29:37.365Z"
   },
   {
    "duration": 15,
    "start_time": "2023-01-24T12:29:37.805Z"
   },
   {
    "duration": 8,
    "start_time": "2023-01-24T12:29:37.823Z"
   },
   {
    "duration": 223,
    "start_time": "2023-01-24T12:29:37.857Z"
   },
   {
    "duration": 6,
    "start_time": "2023-01-24T12:29:38.081Z"
   },
   {
    "duration": 16,
    "start_time": "2023-01-24T12:29:38.088Z"
   },
   {
    "duration": 18,
    "start_time": "2023-01-24T12:29:38.106Z"
   },
   {
    "duration": 242,
    "start_time": "2023-01-24T12:29:38.126Z"
   },
   {
    "duration": 361,
    "start_time": "2023-01-24T12:29:38.372Z"
   },
   {
    "duration": 356,
    "start_time": "2023-01-24T12:29:38.736Z"
   },
   {
    "duration": 414,
    "start_time": "2023-01-24T12:29:39.098Z"
   },
   {
    "duration": 12,
    "start_time": "2023-01-24T12:29:39.514Z"
   },
   {
    "duration": 1041,
    "start_time": "2023-01-24T12:29:39.548Z"
   },
   {
    "duration": 40,
    "start_time": "2023-01-24T12:29:40.591Z"
   },
   {
    "duration": 10,
    "start_time": "2023-01-24T12:29:40.648Z"
   },
   {
    "duration": 189,
    "start_time": "2023-01-24T12:29:40.660Z"
   },
   {
    "duration": 209,
    "start_time": "2023-01-24T12:29:40.852Z"
   },
   {
    "duration": 15,
    "start_time": "2023-01-24T12:29:41.063Z"
   },
   {
    "duration": 372,
    "start_time": "2023-01-24T12:29:41.079Z"
   },
   {
    "duration": 22,
    "start_time": "2023-01-24T12:29:41.453Z"
   },
   {
    "duration": 374,
    "start_time": "2023-01-24T12:29:41.477Z"
   },
   {
    "duration": 209,
    "start_time": "2023-01-24T12:29:41.853Z"
   },
   {
    "duration": 4,
    "start_time": "2023-01-24T12:29:42.064Z"
   },
   {
    "duration": 19,
    "start_time": "2023-01-24T12:29:42.070Z"
   },
   {
    "duration": 270,
    "start_time": "2023-01-24T12:29:42.090Z"
   },
   {
    "duration": 4,
    "start_time": "2023-01-24T12:29:42.363Z"
   },
   {
    "duration": 13,
    "start_time": "2023-01-24T12:29:42.370Z"
   },
   {
    "duration": 25,
    "start_time": "2023-01-24T12:29:42.385Z"
   },
   {
    "duration": 197,
    "start_time": "2023-01-24T12:29:42.412Z"
   },
   {
    "duration": 7,
    "start_time": "2023-01-24T12:29:42.611Z"
   },
   {
    "duration": 10,
    "start_time": "2023-01-24T12:29:42.620Z"
   },
   {
    "duration": 1128,
    "start_time": "2023-01-24T12:59:52.572Z"
   },
   {
    "duration": 107,
    "start_time": "2023-01-24T12:59:53.702Z"
   },
   {
    "duration": 3,
    "start_time": "2023-01-24T12:59:53.810Z"
   },
   {
    "duration": 17,
    "start_time": "2023-01-24T12:59:53.814Z"
   },
   {
    "duration": 3,
    "start_time": "2023-01-24T12:59:53.833Z"
   },
   {
    "duration": 37,
    "start_time": "2023-01-24T12:59:53.837Z"
   },
   {
    "duration": 16,
    "start_time": "2023-01-24T12:59:53.875Z"
   },
   {
    "duration": 23,
    "start_time": "2023-01-24T12:59:53.892Z"
   },
   {
    "duration": 20,
    "start_time": "2023-01-24T12:59:53.917Z"
   },
   {
    "duration": 16,
    "start_time": "2023-01-24T12:59:53.938Z"
   },
   {
    "duration": 12,
    "start_time": "2023-01-24T12:59:53.956Z"
   },
   {
    "duration": 10,
    "start_time": "2023-01-24T12:59:53.969Z"
   },
   {
    "duration": 5,
    "start_time": "2023-01-24T12:59:53.985Z"
   },
   {
    "duration": 17,
    "start_time": "2023-01-24T12:59:53.992Z"
   },
   {
    "duration": 16,
    "start_time": "2023-01-24T12:59:54.011Z"
   },
   {
    "duration": 25,
    "start_time": "2023-01-24T12:59:54.028Z"
   },
   {
    "duration": 27,
    "start_time": "2023-01-24T12:59:54.054Z"
   },
   {
    "duration": 15,
    "start_time": "2023-01-24T12:59:54.083Z"
   },
   {
    "duration": 38,
    "start_time": "2023-01-24T12:59:54.100Z"
   },
   {
    "duration": 35,
    "start_time": "2023-01-24T12:59:54.139Z"
   },
   {
    "duration": 33,
    "start_time": "2023-01-24T12:59:54.176Z"
   },
   {
    "duration": 24,
    "start_time": "2023-01-24T12:59:54.212Z"
   },
   {
    "duration": 27,
    "start_time": "2023-01-24T12:59:54.238Z"
   },
   {
    "duration": 13,
    "start_time": "2023-01-24T12:59:54.267Z"
   },
   {
    "duration": 41,
    "start_time": "2023-01-24T12:59:54.282Z"
   },
   {
    "duration": 4,
    "start_time": "2023-01-24T12:59:54.325Z"
   },
   {
    "duration": 31,
    "start_time": "2023-01-24T12:59:54.330Z"
   },
   {
    "duration": 296,
    "start_time": "2023-01-24T12:59:54.363Z"
   },
   {
    "duration": 256,
    "start_time": "2023-01-24T12:59:54.661Z"
   },
   {
    "duration": 10,
    "start_time": "2023-01-24T12:59:54.918Z"
   },
   {
    "duration": 27,
    "start_time": "2023-01-24T12:59:54.930Z"
   },
   {
    "duration": 205,
    "start_time": "2023-01-24T12:59:54.959Z"
   },
   {
    "duration": 5,
    "start_time": "2023-01-24T12:59:55.166Z"
   },
   {
    "duration": 44,
    "start_time": "2023-01-24T12:59:55.173Z"
   },
   {
    "duration": 29,
    "start_time": "2023-01-24T12:59:55.219Z"
   },
   {
    "duration": 146,
    "start_time": "2023-01-24T12:59:55.250Z"
   },
   {
    "duration": 253,
    "start_time": "2023-01-24T12:59:55.398Z"
   },
   {
    "duration": 325,
    "start_time": "2023-01-24T12:59:55.652Z"
   },
   {
    "duration": 410,
    "start_time": "2023-01-24T12:59:55.978Z"
   },
   {
    "duration": 9,
    "start_time": "2023-01-24T12:59:56.390Z"
   },
   {
    "duration": 873,
    "start_time": "2023-01-24T12:59:56.403Z"
   },
   {
    "duration": 29,
    "start_time": "2023-01-24T12:59:57.278Z"
   },
   {
    "duration": 7,
    "start_time": "2023-01-24T12:59:57.309Z"
   },
   {
    "duration": 172,
    "start_time": "2023-01-24T12:59:57.317Z"
   },
   {
    "duration": 165,
    "start_time": "2023-01-24T12:59:57.491Z"
   },
   {
    "duration": 14,
    "start_time": "2023-01-24T12:59:57.658Z"
   },
   {
    "duration": 235,
    "start_time": "2023-01-24T12:59:57.686Z"
   },
   {
    "duration": 13,
    "start_time": "2023-01-24T12:59:57.922Z"
   },
   {
    "duration": 253,
    "start_time": "2023-01-24T12:59:57.936Z"
   },
   {
    "duration": 168,
    "start_time": "2023-01-24T12:59:58.190Z"
   },
   {
    "duration": 3,
    "start_time": "2023-01-24T12:59:58.360Z"
   },
   {
    "duration": 31,
    "start_time": "2023-01-24T12:59:58.364Z"
   },
   {
    "duration": 224,
    "start_time": "2023-01-24T12:59:58.397Z"
   },
   {
    "duration": 3,
    "start_time": "2023-01-24T12:59:58.623Z"
   },
   {
    "duration": 9,
    "start_time": "2023-01-24T12:59:58.628Z"
   },
   {
    "duration": 21,
    "start_time": "2023-01-24T12:59:58.638Z"
   },
   {
    "duration": 132,
    "start_time": "2023-01-24T12:59:58.661Z"
   },
   {
    "duration": 4,
    "start_time": "2023-01-24T12:59:58.794Z"
   },
   {
    "duration": 10,
    "start_time": "2023-01-24T12:59:58.799Z"
   },
   {
    "duration": 1324,
    "start_time": "2023-01-24T14:26:07.337Z"
   },
   {
    "duration": 207,
    "start_time": "2023-01-24T14:26:08.662Z"
   },
   {
    "duration": 4,
    "start_time": "2023-01-24T14:26:08.871Z"
   },
   {
    "duration": 17,
    "start_time": "2023-01-24T14:26:08.877Z"
   },
   {
    "duration": 3,
    "start_time": "2023-01-24T14:26:08.895Z"
   },
   {
    "duration": 32,
    "start_time": "2023-01-24T14:26:08.899Z"
   },
   {
    "duration": 20,
    "start_time": "2023-01-24T14:26:08.932Z"
   },
   {
    "duration": 17,
    "start_time": "2023-01-24T14:26:08.954Z"
   },
   {
    "duration": 18,
    "start_time": "2023-01-24T14:26:08.973Z"
   },
   {
    "duration": 9,
    "start_time": "2023-01-24T14:26:08.993Z"
   },
   {
    "duration": 8,
    "start_time": "2023-01-24T14:26:09.003Z"
   },
   {
    "duration": 6,
    "start_time": "2023-01-24T14:26:09.012Z"
   },
   {
    "duration": 30,
    "start_time": "2023-01-24T14:26:09.019Z"
   },
   {
    "duration": 5,
    "start_time": "2023-01-24T14:26:09.050Z"
   },
   {
    "duration": 17,
    "start_time": "2023-01-24T14:26:09.056Z"
   },
   {
    "duration": 16,
    "start_time": "2023-01-24T14:26:09.075Z"
   },
   {
    "duration": 7,
    "start_time": "2023-01-24T14:26:09.092Z"
   },
   {
    "duration": 6,
    "start_time": "2023-01-24T14:26:09.100Z"
   },
   {
    "duration": 7,
    "start_time": "2023-01-24T14:26:09.107Z"
   },
   {
    "duration": 8,
    "start_time": "2023-01-24T14:26:09.115Z"
   },
   {
    "duration": 23,
    "start_time": "2023-01-24T14:26:09.125Z"
   },
   {
    "duration": 10,
    "start_time": "2023-01-24T14:26:09.149Z"
   },
   {
    "duration": 17,
    "start_time": "2023-01-24T14:26:09.160Z"
   },
   {
    "duration": 7,
    "start_time": "2023-01-24T14:26:09.179Z"
   },
   {
    "duration": 12,
    "start_time": "2023-01-24T14:26:09.187Z"
   },
   {
    "duration": 4,
    "start_time": "2023-01-24T14:26:09.200Z"
   },
   {
    "duration": 11,
    "start_time": "2023-01-24T14:26:09.206Z"
   },
   {
    "duration": 314,
    "start_time": "2023-01-24T14:26:09.247Z"
   },
   {
    "duration": 253,
    "start_time": "2023-01-24T14:26:09.562Z"
   },
   {
    "duration": 11,
    "start_time": "2023-01-24T14:26:09.816Z"
   },
   {
    "duration": 20,
    "start_time": "2023-01-24T14:26:09.828Z"
   },
   {
    "duration": 216,
    "start_time": "2023-01-24T14:26:09.850Z"
   },
   {
    "duration": 5,
    "start_time": "2023-01-24T14:26:10.067Z"
   },
   {
    "duration": 26,
    "start_time": "2023-01-24T14:26:10.074Z"
   },
   {
    "duration": 13,
    "start_time": "2023-01-24T14:26:10.101Z"
   },
   {
    "duration": 160,
    "start_time": "2023-01-24T14:26:10.115Z"
   },
   {
    "duration": 276,
    "start_time": "2023-01-24T14:26:10.277Z"
   },
   {
    "duration": 333,
    "start_time": "2023-01-24T14:26:10.554Z"
   },
   {
    "duration": 420,
    "start_time": "2023-01-24T14:26:10.889Z"
   },
   {
    "duration": 9,
    "start_time": "2023-01-24T14:26:11.311Z"
   },
   {
    "duration": 969,
    "start_time": "2023-01-24T14:26:11.322Z"
   },
   {
    "duration": 29,
    "start_time": "2023-01-24T14:26:12.293Z"
   },
   {
    "duration": 7,
    "start_time": "2023-01-24T14:26:12.323Z"
   },
   {
    "duration": 165,
    "start_time": "2023-01-24T14:26:12.332Z"
   },
   {
    "duration": 191,
    "start_time": "2023-01-24T14:26:12.498Z"
   },
   {
    "duration": 14,
    "start_time": "2023-01-24T14:26:12.691Z"
   },
   {
    "duration": 279,
    "start_time": "2023-01-24T14:26:12.707Z"
   },
   {
    "duration": 17,
    "start_time": "2023-01-24T14:26:12.988Z"
   },
   {
    "duration": 279,
    "start_time": "2023-01-24T14:26:13.007Z"
   },
   {
    "duration": 198,
    "start_time": "2023-01-24T14:26:13.288Z"
   },
   {
    "duration": 3,
    "start_time": "2023-01-24T14:26:13.487Z"
   },
   {
    "duration": 14,
    "start_time": "2023-01-24T14:26:13.491Z"
   },
   {
    "duration": 238,
    "start_time": "2023-01-24T14:26:13.507Z"
   },
   {
    "duration": 5,
    "start_time": "2023-01-24T14:26:13.748Z"
   },
   {
    "duration": 8,
    "start_time": "2023-01-24T14:26:13.755Z"
   },
   {
    "duration": 16,
    "start_time": "2023-01-24T14:26:13.765Z"
   },
   {
    "duration": 148,
    "start_time": "2023-01-24T14:26:13.783Z"
   },
   {
    "duration": 7,
    "start_time": "2023-01-24T14:26:13.932Z"
   },
   {
    "duration": 24,
    "start_time": "2023-01-24T14:26:13.941Z"
   },
   {
    "duration": 95,
    "start_time": "2023-01-24T14:51:13.059Z"
   },
   {
    "duration": 56,
    "start_time": "2023-01-24T14:51:24.547Z"
   },
   {
    "duration": 11,
    "start_time": "2023-01-24T14:51:34.353Z"
   },
   {
    "duration": 55,
    "start_time": "2023-01-24T14:52:18.843Z"
   },
   {
    "duration": 45,
    "start_time": "2023-01-24T14:52:25.899Z"
   },
   {
    "duration": 48,
    "start_time": "2023-01-24T14:53:26.151Z"
   },
   {
    "duration": 50,
    "start_time": "2023-01-24T14:56:44.070Z"
   },
   {
    "duration": 56,
    "start_time": "2023-01-24T14:57:35.899Z"
   },
   {
    "duration": 12,
    "start_time": "2023-01-24T14:57:55.524Z"
   },
   {
    "duration": 48,
    "start_time": "2023-01-24T14:58:20.800Z"
   },
   {
    "duration": 11,
    "start_time": "2023-01-24T14:58:25.788Z"
   },
   {
    "duration": 11,
    "start_time": "2023-01-24T14:58:36.529Z"
   },
   {
    "duration": 22,
    "start_time": "2023-01-24T14:59:26.632Z"
   },
   {
    "duration": 12,
    "start_time": "2023-01-24T14:59:46.811Z"
   },
   {
    "duration": 10,
    "start_time": "2023-01-24T14:59:59.684Z"
   },
   {
    "duration": 24,
    "start_time": "2023-01-24T15:04:29.091Z"
   },
   {
    "duration": 29,
    "start_time": "2023-01-24T15:04:46.235Z"
   },
   {
    "duration": 24,
    "start_time": "2023-01-24T15:06:07.720Z"
   },
   {
    "duration": 17,
    "start_time": "2023-01-24T15:07:16.963Z"
   },
   {
    "duration": 17,
    "start_time": "2023-01-24T15:07:35.118Z"
   },
   {
    "duration": 3,
    "start_time": "2023-01-24T15:13:18.410Z"
   },
   {
    "duration": 12,
    "start_time": "2023-01-24T15:13:21.534Z"
   },
   {
    "duration": 13,
    "start_time": "2023-01-24T15:13:45.729Z"
   },
   {
    "duration": 11,
    "start_time": "2023-01-24T15:14:24.276Z"
   },
   {
    "duration": 9,
    "start_time": "2023-01-24T15:14:38.785Z"
   },
   {
    "duration": 12,
    "start_time": "2023-01-24T15:16:05.170Z"
   },
   {
    "duration": 11,
    "start_time": "2023-01-24T15:16:24.689Z"
   },
   {
    "duration": 42,
    "start_time": "2023-01-25T05:40:30.817Z"
   },
   {
    "duration": 1416,
    "start_time": "2023-01-25T05:40:34.715Z"
   },
   {
    "duration": 129,
    "start_time": "2023-01-25T05:40:36.133Z"
   },
   {
    "duration": 3,
    "start_time": "2023-01-25T05:40:36.264Z"
   },
   {
    "duration": 55,
    "start_time": "2023-01-25T05:40:36.268Z"
   },
   {
    "duration": 7,
    "start_time": "2023-01-25T05:40:36.325Z"
   },
   {
    "duration": 37,
    "start_time": "2023-01-25T05:40:36.334Z"
   },
   {
    "duration": 9,
    "start_time": "2023-01-25T05:40:36.372Z"
   },
   {
    "duration": 30,
    "start_time": "2023-01-25T05:40:36.383Z"
   },
   {
    "duration": 27,
    "start_time": "2023-01-25T05:40:36.415Z"
   },
   {
    "duration": 7,
    "start_time": "2023-01-25T05:40:36.444Z"
   },
   {
    "duration": 16,
    "start_time": "2023-01-25T05:40:36.453Z"
   },
   {
    "duration": 50,
    "start_time": "2023-01-25T05:40:36.471Z"
   },
   {
    "duration": 13,
    "start_time": "2023-01-25T05:40:36.523Z"
   },
   {
    "duration": 16,
    "start_time": "2023-01-25T05:40:36.538Z"
   },
   {
    "duration": 7,
    "start_time": "2023-01-25T05:40:36.555Z"
   },
   {
    "duration": 32,
    "start_time": "2023-01-25T05:40:36.563Z"
   },
   {
    "duration": 13,
    "start_time": "2023-01-25T05:40:36.604Z"
   },
   {
    "duration": 7,
    "start_time": "2023-01-25T05:40:36.619Z"
   },
   {
    "duration": 8,
    "start_time": "2023-01-25T05:40:36.627Z"
   },
   {
    "duration": 8,
    "start_time": "2023-01-25T05:40:36.637Z"
   },
   {
    "duration": 6,
    "start_time": "2023-01-25T05:40:36.647Z"
   },
   {
    "duration": 14,
    "start_time": "2023-01-25T05:40:36.654Z"
   },
   {
    "duration": 34,
    "start_time": "2023-01-25T05:40:36.669Z"
   },
   {
    "duration": 15,
    "start_time": "2023-01-25T05:40:36.712Z"
   },
   {
    "duration": 22,
    "start_time": "2023-01-25T05:40:36.729Z"
   },
   {
    "duration": 8,
    "start_time": "2023-01-25T05:40:36.752Z"
   },
   {
    "duration": 13,
    "start_time": "2023-01-25T05:40:36.761Z"
   },
   {
    "duration": 368,
    "start_time": "2023-01-25T05:40:36.775Z"
   },
   {
    "duration": 278,
    "start_time": "2023-01-25T05:40:37.144Z"
   },
   {
    "duration": 10,
    "start_time": "2023-01-25T05:40:37.424Z"
   },
   {
    "duration": 7,
    "start_time": "2023-01-25T05:40:37.435Z"
   },
   {
    "duration": 222,
    "start_time": "2023-01-25T05:40:37.443Z"
   },
   {
    "duration": 5,
    "start_time": "2023-01-25T05:40:37.666Z"
   },
   {
    "duration": 35,
    "start_time": "2023-01-25T05:40:37.672Z"
   },
   {
    "duration": 16,
    "start_time": "2023-01-25T05:40:37.713Z"
   },
   {
    "duration": 177,
    "start_time": "2023-01-25T05:40:37.731Z"
   },
   {
    "duration": 302,
    "start_time": "2023-01-25T05:40:37.910Z"
   },
   {
    "duration": 399,
    "start_time": "2023-01-25T05:40:38.214Z"
   },
   {
    "duration": 345,
    "start_time": "2023-01-25T05:40:38.615Z"
   },
   {
    "duration": 7,
    "start_time": "2023-01-25T05:40:38.962Z"
   },
   {
    "duration": 1112,
    "start_time": "2023-01-25T05:40:38.972Z"
   },
   {
    "duration": 33,
    "start_time": "2023-01-25T05:40:40.100Z"
   },
   {
    "duration": 7,
    "start_time": "2023-01-25T05:40:40.135Z"
   },
   {
    "duration": 237,
    "start_time": "2023-01-25T05:40:40.144Z"
   },
   {
    "duration": 199,
    "start_time": "2023-01-25T05:40:40.382Z"
   },
   {
    "duration": 28,
    "start_time": "2023-01-25T05:40:40.585Z"
   },
   {
    "duration": 298,
    "start_time": "2023-01-25T05:40:40.616Z"
   },
   {
    "duration": 15,
    "start_time": "2023-01-25T05:40:40.916Z"
   },
   {
    "duration": 383,
    "start_time": "2023-01-25T05:40:40.933Z"
   },
   {
    "duration": 196,
    "start_time": "2023-01-25T05:40:41.318Z"
   },
   {
    "duration": 2,
    "start_time": "2023-01-25T05:40:41.516Z"
   },
   {
    "duration": 13,
    "start_time": "2023-01-25T05:40:41.520Z"
   },
   {
    "duration": 176,
    "start_time": "2023-01-25T05:40:41.535Z"
   },
   {
    "duration": 5,
    "start_time": "2023-01-25T05:40:41.713Z"
   },
   {
    "duration": 8,
    "start_time": "2023-01-25T05:40:41.720Z"
   },
   {
    "duration": 15,
    "start_time": "2023-01-25T05:40:41.729Z"
   },
   {
    "duration": 161,
    "start_time": "2023-01-25T05:40:41.745Z"
   },
   {
    "duration": 7,
    "start_time": "2023-01-25T05:40:41.908Z"
   },
   {
    "duration": 9,
    "start_time": "2023-01-25T05:40:41.917Z"
   },
   {
    "duration": 15,
    "start_time": "2023-01-25T05:41:17.309Z"
   },
   {
    "duration": 18,
    "start_time": "2023-01-25T05:41:20.124Z"
   },
   {
    "duration": 159,
    "start_time": "2023-01-25T05:41:56.284Z"
   },
   {
    "duration": 311,
    "start_time": "2023-01-25T05:45:09.421Z"
   },
   {
    "duration": 273,
    "start_time": "2023-01-25T05:45:38.256Z"
   },
   {
    "duration": 263,
    "start_time": "2023-01-25T05:45:49.443Z"
   },
   {
    "duration": 100,
    "start_time": "2023-01-25T05:46:30.818Z"
   },
   {
    "duration": 91,
    "start_time": "2023-01-25T05:47:31.358Z"
   },
   {
    "duration": 73,
    "start_time": "2023-01-25T05:47:40.610Z"
   },
   {
    "duration": 374,
    "start_time": "2023-01-25T05:47:45.362Z"
   },
   {
    "duration": 86,
    "start_time": "2023-01-25T05:56:33.909Z"
   },
   {
    "duration": 175,
    "start_time": "2023-01-25T06:18:22.697Z"
   },
   {
    "duration": 171,
    "start_time": "2023-01-25T06:18:32.170Z"
   },
   {
    "duration": 241,
    "start_time": "2023-01-25T06:19:53.530Z"
   },
   {
    "duration": 175,
    "start_time": "2023-01-25T06:20:02.047Z"
   },
   {
    "duration": 251,
    "start_time": "2023-01-25T06:20:06.264Z"
   },
   {
    "duration": 5,
    "start_time": "2023-01-25T06:20:34.163Z"
   },
   {
    "duration": 5,
    "start_time": "2023-01-25T06:20:40.621Z"
   },
   {
    "duration": 771,
    "start_time": "2023-01-25T06:21:43.749Z"
   },
   {
    "duration": 155,
    "start_time": "2023-01-25T06:22:03.582Z"
   },
   {
    "duration": 175,
    "start_time": "2023-01-25T06:23:12.037Z"
   },
   {
    "duration": 178,
    "start_time": "2023-01-25T06:23:16.581Z"
   },
   {
    "duration": 72,
    "start_time": "2023-01-25T06:25:22.494Z"
   },
   {
    "duration": 295,
    "start_time": "2023-01-25T06:25:27.352Z"
   },
   {
    "duration": 176,
    "start_time": "2023-01-25T06:25:34.458Z"
   },
   {
    "duration": 179,
    "start_time": "2023-01-25T06:25:39.353Z"
   },
   {
    "duration": 208,
    "start_time": "2023-01-25T06:25:45.129Z"
   },
   {
    "duration": 46,
    "start_time": "2023-01-25T06:51:00.883Z"
   },
   {
    "duration": 14,
    "start_time": "2023-01-25T06:51:07.743Z"
   },
   {
    "duration": 24,
    "start_time": "2023-01-25T06:51:55.984Z"
   },
   {
    "duration": 8,
    "start_time": "2023-01-25T06:52:29.710Z"
   },
   {
    "duration": 336,
    "start_time": "2023-01-25T07:08:45.010Z"
   },
   {
    "duration": 272,
    "start_time": "2023-01-25T07:09:24.782Z"
   },
   {
    "duration": 1072,
    "start_time": "2023-01-25T07:14:09.554Z"
   },
   {
    "duration": 81,
    "start_time": "2023-01-25T07:14:10.628Z"
   },
   {
    "duration": 4,
    "start_time": "2023-01-25T07:14:10.711Z"
   },
   {
    "duration": 22,
    "start_time": "2023-01-25T07:14:10.717Z"
   },
   {
    "duration": 3,
    "start_time": "2023-01-25T07:14:10.740Z"
   },
   {
    "duration": 35,
    "start_time": "2023-01-25T07:14:10.744Z"
   },
   {
    "duration": 29,
    "start_time": "2023-01-25T07:14:10.780Z"
   },
   {
    "duration": 24,
    "start_time": "2023-01-25T07:14:10.811Z"
   },
   {
    "duration": 20,
    "start_time": "2023-01-25T07:14:10.837Z"
   },
   {
    "duration": 10,
    "start_time": "2023-01-25T07:14:10.860Z"
   },
   {
    "duration": 12,
    "start_time": "2023-01-25T07:14:10.871Z"
   },
   {
    "duration": 31,
    "start_time": "2023-01-25T07:14:10.885Z"
   },
   {
    "duration": 20,
    "start_time": "2023-01-25T07:14:10.917Z"
   },
   {
    "duration": 9,
    "start_time": "2023-01-25T07:14:10.938Z"
   },
   {
    "duration": 8,
    "start_time": "2023-01-25T07:14:10.949Z"
   },
   {
    "duration": 17,
    "start_time": "2023-01-25T07:14:10.958Z"
   },
   {
    "duration": 42,
    "start_time": "2023-01-25T07:14:10.976Z"
   },
   {
    "duration": 29,
    "start_time": "2023-01-25T07:14:11.019Z"
   },
   {
    "duration": 22,
    "start_time": "2023-01-25T07:14:11.050Z"
   },
   {
    "duration": 11,
    "start_time": "2023-01-25T07:14:11.074Z"
   },
   {
    "duration": 33,
    "start_time": "2023-01-25T07:14:11.086Z"
   },
   {
    "duration": 14,
    "start_time": "2023-01-25T07:14:11.121Z"
   },
   {
    "duration": 15,
    "start_time": "2023-01-25T07:14:11.137Z"
   },
   {
    "duration": 11,
    "start_time": "2023-01-25T07:14:11.153Z"
   },
   {
    "duration": 15,
    "start_time": "2023-01-25T07:14:11.165Z"
   },
   {
    "duration": 34,
    "start_time": "2023-01-25T07:14:11.181Z"
   },
   {
    "duration": 12,
    "start_time": "2023-01-25T07:14:11.216Z"
   },
   {
    "duration": 336,
    "start_time": "2023-01-25T07:14:11.231Z"
   },
   {
    "duration": 281,
    "start_time": "2023-01-25T07:14:11.569Z"
   },
   {
    "duration": 11,
    "start_time": "2023-01-25T07:14:11.852Z"
   },
   {
    "duration": 47,
    "start_time": "2023-01-25T07:14:11.864Z"
   },
   {
    "duration": 240,
    "start_time": "2023-01-25T07:14:11.913Z"
   },
   {
    "duration": 6,
    "start_time": "2023-01-25T07:14:12.155Z"
   },
   {
    "duration": 38,
    "start_time": "2023-01-25T07:14:12.162Z"
   },
   {
    "duration": 16,
    "start_time": "2023-01-25T07:14:12.202Z"
   },
   {
    "duration": 161,
    "start_time": "2023-01-25T07:14:12.220Z"
   },
   {
    "duration": 294,
    "start_time": "2023-01-25T07:14:12.383Z"
   },
   {
    "duration": 370,
    "start_time": "2023-01-25T07:14:12.678Z"
   },
   {
    "duration": 425,
    "start_time": "2023-01-25T07:14:13.049Z"
   },
   {
    "duration": 23,
    "start_time": "2023-01-25T07:14:13.475Z"
   },
   {
    "duration": 1063,
    "start_time": "2023-01-25T07:14:13.505Z"
   },
   {
    "duration": 30,
    "start_time": "2023-01-25T07:14:14.570Z"
   },
   {
    "duration": 19,
    "start_time": "2023-01-25T07:14:14.601Z"
   },
   {
    "duration": 193,
    "start_time": "2023-01-25T07:14:14.622Z"
   },
   {
    "duration": 185,
    "start_time": "2023-01-25T07:14:14.816Z"
   },
   {
    "duration": 200,
    "start_time": "2023-01-25T07:14:15.003Z"
   },
   {
    "duration": 16,
    "start_time": "2023-01-25T07:14:15.205Z"
   },
   {
    "duration": 326,
    "start_time": "2023-01-25T07:14:15.223Z"
   },
   {
    "duration": 16,
    "start_time": "2023-01-25T07:14:15.551Z"
   },
   {
    "duration": 304,
    "start_time": "2023-01-25T07:14:15.569Z"
   },
   {
    "duration": 326,
    "start_time": "2023-01-25T07:14:15.875Z"
   },
   {
    "duration": 5,
    "start_time": "2023-01-25T07:14:16.207Z"
   },
   {
    "duration": 19,
    "start_time": "2023-01-25T07:14:16.213Z"
   },
   {
    "duration": 182,
    "start_time": "2023-01-25T07:14:16.234Z"
   },
   {
    "duration": 4,
    "start_time": "2023-01-25T07:14:16.417Z"
   },
   {
    "duration": 7,
    "start_time": "2023-01-25T07:14:16.423Z"
   },
   {
    "duration": 17,
    "start_time": "2023-01-25T07:14:16.431Z"
   },
   {
    "duration": 128,
    "start_time": "2023-01-25T07:14:16.449Z"
   },
   {
    "duration": 5,
    "start_time": "2023-01-25T07:14:16.578Z"
   },
   {
    "duration": 34,
    "start_time": "2023-01-25T07:14:16.585Z"
   },
   {
    "duration": 182,
    "start_time": "2023-01-25T07:15:37.881Z"
   },
   {
    "duration": 1096,
    "start_time": "2023-01-25T07:17:08.064Z"
   },
   {
    "duration": 73,
    "start_time": "2023-01-25T07:17:09.162Z"
   },
   {
    "duration": 4,
    "start_time": "2023-01-25T07:17:09.236Z"
   },
   {
    "duration": 20,
    "start_time": "2023-01-25T07:17:09.242Z"
   },
   {
    "duration": 12,
    "start_time": "2023-01-25T07:17:09.264Z"
   },
   {
    "duration": 73,
    "start_time": "2023-01-25T07:17:09.277Z"
   },
   {
    "duration": 9,
    "start_time": "2023-01-25T07:17:09.352Z"
   },
   {
    "duration": 18,
    "start_time": "2023-01-25T07:17:09.362Z"
   },
   {
    "duration": 35,
    "start_time": "2023-01-25T07:17:09.382Z"
   },
   {
    "duration": 21,
    "start_time": "2023-01-25T07:17:09.419Z"
   },
   {
    "duration": 10,
    "start_time": "2023-01-25T07:17:09.442Z"
   },
   {
    "duration": 7,
    "start_time": "2023-01-25T07:17:09.453Z"
   },
   {
    "duration": 17,
    "start_time": "2023-01-25T07:17:09.462Z"
   },
   {
    "duration": 45,
    "start_time": "2023-01-25T07:17:09.481Z"
   },
   {
    "duration": 18,
    "start_time": "2023-01-25T07:17:09.527Z"
   },
   {
    "duration": 25,
    "start_time": "2023-01-25T07:17:09.547Z"
   },
   {
    "duration": 42,
    "start_time": "2023-01-25T07:17:09.573Z"
   },
   {
    "duration": 17,
    "start_time": "2023-01-25T07:17:09.617Z"
   },
   {
    "duration": 21,
    "start_time": "2023-01-25T07:17:09.635Z"
   },
   {
    "duration": 24,
    "start_time": "2023-01-25T07:17:09.657Z"
   },
   {
    "duration": 35,
    "start_time": "2023-01-25T07:17:09.682Z"
   },
   {
    "duration": 20,
    "start_time": "2023-01-25T07:17:09.719Z"
   },
   {
    "duration": 25,
    "start_time": "2023-01-25T07:17:09.740Z"
   },
   {
    "duration": 8,
    "start_time": "2023-01-25T07:17:09.766Z"
   },
   {
    "duration": 24,
    "start_time": "2023-01-25T07:17:09.776Z"
   },
   {
    "duration": 28,
    "start_time": "2023-01-25T07:17:09.801Z"
   },
   {
    "duration": 21,
    "start_time": "2023-01-25T07:17:09.831Z"
   },
   {
    "duration": 380,
    "start_time": "2023-01-25T07:17:09.857Z"
   },
   {
    "duration": 277,
    "start_time": "2023-01-25T07:17:10.239Z"
   },
   {
    "duration": 11,
    "start_time": "2023-01-25T07:17:10.524Z"
   },
   {
    "duration": 37,
    "start_time": "2023-01-25T07:17:10.537Z"
   },
   {
    "duration": 257,
    "start_time": "2023-01-25T07:17:10.576Z"
   },
   {
    "duration": 5,
    "start_time": "2023-01-25T07:17:10.834Z"
   },
   {
    "duration": 23,
    "start_time": "2023-01-25T07:17:10.840Z"
   },
   {
    "duration": 33,
    "start_time": "2023-01-25T07:17:10.865Z"
   },
   {
    "duration": 188,
    "start_time": "2023-01-25T07:17:10.900Z"
   },
   {
    "duration": 290,
    "start_time": "2023-01-25T07:17:11.089Z"
   },
   {
    "duration": 361,
    "start_time": "2023-01-25T07:17:11.380Z"
   },
   {
    "duration": 422,
    "start_time": "2023-01-25T07:17:11.743Z"
   },
   {
    "duration": 8,
    "start_time": "2023-01-25T07:17:12.167Z"
   },
   {
    "duration": 1041,
    "start_time": "2023-01-25T07:17:12.187Z"
   },
   {
    "duration": 28,
    "start_time": "2023-01-25T07:17:13.231Z"
   },
   {
    "duration": 8,
    "start_time": "2023-01-25T07:17:13.260Z"
   },
   {
    "duration": 192,
    "start_time": "2023-01-25T07:17:13.270Z"
   },
   {
    "duration": 180,
    "start_time": "2023-01-25T07:17:13.465Z"
   },
   {
    "duration": 205,
    "start_time": "2023-01-25T07:17:13.646Z"
   },
   {
    "duration": 13,
    "start_time": "2023-01-25T07:17:13.853Z"
   },
   {
    "duration": 278,
    "start_time": "2023-01-25T07:17:13.868Z"
   },
   {
    "duration": 12,
    "start_time": "2023-01-25T07:17:14.148Z"
   },
   {
    "duration": 296,
    "start_time": "2023-01-25T07:17:14.161Z"
   },
   {
    "duration": 278,
    "start_time": "2023-01-25T07:17:14.458Z"
   },
   {
    "duration": 3,
    "start_time": "2023-01-25T07:17:14.737Z"
   },
   {
    "duration": 17,
    "start_time": "2023-01-25T07:17:14.742Z"
   },
   {
    "duration": 175,
    "start_time": "2023-01-25T07:17:14.760Z"
   },
   {
    "duration": 4,
    "start_time": "2023-01-25T07:17:14.936Z"
   },
   {
    "duration": 20,
    "start_time": "2023-01-25T07:17:14.942Z"
   },
   {
    "duration": 17,
    "start_time": "2023-01-25T07:17:14.964Z"
   },
   {
    "duration": 170,
    "start_time": "2023-01-25T07:17:14.983Z"
   },
   {
    "duration": 4,
    "start_time": "2023-01-25T07:17:15.155Z"
   },
   {
    "duration": 59,
    "start_time": "2023-01-25T07:17:15.160Z"
   },
   {
    "duration": 1231,
    "start_time": "2023-01-25T15:14:41.777Z"
   },
   {
    "duration": 110,
    "start_time": "2023-01-25T15:14:43.012Z"
   },
   {
    "duration": 21,
    "start_time": "2023-01-25T15:14:43.124Z"
   },
   {
    "duration": 43,
    "start_time": "2023-01-25T15:14:43.149Z"
   },
   {
    "duration": 8,
    "start_time": "2023-01-25T15:14:43.194Z"
   },
   {
    "duration": 71,
    "start_time": "2023-01-25T15:14:43.203Z"
   },
   {
    "duration": 30,
    "start_time": "2023-01-25T15:14:43.276Z"
   },
   {
    "duration": 44,
    "start_time": "2023-01-25T15:14:43.308Z"
   },
   {
    "duration": 29,
    "start_time": "2023-01-25T15:14:43.354Z"
   },
   {
    "duration": 13,
    "start_time": "2023-01-25T15:14:43.386Z"
   },
   {
    "duration": 41,
    "start_time": "2023-01-25T15:14:43.401Z"
   },
   {
    "duration": 15,
    "start_time": "2023-01-25T15:14:43.447Z"
   },
   {
    "duration": 7,
    "start_time": "2023-01-25T15:14:43.464Z"
   },
   {
    "duration": 8,
    "start_time": "2023-01-25T15:14:43.473Z"
   },
   {
    "duration": 8,
    "start_time": "2023-01-25T15:14:43.483Z"
   },
   {
    "duration": 17,
    "start_time": "2023-01-25T15:14:43.493Z"
   },
   {
    "duration": 18,
    "start_time": "2023-01-25T15:14:43.511Z"
   },
   {
    "duration": 15,
    "start_time": "2023-01-25T15:14:43.532Z"
   },
   {
    "duration": 8,
    "start_time": "2023-01-25T15:14:43.551Z"
   },
   {
    "duration": 8,
    "start_time": "2023-01-25T15:14:43.562Z"
   },
   {
    "duration": 5,
    "start_time": "2023-01-25T15:14:43.572Z"
   },
   {
    "duration": 13,
    "start_time": "2023-01-25T15:14:43.579Z"
   },
   {
    "duration": 56,
    "start_time": "2023-01-25T15:14:43.594Z"
   },
   {
    "duration": 17,
    "start_time": "2023-01-25T15:14:43.652Z"
   },
   {
    "duration": 16,
    "start_time": "2023-01-25T15:14:43.671Z"
   },
   {
    "duration": 6,
    "start_time": "2023-01-25T15:14:43.689Z"
   },
   {
    "duration": 13,
    "start_time": "2023-01-25T15:14:43.696Z"
   },
   {
    "duration": 370,
    "start_time": "2023-01-25T15:14:43.726Z"
   },
   {
    "duration": 308,
    "start_time": "2023-01-25T15:14:44.097Z"
   },
   {
    "duration": 11,
    "start_time": "2023-01-25T15:14:44.407Z"
   },
   {
    "duration": 19,
    "start_time": "2023-01-25T15:14:44.420Z"
   },
   {
    "duration": 259,
    "start_time": "2023-01-25T15:14:44.442Z"
   },
   {
    "duration": 7,
    "start_time": "2023-01-25T15:14:44.703Z"
   },
   {
    "duration": 30,
    "start_time": "2023-01-25T15:14:44.712Z"
   },
   {
    "duration": 21,
    "start_time": "2023-01-25T15:14:44.745Z"
   },
   {
    "duration": 174,
    "start_time": "2023-01-25T15:14:44.768Z"
   },
   {
    "duration": 294,
    "start_time": "2023-01-25T15:14:44.944Z"
   },
   {
    "duration": 374,
    "start_time": "2023-01-25T15:14:45.241Z"
   },
   {
    "duration": 530,
    "start_time": "2023-01-25T15:14:45.617Z"
   },
   {
    "duration": 13,
    "start_time": "2023-01-25T15:14:46.150Z"
   },
   {
    "duration": 1219,
    "start_time": "2023-01-25T15:14:46.164Z"
   },
   {
    "duration": 41,
    "start_time": "2023-01-25T15:14:47.385Z"
   },
   {
    "duration": 17,
    "start_time": "2023-01-25T15:14:47.431Z"
   },
   {
    "duration": 214,
    "start_time": "2023-01-25T15:14:47.450Z"
   },
   {
    "duration": 211,
    "start_time": "2023-01-25T15:14:47.666Z"
   },
   {
    "duration": 235,
    "start_time": "2023-01-25T15:14:47.878Z"
   },
   {
    "duration": 31,
    "start_time": "2023-01-25T15:14:48.115Z"
   },
   {
    "duration": 298,
    "start_time": "2023-01-25T15:14:48.149Z"
   },
   {
    "duration": 14,
    "start_time": "2023-01-25T15:14:48.449Z"
   },
   {
    "duration": 320,
    "start_time": "2023-01-25T15:14:48.465Z"
   },
   {
    "duration": 321,
    "start_time": "2023-01-25T15:14:48.786Z"
   },
   {
    "duration": 3,
    "start_time": "2023-01-25T15:14:49.109Z"
   },
   {
    "duration": 31,
    "start_time": "2023-01-25T15:14:49.114Z"
   },
   {
    "duration": 205,
    "start_time": "2023-01-25T15:14:49.146Z"
   },
   {
    "duration": 4,
    "start_time": "2023-01-25T15:14:49.355Z"
   },
   {
    "duration": 15,
    "start_time": "2023-01-25T15:14:49.360Z"
   },
   {
    "duration": 19,
    "start_time": "2023-01-25T15:14:49.377Z"
   },
   {
    "duration": 175,
    "start_time": "2023-01-25T15:14:49.398Z"
   },
   {
    "duration": 5,
    "start_time": "2023-01-25T15:14:49.575Z"
   },
   {
    "duration": 9,
    "start_time": "2023-01-25T15:14:49.583Z"
   },
   {
    "duration": 1210,
    "start_time": "2023-01-25T15:18:05.018Z"
   },
   {
    "duration": 84,
    "start_time": "2023-01-25T15:18:06.231Z"
   },
   {
    "duration": 4,
    "start_time": "2023-01-25T15:18:06.317Z"
   },
   {
    "duration": 22,
    "start_time": "2023-01-25T15:18:06.324Z"
   },
   {
    "duration": 3,
    "start_time": "2023-01-25T15:18:06.350Z"
   },
   {
    "duration": 33,
    "start_time": "2023-01-25T15:18:06.355Z"
   },
   {
    "duration": 16,
    "start_time": "2023-01-25T15:18:06.390Z"
   },
   {
    "duration": 38,
    "start_time": "2023-01-25T15:18:06.409Z"
   },
   {
    "duration": 34,
    "start_time": "2023-01-25T15:18:06.450Z"
   },
   {
    "duration": 14,
    "start_time": "2023-01-25T15:18:06.487Z"
   },
   {
    "duration": 11,
    "start_time": "2023-01-25T15:18:06.528Z"
   },
   {
    "duration": 6,
    "start_time": "2023-01-25T15:18:06.541Z"
   },
   {
    "duration": 5,
    "start_time": "2023-01-25T15:18:06.549Z"
   },
   {
    "duration": 10,
    "start_time": "2023-01-25T15:18:06.556Z"
   },
   {
    "duration": 10,
    "start_time": "2023-01-25T15:18:06.568Z"
   },
   {
    "duration": 50,
    "start_time": "2023-01-25T15:18:06.580Z"
   },
   {
    "duration": 12,
    "start_time": "2023-01-25T15:18:06.632Z"
   },
   {
    "duration": 13,
    "start_time": "2023-01-25T15:18:06.646Z"
   },
   {
    "duration": 9,
    "start_time": "2023-01-25T15:18:06.661Z"
   },
   {
    "duration": 9,
    "start_time": "2023-01-25T15:18:06.672Z"
   },
   {
    "duration": 8,
    "start_time": "2023-01-25T15:18:06.683Z"
   },
   {
    "duration": 36,
    "start_time": "2023-01-25T15:18:06.694Z"
   },
   {
    "duration": 14,
    "start_time": "2023-01-25T15:18:06.732Z"
   },
   {
    "duration": 6,
    "start_time": "2023-01-25T15:18:06.748Z"
   },
   {
    "duration": 16,
    "start_time": "2023-01-25T15:18:06.756Z"
   },
   {
    "duration": 10,
    "start_time": "2023-01-25T15:18:06.774Z"
   },
   {
    "duration": 51,
    "start_time": "2023-01-25T15:18:06.787Z"
   },
   {
    "duration": 363,
    "start_time": "2023-01-25T15:18:06.843Z"
   },
   {
    "duration": 308,
    "start_time": "2023-01-25T15:18:07.208Z"
   },
   {
    "duration": 18,
    "start_time": "2023-01-25T15:18:07.518Z"
   },
   {
    "duration": 14,
    "start_time": "2023-01-25T15:18:07.538Z"
   },
   {
    "duration": 247,
    "start_time": "2023-01-25T15:18:07.554Z"
   },
   {
    "duration": 7,
    "start_time": "2023-01-25T15:18:07.803Z"
   },
   {
    "duration": 22,
    "start_time": "2023-01-25T15:18:07.812Z"
   },
   {
    "duration": 14,
    "start_time": "2023-01-25T15:18:07.837Z"
   },
   {
    "duration": 177,
    "start_time": "2023-01-25T15:18:07.853Z"
   },
   {
    "duration": 295,
    "start_time": "2023-01-25T15:18:08.032Z"
   },
   {
    "duration": 354,
    "start_time": "2023-01-25T15:18:08.329Z"
   },
   {
    "duration": 436,
    "start_time": "2023-01-25T15:18:08.685Z"
   },
   {
    "duration": 9,
    "start_time": "2023-01-25T15:18:09.126Z"
   },
   {
    "duration": 1007,
    "start_time": "2023-01-25T15:18:09.136Z"
   },
   {
    "duration": 28,
    "start_time": "2023-01-25T15:18:10.145Z"
   },
   {
    "duration": 7,
    "start_time": "2023-01-25T15:18:10.175Z"
   },
   {
    "duration": 233,
    "start_time": "2023-01-25T15:18:10.184Z"
   },
   {
    "duration": 218,
    "start_time": "2023-01-25T15:18:10.420Z"
   },
   {
    "duration": 220,
    "start_time": "2023-01-25T15:18:10.640Z"
   },
   {
    "duration": 19,
    "start_time": "2023-01-25T15:18:10.862Z"
   },
   {
    "duration": 273,
    "start_time": "2023-01-25T15:18:10.883Z"
   },
   {
    "duration": 22,
    "start_time": "2023-01-25T15:18:11.158Z"
   },
   {
    "duration": 294,
    "start_time": "2023-01-25T15:18:11.182Z"
   },
   {
    "duration": 284,
    "start_time": "2023-01-25T15:18:11.478Z"
   },
   {
    "duration": 3,
    "start_time": "2023-01-25T15:18:11.763Z"
   },
   {
    "duration": 20,
    "start_time": "2023-01-25T15:18:11.767Z"
   },
   {
    "duration": 175,
    "start_time": "2023-01-25T15:18:11.789Z"
   },
   {
    "duration": 3,
    "start_time": "2023-01-25T15:18:11.966Z"
   },
   {
    "duration": 10,
    "start_time": "2023-01-25T15:18:11.971Z"
   },
   {
    "duration": 16,
    "start_time": "2023-01-25T15:18:11.983Z"
   },
   {
    "duration": 145,
    "start_time": "2023-01-25T15:18:12.001Z"
   },
   {
    "duration": 6,
    "start_time": "2023-01-25T15:18:12.148Z"
   },
   {
    "duration": 12,
    "start_time": "2023-01-25T15:18:12.157Z"
   }
  ],
  "kernelspec": {
   "display_name": "Python 3 (ipykernel)",
   "language": "python",
   "name": "python3"
  },
  "language_info": {
   "codemirror_mode": {
    "name": "ipython",
    "version": 3
   },
   "file_extension": ".py",
   "mimetype": "text/x-python",
   "name": "python",
   "nbconvert_exporter": "python",
   "pygments_lexer": "ipython3",
   "version": "3.9.13"
  },
  "toc": {
   "base_numbering": 1,
   "nav_menu": {
    "height": "440.989px",
    "width": "480.602px"
   },
   "number_sections": true,
   "sideBar": true,
   "skip_h1_title": true,
   "title_cell": "Table of Contents",
   "title_sidebar": "Contents",
   "toc_cell": false,
   "toc_position": {
    "height": "calc(100% - 180px)",
    "left": "10px",
    "top": "150px",
    "width": "279px"
   },
   "toc_section_display": true,
   "toc_window_display": false
  }
 },
 "nbformat": 4,
 "nbformat_minor": 2
}
