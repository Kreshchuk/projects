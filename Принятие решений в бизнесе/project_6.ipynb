{
 "cells": [
  {
   "cell_type": "markdown",
   "metadata": {},
   "source": [
    "# Принятие решений в бизнесе\n",
    "\n",
    "Данный проект мы выполняем в качестве аналитика крупного интернет-магазина. Вместе с отделом маркетинга ми подготовили список гипотез для увеличения выручки.\n",
    "\n",
    "**Цели исследования:**\n",
    "1. приоритизировать гипотезы\n",
    "2. запустить A/B тест и проанализировать резульаты\n",
    "\n",
    "В ходе выполнения целей проект будет поделен на две части.\n",
    "\n",
    "**Часть 1. Приоритизация гипотез**\n",
    "\n",
    "**Данные:**\n",
    "\n",
    "Данные для исследования будут получены из файла `/datasets/hypothesis.csv`\n",
    "В нем хранятся данные о 9-ти гипотезах по увеличению выручки интернет-магазина с указанными параметрами ``Reach``, ``Impact``, ``Confidence``, ``Effort``.\n",
    "\n",
    "**Описание данных:**\n",
    "- ``Hypothesis`` — краткое описание гипотезы\n",
    "- ``Reach`` — охват пользователей по 10-балльной шкале;\n",
    "- ``Impact`` — влияние на пользователей по 10-балльной шкале;\n",
    "- ``Confidence`` — уверенность в гипотезе по 10-балльной шкале;\n",
    "- ``Efforts`` — затраты ресурсов на проверку гипотезы по 10-балльной шкале. Чем больше значение ``Efforts``, тем дороже проверка гипотезы.\n",
    "\n",
    "**Ход исследования:**\n",
    "\n",
    "Для выполнения целей исследования первой части проекта будет необходимо:\n",
    "- применить фреймворк ``ICE`` для приоритизации гипотез. Отсортировать их по убыванию приоритета.\n",
    "- применить фреймворк ``RICE`` для приоритизации гипотез. Отсортировать их по убыванию приоритета.\n",
    "- указать, как изменилась приоритизация гипотез при применении ``RICE`` вместо ``ICE``. Сделать выводы.\n",
    "\n",
    "**Часть 2. Анализ A/B-теста**\n",
    "\n",
    "**Данные:**\n",
    "\n",
    "Данные для исследования будут полученны из файлов:\n",
    "- ``/datasets/orders.csv``\n",
    "- ``/datasets/visitors.csv``\n",
    "\n",
    "В первую очередь необходимо будет провести предобработку данных, а именно проверить данные на наличие пропусков и дубликатов.\n",
    "Далее необходимо проверить типы данных, при необходимости заменить названия столбцов. Особенное внимание стоит уделить значениям с датой и временем.\n",
    "\n",
    "**Описание данных:**\n",
    "\n",
    "``/datasets/orders.csv``\n",
    "- ``transactionId`` — идентификатор заказа\n",
    "- ``visitorId`` — идентификатор пользователя, совершившего заказ\n",
    "- ``date`` — дата, когда был совершён заказ\n",
    "- ``revenue`` — выручка заказа;\n",
    "- ``group`` — группа A/B-теста, в которую попал заказ\n",
    "\n",
    "``/datasets/visitors.csv``\n",
    "- ``date`` — дата\n",
    "- ``group`` — группа A/B-теста\n",
    "- ``visitors`` — количество пользователей в указанную дату в указанной группе A/B-теста\n",
    "\n",
    "**Ход исследования:**\n",
    "- предобработка данных\n",
    "- построение графика кумулятивной выручки по группам\n",
    "- построение графика кумулятивного среднего чека по группам\n",
    "- постройте графика относительного изменения кумулятивного среднего чека группы B к группе A\n",
    "- построение графика кумулятивного среднего количества заказов на посетителя по группам\n",
    "- построение графика относительного изменения кумулятивного среднего количества заказов на посетителя группы B к группе A\n",
    "- построение точечного графика количества заказов по пользователям.\n",
    "- рассчет 95-го и 99-го перцентиля количества заказов на пользователя. Выбор границы для определения аномальных пользователей\n",
    "- построение точечный графика стоимостей заказов\n",
    "- рассчет 95-й и 99-й перцентиля стоимости заказов. Выбор границы для определения аномальных заказов\n",
    "- рассчет статистической значимости различий в среднем количестве заказов на посетителя между группами по «сырым» данным\n",
    "- рассчет статистической значимости различий в среднем чеке заказа между группами по «сырым» данным\n",
    "- рассчет статистической значимости различий в среднем количестве заказов на посетителя между группами по «очищенным» данным\n",
    "- рассчет статистической значимости различий в среднем чеке заказа между группами по «очищенным» данным\n",
    "- решение по результатам теста\n"
   ]
  },
  {
   "cell_type": "code",
   "execution_count": 1,
   "metadata": {},
   "outputs": [],
   "source": [
    "import pandas as pd\n",
    "import scipy.stats as stats\n",
    "import datetime as dt\n",
    "import numpy as np\n",
    "import matplotlib.pyplot as plt\n",
    "\n",
    "\n",
    "pd.options.display.max_colwidth = 150"
   ]
  },
  {
   "cell_type": "markdown",
   "metadata": {},
   "source": [
    "##  Приоритизация гипотез"
   ]
  },
  {
   "cell_type": "markdown",
   "metadata": {},
   "source": [
    "Взглянем на датасет с гипотезами:"
   ]
  },
  {
   "cell_type": "code",
   "execution_count": 2,
   "metadata": {},
   "outputs": [
    {
     "data": {
      "text/html": [
       "<div>\n",
       "<style scoped>\n",
       "    .dataframe tbody tr th:only-of-type {\n",
       "        vertical-align: middle;\n",
       "    }\n",
       "\n",
       "    .dataframe tbody tr th {\n",
       "        vertical-align: top;\n",
       "    }\n",
       "\n",
       "    .dataframe thead th {\n",
       "        text-align: right;\n",
       "    }\n",
       "</style>\n",
       "<table border=\"1\" class=\"dataframe\">\n",
       "  <thead>\n",
       "    <tr style=\"text-align: right;\">\n",
       "      <th></th>\n",
       "      <th>hypothesis</th>\n",
       "      <th>reach</th>\n",
       "      <th>impact</th>\n",
       "      <th>confidence</th>\n",
       "      <th>efforts</th>\n",
       "    </tr>\n",
       "  </thead>\n",
       "  <tbody>\n",
       "    <tr>\n",
       "      <th>0</th>\n",
       "      <td>Добавить два новых канала привлечения трафика, что позволит привлекать на 30% больше пользователей</td>\n",
       "      <td>3</td>\n",
       "      <td>10</td>\n",
       "      <td>8</td>\n",
       "      <td>6</td>\n",
       "    </tr>\n",
       "    <tr>\n",
       "      <th>1</th>\n",
       "      <td>Запустить собственную службу доставки, что сократит срок доставки заказов</td>\n",
       "      <td>2</td>\n",
       "      <td>5</td>\n",
       "      <td>4</td>\n",
       "      <td>10</td>\n",
       "    </tr>\n",
       "    <tr>\n",
       "      <th>2</th>\n",
       "      <td>Добавить блоки рекомендаций товаров на сайт интернет магазина, чтобы повысить конверсию и средний чек заказа</td>\n",
       "      <td>8</td>\n",
       "      <td>3</td>\n",
       "      <td>7</td>\n",
       "      <td>3</td>\n",
       "    </tr>\n",
       "    <tr>\n",
       "      <th>3</th>\n",
       "      <td>Изменить структура категорий, что увеличит конверсию, т.к. пользователи быстрее найдут нужный товар</td>\n",
       "      <td>8</td>\n",
       "      <td>3</td>\n",
       "      <td>3</td>\n",
       "      <td>8</td>\n",
       "    </tr>\n",
       "    <tr>\n",
       "      <th>4</th>\n",
       "      <td>Изменить цвет фона главной страницы, чтобы увеличить вовлеченность пользователей</td>\n",
       "      <td>3</td>\n",
       "      <td>1</td>\n",
       "      <td>1</td>\n",
       "      <td>1</td>\n",
       "    </tr>\n",
       "  </tbody>\n",
       "</table>\n",
       "</div>"
      ],
      "text/plain": [
       "                                                                                                     hypothesis  \\\n",
       "0            Добавить два новых канала привлечения трафика, что позволит привлекать на 30% больше пользователей   \n",
       "1                                     Запустить собственную службу доставки, что сократит срок доставки заказов   \n",
       "2  Добавить блоки рекомендаций товаров на сайт интернет магазина, чтобы повысить конверсию и средний чек заказа   \n",
       "3           Изменить структура категорий, что увеличит конверсию, т.к. пользователи быстрее найдут нужный товар   \n",
       "4                              Изменить цвет фона главной страницы, чтобы увеличить вовлеченность пользователей   \n",
       "\n",
       "   reach  impact  confidence  efforts  \n",
       "0      3      10           8        6  \n",
       "1      2       5           4       10  \n",
       "2      8       3           7        3  \n",
       "3      8       3           3        8  \n",
       "4      3       1           1        1  "
      ]
     },
     "execution_count": 2,
     "metadata": {},
     "output_type": "execute_result"
    }
   ],
   "source": [
    "df = pd.read_csv('/datasets/hypothesis.csv')\n",
    "df.columns = df.columns.str.lower()\n",
    "df.head()"
   ]
  },
  {
   "cell_type": "markdown",
   "metadata": {},
   "source": [
    "### фреймворк ICE"
   ]
  },
  {
   "cell_type": "code",
   "execution_count": 3,
   "metadata": {},
   "outputs": [
    {
     "data": {
      "text/html": [
       "<div>\n",
       "<style scoped>\n",
       "    .dataframe tbody tr th:only-of-type {\n",
       "        vertical-align: middle;\n",
       "    }\n",
       "\n",
       "    .dataframe tbody tr th {\n",
       "        vertical-align: top;\n",
       "    }\n",
       "\n",
       "    .dataframe thead th {\n",
       "        text-align: right;\n",
       "    }\n",
       "</style>\n",
       "<table border=\"1\" class=\"dataframe\">\n",
       "  <thead>\n",
       "    <tr style=\"text-align: right;\">\n",
       "      <th></th>\n",
       "      <th>hypothesis</th>\n",
       "      <th>ice</th>\n",
       "    </tr>\n",
       "  </thead>\n",
       "  <tbody>\n",
       "    <tr>\n",
       "      <th>8</th>\n",
       "      <td>Запустить акцию, дающую скидку на товар в день рождения</td>\n",
       "      <td>16.20</td>\n",
       "    </tr>\n",
       "    <tr>\n",
       "      <th>0</th>\n",
       "      <td>Добавить два новых канала привлечения трафика, что позволит привлекать на 30% больше пользователей</td>\n",
       "      <td>13.33</td>\n",
       "    </tr>\n",
       "    <tr>\n",
       "      <th>7</th>\n",
       "      <td>Добавить форму подписки на все основные страницы, чтобы собрать базу клиентов для email-рассылок</td>\n",
       "      <td>11.20</td>\n",
       "    </tr>\n",
       "    <tr>\n",
       "      <th>6</th>\n",
       "      <td>Показать на главной странице баннеры с актуальными акциями и распродажами, чтобы увеличить конверсию</td>\n",
       "      <td>8.00</td>\n",
       "    </tr>\n",
       "    <tr>\n",
       "      <th>2</th>\n",
       "      <td>Добавить блоки рекомендаций товаров на сайт интернет магазина, чтобы повысить конверсию и средний чек заказа</td>\n",
       "      <td>7.00</td>\n",
       "    </tr>\n",
       "    <tr>\n",
       "      <th>1</th>\n",
       "      <td>Запустить собственную службу доставки, что сократит срок доставки заказов</td>\n",
       "      <td>2.00</td>\n",
       "    </tr>\n",
       "    <tr>\n",
       "      <th>5</th>\n",
       "      <td>Добавить страницу отзывов клиентов о магазине, что позволит увеличить количество заказов</td>\n",
       "      <td>1.33</td>\n",
       "    </tr>\n",
       "    <tr>\n",
       "      <th>3</th>\n",
       "      <td>Изменить структура категорий, что увеличит конверсию, т.к. пользователи быстрее найдут нужный товар</td>\n",
       "      <td>1.12</td>\n",
       "    </tr>\n",
       "    <tr>\n",
       "      <th>4</th>\n",
       "      <td>Изменить цвет фона главной страницы, чтобы увеличить вовлеченность пользователей</td>\n",
       "      <td>1.00</td>\n",
       "    </tr>\n",
       "  </tbody>\n",
       "</table>\n",
       "</div>"
      ],
      "text/plain": [
       "                                                                                                     hypothesis  \\\n",
       "8                                                       Запустить акцию, дающую скидку на товар в день рождения   \n",
       "0            Добавить два новых канала привлечения трафика, что позволит привлекать на 30% больше пользователей   \n",
       "7              Добавить форму подписки на все основные страницы, чтобы собрать базу клиентов для email-рассылок   \n",
       "6          Показать на главной странице баннеры с актуальными акциями и распродажами, чтобы увеличить конверсию   \n",
       "2  Добавить блоки рекомендаций товаров на сайт интернет магазина, чтобы повысить конверсию и средний чек заказа   \n",
       "1                                     Запустить собственную службу доставки, что сократит срок доставки заказов   \n",
       "5                      Добавить страницу отзывов клиентов о магазине, что позволит увеличить количество заказов   \n",
       "3           Изменить структура категорий, что увеличит конверсию, т.к. пользователи быстрее найдут нужный товар   \n",
       "4                              Изменить цвет фона главной страницы, чтобы увеличить вовлеченность пользователей   \n",
       "\n",
       "     ice  \n",
       "8  16.20  \n",
       "0  13.33  \n",
       "7  11.20  \n",
       "6   8.00  \n",
       "2   7.00  \n",
       "1   2.00  \n",
       "5   1.33  \n",
       "3   1.12  \n",
       "4   1.00  "
      ]
     },
     "execution_count": 3,
     "metadata": {},
     "output_type": "execute_result"
    }
   ],
   "source": [
    "df['ice'] = round(df['impact'] * df['confidence'] / df['efforts'], 2)\n",
    "df[['hypothesis', 'ice']].sort_values(by='ice', ascending=False)"
   ]
  },
  {
   "cell_type": "markdown",
   "metadata": {},
   "source": [
    "### фреймворк RICE"
   ]
  },
  {
   "cell_type": "code",
   "execution_count": 4,
   "metadata": {},
   "outputs": [
    {
     "data": {
      "text/html": [
       "<div>\n",
       "<style scoped>\n",
       "    .dataframe tbody tr th:only-of-type {\n",
       "        vertical-align: middle;\n",
       "    }\n",
       "\n",
       "    .dataframe tbody tr th {\n",
       "        vertical-align: top;\n",
       "    }\n",
       "\n",
       "    .dataframe thead th {\n",
       "        text-align: right;\n",
       "    }\n",
       "</style>\n",
       "<table border=\"1\" class=\"dataframe\">\n",
       "  <thead>\n",
       "    <tr style=\"text-align: right;\">\n",
       "      <th></th>\n",
       "      <th>hypothesis</th>\n",
       "      <th>rice</th>\n",
       "    </tr>\n",
       "  </thead>\n",
       "  <tbody>\n",
       "    <tr>\n",
       "      <th>7</th>\n",
       "      <td>Добавить форму подписки на все основные страницы, чтобы собрать базу клиентов для email-рассылок</td>\n",
       "      <td>112.0</td>\n",
       "    </tr>\n",
       "    <tr>\n",
       "      <th>2</th>\n",
       "      <td>Добавить блоки рекомендаций товаров на сайт интернет магазина, чтобы повысить конверсию и средний чек заказа</td>\n",
       "      <td>56.0</td>\n",
       "    </tr>\n",
       "    <tr>\n",
       "      <th>0</th>\n",
       "      <td>Добавить два новых канала привлечения трафика, что позволит привлекать на 30% больше пользователей</td>\n",
       "      <td>40.0</td>\n",
       "    </tr>\n",
       "    <tr>\n",
       "      <th>6</th>\n",
       "      <td>Показать на главной странице баннеры с актуальными акциями и распродажами, чтобы увеличить конверсию</td>\n",
       "      <td>40.0</td>\n",
       "    </tr>\n",
       "    <tr>\n",
       "      <th>8</th>\n",
       "      <td>Запустить акцию, дающую скидку на товар в день рождения</td>\n",
       "      <td>16.2</td>\n",
       "    </tr>\n",
       "    <tr>\n",
       "      <th>3</th>\n",
       "      <td>Изменить структура категорий, что увеличит конверсию, т.к. пользователи быстрее найдут нужный товар</td>\n",
       "      <td>9.0</td>\n",
       "    </tr>\n",
       "    <tr>\n",
       "      <th>1</th>\n",
       "      <td>Запустить собственную службу доставки, что сократит срок доставки заказов</td>\n",
       "      <td>4.0</td>\n",
       "    </tr>\n",
       "    <tr>\n",
       "      <th>5</th>\n",
       "      <td>Добавить страницу отзывов клиентов о магазине, что позволит увеличить количество заказов</td>\n",
       "      <td>4.0</td>\n",
       "    </tr>\n",
       "    <tr>\n",
       "      <th>4</th>\n",
       "      <td>Изменить цвет фона главной страницы, чтобы увеличить вовлеченность пользователей</td>\n",
       "      <td>3.0</td>\n",
       "    </tr>\n",
       "  </tbody>\n",
       "</table>\n",
       "</div>"
      ],
      "text/plain": [
       "                                                                                                     hypothesis  \\\n",
       "7              Добавить форму подписки на все основные страницы, чтобы собрать базу клиентов для email-рассылок   \n",
       "2  Добавить блоки рекомендаций товаров на сайт интернет магазина, чтобы повысить конверсию и средний чек заказа   \n",
       "0            Добавить два новых канала привлечения трафика, что позволит привлекать на 30% больше пользователей   \n",
       "6          Показать на главной странице баннеры с актуальными акциями и распродажами, чтобы увеличить конверсию   \n",
       "8                                                       Запустить акцию, дающую скидку на товар в день рождения   \n",
       "3           Изменить структура категорий, что увеличит конверсию, т.к. пользователи быстрее найдут нужный товар   \n",
       "1                                     Запустить собственную службу доставки, что сократит срок доставки заказов   \n",
       "5                      Добавить страницу отзывов клиентов о магазине, что позволит увеличить количество заказов   \n",
       "4                              Изменить цвет фона главной страницы, чтобы увеличить вовлеченность пользователей   \n",
       "\n",
       "    rice  \n",
       "7  112.0  \n",
       "2   56.0  \n",
       "0   40.0  \n",
       "6   40.0  \n",
       "8   16.2  \n",
       "3    9.0  \n",
       "1    4.0  \n",
       "5    4.0  \n",
       "4    3.0  "
      ]
     },
     "execution_count": 4,
     "metadata": {},
     "output_type": "execute_result"
    }
   ],
   "source": [
    "df['rice'] = df['reach'] * df['impact'] * df['confidence'] / df['efforts']\n",
    "df[['hypothesis', 'rice']].sort_values(by='rice', ascending=False)"
   ]
  },
  {
   "cell_type": "code",
   "execution_count": 5,
   "metadata": {},
   "outputs": [
    {
     "name": "stdout",
     "output_type": "stream",
     "text": [
      "Запустить акцию, дающую скидку на товар в день рождения\n",
      "Добавить форму подписки на все основные страницы, чтобы собрать базу клиентов для email-рассылок\n"
     ]
    }
   ],
   "source": [
    "print(df.iloc[8][0])\n",
    "print(df.iloc[7][0])"
   ]
  },
  {
   "cell_type": "markdown",
   "metadata": {},
   "source": [
    "### Вывод"
   ]
  },
  {
   "cell_type": "markdown",
   "metadata": {},
   "source": [
    "Мы получили два списка гипотез проранжированных с помощью фреймфорков ICE и RICE. С учетом того, что фреймворк RICE включает в себя учет охвата пользователей ``reach`` в отличии от ICE, мы видим различия между рангами приоритетов гипотез.\n",
    "\n",
    "При применении фреймворка RICE можно отметить, что гипотеза с индексом ``8`` опустилась с первой на пятую позицию, что в свою очередь свидетельствует о низком охвате пользователей, которых костется изменение.\n",
    "Справедливо можно отметить и гипотезу с индексом ``7``. С учетом показателей охвата поьзователей, которых коснется изменение она является наиболее приоритетной.\n",
    "\n",
    "Причина по которой гипотеза **Запустить акцию, дающую скидку на товар в день рождения** опустилась в фреймворке RICE: \n",
    "вероятность того, что пользователи не всегнда указывают дату рождения, а те пользователи у которых указан день рождения не всегда готовы покупать в этот день. Возможно стоит рассмотреть более длительный период предоставления скидки относительно дня рождения.\n",
    "\n",
    "Причина по которой гипотеза **Добавить форму подписки на все основные страницы, чтобы собрать базу клиентов для email-рассылок**\n",
    "стала наиболее приоритетной во фреймворке RICE: охват в этой гипотезе является максимальным, так как мы собираемся добавлять форму на все основные страницы, поэтому эту форму должны увидеть почти все пользователи.\n",
    "\n",
    "\n"
   ]
  },
  {
   "cell_type": "markdown",
   "metadata": {},
   "source": [
    "## Анализ A/B-теста"
   ]
  },
  {
   "cell_type": "markdown",
   "metadata": {},
   "source": [
    "### Предобработка данных"
   ]
  },
  {
   "cell_type": "markdown",
   "metadata": {},
   "source": [
    "#### Работа с данными"
   ]
  },
  {
   "cell_type": "code",
   "execution_count": 6,
   "metadata": {},
   "outputs": [],
   "source": [
    "orders = pd.read_csv('/datasets/orders.csv')\n",
    "visitors = pd.read_csv('/datasets/visitors.csv')"
   ]
  },
  {
   "cell_type": "code",
   "execution_count": 7,
   "metadata": {},
   "outputs": [
    {
     "data": {
      "text/html": [
       "<div>\n",
       "<style scoped>\n",
       "    .dataframe tbody tr th:only-of-type {\n",
       "        vertical-align: middle;\n",
       "    }\n",
       "\n",
       "    .dataframe tbody tr th {\n",
       "        vertical-align: top;\n",
       "    }\n",
       "\n",
       "    .dataframe thead th {\n",
       "        text-align: right;\n",
       "    }\n",
       "</style>\n",
       "<table border=\"1\" class=\"dataframe\">\n",
       "  <thead>\n",
       "    <tr style=\"text-align: right;\">\n",
       "      <th></th>\n",
       "      <th>transactionId</th>\n",
       "      <th>visitorId</th>\n",
       "      <th>date</th>\n",
       "      <th>revenue</th>\n",
       "      <th>group</th>\n",
       "    </tr>\n",
       "  </thead>\n",
       "  <tbody>\n",
       "    <tr>\n",
       "      <th>0</th>\n",
       "      <td>3667963787</td>\n",
       "      <td>3312258926</td>\n",
       "      <td>2019-08-15</td>\n",
       "      <td>1650</td>\n",
       "      <td>B</td>\n",
       "    </tr>\n",
       "    <tr>\n",
       "      <th>1</th>\n",
       "      <td>2804400009</td>\n",
       "      <td>3642806036</td>\n",
       "      <td>2019-08-15</td>\n",
       "      <td>730</td>\n",
       "      <td>B</td>\n",
       "    </tr>\n",
       "    <tr>\n",
       "      <th>2</th>\n",
       "      <td>2961555356</td>\n",
       "      <td>4069496402</td>\n",
       "      <td>2019-08-15</td>\n",
       "      <td>400</td>\n",
       "      <td>A</td>\n",
       "    </tr>\n",
       "    <tr>\n",
       "      <th>3</th>\n",
       "      <td>3797467345</td>\n",
       "      <td>1196621759</td>\n",
       "      <td>2019-08-15</td>\n",
       "      <td>9759</td>\n",
       "      <td>B</td>\n",
       "    </tr>\n",
       "    <tr>\n",
       "      <th>4</th>\n",
       "      <td>2282983706</td>\n",
       "      <td>2322279887</td>\n",
       "      <td>2019-08-15</td>\n",
       "      <td>2308</td>\n",
       "      <td>B</td>\n",
       "    </tr>\n",
       "  </tbody>\n",
       "</table>\n",
       "</div>"
      ],
      "text/plain": [
       "   transactionId   visitorId        date  revenue group\n",
       "0     3667963787  3312258926  2019-08-15     1650     B\n",
       "1     2804400009  3642806036  2019-08-15      730     B\n",
       "2     2961555356  4069496402  2019-08-15      400     A\n",
       "3     3797467345  1196621759  2019-08-15     9759     B\n",
       "4     2282983706  2322279887  2019-08-15     2308     B"
      ]
     },
     "execution_count": 7,
     "metadata": {},
     "output_type": "execute_result"
    }
   ],
   "source": [
    "orders.head()"
   ]
  },
  {
   "cell_type": "code",
   "execution_count": 8,
   "metadata": {},
   "outputs": [
    {
     "name": "stdout",
     "output_type": "stream",
     "text": [
      "<class 'pandas.core.frame.DataFrame'>\n",
      "RangeIndex: 1197 entries, 0 to 1196\n",
      "Data columns (total 5 columns):\n",
      " #   Column         Non-Null Count  Dtype \n",
      "---  ------         --------------  ----- \n",
      " 0   transactionId  1197 non-null   int64 \n",
      " 1   visitorId      1197 non-null   int64 \n",
      " 2   date           1197 non-null   object\n",
      " 3   revenue        1197 non-null   int64 \n",
      " 4   group          1197 non-null   object\n",
      "dtypes: int64(3), object(2)\n",
      "memory usage: 46.9+ KB\n"
     ]
    }
   ],
   "source": [
    "orders.info()"
   ]
  },
  {
   "cell_type": "code",
   "execution_count": 9,
   "metadata": {},
   "outputs": [
    {
     "data": {
      "text/plain": [
       "(1197, 5)"
      ]
     },
     "execution_count": 9,
     "metadata": {},
     "output_type": "execute_result"
    }
   ],
   "source": [
    "orders.shape"
   ]
  },
  {
   "cell_type": "markdown",
   "metadata": {},
   "source": [
    "Для начала заменим названия колонок на названия в snake_case, и изменим тип данных в колонке ``date``:"
   ]
  },
  {
   "cell_type": "code",
   "execution_count": 10,
   "metadata": {},
   "outputs": [],
   "source": [
    "orders.rename(columns = {'transactionId':'transaction_id', 'visitorId':'visitor_id'}, inplace = True)\n",
    "orders['date'] = orders['date'].map(lambda x: dt.datetime.strptime(x, '%Y-%m-%d'))"
   ]
  },
  {
   "cell_type": "code",
   "execution_count": 11,
   "metadata": {},
   "outputs": [
    {
     "data": {
      "text/html": [
       "<div>\n",
       "<style scoped>\n",
       "    .dataframe tbody tr th:only-of-type {\n",
       "        vertical-align: middle;\n",
       "    }\n",
       "\n",
       "    .dataframe tbody tr th {\n",
       "        vertical-align: top;\n",
       "    }\n",
       "\n",
       "    .dataframe thead th {\n",
       "        text-align: right;\n",
       "    }\n",
       "</style>\n",
       "<table border=\"1\" class=\"dataframe\">\n",
       "  <thead>\n",
       "    <tr style=\"text-align: right;\">\n",
       "      <th></th>\n",
       "      <th>date</th>\n",
       "      <th>group</th>\n",
       "      <th>visitors</th>\n",
       "    </tr>\n",
       "  </thead>\n",
       "  <tbody>\n",
       "    <tr>\n",
       "      <th>0</th>\n",
       "      <td>2019-08-01</td>\n",
       "      <td>A</td>\n",
       "      <td>719</td>\n",
       "    </tr>\n",
       "    <tr>\n",
       "      <th>1</th>\n",
       "      <td>2019-08-02</td>\n",
       "      <td>A</td>\n",
       "      <td>619</td>\n",
       "    </tr>\n",
       "    <tr>\n",
       "      <th>2</th>\n",
       "      <td>2019-08-03</td>\n",
       "      <td>A</td>\n",
       "      <td>507</td>\n",
       "    </tr>\n",
       "    <tr>\n",
       "      <th>3</th>\n",
       "      <td>2019-08-04</td>\n",
       "      <td>A</td>\n",
       "      <td>717</td>\n",
       "    </tr>\n",
       "    <tr>\n",
       "      <th>4</th>\n",
       "      <td>2019-08-05</td>\n",
       "      <td>A</td>\n",
       "      <td>756</td>\n",
       "    </tr>\n",
       "  </tbody>\n",
       "</table>\n",
       "</div>"
      ],
      "text/plain": [
       "         date group  visitors\n",
       "0  2019-08-01     A       719\n",
       "1  2019-08-02     A       619\n",
       "2  2019-08-03     A       507\n",
       "3  2019-08-04     A       717\n",
       "4  2019-08-05     A       756"
      ]
     },
     "execution_count": 11,
     "metadata": {},
     "output_type": "execute_result"
    }
   ],
   "source": [
    "visitors.head()"
   ]
  },
  {
   "cell_type": "code",
   "execution_count": 12,
   "metadata": {},
   "outputs": [
    {
     "name": "stdout",
     "output_type": "stream",
     "text": [
      "<class 'pandas.core.frame.DataFrame'>\n",
      "RangeIndex: 62 entries, 0 to 61\n",
      "Data columns (total 3 columns):\n",
      " #   Column    Non-Null Count  Dtype \n",
      "---  ------    --------------  ----- \n",
      " 0   date      62 non-null     object\n",
      " 1   group     62 non-null     object\n",
      " 2   visitors  62 non-null     int64 \n",
      "dtypes: int64(1), object(2)\n",
      "memory usage: 1.6+ KB\n"
     ]
    }
   ],
   "source": [
    "visitors.info()"
   ]
  },
  {
   "cell_type": "code",
   "execution_count": 13,
   "metadata": {},
   "outputs": [
    {
     "data": {
      "text/plain": [
       "(62, 3)"
      ]
     },
     "execution_count": 13,
     "metadata": {},
     "output_type": "execute_result"
    }
   ],
   "source": [
    "visitors.shape"
   ]
  },
  {
   "cell_type": "markdown",
   "metadata": {},
   "source": [
    "Как и в случае с первым датасетом, поменяем тип данных в столбце ``date``:"
   ]
  },
  {
   "cell_type": "code",
   "execution_count": 14,
   "metadata": {},
   "outputs": [],
   "source": [
    "visitors['date'] = visitors['date'].map(lambda x: dt.datetime.strptime(x, '%Y-%m-%d'))"
   ]
  },
  {
   "cell_type": "markdown",
   "metadata": {},
   "source": [
    "Проверим датасеты на пропуски и явные дубликаты:"
   ]
  },
  {
   "cell_type": "code",
   "execution_count": 15,
   "metadata": {},
   "outputs": [
    {
     "name": "stdout",
     "output_type": "stream",
     "text": [
      "transaction_id    0\n",
      "visitor_id        0\n",
      "date              0\n",
      "revenue           0\n",
      "group             0\n",
      "dtype: int64\n",
      "date        0\n",
      "group       0\n",
      "visitors    0\n",
      "dtype: int64\n"
     ]
    }
   ],
   "source": [
    "datasets = [orders, visitors]\n",
    "for i in datasets:\n",
    "    print(i.isna().sum())"
   ]
  },
  {
   "cell_type": "code",
   "execution_count": 16,
   "metadata": {},
   "outputs": [
    {
     "name": "stdout",
     "output_type": "stream",
     "text": [
      "0\n",
      "0\n"
     ]
    }
   ],
   "source": [
    "for i in datasets:\n",
    "    print(i.duplicated().sum())"
   ]
  },
  {
   "cell_type": "markdown",
   "metadata": {},
   "source": [
    "Все данные приведены к нужному типу. Пропущенных значний нет. Явных дубликатов нет. Можно приступать к следующему шагу проекта."
   ]
  },
  {
   "cell_type": "markdown",
   "metadata": {},
   "source": [
    "#### Обзор данных"
   ]
  },
  {
   "cell_type": "markdown",
   "metadata": {},
   "source": [
    "Взглянем подробней на данные и посмотрим на характеристики групп:"
   ]
  },
  {
   "cell_type": "code",
   "execution_count": 17,
   "metadata": {
    "scrolled": true
   },
   "outputs": [
    {
     "name": "stdout",
     "output_type": "stream",
     "text": [
      "['B' 'A']\n",
      "['A' 'B']\n"
     ]
    }
   ],
   "source": [
    "print(orders['group'].unique())\n",
    "print(visitors['group'].unique())"
   ]
  },
  {
   "cell_type": "code",
   "execution_count": 18,
   "metadata": {
    "scrolled": true
   },
   "outputs": [
    {
     "name": "stdout",
     "output_type": "stream",
     "text": [
      "Таблица orders: 2019-08-01 00:00:00\n",
      "Таблица orders: 2019-08-31 00:00:00\n",
      "Таблица visitors: 2019-08-01 00:00:00\n",
      "Таблица visitors: 2019-08-31 00:00:00\n"
     ]
    }
   ],
   "source": [
    "print('Таблица orders:', orders['date'].min())\n",
    "print('Таблица orders:', orders['date'].max())\n",
    "print('Таблица visitors:', visitors['date'].min())\n",
    "print('Таблица visitors:', visitors['date'].max())"
   ]
  },
  {
   "cell_type": "code",
   "execution_count": 19,
   "metadata": {},
   "outputs": [
    {
     "data": {
      "text/html": [
       "<div>\n",
       "<style scoped>\n",
       "    .dataframe tbody tr th:only-of-type {\n",
       "        vertical-align: middle;\n",
       "    }\n",
       "\n",
       "    .dataframe tbody tr th {\n",
       "        vertical-align: top;\n",
       "    }\n",
       "\n",
       "    .dataframe thead tr th {\n",
       "        text-align: left;\n",
       "    }\n",
       "\n",
       "    .dataframe thead tr:last-of-type th {\n",
       "        text-align: right;\n",
       "    }\n",
       "</style>\n",
       "<table border=\"1\" class=\"dataframe\">\n",
       "  <thead>\n",
       "    <tr>\n",
       "      <th></th>\n",
       "      <th colspan=\"2\" halign=\"left\">visitor_id</th>\n",
       "    </tr>\n",
       "    <tr>\n",
       "      <th></th>\n",
       "      <th>count</th>\n",
       "      <th>nunique</th>\n",
       "    </tr>\n",
       "    <tr>\n",
       "      <th>group</th>\n",
       "      <th></th>\n",
       "      <th></th>\n",
       "    </tr>\n",
       "  </thead>\n",
       "  <tbody>\n",
       "    <tr>\n",
       "      <th>A</th>\n",
       "      <td>557</td>\n",
       "      <td>503</td>\n",
       "    </tr>\n",
       "    <tr>\n",
       "      <th>B</th>\n",
       "      <td>640</td>\n",
       "      <td>586</td>\n",
       "    </tr>\n",
       "  </tbody>\n",
       "</table>\n",
       "</div>"
      ],
      "text/plain": [
       "      visitor_id        \n",
       "           count nunique\n",
       "group                   \n",
       "A            557     503\n",
       "B            640     586"
      ]
     },
     "execution_count": 19,
     "metadata": {},
     "output_type": "execute_result"
    }
   ],
   "source": [
    "orders.groupby('group').agg({'visitor_id':['count', 'nunique']})"
   ]
  },
  {
   "cell_type": "markdown",
   "metadata": {},
   "source": [
    "Перед нами результаты резльтаты A/B теста, проведенного с 2019-08-01 по 2019-08-31. В тесте принимало участие две группы (А и В). В группу А попало 503 уникальных пользователя, а в группу В 586."
   ]
  },
  {
   "cell_type": "markdown",
   "metadata": {},
   "source": [
    "Посмотрим, есть ли пересечения в группах:"
   ]
  },
  {
   "cell_type": "code",
   "execution_count": 20,
   "metadata": {
    "scrolled": true
   },
   "outputs": [
    {
     "name": "stdout",
     "output_type": "stream",
     "text": [
      "Количество пользователей в двух группах: 58\n",
      "0.056\n"
     ]
    }
   ],
   "source": [
    "group_counts = orders.groupby('visitor_id', as_index=False).agg({'group':'nunique'})\n",
    "print('Количество пользователей в двух группах:',group_counts[group_counts['group'] > 1].count()['group'])\n",
    "print(round(group_counts[group_counts['group'] > 1].count()['group'] / orders['visitor_id'].nunique(), 3))"
   ]
  },
  {
   "cell_type": "markdown",
   "metadata": {},
   "source": [
    "В результате проведения теста, мы получили **58** пользователей или **5.6%** от общего количества уникальных польвателей, которые попали в обе группы. С одной стороны логично не принимать в рассчет этих пользователей, с другой, данные этих пользователей являются частью данных в таблице ``visitors`` в части количетсва визитов в день. Поэтому принято решение оставить этих пользователей в датасете, но с оговоркой в конечном выводе."
   ]
  },
  {
   "cell_type": "markdown",
   "metadata": {},
   "source": [
    "### Кумулятивная выручка по группам"
   ]
  },
  {
   "cell_type": "markdown",
   "metadata": {},
   "source": [
    "Создадим датасет из уникальных пар дат и групп:"
   ]
  },
  {
   "cell_type": "code",
   "execution_count": 21,
   "metadata": {},
   "outputs": [
    {
     "data": {
      "text/html": [
       "<div>\n",
       "<style scoped>\n",
       "    .dataframe tbody tr th:only-of-type {\n",
       "        vertical-align: middle;\n",
       "    }\n",
       "\n",
       "    .dataframe tbody tr th {\n",
       "        vertical-align: top;\n",
       "    }\n",
       "\n",
       "    .dataframe thead th {\n",
       "        text-align: right;\n",
       "    }\n",
       "</style>\n",
       "<table border=\"1\" class=\"dataframe\">\n",
       "  <thead>\n",
       "    <tr style=\"text-align: right;\">\n",
       "      <th></th>\n",
       "      <th>date</th>\n",
       "      <th>group</th>\n",
       "    </tr>\n",
       "  </thead>\n",
       "  <tbody>\n",
       "    <tr>\n",
       "      <th>55</th>\n",
       "      <td>2019-08-01</td>\n",
       "      <td>A</td>\n",
       "    </tr>\n",
       "    <tr>\n",
       "      <th>66</th>\n",
       "      <td>2019-08-01</td>\n",
       "      <td>B</td>\n",
       "    </tr>\n",
       "    <tr>\n",
       "      <th>175</th>\n",
       "      <td>2019-08-02</td>\n",
       "      <td>A</td>\n",
       "    </tr>\n",
       "    <tr>\n",
       "      <th>173</th>\n",
       "      <td>2019-08-02</td>\n",
       "      <td>B</td>\n",
       "    </tr>\n",
       "    <tr>\n",
       "      <th>291</th>\n",
       "      <td>2019-08-03</td>\n",
       "      <td>A</td>\n",
       "    </tr>\n",
       "    <tr>\n",
       "      <th>310</th>\n",
       "      <td>2019-08-03</td>\n",
       "      <td>B</td>\n",
       "    </tr>\n",
       "    <tr>\n",
       "      <th>498</th>\n",
       "      <td>2019-08-04</td>\n",
       "      <td>B</td>\n",
       "    </tr>\n",
       "    <tr>\n",
       "      <th>499</th>\n",
       "      <td>2019-08-04</td>\n",
       "      <td>A</td>\n",
       "    </tr>\n",
       "    <tr>\n",
       "      <th>699</th>\n",
       "      <td>2019-08-05</td>\n",
       "      <td>B</td>\n",
       "    </tr>\n",
       "    <tr>\n",
       "      <th>698</th>\n",
       "      <td>2019-08-05</td>\n",
       "      <td>A</td>\n",
       "    </tr>\n",
       "  </tbody>\n",
       "</table>\n",
       "</div>"
      ],
      "text/plain": [
       "          date group\n",
       "55  2019-08-01     A\n",
       "66  2019-08-01     B\n",
       "175 2019-08-02     A\n",
       "173 2019-08-02     B\n",
       "291 2019-08-03     A\n",
       "310 2019-08-03     B\n",
       "498 2019-08-04     B\n",
       "499 2019-08-04     A\n",
       "699 2019-08-05     B\n",
       "698 2019-08-05     A"
      ]
     },
     "execution_count": 21,
     "metadata": {},
     "output_type": "execute_result"
    }
   ],
   "source": [
    "dates_groups = orders[['date','group']].drop_duplicates()\n",
    "dates_groups.sort_values(by='date').head(10)"
   ]
  },
  {
   "cell_type": "markdown",
   "metadata": {},
   "source": [
    "Для дальнейшего анализа создадим датасет, содержащий куммулятивные значения по выручке, для этого сгруппируем данные таким образом что-бы полуить данные за каждый день по гуппрам с накомлением по уникальным ``visitor_id`` и накоплением по сумме ``revenue``:"
   ]
  },
  {
   "cell_type": "code",
   "execution_count": 22,
   "metadata": {},
   "outputs": [],
   "source": [
    "orders_aggregated = dates_groups.apply(lambda x: orders[np.logical_and(orders['date'] <= x['date'],\n",
    "                                                                       orders['group'] == x['group'])]\n",
    ".agg({'date' : 'max',\n",
    "      'group' : 'max',\n",
    "      'transaction_id' : 'nunique',\n",
    "      'visitor_id' : 'nunique',\n",
    "      'revenue' : 'sum'}), axis=1)\\\n",
    ".sort_values(by=['date','group']) "
   ]
  },
  {
   "cell_type": "code",
   "execution_count": 23,
   "metadata": {},
   "outputs": [
    {
     "data": {
      "text/html": [
       "<div>\n",
       "<style scoped>\n",
       "    .dataframe tbody tr th:only-of-type {\n",
       "        vertical-align: middle;\n",
       "    }\n",
       "\n",
       "    .dataframe tbody tr th {\n",
       "        vertical-align: top;\n",
       "    }\n",
       "\n",
       "    .dataframe thead th {\n",
       "        text-align: right;\n",
       "    }\n",
       "</style>\n",
       "<table border=\"1\" class=\"dataframe\">\n",
       "  <thead>\n",
       "    <tr style=\"text-align: right;\">\n",
       "      <th></th>\n",
       "      <th>date</th>\n",
       "      <th>group</th>\n",
       "      <th>transaction_id</th>\n",
       "      <th>visitor_id</th>\n",
       "      <th>revenue</th>\n",
       "    </tr>\n",
       "  </thead>\n",
       "  <tbody>\n",
       "    <tr>\n",
       "      <th>55</th>\n",
       "      <td>2019-08-01</td>\n",
       "      <td>A</td>\n",
       "      <td>24</td>\n",
       "      <td>20</td>\n",
       "      <td>148579</td>\n",
       "    </tr>\n",
       "    <tr>\n",
       "      <th>66</th>\n",
       "      <td>2019-08-01</td>\n",
       "      <td>B</td>\n",
       "      <td>21</td>\n",
       "      <td>20</td>\n",
       "      <td>101217</td>\n",
       "    </tr>\n",
       "    <tr>\n",
       "      <th>175</th>\n",
       "      <td>2019-08-02</td>\n",
       "      <td>A</td>\n",
       "      <td>44</td>\n",
       "      <td>38</td>\n",
       "      <td>242401</td>\n",
       "    </tr>\n",
       "    <tr>\n",
       "      <th>173</th>\n",
       "      <td>2019-08-02</td>\n",
       "      <td>B</td>\n",
       "      <td>45</td>\n",
       "      <td>43</td>\n",
       "      <td>266748</td>\n",
       "    </tr>\n",
       "    <tr>\n",
       "      <th>291</th>\n",
       "      <td>2019-08-03</td>\n",
       "      <td>A</td>\n",
       "      <td>68</td>\n",
       "      <td>62</td>\n",
       "      <td>354874</td>\n",
       "    </tr>\n",
       "  </tbody>\n",
       "</table>\n",
       "</div>"
      ],
      "text/plain": [
       "          date group  transaction_id  visitor_id  revenue\n",
       "55  2019-08-01     A              24          20   148579\n",
       "66  2019-08-01     B              21          20   101217\n",
       "175 2019-08-02     A              44          38   242401\n",
       "173 2019-08-02     B              45          43   266748\n",
       "291 2019-08-03     A              68          62   354874"
      ]
     },
     "execution_count": 23,
     "metadata": {},
     "output_type": "execute_result"
    }
   ],
   "source": [
    "orders_aggregated.head()"
   ]
  },
  {
   "cell_type": "code",
   "execution_count": 24,
   "metadata": {},
   "outputs": [],
   "source": [
    "cum_revenue_a = orders_aggregated[orders_aggregated['group']=='A'][['date','transaction_id', 'revenue']]\n",
    "cum_revenue_b = orders_aggregated[orders_aggregated['group']=='B'][['date','transaction_id', 'revenue']]"
   ]
  },
  {
   "cell_type": "code",
   "execution_count": 25,
   "metadata": {},
   "outputs": [
    {
     "data": {
      "image/png": "[encoded data removed]",
      "text/plain": [
       "<Figure size 1008x576 with 1 Axes>"
      ]
     },
     "metadata": {
      "needs_background": "light"
     },
     "output_type": "display_data"
    }
   ],
   "source": [
    "plt.figure(figsize=(14,8))\n",
    "plt.plot(cum_revenue_a['date'], cum_revenue_a['revenue'], label='A')\n",
    "plt.plot(cum_revenue_b['date'], cum_revenue_b['revenue'], label='B')\n",
    "plt.legend()\n",
    "plt.figsize=(10,8)\n",
    "plt.title('Кумулятивная выручка по группам')\n",
    "plt.ylabel('Выручка')\n",
    "plt.xlabel('Дата');"
   ]
  },
  {
   "cell_type": "markdown",
   "metadata": {},
   "source": [
    "На графике можно заметить, что в период между 2019-08-17 и 2019-08-17 в группе В резко выросла выручка, что может быть свидетельством увеличения числа заказов или наличия очень дорогих заказов. В целом до этого периода накомленная выручка гпуппы В больше чем у группы А. Для более детального анализа необходимо будет проанализировать данные без явных выбросов."
   ]
  },
  {
   "cell_type": "markdown",
   "metadata": {},
   "source": [
    "### Кумулятивный средний чек по группам"
   ]
  },
  {
   "cell_type": "code",
   "execution_count": 26,
   "metadata": {},
   "outputs": [
    {
     "data": {
      "image/png": "[encoded data removed]",
      "text/plain": [
       "<Figure size 1008x576 with 1 Axes>"
      ]
     },
     "metadata": {
      "needs_background": "light"
     },
     "output_type": "display_data"
    }
   ],
   "source": [
    "plt.figure(figsize=(14,8))\n",
    "plt.plot(cum_revenue_a['date'], cum_revenue_a['revenue'] / cum_revenue_a['transaction_id'], label='A')\n",
    "plt.plot(cum_revenue_b['date'], cum_revenue_b['revenue'] / cum_revenue_b['transaction_id'], label='B')\n",
    "plt.legend()\n",
    "plt.title('Кумулятивный средний чек по группам')\n",
    "plt.ylabel('Средний чек')\n",
    "plt.xlabel('Дата');"
   ]
  },
  {
   "cell_type": "markdown",
   "metadata": {},
   "source": [
    "На графике так же как и в предыдущем заметен всплеск значания среднего кумулятивного чека у группы В в те же даты. Это говорит о том, что резкий рост выручки был связан не с увеличением количества заказов в эти даты, а с заказами на очень большие суммы, которые не типичны для остального пириода.\n",
    "\n",
    "В целом на графике видна тенденция к увеличению среднего чека за период в обоих группах."
   ]
  },
  {
   "cell_type": "markdown",
   "metadata": {},
   "source": [
    "### Относительное изменение кумулятивного среднего чека группы B к группе A"
   ]
  },
  {
   "cell_type": "markdown",
   "metadata": {},
   "source": [
    "Для того, чтобы соотнести средние чеки у групп, соеденим два датасета ``cum_revenue_a`` и ``cum_revenue_b`` и постоим график отношения ``средний чек группы B`` / ``средний чек группы A`` - ``1``"
   ]
  },
  {
   "cell_type": "code",
   "execution_count": 27,
   "metadata": {},
   "outputs": [
    {
     "data": {
      "text/html": [
       "<div>\n",
       "<style scoped>\n",
       "    .dataframe tbody tr th:only-of-type {\n",
       "        vertical-align: middle;\n",
       "    }\n",
       "\n",
       "    .dataframe tbody tr th {\n",
       "        vertical-align: top;\n",
       "    }\n",
       "\n",
       "    .dataframe thead th {\n",
       "        text-align: right;\n",
       "    }\n",
       "</style>\n",
       "<table border=\"1\" class=\"dataframe\">\n",
       "  <thead>\n",
       "    <tr style=\"text-align: right;\">\n",
       "      <th></th>\n",
       "      <th>date</th>\n",
       "      <th>transaction_id_a</th>\n",
       "      <th>revenue_a</th>\n",
       "      <th>transaction_id_b</th>\n",
       "      <th>revenue_b</th>\n",
       "    </tr>\n",
       "  </thead>\n",
       "  <tbody>\n",
       "    <tr>\n",
       "      <th>0</th>\n",
       "      <td>2019-08-01</td>\n",
       "      <td>24</td>\n",
       "      <td>148579</td>\n",
       "      <td>21</td>\n",
       "      <td>101217</td>\n",
       "    </tr>\n",
       "    <tr>\n",
       "      <th>1</th>\n",
       "      <td>2019-08-02</td>\n",
       "      <td>44</td>\n",
       "      <td>242401</td>\n",
       "      <td>45</td>\n",
       "      <td>266748</td>\n",
       "    </tr>\n",
       "    <tr>\n",
       "      <th>2</th>\n",
       "      <td>2019-08-03</td>\n",
       "      <td>68</td>\n",
       "      <td>354874</td>\n",
       "      <td>61</td>\n",
       "      <td>380996</td>\n",
       "    </tr>\n",
       "    <tr>\n",
       "      <th>3</th>\n",
       "      <td>2019-08-04</td>\n",
       "      <td>84</td>\n",
       "      <td>425699</td>\n",
       "      <td>78</td>\n",
       "      <td>489567</td>\n",
       "    </tr>\n",
       "    <tr>\n",
       "      <th>4</th>\n",
       "      <td>2019-08-05</td>\n",
       "      <td>109</td>\n",
       "      <td>549917</td>\n",
       "      <td>101</td>\n",
       "      <td>581995</td>\n",
       "    </tr>\n",
       "  </tbody>\n",
       "</table>\n",
       "</div>"
      ],
      "text/plain": [
       "        date  transaction_id_a  revenue_a  transaction_id_b  revenue_b\n",
       "0 2019-08-01                24     148579                21     101217\n",
       "1 2019-08-02                44     242401                45     266748\n",
       "2 2019-08-03                68     354874                61     380996\n",
       "3 2019-08-04                84     425699                78     489567\n",
       "4 2019-08-05               109     549917               101     581995"
      ]
     },
     "execution_count": 27,
     "metadata": {},
     "output_type": "execute_result"
    }
   ],
   "source": [
    "сum_revenue = cum_revenue_a.merge(cum_revenue_b, left_on='date', right_on='date', how='left', suffixes=['_a', '_b'])\n",
    "сum_revenue.head()"
   ]
  },
  {
   "cell_type": "code",
   "execution_count": 28,
   "metadata": {},
   "outputs": [
    {
     "data": {
      "image/png": "[encoded data removed]",
      "text/plain": [
       "<Figure size 1008x576 with 1 Axes>"
      ]
     },
     "metadata": {
      "needs_background": "light"
     },
     "output_type": "display_data"
    }
   ],
   "source": [
    "plt.figure(figsize=(14,8))\n",
    "plt.plot(сum_revenue['date'], (сum_revenue['revenue_b']/сum_revenue['transaction_id_b'])/\n",
    "                              (сum_revenue['revenue_a']/сum_revenue['transaction_id_a'])-1)\n",
    "plt.axhline(y=0, color='red', linestyle='--') \n",
    "plt.title('Относительное изменение кумулятивного среднего чека группы B к группе A')\n",
    "plt.ylabel('Коэффициент отношения В к А')\n",
    "plt.xlabel('Дата');"
   ]
  },
  {
   "cell_type": "markdown",
   "metadata": {},
   "source": [
    "На графике видны два резких скачка отношения средних чеков группы В к группе А. С периодом между 2019-08-17 и 2019-08-17 мы разобрались с помощью предыдущих графиков, там наблюдается явный выброс по стоимости чека в заказе у группы В. В периоде между 2019-08-07 и 2019-08-13 наблюдается резкое уменьшение значение отношения средних чеков, взглянув еще раз на график кумулятивных средних чекови выручки, можно сделать вывод о том, что в этот период у группы А, так же были аномально высокие значения чеков но в выручке всплесков не было, как следствие, можно предположить, что колиество заказов в группе А в этот период падало."
   ]
  },
  {
   "cell_type": "markdown",
   "metadata": {},
   "source": [
    "### Кумулятивное среднее количество заказов на посетителя по группам"
   ]
  },
  {
   "cell_type": "markdown",
   "metadata": {},
   "source": [
    "Для того, чтобы посмотреть на график кумулятивного среднего количества заказов на посетителя по группам, создатим датафрейм с кумулятивными значениями количества посетителей по датам и группам."
   ]
  },
  {
   "cell_type": "code",
   "execution_count": 29,
   "metadata": {},
   "outputs": [],
   "source": [
    "visitors_aggregated = dates_groups.apply(lambda x: visitors[np.logical_and(visitors['date'] <= x['date'],\n",
    "                                                                           visitors['group'] == x['group'])]\n",
    "                                         .agg({'date' : 'max', 'group' : 'max', 'visitors' : 'sum'}), axis=1)\\\n",
    ".sort_values(by=['date','group'])"
   ]
  },
  {
   "cell_type": "markdown",
   "metadata": {},
   "source": [
    "Присоеденим к датафрейму ``orders_aggregated`` значения из ``visitors_aggregated``"
   ]
  },
  {
   "cell_type": "code",
   "execution_count": 30,
   "metadata": {},
   "outputs": [],
   "source": [
    "cumulative_data = orders_aggregated.merge(visitors_aggregated, left_on=['date', 'group'], right_on=['date', 'group'])"
   ]
  },
  {
   "cell_type": "code",
   "execution_count": 31,
   "metadata": {},
   "outputs": [
    {
     "data": {
      "text/html": [
       "<div>\n",
       "<style scoped>\n",
       "    .dataframe tbody tr th:only-of-type {\n",
       "        vertical-align: middle;\n",
       "    }\n",
       "\n",
       "    .dataframe tbody tr th {\n",
       "        vertical-align: top;\n",
       "    }\n",
       "\n",
       "    .dataframe thead th {\n",
       "        text-align: right;\n",
       "    }\n",
       "</style>\n",
       "<table border=\"1\" class=\"dataframe\">\n",
       "  <thead>\n",
       "    <tr style=\"text-align: right;\">\n",
       "      <th></th>\n",
       "      <th>date</th>\n",
       "      <th>group</th>\n",
       "      <th>transaction_id</th>\n",
       "      <th>visitor_id</th>\n",
       "      <th>revenue</th>\n",
       "      <th>visitors</th>\n",
       "    </tr>\n",
       "  </thead>\n",
       "  <tbody>\n",
       "    <tr>\n",
       "      <th>0</th>\n",
       "      <td>2019-08-01</td>\n",
       "      <td>A</td>\n",
       "      <td>24</td>\n",
       "      <td>20</td>\n",
       "      <td>148579</td>\n",
       "      <td>719</td>\n",
       "    </tr>\n",
       "    <tr>\n",
       "      <th>1</th>\n",
       "      <td>2019-08-01</td>\n",
       "      <td>B</td>\n",
       "      <td>21</td>\n",
       "      <td>20</td>\n",
       "      <td>101217</td>\n",
       "      <td>713</td>\n",
       "    </tr>\n",
       "    <tr>\n",
       "      <th>2</th>\n",
       "      <td>2019-08-02</td>\n",
       "      <td>A</td>\n",
       "      <td>44</td>\n",
       "      <td>38</td>\n",
       "      <td>242401</td>\n",
       "      <td>1338</td>\n",
       "    </tr>\n",
       "    <tr>\n",
       "      <th>3</th>\n",
       "      <td>2019-08-02</td>\n",
       "      <td>B</td>\n",
       "      <td>45</td>\n",
       "      <td>43</td>\n",
       "      <td>266748</td>\n",
       "      <td>1294</td>\n",
       "    </tr>\n",
       "    <tr>\n",
       "      <th>4</th>\n",
       "      <td>2019-08-03</td>\n",
       "      <td>A</td>\n",
       "      <td>68</td>\n",
       "      <td>62</td>\n",
       "      <td>354874</td>\n",
       "      <td>1845</td>\n",
       "    </tr>\n",
       "  </tbody>\n",
       "</table>\n",
       "</div>"
      ],
      "text/plain": [
       "        date group  transaction_id  visitor_id  revenue  visitors\n",
       "0 2019-08-01     A              24          20   148579       719\n",
       "1 2019-08-01     B              21          20   101217       713\n",
       "2 2019-08-02     A              44          38   242401      1338\n",
       "3 2019-08-02     B              45          43   266748      1294\n",
       "4 2019-08-03     A              68          62   354874      1845"
      ]
     },
     "execution_count": 31,
     "metadata": {},
     "output_type": "execute_result"
    }
   ],
   "source": [
    "cumulative_data.head()"
   ]
  },
  {
   "cell_type": "markdown",
   "metadata": {},
   "source": [
    "Получили датафрейм со кумулятивными значениями колиества заказов, уникальных пользователей, которые сделали заказ, выручки и всех посетителей разбитых по датам и группам"
   ]
  },
  {
   "cell_type": "code",
   "execution_count": 32,
   "metadata": {},
   "outputs": [],
   "source": [
    "cumulative_data_a = cumulative_data[cumulative_data['group']=='A'][['date','transaction_id', 'revenue', 'visitors']]\n",
    "cumulative_data_b = cumulative_data[cumulative_data['group']=='B'][['date','transaction_id', 'revenue', 'visitors']]"
   ]
  },
  {
   "cell_type": "code",
   "execution_count": 33,
   "metadata": {},
   "outputs": [
    {
     "data": {
      "image/png": "[encoded data removed]",
      "text/plain": [
       "<Figure size 1008x576 with 1 Axes>"
      ]
     },
     "metadata": {
      "needs_background": "light"
     },
     "output_type": "display_data"
    }
   ],
   "source": [
    "plt.figure(figsize=(14,8))\n",
    "plt.plot(cumulative_data_a['date'], cumulative_data_a['transaction_id'] / cumulative_data_a['visitors'], label='A')\n",
    "plt.plot(cumulative_data_b['date'], cumulative_data_b['transaction_id'] / cumulative_data_b['visitors'], label='B')\n",
    "plt.legend()\n",
    "plt.title('Кумулятивное среднее количество заказов на посетителя по группам')\n",
    "plt.ylabel('Количество заказов на пользователя')\n",
    "plt.xlabel('Дата');"
   ]
  },
  {
   "cell_type": "markdown",
   "metadata": {},
   "source": [
    "В подтверждение вывода из предыдущего графика видно, что в начале периода наблюдения среднее количество заказов группы А упало до значения 0.03, а у группы В выросло и стабилизировалось на значении 0.035.\n",
    "\n",
    "В начале проведения теста вреднее количество заказов на посетителя колебалось у обоих групп, а затем стабилизировалось. Возможно в период первой недели была сезонная распродажа или работала маркетинговая компания."
   ]
  },
  {
   "cell_type": "markdown",
   "metadata": {},
   "source": [
    "### Относительное изменение среднего количества заказов на посетителя группы B к группе A"
   ]
  },
  {
   "cell_type": "code",
   "execution_count": 34,
   "metadata": {},
   "outputs": [
    {
     "data": {
      "text/html": [
       "<div>\n",
       "<style scoped>\n",
       "    .dataframe tbody tr th:only-of-type {\n",
       "        vertical-align: middle;\n",
       "    }\n",
       "\n",
       "    .dataframe tbody tr th {\n",
       "        vertical-align: top;\n",
       "    }\n",
       "\n",
       "    .dataframe thead th {\n",
       "        text-align: right;\n",
       "    }\n",
       "</style>\n",
       "<table border=\"1\" class=\"dataframe\">\n",
       "  <thead>\n",
       "    <tr style=\"text-align: right;\">\n",
       "      <th></th>\n",
       "      <th>date</th>\n",
       "      <th>transaction_id_a</th>\n",
       "      <th>revenue_a</th>\n",
       "      <th>visitors_a</th>\n",
       "      <th>transaction_id_b</th>\n",
       "      <th>revenue_b</th>\n",
       "      <th>visitors_b</th>\n",
       "    </tr>\n",
       "  </thead>\n",
       "  <tbody>\n",
       "    <tr>\n",
       "      <th>0</th>\n",
       "      <td>2019-08-01</td>\n",
       "      <td>24</td>\n",
       "      <td>148579</td>\n",
       "      <td>719</td>\n",
       "      <td>21</td>\n",
       "      <td>101217</td>\n",
       "      <td>713</td>\n",
       "    </tr>\n",
       "    <tr>\n",
       "      <th>1</th>\n",
       "      <td>2019-08-02</td>\n",
       "      <td>44</td>\n",
       "      <td>242401</td>\n",
       "      <td>1338</td>\n",
       "      <td>45</td>\n",
       "      <td>266748</td>\n",
       "      <td>1294</td>\n",
       "    </tr>\n",
       "    <tr>\n",
       "      <th>2</th>\n",
       "      <td>2019-08-03</td>\n",
       "      <td>68</td>\n",
       "      <td>354874</td>\n",
       "      <td>1845</td>\n",
       "      <td>61</td>\n",
       "      <td>380996</td>\n",
       "      <td>1803</td>\n",
       "    </tr>\n",
       "    <tr>\n",
       "      <th>3</th>\n",
       "      <td>2019-08-04</td>\n",
       "      <td>84</td>\n",
       "      <td>425699</td>\n",
       "      <td>2562</td>\n",
       "      <td>78</td>\n",
       "      <td>489567</td>\n",
       "      <td>2573</td>\n",
       "    </tr>\n",
       "    <tr>\n",
       "      <th>4</th>\n",
       "      <td>2019-08-05</td>\n",
       "      <td>109</td>\n",
       "      <td>549917</td>\n",
       "      <td>3318</td>\n",
       "      <td>101</td>\n",
       "      <td>581995</td>\n",
       "      <td>3280</td>\n",
       "    </tr>\n",
       "  </tbody>\n",
       "</table>\n",
       "</div>"
      ],
      "text/plain": [
       "        date  transaction_id_a  revenue_a  visitors_a  transaction_id_b  \\\n",
       "0 2019-08-01                24     148579         719                21   \n",
       "1 2019-08-02                44     242401        1338                45   \n",
       "2 2019-08-03                68     354874        1845                61   \n",
       "3 2019-08-04                84     425699        2562                78   \n",
       "4 2019-08-05               109     549917        3318               101   \n",
       "\n",
       "   revenue_b  visitors_b  \n",
       "0     101217         713  \n",
       "1     266748        1294  \n",
       "2     380996        1803  \n",
       "3     489567        2573  \n",
       "4     581995        3280  "
      ]
     },
     "execution_count": 34,
     "metadata": {},
     "output_type": "execute_result"
    }
   ],
   "source": [
    "сum_data = cumulative_data_a.merge(cumulative_data_b, left_on='date', right_on='date', how='left', suffixes=['_a', '_b'])\n",
    "сum_data.head()"
   ]
  },
  {
   "cell_type": "code",
   "execution_count": 35,
   "metadata": {},
   "outputs": [
    {
     "data": {
      "image/png": "[encoded data removed]",
      "text/plain": [
       "<Figure size 1008x576 with 1 Axes>"
      ]
     },
     "metadata": {
      "needs_background": "light"
     },
     "output_type": "display_data"
    }
   ],
   "source": [
    "plt.figure(figsize=(14,8))\n",
    "plt.plot(сum_data['date'], (сum_data['transaction_id_b']/сum_data['visitors_b'])/\n",
    "                              (сum_data['transaction_id_a']/сum_data['visitors_a'])-1)\n",
    "plt.axhline(y=0, color='red', linestyle='--') \n",
    "plt.title('Относительное изменение среднего количества заказов на посетителя группы B к группе A')\n",
    "plt.ylabel('Коэффициент отношения В к А')\n",
    "plt.xlabel('Дата');"
   ]
  },
  {
   "cell_type": "markdown",
   "metadata": {},
   "source": [
    "На графике видно, что после 2019-08-05 значение отношения стабильно росло, а значит среднее количество заказов на посетителя в группе В росло относительно группы А. После 2019-08-06 значение зафиксировалось выше нуля, соответственно среднее количество заказов на посетителя группы В стало больше чем в группе А. Возможно это свидетельствует о результатах работы фичей, которые были добавлены до проведения теста. Но делать окончательные выводы рано, поскольку мы пока рассматриваем сырые данные с выбросами в значениях."
   ]
  },
  {
   "cell_type": "markdown",
   "metadata": {},
   "source": [
    "### Количество заказов по пользователям"
   ]
  },
  {
   "cell_type": "code",
   "execution_count": 36,
   "metadata": {},
   "outputs": [
    {
     "data": {
      "text/html": [
       "<div>\n",
       "<style scoped>\n",
       "    .dataframe tbody tr th:only-of-type {\n",
       "        vertical-align: middle;\n",
       "    }\n",
       "\n",
       "    .dataframe tbody tr th {\n",
       "        vertical-align: top;\n",
       "    }\n",
       "\n",
       "    .dataframe thead th {\n",
       "        text-align: right;\n",
       "    }\n",
       "</style>\n",
       "<table border=\"1\" class=\"dataframe\">\n",
       "  <thead>\n",
       "    <tr style=\"text-align: right;\">\n",
       "      <th></th>\n",
       "      <th>visitor_id</th>\n",
       "      <th>transaction_id</th>\n",
       "    </tr>\n",
       "  </thead>\n",
       "  <tbody>\n",
       "    <tr>\n",
       "      <th>0</th>\n",
       "      <td>5114589</td>\n",
       "      <td>1</td>\n",
       "    </tr>\n",
       "    <tr>\n",
       "      <th>1</th>\n",
       "      <td>6958315</td>\n",
       "      <td>1</td>\n",
       "    </tr>\n",
       "    <tr>\n",
       "      <th>2</th>\n",
       "      <td>8300375</td>\n",
       "      <td>2</td>\n",
       "    </tr>\n",
       "    <tr>\n",
       "      <th>3</th>\n",
       "      <td>11685486</td>\n",
       "      <td>1</td>\n",
       "    </tr>\n",
       "    <tr>\n",
       "      <th>4</th>\n",
       "      <td>39475350</td>\n",
       "      <td>1</td>\n",
       "    </tr>\n",
       "  </tbody>\n",
       "</table>\n",
       "</div>"
      ],
      "text/plain": [
       "   visitor_id  transaction_id\n",
       "0     5114589               1\n",
       "1     6958315               1\n",
       "2     8300375               2\n",
       "3    11685486               1\n",
       "4    39475350               1"
      ]
     },
     "execution_count": 36,
     "metadata": {},
     "output_type": "execute_result"
    }
   ],
   "source": [
    "orders_count = orders.groupby('visitor_id', as_index=False).agg({'transaction_id': 'nunique'})\n",
    "orders_count.head()"
   ]
  },
  {
   "cell_type": "code",
   "execution_count": 37,
   "metadata": {
    "scrolled": false
   },
   "outputs": [
    {
     "data": {
      "image/png": "[encoded data removed]",
      "text/plain": [
       "<Figure size 720x432 with 1 Axes>"
      ]
     },
     "metadata": {
      "needs_background": "light"
     },
     "output_type": "display_data"
    }
   ],
   "source": [
    "x_values = pd.Series(range(0,len(orders_count)))\n",
    "plt.figure(figsize=(10,6))\n",
    "plt.scatter(x_values, orders_count['transaction_id'])\n",
    "plt.title('Количество заказов по пользователям')\n",
    "plt.ylabel('Количество заказов');"
   ]
  },
  {
   "cell_type": "markdown",
   "metadata": {},
   "source": [
    "Большинство пользователей совершали от 1-го до 3-х или 5-ти заказов. Необходимо посмотреть их долю, чтобы определить количество заказов, которые можно расценивать как выбросы."
   ]
  },
  {
   "cell_type": "markdown",
   "metadata": {},
   "source": [
    "### 95-й и 99-й перцентили количества заказов на пользователя"
   ]
  },
  {
   "cell_type": "code",
   "execution_count": 38,
   "metadata": {},
   "outputs": [
    {
     "name": "stdout",
     "output_type": "stream",
     "text": [
      "[2. 4.]\n"
     ]
    }
   ],
   "source": [
    "print(np.percentile(orders_count['transaction_id'], [95, 99]))"
   ]
  },
  {
   "cell_type": "markdown",
   "metadata": {},
   "source": [
    "Менее 5% посетителей делало более 2-х заказов и менее 1% делало более 4 заказов. Для дальнейшего анализа выберем 2 заказа, как пороговое значение для определния выбросов."
   ]
  },
  {
   "cell_type": "markdown",
   "metadata": {},
   "source": [
    "### Стоимость заказов"
   ]
  },
  {
   "cell_type": "code",
   "execution_count": 39,
   "metadata": {},
   "outputs": [
    {
     "data": {
      "image/png": "[encoded data removed]",
      "text/plain": [
       "<Figure size 720x432 with 1 Axes>"
      ]
     },
     "metadata": {
      "needs_background": "light"
     },
     "output_type": "display_data"
    }
   ],
   "source": [
    "x_values = pd.Series(range(0,len(orders['revenue'])))\n",
    "plt.figure(figsize=(10,6))\n",
    "plt.scatter(x_values, orders['revenue'])\n",
    "plt.title('Стоимость заказов')\n",
    "plt.ylabel('Сумма заказа');"
   ]
  },
  {
   "cell_type": "markdown",
   "metadata": {},
   "source": [
    "На графике видно два дорогих заказа, которые выбиваются из общей массы. Рассмотрим смоимости без них:"
   ]
  },
  {
   "cell_type": "code",
   "execution_count": 40,
   "metadata": {},
   "outputs": [
    {
     "data": {
      "image/png": "[encoded data removed]",
      "text/plain": [
       "<Figure size 720x432 with 1 Axes>"
      ]
     },
     "metadata": {
      "needs_background": "light"
     },
     "output_type": "display_data"
    }
   ],
   "source": [
    "plt.figure(figsize=(10,6))\n",
    "plt.scatter(x_values, orders['revenue'])\n",
    "plt.ylim(0, 150000)\n",
    "plt.title('Стоимость заказов')\n",
    "plt.ylabel('Сумма заказа');"
   ]
  },
  {
   "cell_type": "markdown",
   "metadata": {},
   "source": [
    "На графике видно, что основная часть заказов менее 30000. Необходимо так, же посмотреть 95-й и 99-й перцентили, для того, чтобы определить границу выбросов по смоимости заказа."
   ]
  },
  {
   "cell_type": "markdown",
   "metadata": {},
   "source": [
    "### 95-й и 99-й перцентили стоимости заказов"
   ]
  },
  {
   "cell_type": "code",
   "execution_count": 41,
   "metadata": {},
   "outputs": [
    {
     "name": "stdout",
     "output_type": "stream",
     "text": [
      "[28000.  58233.2]\n"
     ]
    }
   ],
   "source": [
    "print(np.percentile(orders['revenue'], [95, 99]))"
   ]
  },
  {
   "cell_type": "markdown",
   "metadata": {},
   "source": [
    "Менее 5% заказов выполняются на сумм более 28000 и менее 1% заказов на сумму более 58233. Для определния выброса по сумме заказа, выберем значение 95-го перцентиля, а именно значение суммы 28000"
   ]
  },
  {
   "cell_type": "markdown",
   "metadata": {},
   "source": [
    "### Статистическая значимость различий в среднем количестве заказов на посетителя между группами по «сырым» данным"
   ]
  },
  {
   "cell_type": "markdown",
   "metadata": {},
   "source": [
    "Для определения теста, проверим распределения в группах на нормальность с помощью критерия Шапиро-Уилка, на нулевую гипотезу примем утверждение, что распределение нормально:"
   ]
  },
  {
   "cell_type": "code",
   "execution_count": 42,
   "metadata": {
    "scrolled": true
   },
   "outputs": [
    {
     "name": "stdout",
     "output_type": "stream",
     "text": [
      "Отвергаем нулевую гипотезу: распределение не нормально\n",
      "Отвергаем нулевую гипотезу: распределение не нормально\n"
     ]
    }
   ],
   "source": [
    "alpha = 0.05\n",
    "samples = [cumulative_data_a, cumulative_data_b]\n",
    "for i in samples:\n",
    "    results = stats.shapiro(i['transaction_id'] / i['visitors'])\n",
    "    p_value = results[1]\n",
    "    if p_value < alpha:\n",
    "        print('Отвергаем нулевую гипотезу: распределение не нормально')\n",
    "    else:\n",
    "        print('Не получилось отвергнуть нулевую гипотезу, всё нормально')"
   ]
  },
  {
   "cell_type": "markdown",
   "metadata": {},
   "source": [
    "Распределения средних количеств заказов на посетителя в обеих группах распределены не нормально, поэтому будем использовать непараметрический тест Уилкоксона-Манна-Уитни.\n",
    "- Нулевая гипотеза: среднее количество заказов на посетителя в группах равны\n",
    "- Альтернативаная гипотеза: среднее количество заказов на посетителя в группах не равны"
   ]
  },
  {
   "cell_type": "markdown",
   "metadata": {},
   "source": [
    "Подготовим данные для проведения теста:"
   ]
  },
  {
   "cell_type": "markdown",
   "metadata": {},
   "source": [
    "Создадим таблички с кумулятивными визитами за день для каждой группы:"
   ]
  },
  {
   "cell_type": "code",
   "execution_count": 43,
   "metadata": {},
   "outputs": [],
   "source": [
    "visitors_a_daily = visitors[visitors['group'] == 'A'][['date', 'visitors']]\n",
    "visitors_a_daily.columns = ['date', 'visitors_per_date_a']\n",
    "\n",
    "visitors_a_cummulative = visitors_a_daily.apply(\n",
    "    lambda x: visitors_a_daily[visitors_a_daily['date'] <= x['date']].agg(\n",
    "        {'date': 'max', 'visitors_per_date_a': 'sum'}),axis=1)\n",
    "\n",
    "visitors_a_cummulative.columns = ['date', 'visitors_cummulative_a']\n",
    "\n",
    "visitors_b_daily = visitors[visitors['group'] == 'B'][['date', 'visitors']]\n",
    "visitors_b_daily.columns = ['date', 'visitors_per_date_b']\n",
    "\n",
    "visitors_b_cummulative = visitors_b_daily.apply(\n",
    "    lambda x: visitors_b_daily[visitors_b_daily['date'] <= x['date']].agg(\n",
    "        {'date': 'max', 'visitors_per_date_b': 'sum'}),axis=1)\n",
    "visitors_b_cummulative.columns = ['date', 'visitors_cummulative_b']"
   ]
  },
  {
   "cell_type": "code",
   "execution_count": 44,
   "metadata": {},
   "outputs": [
    {
     "name": "stdout",
     "output_type": "stream",
     "text": [
      "        date  visitors_cummulative_a\n",
      "0 2019-08-01                     719\n",
      "1 2019-08-02                    1338\n",
      "2 2019-08-03                    1845\n",
      "3 2019-08-04                    2562\n",
      "4 2019-08-05                    3318\n",
      "         date  visitors_cummulative_b\n",
      "31 2019-08-01                     713\n",
      "32 2019-08-02                    1294\n",
      "33 2019-08-03                    1803\n",
      "34 2019-08-04                    2573\n",
      "35 2019-08-05                    3280\n"
     ]
    }
   ],
   "source": [
    "print(visitors_a_cummulative.head())\n",
    "print(visitors_b_cummulative.head())"
   ]
  },
  {
   "cell_type": "markdown",
   "metadata": {},
   "source": [
    "Создадим таблички с кумулятивным количеством заказов и общей выручкой за день для каждой группы:"
   ]
  },
  {
   "cell_type": "code",
   "execution_count": 45,
   "metadata": {},
   "outputs": [],
   "source": [
    "orders_a_daily = (\n",
    "    orders[orders['group'] == 'A'][['date', 'transaction_id', 'visitor_id', 'revenue']]\n",
    "    .groupby('date', as_index=False)\n",
    "    .agg({'transaction_id': pd.Series.nunique, 'revenue': 'sum'}))\n",
    "\n",
    "orders_a_daily.columns = ['date', 'orders_per_date_a', 'revenue_per_date_a']\n",
    "\n",
    "orders_a_cummulative = orders_a_daily.apply(\n",
    "    lambda x: orders_a_daily[orders_a_daily['date'] <= x['date']].agg(\n",
    "        {'date': 'max', 'orders_per_date_a': 'sum', 'revenue_per_date_a': 'sum'}),axis=1)\\\n",
    ".sort_values(by=['date'])\n",
    "orders_a_cummulative.columns = ['date','orders_cummulative_a','revenue_cummulative_a']\n",
    "\n",
    "orders_b_daily = (\n",
    "    orders[orders['group'] == 'B'][['date', 'transaction_id', 'visitor_id', 'revenue']]\n",
    "    .groupby('date', as_index=False)\n",
    "    .agg({'transaction_id': pd.Series.nunique, 'revenue': 'sum'})\n",
    ")\n",
    "orders_b_daily.columns = ['date', 'orders_per_date_b', 'revenue_per_date_b']\n",
    "\n",
    "orders_b_cummulative = orders_b_daily.apply(\n",
    "    lambda x: orders_b_daily[orders_b_daily['date'] <= x['date']].agg(\n",
    "        {'date': 'max', 'orders_per_date_b': 'sum', 'revenue_per_date_b': 'sum'}),axis=1)\\\n",
    ".sort_values(by=['date'])\n",
    "orders_b_cummulative.columns = ['date','orders_cummulative_b','revenue_cummulative_b']\n"
   ]
  },
  {
   "cell_type": "code",
   "execution_count": 46,
   "metadata": {},
   "outputs": [
    {
     "name": "stdout",
     "output_type": "stream",
     "text": [
      "        date  orders_cummulative_a  revenue_cummulative_a\n",
      "0 2019-08-01                    24                 148579\n",
      "1 2019-08-02                    44                 242401\n",
      "2 2019-08-03                    68                 354874\n",
      "3 2019-08-04                    84                 425699\n",
      "4 2019-08-05                   109                 549917\n",
      "        date  orders_cummulative_b  revenue_cummulative_b\n",
      "0 2019-08-01                    21                 101217\n",
      "1 2019-08-02                    45                 266748\n",
      "2 2019-08-03                    61                 380996\n",
      "3 2019-08-04                    78                 489567\n",
      "4 2019-08-05                   101                 581995\n"
     ]
    }
   ],
   "source": [
    "print(orders_a_cummulative.head())\n",
    "print(orders_b_cummulative.head())"
   ]
  },
  {
   "cell_type": "markdown",
   "metadata": {},
   "source": [
    "Объеденим полученные данные по дате в одну таблицу:"
   ]
  },
  {
   "cell_type": "code",
   "execution_count": 47,
   "metadata": {
    "scrolled": false
   },
   "outputs": [],
   "source": [
    "data = (\n",
    "    orders_a_daily.merge(orders_b_daily, left_on='date', right_on='date', how='left')\n",
    "    .merge(orders_a_cummulative, left_on='date', right_on='date', how='left')\n",
    "    .merge(orders_b_cummulative, left_on='date', right_on='date', how='left')\n",
    "    .merge(visitors_a_daily, left_on='date', right_on='date', how='left')\n",
    "    .merge(visitors_b_daily, left_on='date', right_on='date', how='left')\n",
    "    .merge(visitors_a_cummulative, left_on='date', right_on='date', how='left')\n",
    "    .merge(visitors_b_cummulative, left_on='date', right_on='date', how='left'))"
   ]
  },
  {
   "cell_type": "code",
   "execution_count": 48,
   "metadata": {
    "scrolled": false
   },
   "outputs": [
    {
     "data": {
      "text/html": [
       "<div>\n",
       "<style scoped>\n",
       "    .dataframe tbody tr th:only-of-type {\n",
       "        vertical-align: middle;\n",
       "    }\n",
       "\n",
       "    .dataframe tbody tr th {\n",
       "        vertical-align: top;\n",
       "    }\n",
       "\n",
       "    .dataframe thead th {\n",
       "        text-align: right;\n",
       "    }\n",
       "</style>\n",
       "<table border=\"1\" class=\"dataframe\">\n",
       "  <thead>\n",
       "    <tr style=\"text-align: right;\">\n",
       "      <th></th>\n",
       "      <th>date</th>\n",
       "      <th>orders_per_date_a</th>\n",
       "      <th>revenue_per_date_a</th>\n",
       "      <th>orders_per_date_b</th>\n",
       "      <th>revenue_per_date_b</th>\n",
       "      <th>orders_cummulative_a</th>\n",
       "      <th>revenue_cummulative_a</th>\n",
       "      <th>orders_cummulative_b</th>\n",
       "      <th>revenue_cummulative_b</th>\n",
       "      <th>visitors_per_date_a</th>\n",
       "      <th>visitors_per_date_b</th>\n",
       "      <th>visitors_cummulative_a</th>\n",
       "      <th>visitors_cummulative_b</th>\n",
       "    </tr>\n",
       "  </thead>\n",
       "  <tbody>\n",
       "    <tr>\n",
       "      <th>0</th>\n",
       "      <td>2019-08-01</td>\n",
       "      <td>24</td>\n",
       "      <td>148579</td>\n",
       "      <td>21</td>\n",
       "      <td>101217</td>\n",
       "      <td>24</td>\n",
       "      <td>148579</td>\n",
       "      <td>21</td>\n",
       "      <td>101217</td>\n",
       "      <td>719</td>\n",
       "      <td>713</td>\n",
       "      <td>719</td>\n",
       "      <td>713</td>\n",
       "    </tr>\n",
       "    <tr>\n",
       "      <th>1</th>\n",
       "      <td>2019-08-02</td>\n",
       "      <td>20</td>\n",
       "      <td>93822</td>\n",
       "      <td>24</td>\n",
       "      <td>165531</td>\n",
       "      <td>44</td>\n",
       "      <td>242401</td>\n",
       "      <td>45</td>\n",
       "      <td>266748</td>\n",
       "      <td>619</td>\n",
       "      <td>581</td>\n",
       "      <td>1338</td>\n",
       "      <td>1294</td>\n",
       "    </tr>\n",
       "    <tr>\n",
       "      <th>2</th>\n",
       "      <td>2019-08-03</td>\n",
       "      <td>24</td>\n",
       "      <td>112473</td>\n",
       "      <td>16</td>\n",
       "      <td>114248</td>\n",
       "      <td>68</td>\n",
       "      <td>354874</td>\n",
       "      <td>61</td>\n",
       "      <td>380996</td>\n",
       "      <td>507</td>\n",
       "      <td>509</td>\n",
       "      <td>1845</td>\n",
       "      <td>1803</td>\n",
       "    </tr>\n",
       "    <tr>\n",
       "      <th>3</th>\n",
       "      <td>2019-08-04</td>\n",
       "      <td>16</td>\n",
       "      <td>70825</td>\n",
       "      <td>17</td>\n",
       "      <td>108571</td>\n",
       "      <td>84</td>\n",
       "      <td>425699</td>\n",
       "      <td>78</td>\n",
       "      <td>489567</td>\n",
       "      <td>717</td>\n",
       "      <td>770</td>\n",
       "      <td>2562</td>\n",
       "      <td>2573</td>\n",
       "    </tr>\n",
       "    <tr>\n",
       "      <th>4</th>\n",
       "      <td>2019-08-05</td>\n",
       "      <td>25</td>\n",
       "      <td>124218</td>\n",
       "      <td>23</td>\n",
       "      <td>92428</td>\n",
       "      <td>109</td>\n",
       "      <td>549917</td>\n",
       "      <td>101</td>\n",
       "      <td>581995</td>\n",
       "      <td>756</td>\n",
       "      <td>707</td>\n",
       "      <td>3318</td>\n",
       "      <td>3280</td>\n",
       "    </tr>\n",
       "  </tbody>\n",
       "</table>\n",
       "</div>"
      ],
      "text/plain": [
       "        date  orders_per_date_a  revenue_per_date_a  orders_per_date_b  \\\n",
       "0 2019-08-01                 24              148579                 21   \n",
       "1 2019-08-02                 20               93822                 24   \n",
       "2 2019-08-03                 24              112473                 16   \n",
       "3 2019-08-04                 16               70825                 17   \n",
       "4 2019-08-05                 25              124218                 23   \n",
       "\n",
       "   revenue_per_date_b  orders_cummulative_a  revenue_cummulative_a  \\\n",
       "0              101217                    24                 148579   \n",
       "1              165531                    44                 242401   \n",
       "2              114248                    68                 354874   \n",
       "3              108571                    84                 425699   \n",
       "4               92428                   109                 549917   \n",
       "\n",
       "   orders_cummulative_b  revenue_cummulative_b  visitors_per_date_a  \\\n",
       "0                    21                 101217                  719   \n",
       "1                    45                 266748                  619   \n",
       "2                    61                 380996                  507   \n",
       "3                    78                 489567                  717   \n",
       "4                   101                 581995                  756   \n",
       "\n",
       "   visitors_per_date_b  visitors_cummulative_a  visitors_cummulative_b  \n",
       "0                  713                     719                     713  \n",
       "1                  581                    1338                    1294  \n",
       "2                  509                    1845                    1803  \n",
       "3                  770                    2562                    2573  \n",
       "4                  707                    3318                    3280  "
      ]
     },
     "execution_count": 48,
     "metadata": {},
     "output_type": "execute_result"
    }
   ],
   "source": [
    "data.head()"
   ]
  },
  {
   "cell_type": "markdown",
   "metadata": {},
   "source": [
    "Создадим таблички с количеством заказов посетителей, которые сделали как минимум 1 заказ:"
   ]
  },
  {
   "cell_type": "code",
   "execution_count": 49,
   "metadata": {},
   "outputs": [],
   "source": [
    "orders_by_users_a = (orders[orders['group'] == 'A']\n",
    "    .groupby('visitor_id', as_index=False)\n",
    "    .agg({'transaction_id': pd.Series.nunique}))\n",
    "\n",
    "orders_by_users_a.columns = ['visitor_id', 'orders']\n",
    "\n",
    "orders_by_users_b = (orders[orders['group'] == 'B']\n",
    "    .groupby('visitor_id', as_index=False)\n",
    "    .agg({'transaction_id': pd.Series.nunique}))\n",
    "\n",
    "orders_by_users_b.columns = ['visitor_id', 'orders']"
   ]
  },
  {
   "cell_type": "code",
   "execution_count": 50,
   "metadata": {
    "scrolled": true
   },
   "outputs": [
    {
     "name": "stdout",
     "output_type": "stream",
     "text": [
      "7\n",
      "6\n"
     ]
    }
   ],
   "source": [
    "print(orders_by_users_a['orders'].max())\n",
    "print(orders_by_users_b['orders'].max())"
   ]
  },
  {
   "cell_type": "markdown",
   "metadata": {},
   "source": [
    "Мы получили максимальное количество заказов на пользователя в групе А - 7, в группе В - 6, но на графике выше было значение 11 заказов. Необходимо на всякий случай проверить:"
   ]
  },
  {
   "cell_type": "code",
   "execution_count": 51,
   "metadata": {},
   "outputs": [
    {
     "data": {
      "text/html": [
       "<div>\n",
       "<style scoped>\n",
       "    .dataframe tbody tr th:only-of-type {\n",
       "        vertical-align: middle;\n",
       "    }\n",
       "\n",
       "    .dataframe tbody tr th {\n",
       "        vertical-align: top;\n",
       "    }\n",
       "\n",
       "    .dataframe thead th {\n",
       "        text-align: right;\n",
       "    }\n",
       "</style>\n",
       "<table border=\"1\" class=\"dataframe\">\n",
       "  <thead>\n",
       "    <tr style=\"text-align: right;\">\n",
       "      <th></th>\n",
       "      <th>visitor_id</th>\n",
       "    </tr>\n",
       "    <tr>\n",
       "      <th>visitor_id</th>\n",
       "      <th></th>\n",
       "    </tr>\n",
       "  </thead>\n",
       "  <tbody>\n",
       "    <tr>\n",
       "      <th>2458001652</th>\n",
       "      <td>11</td>\n",
       "    </tr>\n",
       "    <tr>\n",
       "      <th>4256040402</th>\n",
       "      <td>11</td>\n",
       "    </tr>\n",
       "  </tbody>\n",
       "</table>\n",
       "</div>"
      ],
      "text/plain": [
       "            visitor_id\n",
       "visitor_id            \n",
       "2458001652          11\n",
       "4256040402          11"
      ]
     },
     "execution_count": 51,
     "metadata": {},
     "output_type": "execute_result"
    }
   ],
   "source": [
    "max_orders = orders.groupby('visitor_id')[['visitor_id']].count()\n",
    "max_orders[max_orders['visitor_id'] == 11]"
   ]
  },
  {
   "cell_type": "code",
   "execution_count": 52,
   "metadata": {
    "scrolled": true
   },
   "outputs": [
    {
     "data": {
      "text/html": [
       "<div>\n",
       "<style scoped>\n",
       "    .dataframe tbody tr th:only-of-type {\n",
       "        vertical-align: middle;\n",
       "    }\n",
       "\n",
       "    .dataframe tbody tr th {\n",
       "        vertical-align: top;\n",
       "    }\n",
       "\n",
       "    .dataframe thead th {\n",
       "        text-align: right;\n",
       "    }\n",
       "</style>\n",
       "<table border=\"1\" class=\"dataframe\">\n",
       "  <thead>\n",
       "    <tr style=\"text-align: right;\">\n",
       "      <th></th>\n",
       "      <th>transaction_id</th>\n",
       "      <th>visitor_id</th>\n",
       "      <th>date</th>\n",
       "      <th>revenue</th>\n",
       "      <th>group</th>\n",
       "    </tr>\n",
       "  </thead>\n",
       "  <tbody>\n",
       "    <tr>\n",
       "      <th>133</th>\n",
       "      <td>3060563671</td>\n",
       "      <td>2458001652</td>\n",
       "      <td>2019-08-22</td>\n",
       "      <td>5190</td>\n",
       "      <td>A</td>\n",
       "    </tr>\n",
       "    <tr>\n",
       "      <th>380</th>\n",
       "      <td>1177690313</td>\n",
       "      <td>2458001652</td>\n",
       "      <td>2019-08-25</td>\n",
       "      <td>2385</td>\n",
       "      <td>B</td>\n",
       "    </tr>\n",
       "    <tr>\n",
       "      <th>454</th>\n",
       "      <td>3755354294</td>\n",
       "      <td>2458001652</td>\n",
       "      <td>2019-08-06</td>\n",
       "      <td>7349</td>\n",
       "      <td>B</td>\n",
       "    </tr>\n",
       "    <tr>\n",
       "      <th>456</th>\n",
       "      <td>543654048</td>\n",
       "      <td>2458001652</td>\n",
       "      <td>2019-08-06</td>\n",
       "      <td>1620</td>\n",
       "      <td>A</td>\n",
       "    </tr>\n",
       "    <tr>\n",
       "      <th>483</th>\n",
       "      <td>2280027650</td>\n",
       "      <td>2458001652</td>\n",
       "      <td>2019-08-06</td>\n",
       "      <td>6681</td>\n",
       "      <td>B</td>\n",
       "    </tr>\n",
       "    <tr>\n",
       "      <th>611</th>\n",
       "      <td>1244084011</td>\n",
       "      <td>2458001652</td>\n",
       "      <td>2019-08-04</td>\n",
       "      <td>340</td>\n",
       "      <td>A</td>\n",
       "    </tr>\n",
       "    <tr>\n",
       "      <th>692</th>\n",
       "      <td>3586870909</td>\n",
       "      <td>2458001652</td>\n",
       "      <td>2019-08-09</td>\n",
       "      <td>5227</td>\n",
       "      <td>B</td>\n",
       "    </tr>\n",
       "    <tr>\n",
       "      <th>727</th>\n",
       "      <td>3959083601</td>\n",
       "      <td>2458001652</td>\n",
       "      <td>2019-08-07</td>\n",
       "      <td>17379</td>\n",
       "      <td>A</td>\n",
       "    </tr>\n",
       "    <tr>\n",
       "      <th>883</th>\n",
       "      <td>2412219836</td>\n",
       "      <td>2458001652</td>\n",
       "      <td>2019-08-05</td>\n",
       "      <td>2420</td>\n",
       "      <td>B</td>\n",
       "    </tr>\n",
       "    <tr>\n",
       "      <th>916</th>\n",
       "      <td>527333943</td>\n",
       "      <td>2458001652</td>\n",
       "      <td>2019-08-08</td>\n",
       "      <td>5227</td>\n",
       "      <td>B</td>\n",
       "    </tr>\n",
       "    <tr>\n",
       "      <th>1062</th>\n",
       "      <td>1817215137</td>\n",
       "      <td>2458001652</td>\n",
       "      <td>2019-08-11</td>\n",
       "      <td>8280</td>\n",
       "      <td>A</td>\n",
       "    </tr>\n",
       "  </tbody>\n",
       "</table>\n",
       "</div>"
      ],
      "text/plain": [
       "      transaction_id  visitor_id       date  revenue group\n",
       "133       3060563671  2458001652 2019-08-22     5190     A\n",
       "380       1177690313  2458001652 2019-08-25     2385     B\n",
       "454       3755354294  2458001652 2019-08-06     7349     B\n",
       "456        543654048  2458001652 2019-08-06     1620     A\n",
       "483       2280027650  2458001652 2019-08-06     6681     B\n",
       "611       1244084011  2458001652 2019-08-04      340     A\n",
       "692       3586870909  2458001652 2019-08-09     5227     B\n",
       "727       3959083601  2458001652 2019-08-07    17379     A\n",
       "883       2412219836  2458001652 2019-08-05     2420     B\n",
       "916        527333943  2458001652 2019-08-08     5227     B\n",
       "1062      1817215137  2458001652 2019-08-11     8280     A"
      ]
     },
     "execution_count": 52,
     "metadata": {},
     "output_type": "execute_result"
    }
   ],
   "source": [
    "orders[orders['visitor_id'] == 2458001652]"
   ]
  },
  {
   "cell_type": "code",
   "execution_count": 53,
   "metadata": {
    "scrolled": false
   },
   "outputs": [
    {
     "data": {
      "text/html": [
       "<div>\n",
       "<style scoped>\n",
       "    .dataframe tbody tr th:only-of-type {\n",
       "        vertical-align: middle;\n",
       "    }\n",
       "\n",
       "    .dataframe tbody tr th {\n",
       "        vertical-align: top;\n",
       "    }\n",
       "\n",
       "    .dataframe thead th {\n",
       "        text-align: right;\n",
       "    }\n",
       "</style>\n",
       "<table border=\"1\" class=\"dataframe\">\n",
       "  <thead>\n",
       "    <tr style=\"text-align: right;\">\n",
       "      <th></th>\n",
       "      <th>transaction_id</th>\n",
       "      <th>visitor_id</th>\n",
       "      <th>date</th>\n",
       "      <th>revenue</th>\n",
       "      <th>group</th>\n",
       "    </tr>\n",
       "  </thead>\n",
       "  <tbody>\n",
       "    <tr>\n",
       "      <th>60</th>\n",
       "      <td>1421016313</td>\n",
       "      <td>4256040402</td>\n",
       "      <td>2019-08-16</td>\n",
       "      <td>56650</td>\n",
       "      <td>B</td>\n",
       "    </tr>\n",
       "    <tr>\n",
       "      <th>114</th>\n",
       "      <td>1120327437</td>\n",
       "      <td>4256040402</td>\n",
       "      <td>2019-08-01</td>\n",
       "      <td>5800</td>\n",
       "      <td>A</td>\n",
       "    </tr>\n",
       "    <tr>\n",
       "      <th>187</th>\n",
       "      <td>2048878902</td>\n",
       "      <td>4256040402</td>\n",
       "      <td>2019-08-17</td>\n",
       "      <td>1550</td>\n",
       "      <td>A</td>\n",
       "    </tr>\n",
       "    <tr>\n",
       "      <th>253</th>\n",
       "      <td>1610091760</td>\n",
       "      <td>4256040402</td>\n",
       "      <td>2019-08-23</td>\n",
       "      <td>16950</td>\n",
       "      <td>A</td>\n",
       "    </tr>\n",
       "    <tr>\n",
       "      <th>263</th>\n",
       "      <td>2575861846</td>\n",
       "      <td>4256040402</td>\n",
       "      <td>2019-08-18</td>\n",
       "      <td>10970</td>\n",
       "      <td>B</td>\n",
       "    </tr>\n",
       "    <tr>\n",
       "      <th>588</th>\n",
       "      <td>3700356838</td>\n",
       "      <td>4256040402</td>\n",
       "      <td>2019-08-20</td>\n",
       "      <td>17650</td>\n",
       "      <td>A</td>\n",
       "    </tr>\n",
       "    <tr>\n",
       "      <th>873</th>\n",
       "      <td>2519737434</td>\n",
       "      <td>4256040402</td>\n",
       "      <td>2019-08-08</td>\n",
       "      <td>58220</td>\n",
       "      <td>B</td>\n",
       "    </tr>\n",
       "    <tr>\n",
       "      <th>901</th>\n",
       "      <td>3402467119</td>\n",
       "      <td>4256040402</td>\n",
       "      <td>2019-08-27</td>\n",
       "      <td>1630</td>\n",
       "      <td>A</td>\n",
       "    </tr>\n",
       "    <tr>\n",
       "      <th>1018</th>\n",
       "      <td>1415970216</td>\n",
       "      <td>4256040402</td>\n",
       "      <td>2019-08-31</td>\n",
       "      <td>5170</td>\n",
       "      <td>A</td>\n",
       "    </tr>\n",
       "    <tr>\n",
       "      <th>1019</th>\n",
       "      <td>453824282</td>\n",
       "      <td>4256040402</td>\n",
       "      <td>2019-08-31</td>\n",
       "      <td>1850</td>\n",
       "      <td>B</td>\n",
       "    </tr>\n",
       "    <tr>\n",
       "      <th>1091</th>\n",
       "      <td>750632879</td>\n",
       "      <td>4256040402</td>\n",
       "      <td>2019-08-12</td>\n",
       "      <td>50</td>\n",
       "      <td>A</td>\n",
       "    </tr>\n",
       "  </tbody>\n",
       "</table>\n",
       "</div>"
      ],
      "text/plain": [
       "      transaction_id  visitor_id       date  revenue group\n",
       "60        1421016313  4256040402 2019-08-16    56650     B\n",
       "114       1120327437  4256040402 2019-08-01     5800     A\n",
       "187       2048878902  4256040402 2019-08-17     1550     A\n",
       "253       1610091760  4256040402 2019-08-23    16950     A\n",
       "263       2575861846  4256040402 2019-08-18    10970     B\n",
       "588       3700356838  4256040402 2019-08-20    17650     A\n",
       "873       2519737434  4256040402 2019-08-08    58220     B\n",
       "901       3402467119  4256040402 2019-08-27     1630     A\n",
       "1018      1415970216  4256040402 2019-08-31     5170     A\n",
       "1019       453824282  4256040402 2019-08-31     1850     B\n",
       "1091       750632879  4256040402 2019-08-12       50     A"
      ]
     },
     "execution_count": 53,
     "metadata": {},
     "output_type": "execute_result"
    }
   ],
   "source": [
    "orders[orders['visitor_id'] == 4256040402]"
   ]
  },
  {
   "cell_type": "markdown",
   "metadata": {},
   "source": [
    "Как видно, максимальное количество заказов равное 11, это заказы пользователей, которые попали в обе группы."
   ]
  },
  {
   "cell_type": "markdown",
   "metadata": {},
   "source": [
    "Добавим к этим данным, пользователей, которые не совершали заказов:"
   ]
  },
  {
   "cell_type": "code",
   "execution_count": 54,
   "metadata": {},
   "outputs": [],
   "source": [
    "sample_a = pd.concat([orders_by_users_a['orders'],\n",
    "                      pd.Series(0, index=np.arange(\n",
    "                          data['visitors_per_date_a'].sum() \n",
    "                          - len(orders_by_users_a['orders'])),\n",
    "                                name='orders')],axis=0)\n",
    "\n",
    "sample_b = pd.concat([orders_by_users_b['orders'],\n",
    "                      pd.Series(0, index=np.arange(\n",
    "                          data['visitors_per_date_b'].sum()\n",
    "                          - len(orders_by_users_b['orders'])),\n",
    "                                name='orders')],axis=0)"
   ]
  },
  {
   "cell_type": "markdown",
   "metadata": {},
   "source": [
    "Критический уровень статистической значимости установим в размере 0.05"
   ]
  },
  {
   "cell_type": "code",
   "execution_count": 55,
   "metadata": {
    "scrolled": true
   },
   "outputs": [
    {
     "name": "stdout",
     "output_type": "stream",
     "text": [
      "p-value 0.016792355056752608\n",
      "Относительное изменение метрики: 0.138\n"
     ]
    }
   ],
   "source": [
    "\n",
    "print('p-value', stats.mannwhitneyu(sample_a, sample_b)[1])\n",
    "print(\"Относительное изменение метрики: {0:.3f}\".format(sample_b.mean() / sample_a.mean() - 1))"
   ]
  },
  {
   "cell_type": "markdown",
   "metadata": {},
   "source": [
    "В результате проведения теста мы получили статистически значимые различия между средним количеством заказов на посетителя в разных группах. При этом показатель группы В больше на **13.8%** относительно группы А. Для окончательного вывода необходимо будет проверить значения без выбросов"
   ]
  },
  {
   "cell_type": "markdown",
   "metadata": {},
   "source": [
    "### Статистическая значимость различий в среднем чеке заказа между группами по «сырым» данным"
   ]
  },
  {
   "cell_type": "markdown",
   "metadata": {},
   "source": [
    "Для определения теста, проверим распределения в группах на нормальность с помощью критерия Шапиро-Уилка, на нулевую гипотезу примем утверждение, что распределение нормально:"
   ]
  },
  {
   "cell_type": "markdown",
   "metadata": {},
   "source": [
    "Распределения среднего чека в обеих группах распределены не нормально, поэтому будем использовать непараметрический тест Уилкоксона-Манна-Уитни, критический уровень статистической значимости установим в размере 0.05.\n",
    "- Нулевая гипотеза: средниие чеки в граппах В и А равны\n",
    "- Альтернативаня гипотеза: средние чеки в группах В и А не равны"
   ]
  },
  {
   "cell_type": "code",
   "execution_count": 58,
   "metadata": {},
   "outputs": [
    {
     "name": "stdout",
     "output_type": "stream",
     "text": [
      "p-value: 0.7292909855432458\n",
      "Относительное изменение метрики: 0.259\n"
     ]
    }
   ],
   "source": [
    "print('p-value:', stats.mannwhitneyu(orders[orders['group']=='A']['revenue'], orders[orders['group']=='B']['revenue'])[1])\n",
    "print(\"Относительное изменение метрики: {0:.3f}\".format(orders[orders['group']=='B']['revenue'].mean()/orders[orders['group']=='A']['revenue'].mean()-1))"
   ]
  },
  {
   "cell_type": "markdown",
   "metadata": {},
   "source": [
    "В результате проведения теста у нас не получилось отвергнуть нулевую гипотезу, так как p-value равняется 0.73, что значительно больше установленного порога. При этом показатель группы В больше на **25.9%** относительно группы А. Для окончательного вывода необходимо будет проверить значения без выбросов."
   ]
  },
  {
   "cell_type": "markdown",
   "metadata": {},
   "source": [
    "### Статистическая значимость различий в среднем количестве заказов на посетителя между группами по «очищенным» данным"
   ]
  },
  {
   "cell_type": "markdown",
   "metadata": {},
   "source": [
    "Определим пользователей, которые делали 2 и менее заказов за период наблюдений и делали заказы с сумой 28000 и менее:"
   ]
  },
  {
   "cell_type": "code",
   "execution_count": 59,
   "metadata": {},
   "outputs": [],
   "source": [
    "users_with_high_orders = orders_count[orders_count['transaction_id'] > np.percentile(orders_count['transaction_id'], 95)]['visitor_id']\n",
    "users_with_expensive_orders = orders[orders['revenue'] > np.percentile(orders['revenue'], 95)]['visitor_id']"
   ]
  },
  {
   "cell_type": "code",
   "execution_count": 60,
   "metadata": {},
   "outputs": [],
   "source": [
    "abnormal_users = (pd.concat([users_with_high_orders, users_with_expensive_orders], axis=0)\n",
    "    .drop_duplicates()\n",
    "    .sort_values())"
   ]
  },
  {
   "cell_type": "code",
   "execution_count": 61,
   "metadata": {},
   "outputs": [
    {
     "name": "stdout",
     "output_type": "stream",
     "text": [
      "83\n",
      "0.081\n"
     ]
    }
   ],
   "source": [
    "print(abnormal_users.nunique())\n",
    "print(round(abnormal_users.nunique() / orders['visitor_id'].nunique(), 3))"
   ]
  },
  {
   "cell_type": "markdown",
   "metadata": {},
   "source": [
    "После фильтрации значений 95-х перцентилей, мы получили **83** пользователя или **8.1%**, которые не войдут в очищенные данные."
   ]
  },
  {
   "cell_type": "markdown",
   "metadata": {},
   "source": [
    "Подготовим отфильтрованные данные для исследования:"
   ]
  },
  {
   "cell_type": "code",
   "execution_count": 62,
   "metadata": {
    "scrolled": true
   },
   "outputs": [],
   "source": [
    "sample_a_f = pd.concat(\n",
    "            [orders_by_users_a[np.logical_not(\n",
    "                orders_by_users_a['visitor_id'].isin(abnormal_users))]['orders'],\n",
    "             pd.Series(0,index=np.arange(data['visitors_per_date_a'].sum()\n",
    "                - len(orders_by_users_a['orders'])),name='orders')],axis=0)\n",
    "\n",
    "sample_b_f = pd.concat(\n",
    "            [orders_by_users_b[np.logical_not(\n",
    "                orders_by_users_b['visitor_id'].isin(abnormal_users))]['orders'],\n",
    "             pd.Series(0,index=np.arange(data['visitors_per_date_b'].sum()\n",
    "                - len(orders_by_users_b['orders'])),name='orders')],axis=0)"
   ]
  },
  {
   "cell_type": "markdown",
   "metadata": {},
   "source": [
    "Проверим статистическую значимость различий между отфильтрованными группами при помощи критерия Манна-Уитни, критический уровень оставим так же 0.05.\n",
    "- Нулевая гипотеза: среднее количество заказов на посетителя в группах равны\n",
    "- Альтернативаная гипотеза: среднее количество заказов на посетителя в группах не равны"
   ]
  },
  {
   "cell_type": "code",
   "execution_count": 63,
   "metadata": {},
   "outputs": [
    {
     "name": "stdout",
     "output_type": "stream",
     "text": [
      "p-value: 0.012\n",
      "Относительное изменение метрики: 0.176\n"
     ]
    }
   ],
   "source": [
    "print('p-value: {0:.3f}'.format(stats.mannwhitneyu(sample_a_f, sample_b_f)[1]))\n",
    "print('Относительное изменение метрики: {0:.3f}'.format(sample_b_f.mean()/sample_a_f.mean()-1)) "
   ]
  },
  {
   "cell_type": "markdown",
   "metadata": {},
   "source": [
    "В результате проведения теста мы получили статистически значимые различия между средним количеством заказов на посетителя в отфильтрованых группах. При этом показатель группы В стал больше на **17.6%** относительно группы А."
   ]
  },
  {
   "cell_type": "markdown",
   "metadata": {},
   "source": [
    "###  Статистическая значимость различий в среднем чеке заказа между группами по «очищенным» данным"
   ]
  },
  {
   "cell_type": "markdown",
   "metadata": {},
   "source": [
    "Проверим статистическую значимость различий между отфильтрованными группами при помощи критерия Манна-Уитни, критический уровень оставим так же 0.05.\n",
    "- Нулевая гипотеза: средние чеки в отфильтрованых группах равны\n",
    "- Альтернативаная гипотеза: средние чеки в отфильтрованых группах не равны"
   ]
  },
  {
   "cell_type": "markdown",
   "metadata": {},
   "source": [
    "Подготовим данные:"
   ]
  },
  {
   "cell_type": "code",
   "execution_count": 64,
   "metadata": {},
   "outputs": [],
   "source": [
    "sample_a_rev_f = orders[np.logical_and(orders['group'] == 'A',\n",
    "                        np.logical_not(orders['visitor_id']\\\n",
    "                        .isin(abnormal_users)))]['revenue']\n",
    "sample_b_rev_f = orders[np.logical_and(orders['group'] == 'B',\n",
    "                        np.logical_not(orders['visitor_id']\\\n",
    "                        .isin(abnormal_users)))]['revenue']"
   ]
  },
  {
   "cell_type": "code",
   "execution_count": 65,
   "metadata": {},
   "outputs": [
    {
     "name": "stdout",
     "output_type": "stream",
     "text": [
      "p-value: 0.7528652023825759\n",
      "Относительное изменение метрики: -0.022\n"
     ]
    }
   ],
   "source": [
    "print('p-value:', stats.mannwhitneyu(sample_a_rev_f, sample_b_rev_f)[1])\n",
    "print(\"Относительное изменение метрики: {0:.3f}\".format(sample_b_rev_f.mean() / sample_a_rev_f.mean() - 1))"
   ]
  },
  {
   "cell_type": "markdown",
   "metadata": {},
   "source": [
    "В результате проведения теста нам не удалось отвергнуть нулевую гипотезу, так как p-value равна 0.75, что значительно больше порога 0.05. В этот раз показатель группы В оказался меньше на **2.2%** относительно группы А. Причиной таких резкльтатов послужило отсутствие сильных выбросов по сумме заказа."
   ]
  },
  {
   "cell_type": "markdown",
   "metadata": {},
   "source": [
    "### Вывод"
   ]
  },
  {
   "cell_type": "markdown",
   "metadata": {},
   "source": [
    "- обнаружены статистически значимые различия между средними количествами заказов на посетителя в группах А и В, где в случае сравнения показателей по сырым и отфильтрованным данным результаты группы В превосходят группу А на **13.8%** и **17.6%** соответственно\n",
    "- не удалось обнаружить статистически значимых различий между средними чеками в группах А и В как в сырых так и в отфильтрованных данных, где в случае сравнения показателей по сырым данным группа В превосходит группу А на **25.9%**, но при анализе сырых данных группа В проигрывает группе А на **2.2%**, что является более репрезетнативным показателем\n",
    "- предлагаю остановить тест и зафиксировать победу группы В по критерию среднего количества заказов на пользователя (**17.6%** относительно группы А), но с оговоркой о попадании **5.6%** пользователей в обе группы, что могло повлиять на значимость различий"
   ]
  }
 ],
 "metadata": {
  "ExecuteTimeLog": [
   {
    "duration": 398,
    "start_time": "2023-03-23T07:09:26.488Z"
   },
   {
    "duration": 2,
    "start_time": "2023-03-23T07:09:50.858Z"
   },
   {
    "duration": 75,
    "start_time": "2023-03-23T07:10:52.914Z"
   },
   {
    "duration": 17,
    "start_time": "2023-03-23T07:10:54.181Z"
   },
   {
    "duration": 8,
    "start_time": "2023-03-23T07:11:00.088Z"
   },
   {
    "duration": 31,
    "start_time": "2023-03-23T07:11:26.214Z"
   },
   {
    "duration": 62,
    "start_time": "2023-03-23T07:12:22.710Z"
   },
   {
    "duration": 7,
    "start_time": "2023-03-23T07:12:27.966Z"
   },
   {
    "duration": 4,
    "start_time": "2023-03-23T07:12:34.635Z"
   },
   {
    "duration": 3,
    "start_time": "2023-03-23T07:12:49.938Z"
   },
   {
    "duration": 8,
    "start_time": "2023-03-23T07:12:56.818Z"
   },
   {
    "duration": 31,
    "start_time": "2023-03-23T07:13:39.949Z"
   },
   {
    "duration": 33,
    "start_time": "2023-03-23T07:15:29.926Z"
   },
   {
    "duration": 6,
    "start_time": "2023-03-23T07:15:52.132Z"
   },
   {
    "duration": 10,
    "start_time": "2023-03-23T07:16:39.010Z"
   },
   {
    "duration": 9,
    "start_time": "2023-03-23T07:17:19.314Z"
   },
   {
    "duration": 12,
    "start_time": "2023-03-23T07:18:23.254Z"
   },
   {
    "duration": 11,
    "start_time": "2023-03-23T07:18:52.189Z"
   },
   {
    "duration": 11,
    "start_time": "2023-03-23T07:18:57.026Z"
   },
   {
    "duration": 4,
    "start_time": "2023-03-23T07:19:26.545Z"
   },
   {
    "duration": 14,
    "start_time": "2023-03-23T07:19:36.473Z"
   },
   {
    "duration": 8,
    "start_time": "2023-03-23T07:19:44.489Z"
   },
   {
    "duration": 4,
    "start_time": "2023-03-23T07:20:02.854Z"
   },
   {
    "duration": 12,
    "start_time": "2023-03-23T07:20:03.994Z"
   },
   {
    "duration": 11,
    "start_time": "2023-03-23T07:20:17.811Z"
   },
   {
    "duration": 11,
    "start_time": "2023-03-23T07:23:16.011Z"
   },
   {
    "duration": 1225,
    "start_time": "2023-03-23T07:33:03.331Z"
   },
   {
    "duration": 5,
    "start_time": "2023-03-23T07:33:24.481Z"
   },
   {
    "duration": 5,
    "start_time": "2023-03-23T07:33:45.131Z"
   },
   {
    "duration": 5,
    "start_time": "2023-03-23T07:33:54.974Z"
   },
   {
    "duration": 11,
    "start_time": "2023-03-23T07:34:54.027Z"
   },
   {
    "duration": 5,
    "start_time": "2023-03-23T07:35:05.335Z"
   },
   {
    "duration": 14,
    "start_time": "2023-03-23T07:35:11.161Z"
   },
   {
    "duration": 13,
    "start_time": "2023-03-23T07:35:18.569Z"
   },
   {
    "duration": 6,
    "start_time": "2023-03-23T07:35:24.185Z"
   },
   {
    "duration": 5,
    "start_time": "2023-03-23T07:35:40.395Z"
   },
   {
    "duration": 4,
    "start_time": "2023-03-23T07:35:53.225Z"
   },
   {
    "duration": 150,
    "start_time": "2023-03-23T07:51:07.957Z"
   },
   {
    "duration": 14,
    "start_time": "2023-03-23T07:51:10.746Z"
   },
   {
    "duration": 8,
    "start_time": "2023-03-23T07:51:19.150Z"
   },
   {
    "duration": 12,
    "start_time": "2023-03-23T07:52:07.335Z"
   },
   {
    "duration": 20,
    "start_time": "2023-03-23T07:52:30.761Z"
   },
   {
    "duration": 4,
    "start_time": "2023-03-23T07:52:39.831Z"
   },
   {
    "duration": 7,
    "start_time": "2023-03-23T07:53:05.106Z"
   },
   {
    "duration": 11,
    "start_time": "2023-03-23T07:53:16.749Z"
   },
   {
    "duration": 4,
    "start_time": "2023-03-23T07:53:25.750Z"
   },
   {
    "duration": 4,
    "start_time": "2023-03-23T07:56:38.475Z"
   },
   {
    "duration": 11,
    "start_time": "2023-03-23T07:56:41.538Z"
   },
   {
    "duration": 475,
    "start_time": "2023-03-23T07:57:33.177Z"
   },
   {
    "duration": 448,
    "start_time": "2023-03-23T07:58:15.034Z"
   },
   {
    "duration": 300,
    "start_time": "2023-03-23T07:58:34.769Z"
   },
   {
    "duration": 14,
    "start_time": "2023-03-23T07:58:48.818Z"
   },
   {
    "duration": 12,
    "start_time": "2023-03-23T07:58:53.196Z"
   },
   {
    "duration": 11,
    "start_time": "2023-03-23T07:58:57.458Z"
   },
   {
    "duration": 364,
    "start_time": "2023-03-23T07:59:22.737Z"
   },
   {
    "duration": 817,
    "start_time": "2023-03-23T07:59:36.618Z"
   },
   {
    "duration": 37,
    "start_time": "2023-03-23T07:59:37.437Z"
   },
   {
    "duration": 12,
    "start_time": "2023-03-23T07:59:37.476Z"
   },
   {
    "duration": 26,
    "start_time": "2023-03-23T07:59:37.489Z"
   },
   {
    "duration": 11,
    "start_time": "2023-03-23T07:59:37.517Z"
   },
   {
    "duration": 51,
    "start_time": "2023-03-23T07:59:37.530Z"
   },
   {
    "duration": 8,
    "start_time": "2023-03-23T07:59:37.582Z"
   },
   {
    "duration": 16,
    "start_time": "2023-03-23T07:59:37.592Z"
   },
   {
    "duration": 24,
    "start_time": "2023-03-23T07:59:37.610Z"
   },
   {
    "duration": 14,
    "start_time": "2023-03-23T07:59:37.635Z"
   },
   {
    "duration": 11,
    "start_time": "2023-03-23T07:59:45.013Z"
   },
   {
    "duration": 8,
    "start_time": "2023-03-23T07:59:57.711Z"
   },
   {
    "duration": 10,
    "start_time": "2023-03-23T08:00:05.645Z"
   },
   {
    "duration": 4,
    "start_time": "2023-03-23T08:00:12.162Z"
   },
   {
    "duration": 4,
    "start_time": "2023-03-23T08:01:13.162Z"
   },
   {
    "duration": 10,
    "start_time": "2023-03-23T08:01:19.110Z"
   },
   {
    "duration": 89,
    "start_time": "2023-03-23T08:02:48.534Z"
   },
   {
    "duration": 6,
    "start_time": "2023-03-23T08:03:05.625Z"
   },
   {
    "duration": 7,
    "start_time": "2023-03-23T08:03:11.346Z"
   },
   {
    "duration": 7,
    "start_time": "2023-03-23T08:03:41.639Z"
   },
   {
    "duration": 447,
    "start_time": "2023-03-23T08:07:58.147Z"
   },
   {
    "duration": 6,
    "start_time": "2023-03-23T08:09:45.074Z"
   },
   {
    "duration": 12,
    "start_time": "2023-03-23T08:09:50.366Z"
   },
   {
    "duration": 10,
    "start_time": "2023-03-23T08:10:06.916Z"
   },
   {
    "duration": 11,
    "start_time": "2023-03-23T08:10:36.324Z"
   },
   {
    "duration": 119,
    "start_time": "2023-03-23T08:12:18.448Z"
   },
   {
    "duration": 159,
    "start_time": "2023-03-23T08:13:10.320Z"
   },
   {
    "duration": 16,
    "start_time": "2023-03-23T08:13:13.023Z"
   },
   {
    "duration": 216,
    "start_time": "2023-03-23T08:20:57.462Z"
   },
   {
    "duration": 1098,
    "start_time": "2023-03-23T08:21:08.024Z"
   },
   {
    "duration": 95,
    "start_time": "2023-03-23T08:21:09.124Z"
   },
   {
    "duration": 12,
    "start_time": "2023-03-23T08:21:09.221Z"
   },
   {
    "duration": 10,
    "start_time": "2023-03-23T08:21:09.235Z"
   },
   {
    "duration": 9,
    "start_time": "2023-03-23T08:21:09.249Z"
   },
   {
    "duration": 64,
    "start_time": "2023-03-23T08:21:09.261Z"
   },
   {
    "duration": 7,
    "start_time": "2023-03-23T08:21:09.327Z"
   },
   {
    "duration": 17,
    "start_time": "2023-03-23T08:21:09.336Z"
   },
   {
    "duration": 4,
    "start_time": "2023-03-23T08:21:09.355Z"
   },
   {
    "duration": 24,
    "start_time": "2023-03-23T08:21:09.361Z"
   },
   {
    "duration": 10,
    "start_time": "2023-03-23T08:21:09.386Z"
   },
   {
    "duration": 11,
    "start_time": "2023-03-23T08:21:09.398Z"
   },
   {
    "duration": 11,
    "start_time": "2023-03-23T08:21:09.410Z"
   },
   {
    "duration": 4,
    "start_time": "2023-03-23T08:21:09.424Z"
   },
   {
    "duration": 31,
    "start_time": "2023-03-23T08:21:09.429Z"
   },
   {
    "duration": 26,
    "start_time": "2023-03-23T08:21:09.461Z"
   },
   {
    "duration": 23,
    "start_time": "2023-03-23T08:21:09.488Z"
   },
   {
    "duration": 179,
    "start_time": "2023-03-23T08:21:09.513Z"
   },
   {
    "duration": 11,
    "start_time": "2023-03-23T08:21:09.694Z"
   },
   {
    "duration": 72,
    "start_time": "2023-03-23T08:21:16.483Z"
   },
   {
    "duration": 187,
    "start_time": "2023-03-23T08:21:21.525Z"
   },
   {
    "duration": 1169,
    "start_time": "2023-03-23T08:21:32.838Z"
   },
   {
    "duration": 106,
    "start_time": "2023-03-23T08:21:34.011Z"
   },
   {
    "duration": 19,
    "start_time": "2023-03-23T08:21:34.119Z"
   },
   {
    "duration": 25,
    "start_time": "2023-03-23T08:21:34.140Z"
   },
   {
    "duration": 7,
    "start_time": "2023-03-23T08:21:34.168Z"
   },
   {
    "duration": 51,
    "start_time": "2023-03-23T08:21:34.178Z"
   },
   {
    "duration": 11,
    "start_time": "2023-03-23T08:21:34.231Z"
   },
   {
    "duration": 15,
    "start_time": "2023-03-23T08:21:34.244Z"
   },
   {
    "duration": 10,
    "start_time": "2023-03-23T08:21:34.261Z"
   },
   {
    "duration": 18,
    "start_time": "2023-03-23T08:21:34.275Z"
   },
   {
    "duration": 12,
    "start_time": "2023-03-23T08:21:34.296Z"
   },
   {
    "duration": 12,
    "start_time": "2023-03-23T08:21:34.310Z"
   },
   {
    "duration": 5,
    "start_time": "2023-03-23T08:21:34.325Z"
   },
   {
    "duration": 11,
    "start_time": "2023-03-23T08:21:34.366Z"
   },
   {
    "duration": 8,
    "start_time": "2023-03-23T08:21:34.381Z"
   },
   {
    "duration": 8,
    "start_time": "2023-03-23T08:21:34.390Z"
   },
   {
    "duration": 12,
    "start_time": "2023-03-23T08:21:34.399Z"
   },
   {
    "duration": 230,
    "start_time": "2023-03-23T08:21:34.413Z"
   },
   {
    "duration": 24,
    "start_time": "2023-03-23T08:21:34.645Z"
   },
   {
    "duration": 9,
    "start_time": "2023-03-23T08:21:41.021Z"
   },
   {
    "duration": 261,
    "start_time": "2023-03-23T08:25:34.378Z"
   },
   {
    "duration": 5,
    "start_time": "2023-03-23T08:26:11.860Z"
   },
   {
    "duration": 161,
    "start_time": "2023-03-23T08:26:22.238Z"
   },
   {
    "duration": 179,
    "start_time": "2023-03-23T08:26:48.488Z"
   },
   {
    "duration": 242,
    "start_time": "2023-03-23T08:27:04.961Z"
   },
   {
    "duration": 182,
    "start_time": "2023-03-23T08:27:12.427Z"
   },
   {
    "duration": 267,
    "start_time": "2023-03-23T08:27:30.872Z"
   },
   {
    "duration": 6,
    "start_time": "2023-03-23T08:27:38.724Z"
   },
   {
    "duration": 189,
    "start_time": "2023-03-23T08:27:39.639Z"
   },
   {
    "duration": 177,
    "start_time": "2023-03-23T08:27:49.946Z"
   },
   {
    "duration": 10,
    "start_time": "2023-03-23T08:28:37.702Z"
   },
   {
    "duration": 7,
    "start_time": "2023-03-23T08:28:45.021Z"
   },
   {
    "duration": 185,
    "start_time": "2023-03-23T08:28:45.383Z"
   },
   {
    "duration": 243,
    "start_time": "2023-03-23T08:29:10.052Z"
   },
   {
    "duration": 176,
    "start_time": "2023-03-23T08:29:14.776Z"
   },
   {
    "duration": 181,
    "start_time": "2023-03-23T08:29:37.754Z"
   },
   {
    "duration": 312,
    "start_time": "2023-03-23T08:30:08.123Z"
   },
   {
    "duration": 194,
    "start_time": "2023-03-23T08:30:18.237Z"
   },
   {
    "duration": 185,
    "start_time": "2023-03-23T08:30:30.129Z"
   },
   {
    "duration": 202,
    "start_time": "2023-03-23T08:30:40.248Z"
   },
   {
    "duration": 222,
    "start_time": "2023-03-23T08:30:45.736Z"
   },
   {
    "duration": 233,
    "start_time": "2023-03-23T08:30:53.523Z"
   },
   {
    "duration": 1349,
    "start_time": "2023-03-23T08:43:46.119Z"
   },
   {
    "duration": 6,
    "start_time": "2023-03-23T08:44:38.779Z"
   },
   {
    "duration": 223,
    "start_time": "2023-03-23T08:44:40.202Z"
   },
   {
    "duration": 213,
    "start_time": "2023-03-23T08:44:43.881Z"
   },
   {
    "duration": 152,
    "start_time": "2023-03-23T08:44:58.174Z"
   },
   {
    "duration": 236,
    "start_time": "2023-03-23T08:45:57.035Z"
   },
   {
    "duration": 7,
    "start_time": "2023-03-23T08:56:21.133Z"
   },
   {
    "duration": 1130,
    "start_time": "2023-03-23T08:56:51.038Z"
   },
   {
    "duration": 20,
    "start_time": "2023-03-23T08:57:11.056Z"
   },
   {
    "duration": 14,
    "start_time": "2023-03-23T08:57:36.141Z"
   },
   {
    "duration": 12,
    "start_time": "2023-03-23T08:57:56.244Z"
   },
   {
    "duration": 317,
    "start_time": "2023-03-23T08:58:22.787Z"
   },
   {
    "duration": 181,
    "start_time": "2023-03-23T09:00:27.802Z"
   },
   {
    "duration": 160,
    "start_time": "2023-03-23T09:03:45.442Z"
   },
   {
    "duration": 217,
    "start_time": "2023-03-23T09:04:06.042Z"
   },
   {
    "duration": 216,
    "start_time": "2023-03-23T09:04:29.747Z"
   },
   {
    "duration": 195,
    "start_time": "2023-03-23T09:04:51.848Z"
   },
   {
    "duration": 235,
    "start_time": "2023-03-23T09:05:09.885Z"
   },
   {
    "duration": 356,
    "start_time": "2023-03-23T09:05:29.866Z"
   },
   {
    "duration": 190,
    "start_time": "2023-03-23T09:05:39.483Z"
   },
   {
    "duration": 417,
    "start_time": "2023-03-23T09:05:43.934Z"
   },
   {
    "duration": 13,
    "start_time": "2023-03-23T09:23:08.153Z"
   },
   {
    "duration": 12,
    "start_time": "2023-03-23T09:23:35.597Z"
   },
   {
    "duration": 1163,
    "start_time": "2023-03-23T09:24:13.883Z"
   },
   {
    "duration": 89,
    "start_time": "2023-03-23T09:24:15.048Z"
   },
   {
    "duration": 24,
    "start_time": "2023-03-23T09:24:15.139Z"
   },
   {
    "duration": 15,
    "start_time": "2023-03-23T09:24:15.165Z"
   },
   {
    "duration": 5,
    "start_time": "2023-03-23T09:24:15.182Z"
   },
   {
    "duration": 58,
    "start_time": "2023-03-23T09:24:15.189Z"
   },
   {
    "duration": 10,
    "start_time": "2023-03-23T09:24:15.249Z"
   },
   {
    "duration": 16,
    "start_time": "2023-03-23T09:24:15.260Z"
   },
   {
    "duration": 6,
    "start_time": "2023-03-23T09:24:15.278Z"
   },
   {
    "duration": 13,
    "start_time": "2023-03-23T09:24:15.287Z"
   },
   {
    "duration": 21,
    "start_time": "2023-03-23T09:24:15.302Z"
   },
   {
    "duration": 17,
    "start_time": "2023-03-23T09:24:15.325Z"
   },
   {
    "duration": 19,
    "start_time": "2023-03-23T09:24:15.344Z"
   },
   {
    "duration": 7,
    "start_time": "2023-03-23T09:24:15.365Z"
   },
   {
    "duration": 31,
    "start_time": "2023-03-23T09:24:15.374Z"
   },
   {
    "duration": 13,
    "start_time": "2023-03-23T09:24:15.407Z"
   },
   {
    "duration": 17,
    "start_time": "2023-03-23T09:24:15.421Z"
   },
   {
    "duration": 201,
    "start_time": "2023-03-23T09:24:15.440Z"
   },
   {
    "duration": 10,
    "start_time": "2023-03-23T09:24:15.644Z"
   },
   {
    "duration": 12,
    "start_time": "2023-03-23T09:24:15.668Z"
   },
   {
    "duration": 353,
    "start_time": "2023-03-23T09:24:15.682Z"
   },
   {
    "duration": 259,
    "start_time": "2023-03-23T09:24:16.037Z"
   },
   {
    "duration": 12,
    "start_time": "2023-03-23T09:24:16.298Z"
   },
   {
    "duration": 345,
    "start_time": "2023-03-23T09:24:16.312Z"
   },
   {
    "duration": 17,
    "start_time": "2023-03-23T09:24:16.667Z"
   },
   {
    "duration": 16,
    "start_time": "2023-03-23T09:24:26.103Z"
   },
   {
    "duration": 14,
    "start_time": "2023-03-23T09:24:34.937Z"
   },
   {
    "duration": 16,
    "start_time": "2023-03-23T09:25:59.855Z"
   },
   {
    "duration": 12,
    "start_time": "2023-03-23T09:26:14.798Z"
   },
   {
    "duration": 13,
    "start_time": "2023-03-23T09:26:24.527Z"
   },
   {
    "duration": 145,
    "start_time": "2023-03-23T09:28:45.457Z"
   },
   {
    "duration": 13,
    "start_time": "2023-03-23T09:28:48.339Z"
   },
   {
    "duration": 17,
    "start_time": "2023-03-23T09:29:04.316Z"
   },
   {
    "duration": 7,
    "start_time": "2023-03-23T09:29:49.154Z"
   },
   {
    "duration": 15,
    "start_time": "2023-03-23T09:29:51.916Z"
   },
   {
    "duration": 10,
    "start_time": "2023-03-23T09:29:58.869Z"
   },
   {
    "duration": 154,
    "start_time": "2023-03-23T09:31:58.844Z"
   },
   {
    "duration": 76,
    "start_time": "2023-03-23T09:32:21.440Z"
   },
   {
    "duration": 151,
    "start_time": "2023-03-23T09:32:26.073Z"
   },
   {
    "duration": 9,
    "start_time": "2023-03-23T09:37:22.841Z"
   },
   {
    "duration": 11,
    "start_time": "2023-03-23T09:37:25.663Z"
   },
   {
    "duration": 377,
    "start_time": "2023-03-23T09:38:40.404Z"
   },
   {
    "duration": 293,
    "start_time": "2023-03-23T09:39:16.860Z"
   },
   {
    "duration": 11,
    "start_time": "2023-03-23T09:49:06.543Z"
   },
   {
    "duration": 341,
    "start_time": "2023-03-23T09:50:14.950Z"
   },
   {
    "duration": 353,
    "start_time": "2023-03-23T09:50:37.173Z"
   },
   {
    "duration": 337,
    "start_time": "2023-03-23T09:51:18.328Z"
   },
   {
    "duration": 13,
    "start_time": "2023-03-23T10:01:20.824Z"
   },
   {
    "duration": 9,
    "start_time": "2023-03-23T10:01:43.964Z"
   },
   {
    "duration": 15,
    "start_time": "2023-03-23T10:02:41.464Z"
   },
   {
    "duration": 103,
    "start_time": "2023-03-23T10:02:48.142Z"
   },
   {
    "duration": 6,
    "start_time": "2023-03-23T10:02:56.319Z"
   },
   {
    "duration": 12,
    "start_time": "2023-03-23T10:02:59.569Z"
   },
   {
    "duration": 8,
    "start_time": "2023-03-23T10:03:36.997Z"
   },
   {
    "duration": 10,
    "start_time": "2023-03-23T10:03:41.582Z"
   },
   {
    "duration": 201,
    "start_time": "2023-03-23T10:04:09.431Z"
   },
   {
    "duration": 7,
    "start_time": "2023-03-23T10:04:42.332Z"
   },
   {
    "duration": 1210,
    "start_time": "2023-03-23T10:04:52.456Z"
   },
   {
    "duration": 132,
    "start_time": "2023-03-23T10:05:07.788Z"
   },
   {
    "duration": 131,
    "start_time": "2023-03-23T10:05:11.701Z"
   },
   {
    "duration": 163,
    "start_time": "2023-03-23T10:05:31.468Z"
   },
   {
    "duration": 179,
    "start_time": "2023-03-23T10:05:51.272Z"
   },
   {
    "duration": 152,
    "start_time": "2023-03-23T10:06:05.588Z"
   },
   {
    "duration": 131,
    "start_time": "2023-03-23T10:06:12.854Z"
   },
   {
    "duration": 5,
    "start_time": "2023-03-23T10:12:04.534Z"
   },
   {
    "duration": 5,
    "start_time": "2023-03-23T10:12:31.561Z"
   },
   {
    "duration": 5,
    "start_time": "2023-03-23T10:12:33.823Z"
   },
   {
    "duration": 5,
    "start_time": "2023-03-23T10:12:45.139Z"
   },
   {
    "duration": 12,
    "start_time": "2023-03-23T10:16:00.448Z"
   },
   {
    "duration": 147,
    "start_time": "2023-03-23T10:16:33.521Z"
   },
   {
    "duration": 153,
    "start_time": "2023-03-23T10:17:13.446Z"
   },
   {
    "duration": 136,
    "start_time": "2023-03-23T10:19:27.436Z"
   },
   {
    "duration": 152,
    "start_time": "2023-03-23T10:19:31.402Z"
   },
   {
    "duration": 137,
    "start_time": "2023-03-23T10:19:34.728Z"
   },
   {
    "duration": 210,
    "start_time": "2023-03-23T10:19:38.978Z"
   },
   {
    "duration": 199,
    "start_time": "2023-03-23T10:19:43.956Z"
   },
   {
    "duration": 149,
    "start_time": "2023-03-23T10:19:49.309Z"
   },
   {
    "duration": 161,
    "start_time": "2023-03-23T10:19:54.680Z"
   },
   {
    "duration": 145,
    "start_time": "2023-03-23T10:20:06.294Z"
   },
   {
    "duration": 149,
    "start_time": "2023-03-23T10:20:16.210Z"
   },
   {
    "duration": 178,
    "start_time": "2023-03-23T10:20:23.351Z"
   },
   {
    "duration": 162,
    "start_time": "2023-03-23T10:20:51.390Z"
   },
   {
    "duration": 5,
    "start_time": "2023-03-23T10:23:39.675Z"
   },
   {
    "duration": 50,
    "start_time": "2023-03-23T14:12:50.884Z"
   },
   {
    "duration": 1361,
    "start_time": "2023-03-23T14:12:54.687Z"
   },
   {
    "duration": 155,
    "start_time": "2023-03-23T14:12:56.050Z"
   },
   {
    "duration": 12,
    "start_time": "2023-03-23T14:12:56.206Z"
   },
   {
    "duration": 18,
    "start_time": "2023-03-23T14:12:56.220Z"
   },
   {
    "duration": 6,
    "start_time": "2023-03-23T14:12:56.240Z"
   },
   {
    "duration": 152,
    "start_time": "2023-03-23T14:12:56.248Z"
   },
   {
    "duration": 9,
    "start_time": "2023-03-23T14:12:56.402Z"
   },
   {
    "duration": 32,
    "start_time": "2023-03-23T14:12:56.412Z"
   },
   {
    "duration": 5,
    "start_time": "2023-03-23T14:12:56.446Z"
   },
   {
    "duration": 16,
    "start_time": "2023-03-23T14:12:56.453Z"
   },
   {
    "duration": 12,
    "start_time": "2023-03-23T14:12:56.471Z"
   },
   {
    "duration": 12,
    "start_time": "2023-03-23T14:12:56.485Z"
   },
   {
    "duration": 13,
    "start_time": "2023-03-23T14:12:56.498Z"
   },
   {
    "duration": 4,
    "start_time": "2023-03-23T14:12:56.514Z"
   },
   {
    "duration": 9,
    "start_time": "2023-03-23T14:12:56.520Z"
   },
   {
    "duration": 9,
    "start_time": "2023-03-23T14:12:56.530Z"
   },
   {
    "duration": 11,
    "start_time": "2023-03-23T14:12:56.540Z"
   },
   {
    "duration": 186,
    "start_time": "2023-03-23T14:12:56.589Z"
   },
   {
    "duration": 16,
    "start_time": "2023-03-23T14:12:56.777Z"
   },
   {
    "duration": 6,
    "start_time": "2023-03-23T14:12:56.795Z"
   },
   {
    "duration": 348,
    "start_time": "2023-03-23T14:12:56.802Z"
   },
   {
    "duration": 237,
    "start_time": "2023-03-23T14:12:57.152Z"
   },
   {
    "duration": 13,
    "start_time": "2023-03-23T14:12:57.391Z"
   },
   {
    "duration": 441,
    "start_time": "2023-03-23T14:12:57.406Z"
   },
   {
    "duration": 140,
    "start_time": "2023-03-23T14:12:57.849Z"
   },
   {
    "duration": 7,
    "start_time": "2023-03-23T14:12:57.991Z"
   },
   {
    "duration": 10,
    "start_time": "2023-03-23T14:12:58.000Z"
   },
   {
    "duration": 8,
    "start_time": "2023-03-23T14:12:58.012Z"
   },
   {
    "duration": 273,
    "start_time": "2023-03-23T14:12:58.022Z"
   },
   {
    "duration": 14,
    "start_time": "2023-03-23T14:12:58.297Z"
   },
   {
    "duration": 423,
    "start_time": "2023-03-23T14:12:58.313Z"
   },
   {
    "duration": 13,
    "start_time": "2023-03-23T14:12:58.738Z"
   },
   {
    "duration": 171,
    "start_time": "2023-03-23T14:12:58.753Z"
   },
   {
    "duration": 5,
    "start_time": "2023-03-23T14:12:58.926Z"
   },
   {
    "duration": 164,
    "start_time": "2023-03-23T14:12:58.933Z"
   },
   {
    "duration": 162,
    "start_time": "2023-03-23T14:12:59.098Z"
   },
   {
    "duration": 5,
    "start_time": "2023-03-23T14:12:59.262Z"
   },
   {
    "duration": 38,
    "start_time": "2023-03-23T14:12:59.268Z"
   },
   {
    "duration": 9,
    "start_time": "2023-03-23T14:13:25.653Z"
   },
   {
    "duration": 154,
    "start_time": "2023-03-23T14:13:41.071Z"
   },
   {
    "duration": 9,
    "start_time": "2023-03-23T14:13:55.865Z"
   },
   {
    "duration": 10,
    "start_time": "2023-03-23T14:14:32.474Z"
   },
   {
    "duration": 79,
    "start_time": "2023-03-23T14:15:07.599Z"
   },
   {
    "duration": 7,
    "start_time": "2023-03-23T14:15:25.297Z"
   },
   {
    "duration": 3,
    "start_time": "2023-03-23T14:15:39.325Z"
   },
   {
    "duration": 219,
    "start_time": "2023-03-23T14:15:42.661Z"
   },
   {
    "duration": 162,
    "start_time": "2023-03-23T14:15:55.691Z"
   },
   {
    "duration": 170,
    "start_time": "2023-03-23T14:16:07.105Z"
   },
   {
    "duration": 139,
    "start_time": "2023-03-23T14:16:11.672Z"
   },
   {
    "duration": 151,
    "start_time": "2023-03-23T14:16:15.890Z"
   },
   {
    "duration": 12,
    "start_time": "2023-03-23T14:16:25.986Z"
   },
   {
    "duration": 18,
    "start_time": "2023-03-23T14:17:05.696Z"
   },
   {
    "duration": 5,
    "start_time": "2023-03-23T14:17:11.609Z"
   },
   {
    "duration": 15,
    "start_time": "2023-03-23T14:18:04.989Z"
   },
   {
    "duration": 5,
    "start_time": "2023-03-23T14:18:23.502Z"
   },
   {
    "duration": 138,
    "start_time": "2023-03-23T14:18:36.446Z"
   },
   {
    "duration": 157,
    "start_time": "2023-03-23T14:18:49.145Z"
   },
   {
    "duration": 12,
    "start_time": "2023-03-23T14:20:51.516Z"
   },
   {
    "duration": 13,
    "start_time": "2023-03-23T14:21:22.760Z"
   },
   {
    "duration": 10,
    "start_time": "2023-03-23T14:23:15.355Z"
   },
   {
    "duration": 5,
    "start_time": "2023-03-23T14:23:36.882Z"
   },
   {
    "duration": 6,
    "start_time": "2023-03-23T14:23:46.817Z"
   },
   {
    "duration": 5,
    "start_time": "2023-03-23T14:24:09.639Z"
   },
   {
    "duration": 10,
    "start_time": "2023-03-23T14:28:02.579Z"
   },
   {
    "duration": 9,
    "start_time": "2023-03-23T14:28:22.175Z"
   },
   {
    "duration": 5,
    "start_time": "2023-03-23T14:28:56.834Z"
   },
   {
    "duration": 7,
    "start_time": "2023-03-23T14:30:05.224Z"
   },
   {
    "duration": 4,
    "start_time": "2023-03-23T14:34:40.730Z"
   },
   {
    "duration": 5,
    "start_time": "2023-03-23T14:34:41.208Z"
   },
   {
    "duration": 5,
    "start_time": "2023-03-23T14:34:48.826Z"
   },
   {
    "duration": 5,
    "start_time": "2023-03-23T14:34:52.226Z"
   },
   {
    "duration": 6,
    "start_time": "2023-03-23T14:35:05.862Z"
   },
   {
    "duration": 4,
    "start_time": "2023-03-23T14:35:48.512Z"
   },
   {
    "duration": 7,
    "start_time": "2023-03-23T14:36:52.737Z"
   },
   {
    "duration": 5,
    "start_time": "2023-03-23T14:36:56.083Z"
   },
   {
    "duration": 5,
    "start_time": "2023-03-23T14:37:16.108Z"
   },
   {
    "duration": 4,
    "start_time": "2023-03-23T14:37:25.609Z"
   },
   {
    "duration": 6,
    "start_time": "2023-03-23T14:37:35.013Z"
   },
   {
    "duration": 11,
    "start_time": "2023-03-23T14:37:50.225Z"
   },
   {
    "duration": 5,
    "start_time": "2023-03-23T14:38:12.079Z"
   },
   {
    "duration": 4,
    "start_time": "2023-03-23T14:38:41.049Z"
   },
   {
    "duration": 4,
    "start_time": "2023-03-23T14:38:46.157Z"
   },
   {
    "duration": 4,
    "start_time": "2023-03-23T14:38:49.781Z"
   },
   {
    "duration": 7,
    "start_time": "2023-03-23T14:39:15.012Z"
   },
   {
    "duration": 6,
    "start_time": "2023-03-23T14:42:11.255Z"
   },
   {
    "duration": 10,
    "start_time": "2023-03-23T14:59:28.965Z"
   },
   {
    "duration": 4,
    "start_time": "2023-03-23T15:00:13.647Z"
   },
   {
    "duration": 4,
    "start_time": "2023-03-23T15:00:22.443Z"
   },
   {
    "duration": 6,
    "start_time": "2023-03-23T15:00:46.573Z"
   },
   {
    "duration": 5,
    "start_time": "2023-03-23T15:00:50.388Z"
   },
   {
    "duration": 226,
    "start_time": "2023-03-23T15:01:01.759Z"
   },
   {
    "duration": 4,
    "start_time": "2023-03-23T15:01:52.604Z"
   },
   {
    "duration": 5,
    "start_time": "2023-03-23T15:02:07.064Z"
   },
   {
    "duration": 6,
    "start_time": "2023-03-23T15:02:29.298Z"
   },
   {
    "duration": 9,
    "start_time": "2023-03-23T15:03:34.108Z"
   },
   {
    "duration": 6,
    "start_time": "2023-03-23T15:03:58.153Z"
   },
   {
    "duration": 5,
    "start_time": "2023-03-23T15:04:04.128Z"
   },
   {
    "duration": 9,
    "start_time": "2023-03-23T15:07:02.411Z"
   },
   {
    "duration": 14,
    "start_time": "2023-03-23T15:07:47.471Z"
   },
   {
    "duration": 10,
    "start_time": "2023-03-23T15:10:21.219Z"
   },
   {
    "duration": 21,
    "start_time": "2023-03-23T15:10:56.282Z"
   },
   {
    "duration": 10,
    "start_time": "2023-03-23T15:11:37.916Z"
   },
   {
    "duration": 9,
    "start_time": "2023-03-23T15:11:44.552Z"
   },
   {
    "duration": 7,
    "start_time": "2023-03-23T15:11:52.119Z"
   },
   {
    "duration": 7,
    "start_time": "2023-03-23T15:11:59.666Z"
   },
   {
    "duration": 7,
    "start_time": "2023-03-23T15:12:06.869Z"
   },
   {
    "duration": 8,
    "start_time": "2023-03-23T15:12:24.664Z"
   },
   {
    "duration": 7,
    "start_time": "2023-03-23T15:12:34.206Z"
   },
   {
    "duration": 13,
    "start_time": "2023-03-23T15:13:16.219Z"
   },
   {
    "duration": 17,
    "start_time": "2023-03-23T15:13:54.255Z"
   },
   {
    "duration": 8,
    "start_time": "2023-03-23T15:14:13.039Z"
   },
   {
    "duration": 10,
    "start_time": "2023-03-23T15:14:38.376Z"
   },
   {
    "duration": 76,
    "start_time": "2023-03-23T15:16:17.388Z"
   },
   {
    "duration": 15,
    "start_time": "2023-03-23T15:16:21.654Z"
   },
   {
    "duration": 4,
    "start_time": "2023-03-23T15:16:46.071Z"
   },
   {
    "duration": 10,
    "start_time": "2023-03-23T15:17:08.921Z"
   },
   {
    "duration": 7,
    "start_time": "2023-03-23T15:17:19.031Z"
   },
   {
    "duration": 3,
    "start_time": "2023-03-23T15:17:36.213Z"
   },
   {
    "duration": 7,
    "start_time": "2023-03-23T15:17:38.320Z"
   },
   {
    "duration": 5,
    "start_time": "2023-03-23T15:17:44.721Z"
   },
   {
    "duration": 7,
    "start_time": "2023-03-23T15:17:57.751Z"
   },
   {
    "duration": 6,
    "start_time": "2023-03-23T15:18:42.482Z"
   },
   {
    "duration": 5,
    "start_time": "2023-03-23T15:18:44.115Z"
   },
   {
    "duration": 8,
    "start_time": "2023-03-23T15:20:54.736Z"
   },
   {
    "duration": 6,
    "start_time": "2023-03-23T15:20:57.931Z"
   },
   {
    "duration": 5,
    "start_time": "2023-03-23T15:20:58.367Z"
   },
   {
    "duration": 5,
    "start_time": "2023-03-23T15:21:03.519Z"
   },
   {
    "duration": 5,
    "start_time": "2023-03-23T15:21:06.585Z"
   },
   {
    "duration": 15,
    "start_time": "2023-03-23T15:21:17.754Z"
   },
   {
    "duration": 15,
    "start_time": "2023-03-23T15:22:01.357Z"
   },
   {
    "duration": 8,
    "start_time": "2023-03-23T15:23:21.859Z"
   },
   {
    "duration": 13,
    "start_time": "2023-03-23T15:23:26.239Z"
   },
   {
    "duration": 9,
    "start_time": "2023-03-23T15:23:44.284Z"
   },
   {
    "duration": 13,
    "start_time": "2023-03-23T15:27:23.515Z"
   },
   {
    "duration": 8,
    "start_time": "2023-03-23T15:34:05.480Z"
   },
   {
    "duration": 9,
    "start_time": "2023-03-23T15:34:19.173Z"
   },
   {
    "duration": 9,
    "start_time": "2023-03-23T15:34:43.023Z"
   },
   {
    "duration": 7,
    "start_time": "2023-03-23T15:34:56.890Z"
   },
   {
    "duration": 11,
    "start_time": "2023-03-23T15:35:24.793Z"
   },
   {
    "duration": 12,
    "start_time": "2023-03-23T15:35:43.819Z"
   },
   {
    "duration": 13,
    "start_time": "2023-03-23T15:36:24.323Z"
   },
   {
    "duration": 179,
    "start_time": "2023-03-23T15:38:17.531Z"
   },
   {
    "duration": 16,
    "start_time": "2023-03-23T15:38:21.531Z"
   },
   {
    "duration": 5,
    "start_time": "2023-03-23T15:38:51.391Z"
   },
   {
    "duration": 230,
    "start_time": "2023-03-23T15:39:29.127Z"
   },
   {
    "duration": 14,
    "start_time": "2023-03-23T15:40:13.521Z"
   },
   {
    "duration": 5,
    "start_time": "2023-03-23T15:40:32.179Z"
   },
   {
    "duration": 165,
    "start_time": "2023-03-23T15:41:12.219Z"
   },
   {
    "duration": 15,
    "start_time": "2023-03-23T15:41:15.582Z"
   },
   {
    "duration": 9,
    "start_time": "2023-03-23T15:42:32.617Z"
   },
   {
    "duration": 16,
    "start_time": "2023-03-23T15:42:35.240Z"
   },
   {
    "duration": 6,
    "start_time": "2023-03-23T15:43:53.116Z"
   },
   {
    "duration": 10,
    "start_time": "2023-03-23T15:44:03.879Z"
   },
   {
    "duration": 350,
    "start_time": "2023-03-23T15:44:37.619Z"
   },
   {
    "duration": 4,
    "start_time": "2023-03-23T15:45:23.355Z"
   },
   {
    "duration": 8,
    "start_time": "2023-03-23T15:45:44.627Z"
   },
   {
    "duration": 15,
    "start_time": "2023-03-23T15:50:46.230Z"
   },
   {
    "duration": 14,
    "start_time": "2023-03-23T15:51:02.346Z"
   },
   {
    "duration": 9,
    "start_time": "2023-03-23T15:51:30.678Z"
   },
   {
    "duration": 10,
    "start_time": "2023-03-23T15:52:27.282Z"
   },
   {
    "duration": 9,
    "start_time": "2023-03-23T15:55:35.540Z"
   },
   {
    "duration": 9,
    "start_time": "2023-03-23T15:55:40.675Z"
   },
   {
    "duration": 11,
    "start_time": "2023-03-23T15:56:07.717Z"
   },
   {
    "duration": 10,
    "start_time": "2023-03-23T15:56:14.853Z"
   },
   {
    "duration": 10,
    "start_time": "2023-03-23T15:57:39.627Z"
   },
   {
    "duration": 7,
    "start_time": "2023-03-23T15:57:57.064Z"
   },
   {
    "duration": 5,
    "start_time": "2023-03-23T15:58:05.125Z"
   },
   {
    "duration": 14,
    "start_time": "2023-03-23T15:59:39.011Z"
   },
   {
    "duration": 16,
    "start_time": "2023-03-23T16:00:03.108Z"
   },
   {
    "duration": 13,
    "start_time": "2023-03-23T16:00:24.049Z"
   },
   {
    "duration": 13,
    "start_time": "2023-03-23T16:00:43.563Z"
   },
   {
    "duration": 7,
    "start_time": "2023-03-23T16:01:03.248Z"
   },
   {
    "duration": 16,
    "start_time": "2023-03-23T16:01:10.181Z"
   },
   {
    "duration": 15,
    "start_time": "2023-03-23T16:01:30.299Z"
   },
   {
    "duration": 15,
    "start_time": "2023-03-23T16:02:07.986Z"
   },
   {
    "duration": 17,
    "start_time": "2023-03-23T16:02:18.311Z"
   },
   {
    "duration": 5,
    "start_time": "2023-03-23T16:02:41.415Z"
   },
   {
    "duration": 5,
    "start_time": "2023-03-23T16:02:53.887Z"
   },
   {
    "duration": 14,
    "start_time": "2023-03-23T16:02:56.662Z"
   },
   {
    "duration": 192,
    "start_time": "2023-03-23T16:03:54.411Z"
   },
   {
    "duration": 12,
    "start_time": "2023-03-23T16:03:58.008Z"
   },
   {
    "duration": 13,
    "start_time": "2023-03-23T16:04:02.690Z"
   },
   {
    "duration": 6,
    "start_time": "2023-03-23T16:05:07.243Z"
   },
   {
    "duration": 11,
    "start_time": "2023-03-23T16:05:40.776Z"
   },
   {
    "duration": 4,
    "start_time": "2023-03-23T16:06:12.375Z"
   },
   {
    "duration": 6,
    "start_time": "2023-03-23T16:06:31.835Z"
   },
   {
    "duration": 5,
    "start_time": "2023-03-23T16:07:56.145Z"
   },
   {
    "duration": 76,
    "start_time": "2023-03-23T16:08:29.940Z"
   },
   {
    "duration": 8,
    "start_time": "2023-03-23T16:12:56.371Z"
   },
   {
    "duration": 12,
    "start_time": "2023-03-23T16:12:59.631Z"
   },
   {
    "duration": 4,
    "start_time": "2023-03-23T16:13:27.346Z"
   },
   {
    "duration": 6,
    "start_time": "2023-03-23T16:13:29.709Z"
   },
   {
    "duration": 6,
    "start_time": "2023-03-23T16:13:33.648Z"
   },
   {
    "duration": 6,
    "start_time": "2023-03-23T16:13:54.577Z"
   },
   {
    "duration": 232,
    "start_time": "2023-03-23T16:21:03.813Z"
   },
   {
    "duration": 268,
    "start_time": "2023-03-23T16:21:30.565Z"
   },
   {
    "duration": 7,
    "start_time": "2023-03-23T16:22:46.573Z"
   },
   {
    "duration": 461,
    "start_time": "2023-03-23T16:23:10.883Z"
   },
   {
    "duration": 333,
    "start_time": "2023-03-23T16:23:39.318Z"
   },
   {
    "duration": 344,
    "start_time": "2023-03-23T16:24:05.513Z"
   },
   {
    "duration": 7,
    "start_time": "2023-03-23T16:24:48.863Z"
   },
   {
    "duration": 356,
    "start_time": "2023-03-23T16:25:25.273Z"
   },
   {
    "duration": 1161,
    "start_time": "2023-03-23T16:37:42.456Z"
   },
   {
    "duration": 139,
    "start_time": "2023-03-23T16:37:43.620Z"
   },
   {
    "duration": 13,
    "start_time": "2023-03-23T16:37:43.760Z"
   },
   {
    "duration": 13,
    "start_time": "2023-03-23T16:37:43.775Z"
   },
   {
    "duration": 14,
    "start_time": "2023-03-23T16:37:43.790Z"
   },
   {
    "duration": 133,
    "start_time": "2023-03-23T16:37:43.806Z"
   },
   {
    "duration": 12,
    "start_time": "2023-03-23T16:37:43.942Z"
   },
   {
    "duration": 22,
    "start_time": "2023-03-23T16:37:43.956Z"
   },
   {
    "duration": 13,
    "start_time": "2023-03-23T16:37:43.980Z"
   },
   {
    "duration": 18,
    "start_time": "2023-03-23T16:37:43.997Z"
   },
   {
    "duration": 12,
    "start_time": "2023-03-23T16:37:44.018Z"
   },
   {
    "duration": 14,
    "start_time": "2023-03-23T16:37:44.032Z"
   },
   {
    "duration": 1238,
    "start_time": "2023-03-23T17:02:19.270Z"
   },
   {
    "duration": 105,
    "start_time": "2023-03-23T17:02:20.510Z"
   },
   {
    "duration": 24,
    "start_time": "2023-03-23T17:02:20.616Z"
   },
   {
    "duration": 20,
    "start_time": "2023-03-23T17:02:20.643Z"
   },
   {
    "duration": 30,
    "start_time": "2023-03-23T17:02:20.666Z"
   },
   {
    "duration": 69,
    "start_time": "2023-03-23T17:02:20.698Z"
   },
   {
    "duration": 12,
    "start_time": "2023-03-23T17:02:20.769Z"
   },
   {
    "duration": 25,
    "start_time": "2023-03-23T17:02:20.782Z"
   },
   {
    "duration": 13,
    "start_time": "2023-03-23T17:02:20.809Z"
   },
   {
    "duration": 31,
    "start_time": "2023-03-23T17:02:20.826Z"
   },
   {
    "duration": 21,
    "start_time": "2023-03-23T17:02:20.859Z"
   },
   {
    "duration": 15,
    "start_time": "2023-03-23T17:02:20.883Z"
   },
   {
    "duration": 14,
    "start_time": "2023-03-23T17:02:20.900Z"
   },
   {
    "duration": 13,
    "start_time": "2023-03-23T17:02:20.916Z"
   },
   {
    "duration": 14,
    "start_time": "2023-03-23T17:02:20.931Z"
   },
   {
    "duration": 26,
    "start_time": "2023-03-23T17:02:20.947Z"
   },
   {
    "duration": 13,
    "start_time": "2023-03-23T17:02:20.975Z"
   },
   {
    "duration": 214,
    "start_time": "2023-03-23T17:02:20.990Z"
   },
   {
    "duration": 10,
    "start_time": "2023-03-23T17:02:21.206Z"
   },
   {
    "duration": 9,
    "start_time": "2023-03-23T17:02:21.218Z"
   },
   {
    "duration": 407,
    "start_time": "2023-03-23T17:02:21.229Z"
   },
   {
    "duration": 279,
    "start_time": "2023-03-23T17:02:21.640Z"
   },
   {
    "duration": 27,
    "start_time": "2023-03-23T17:02:21.921Z"
   },
   {
    "duration": 378,
    "start_time": "2023-03-23T17:02:21.950Z"
   },
   {
    "duration": 156,
    "start_time": "2023-03-23T17:02:22.329Z"
   },
   {
    "duration": 7,
    "start_time": "2023-03-23T17:02:22.487Z"
   },
   {
    "duration": 31,
    "start_time": "2023-03-23T17:02:22.496Z"
   },
   {
    "duration": 12,
    "start_time": "2023-03-23T17:02:22.530Z"
   },
   {
    "duration": 305,
    "start_time": "2023-03-23T17:02:22.544Z"
   },
   {
    "duration": 25,
    "start_time": "2023-03-23T17:02:22.851Z"
   },
   {
    "duration": 344,
    "start_time": "2023-03-23T17:02:22.878Z"
   },
   {
    "duration": 22,
    "start_time": "2023-03-23T17:02:23.224Z"
   },
   {
    "duration": 163,
    "start_time": "2023-03-23T17:02:23.250Z"
   },
   {
    "duration": 5,
    "start_time": "2023-03-23T17:02:23.415Z"
   },
   {
    "duration": 185,
    "start_time": "2023-03-23T17:02:23.425Z"
   },
   {
    "duration": 183,
    "start_time": "2023-03-23T17:02:23.612Z"
   },
   {
    "duration": 4,
    "start_time": "2023-03-23T17:02:23.797Z"
   },
   {
    "duration": 10,
    "start_time": "2023-03-23T17:02:23.802Z"
   },
   {
    "duration": 11,
    "start_time": "2023-03-23T17:02:23.814Z"
   },
   {
    "duration": 10,
    "start_time": "2023-03-23T17:02:23.840Z"
   },
   {
    "duration": 6,
    "start_time": "2023-03-23T17:02:23.852Z"
   },
   {
    "duration": 9,
    "start_time": "2023-03-23T17:02:23.861Z"
   },
   {
    "duration": 9,
    "start_time": "2023-03-23T17:02:23.872Z"
   },
   {
    "duration": 7,
    "start_time": "2023-03-23T17:02:23.885Z"
   },
   {
    "duration": 18,
    "start_time": "2023-03-23T17:02:23.894Z"
   },
   {
    "duration": 227,
    "start_time": "2023-03-23T17:02:23.914Z"
   },
   {
    "duration": 13,
    "start_time": "2023-03-23T17:02:24.142Z"
   },
   {
    "duration": 16,
    "start_time": "2023-03-23T17:02:24.156Z"
   },
   {
    "duration": 14,
    "start_time": "2023-03-23T17:02:24.176Z"
   },
   {
    "duration": 376,
    "start_time": "2023-03-23T17:02:24.192Z"
   },
   {
    "duration": 10,
    "start_time": "2023-03-23T17:02:24.573Z"
   },
   {
    "duration": 8,
    "start_time": "2023-03-23T17:02:24.584Z"
   },
   {
    "duration": 13,
    "start_time": "2023-03-23T17:02:24.594Z"
   },
   {
    "duration": 415,
    "start_time": "2023-03-23T17:02:24.609Z"
   },
   {
    "duration": 3,
    "start_time": "2023-03-23T17:20:28.266Z"
   },
   {
    "duration": 33,
    "start_time": "2023-03-23T17:20:32.070Z"
   },
   {
    "duration": 25,
    "start_time": "2023-03-23T17:20:43.130Z"
   },
   {
    "duration": 15,
    "start_time": "2023-03-23T17:23:57.987Z"
   },
   {
    "duration": 11,
    "start_time": "2023-03-23T17:24:46.795Z"
   },
   {
    "duration": 10,
    "start_time": "2023-03-23T17:24:58.675Z"
   },
   {
    "duration": 9,
    "start_time": "2023-03-23T17:25:03.604Z"
   },
   {
    "duration": 9,
    "start_time": "2023-03-23T17:25:10.980Z"
   },
   {
    "duration": 79,
    "start_time": "2023-03-24T05:56:35.310Z"
   },
   {
    "duration": 58,
    "start_time": "2023-03-24T05:57:01.162Z"
   },
   {
    "duration": 1293,
    "start_time": "2023-03-24T05:57:15.416Z"
   },
   {
    "duration": 176,
    "start_time": "2023-03-24T05:57:16.712Z"
   },
   {
    "duration": 14,
    "start_time": "2023-03-24T05:57:16.890Z"
   },
   {
    "duration": 20,
    "start_time": "2023-03-24T05:57:16.907Z"
   },
   {
    "duration": 15,
    "start_time": "2023-03-24T05:57:16.929Z"
   },
   {
    "duration": 166,
    "start_time": "2023-03-24T05:57:16.946Z"
   },
   {
    "duration": 10,
    "start_time": "2023-03-24T05:57:17.114Z"
   },
   {
    "duration": 30,
    "start_time": "2023-03-24T05:57:17.126Z"
   },
   {
    "duration": 13,
    "start_time": "2023-03-24T05:57:17.158Z"
   },
   {
    "duration": 191,
    "start_time": "2023-03-24T05:57:17.173Z"
   },
   {
    "duration": 48,
    "start_time": "2023-03-24T05:57:17.366Z"
   },
   {
    "duration": 63,
    "start_time": "2023-03-24T05:57:17.415Z"
   },
   {
    "duration": 23,
    "start_time": "2023-03-24T05:57:17.479Z"
   },
   {
    "duration": 18,
    "start_time": "2023-03-24T05:57:17.504Z"
   },
   {
    "duration": 15,
    "start_time": "2023-03-24T05:57:17.523Z"
   },
   {
    "duration": 23,
    "start_time": "2023-03-24T05:57:17.540Z"
   },
   {
    "duration": 4,
    "start_time": "2023-03-24T05:57:20.440Z"
   },
   {
    "duration": 4,
    "start_time": "2023-03-24T05:57:53.251Z"
   },
   {
    "duration": 8,
    "start_time": "2023-03-24T05:58:23.381Z"
   },
   {
    "duration": 4,
    "start_time": "2023-03-24T05:58:27.467Z"
   },
   {
    "duration": 4,
    "start_time": "2023-03-24T05:58:46.754Z"
   },
   {
    "duration": 1077,
    "start_time": "2023-03-24T05:59:07.973Z"
   },
   {
    "duration": 1233,
    "start_time": "2023-03-24T05:59:15.650Z"
   },
   {
    "duration": 6,
    "start_time": "2023-03-24T05:59:37.911Z"
   },
   {
    "duration": 7,
    "start_time": "2023-03-24T06:00:23.501Z"
   },
   {
    "duration": 13,
    "start_time": "2023-03-24T06:01:34.027Z"
   },
   {
    "duration": 12,
    "start_time": "2023-03-24T06:01:52.268Z"
   },
   {
    "duration": 10,
    "start_time": "2023-03-24T06:02:13.362Z"
   },
   {
    "duration": 13,
    "start_time": "2023-03-24T06:02:36.200Z"
   },
   {
    "duration": 14,
    "start_time": "2023-03-24T06:03:08.015Z"
   },
   {
    "duration": 14,
    "start_time": "2023-03-24T06:12:21.569Z"
   },
   {
    "duration": 2272,
    "start_time": "2023-03-24T06:13:01.742Z"
   },
   {
    "duration": 15,
    "start_time": "2023-03-24T06:13:05.533Z"
   },
   {
    "duration": 8,
    "start_time": "2023-03-24T06:13:16.031Z"
   },
   {
    "duration": 10,
    "start_time": "2023-03-24T06:13:22.276Z"
   },
   {
    "duration": 10,
    "start_time": "2023-03-24T06:13:44.503Z"
   },
   {
    "duration": 9,
    "start_time": "2023-03-24T06:13:50.012Z"
   },
   {
    "duration": 8,
    "start_time": "2023-03-24T06:14:04.289Z"
   },
   {
    "duration": 11,
    "start_time": "2023-03-24T06:14:22.922Z"
   },
   {
    "duration": 7,
    "start_time": "2023-03-24T06:14:34.100Z"
   },
   {
    "duration": 6,
    "start_time": "2023-03-24T06:14:44.167Z"
   },
   {
    "duration": 12,
    "start_time": "2023-03-24T06:15:00.926Z"
   },
   {
    "duration": 15,
    "start_time": "2023-03-24T06:15:09.489Z"
   },
   {
    "duration": 11,
    "start_time": "2023-03-24T06:15:16.994Z"
   },
   {
    "duration": 8,
    "start_time": "2023-03-24T06:15:25.771Z"
   },
   {
    "duration": 18,
    "start_time": "2023-03-24T06:15:36.748Z"
   },
   {
    "duration": 9,
    "start_time": "2023-03-24T06:15:45.291Z"
   },
   {
    "duration": 12,
    "start_time": "2023-03-24T06:16:32.462Z"
   },
   {
    "duration": 14,
    "start_time": "2023-03-24T06:17:10.272Z"
   },
   {
    "duration": 16,
    "start_time": "2023-03-24T06:17:51.203Z"
   },
   {
    "duration": 11,
    "start_time": "2023-03-24T06:18:29.999Z"
   },
   {
    "duration": 4,
    "start_time": "2023-03-24T06:18:37.470Z"
   },
   {
    "duration": 15,
    "start_time": "2023-03-24T06:18:40.130Z"
   },
   {
    "duration": 12,
    "start_time": "2023-03-24T06:20:45.256Z"
   },
   {
    "duration": 8,
    "start_time": "2023-03-24T06:20:49.900Z"
   },
   {
    "duration": 7,
    "start_time": "2023-03-24T06:21:13.648Z"
   },
   {
    "duration": 8,
    "start_time": "2023-03-24T06:21:33.028Z"
   },
   {
    "duration": 4,
    "start_time": "2023-03-24T06:22:04.567Z"
   },
   {
    "duration": 7,
    "start_time": "2023-03-24T06:22:06.548Z"
   },
   {
    "duration": 11,
    "start_time": "2023-03-24T06:22:38.708Z"
   },
   {
    "duration": 13,
    "start_time": "2023-03-24T06:22:54.879Z"
   },
   {
    "duration": 19,
    "start_time": "2023-03-24T06:23:32.426Z"
   },
   {
    "duration": 12,
    "start_time": "2023-03-24T06:23:42.332Z"
   },
   {
    "duration": 10,
    "start_time": "2023-03-24T06:23:45.065Z"
   },
   {
    "duration": 10,
    "start_time": "2023-03-24T06:23:57.048Z"
   },
   {
    "duration": 12,
    "start_time": "2023-03-24T06:24:12.378Z"
   },
   {
    "duration": 11,
    "start_time": "2023-03-24T06:25:04.314Z"
   },
   {
    "duration": 12,
    "start_time": "2023-03-24T06:25:12.032Z"
   },
   {
    "duration": 6,
    "start_time": "2023-03-24T06:25:41.147Z"
   },
   {
    "duration": 11,
    "start_time": "2023-03-24T06:25:44.896Z"
   },
   {
    "duration": 12,
    "start_time": "2023-03-24T06:25:54.065Z"
   },
   {
    "duration": 10,
    "start_time": "2023-03-24T06:26:06.157Z"
   },
   {
    "duration": 14,
    "start_time": "2023-03-24T06:26:20.521Z"
   },
   {
    "duration": 9,
    "start_time": "2023-03-24T06:35:20.016Z"
   },
   {
    "duration": 11,
    "start_time": "2023-03-24T06:35:25.447Z"
   },
   {
    "duration": 16,
    "start_time": "2023-03-24T06:35:39.927Z"
   },
   {
    "duration": 10,
    "start_time": "2023-03-24T06:35:47.491Z"
   },
   {
    "duration": 10,
    "start_time": "2023-03-24T06:36:11.076Z"
   },
   {
    "duration": 10,
    "start_time": "2023-03-24T06:36:42.604Z"
   },
   {
    "duration": 8,
    "start_time": "2023-03-24T06:36:51.105Z"
   },
   {
    "duration": 6,
    "start_time": "2023-03-24T06:36:58.355Z"
   },
   {
    "duration": 9,
    "start_time": "2023-03-24T06:37:02.361Z"
   },
   {
    "duration": 1090,
    "start_time": "2023-03-24T06:37:15.461Z"
   },
   {
    "duration": 13,
    "start_time": "2023-03-24T06:37:29.197Z"
   },
   {
    "duration": 11,
    "start_time": "2023-03-24T06:37:35.846Z"
   },
   {
    "duration": 7,
    "start_time": "2023-03-24T06:37:46.034Z"
   },
   {
    "duration": 6,
    "start_time": "2023-03-24T06:37:51.257Z"
   },
   {
    "duration": 7,
    "start_time": "2023-03-24T06:37:57.379Z"
   },
   {
    "duration": 5384,
    "start_time": "2023-03-24T06:39:19.045Z"
   },
   {
    "duration": 12,
    "start_time": "2023-03-24T06:39:34.197Z"
   },
   {
    "duration": 17,
    "start_time": "2023-03-24T06:40:18.325Z"
   },
   {
    "duration": 14,
    "start_time": "2023-03-24T06:40:31.672Z"
   },
   {
    "duration": 12,
    "start_time": "2023-03-24T06:40:43.072Z"
   },
   {
    "duration": 17,
    "start_time": "2023-03-24T06:40:54.131Z"
   },
   {
    "duration": 14,
    "start_time": "2023-03-24T06:55:53.828Z"
   },
   {
    "duration": 4,
    "start_time": "2023-03-24T06:55:59.485Z"
   },
   {
    "duration": 41,
    "start_time": "2023-03-24T06:55:59.491Z"
   },
   {
    "duration": 12,
    "start_time": "2023-03-24T06:55:59.533Z"
   },
   {
    "duration": 15,
    "start_time": "2023-03-24T06:55:59.548Z"
   },
   {
    "duration": 13,
    "start_time": "2023-03-24T06:55:59.565Z"
   },
   {
    "duration": 59,
    "start_time": "2023-03-24T06:55:59.580Z"
   },
   {
    "duration": 9,
    "start_time": "2023-03-24T06:55:59.641Z"
   },
   {
    "duration": 23,
    "start_time": "2023-03-24T06:55:59.652Z"
   },
   {
    "duration": 17,
    "start_time": "2023-03-24T06:55:59.678Z"
   },
   {
    "duration": 23,
    "start_time": "2023-03-24T06:55:59.697Z"
   },
   {
    "duration": 19,
    "start_time": "2023-03-24T06:55:59.721Z"
   },
   {
    "duration": 32,
    "start_time": "2023-03-24T06:55:59.742Z"
   },
   {
    "duration": 16,
    "start_time": "2023-03-24T06:55:59.776Z"
   },
   {
    "duration": 30,
    "start_time": "2023-03-24T06:55:59.794Z"
   },
   {
    "duration": 17,
    "start_time": "2023-03-24T06:55:59.826Z"
   },
   {
    "duration": 13,
    "start_time": "2023-03-24T06:55:59.845Z"
   },
   {
    "duration": 18,
    "start_time": "2023-03-24T06:55:59.860Z"
   },
   {
    "duration": 15,
    "start_time": "2023-03-24T06:55:59.880Z"
   },
   {
    "duration": 30,
    "start_time": "2023-03-24T06:55:59.897Z"
   },
   {
    "duration": 18,
    "start_time": "2023-03-24T06:55:59.929Z"
   },
   {
    "duration": 13,
    "start_time": "2023-03-24T06:55:59.950Z"
   },
   {
    "duration": 174,
    "start_time": "2023-03-24T06:55:59.964Z"
   },
   {
    "duration": 9,
    "start_time": "2023-03-24T06:56:00.140Z"
   },
   {
    "duration": 41,
    "start_time": "2023-03-24T06:56:00.150Z"
   },
   {
    "duration": 306,
    "start_time": "2023-03-24T06:56:03.799Z"
   },
   {
    "duration": 241,
    "start_time": "2023-03-24T06:56:31.253Z"
   },
   {
    "duration": 246,
    "start_time": "2023-03-24T06:56:35.382Z"
   },
   {
    "duration": 242,
    "start_time": "2023-03-24T06:57:13.352Z"
   },
   {
    "duration": 13,
    "start_time": "2023-03-24T06:57:54.104Z"
   },
   {
    "duration": 3,
    "start_time": "2023-03-24T06:58:01.045Z"
   },
   {
    "duration": 60,
    "start_time": "2023-03-24T06:58:01.051Z"
   },
   {
    "duration": 15,
    "start_time": "2023-03-24T06:58:01.114Z"
   },
   {
    "duration": 67,
    "start_time": "2023-03-24T06:58:01.132Z"
   },
   {
    "duration": 57,
    "start_time": "2023-03-24T06:58:01.201Z"
   },
   {
    "duration": 97,
    "start_time": "2023-03-24T06:58:01.259Z"
   },
   {
    "duration": 11,
    "start_time": "2023-03-24T06:58:01.358Z"
   },
   {
    "duration": 45,
    "start_time": "2023-03-24T06:58:01.371Z"
   },
   {
    "duration": 50,
    "start_time": "2023-03-24T06:58:01.417Z"
   },
   {
    "duration": 59,
    "start_time": "2023-03-24T06:58:01.470Z"
   },
   {
    "duration": 46,
    "start_time": "2023-03-24T06:58:01.531Z"
   },
   {
    "duration": 59,
    "start_time": "2023-03-24T06:58:01.580Z"
   },
   {
    "duration": 34,
    "start_time": "2023-03-24T06:58:01.641Z"
   },
   {
    "duration": 52,
    "start_time": "2023-03-24T06:58:01.679Z"
   },
   {
    "duration": 62,
    "start_time": "2023-03-24T06:58:01.733Z"
   },
   {
    "duration": 35,
    "start_time": "2023-03-24T06:58:01.797Z"
   },
   {
    "duration": 24,
    "start_time": "2023-03-24T06:58:01.834Z"
   },
   {
    "duration": 46,
    "start_time": "2023-03-24T06:58:01.860Z"
   },
   {
    "duration": 81,
    "start_time": "2023-03-24T06:58:01.910Z"
   },
   {
    "duration": 24,
    "start_time": "2023-03-24T06:58:01.993Z"
   },
   {
    "duration": 38,
    "start_time": "2023-03-24T06:58:02.019Z"
   },
   {
    "duration": 185,
    "start_time": "2023-03-24T06:58:02.059Z"
   },
   {
    "duration": 9,
    "start_time": "2023-03-24T06:58:02.246Z"
   },
   {
    "duration": 36,
    "start_time": "2023-03-24T06:58:02.256Z"
   },
   {
    "duration": 293,
    "start_time": "2023-03-24T06:58:02.294Z"
   },
   {
    "duration": 290,
    "start_time": "2023-03-24T06:58:02.589Z"
   },
   {
    "duration": 12,
    "start_time": "2023-03-24T06:58:02.881Z"
   },
   {
    "duration": 399,
    "start_time": "2023-03-24T06:58:02.895Z"
   },
   {
    "duration": 140,
    "start_time": "2023-03-24T06:58:03.296Z"
   },
   {
    "duration": 7,
    "start_time": "2023-03-24T06:58:03.438Z"
   },
   {
    "duration": 31,
    "start_time": "2023-03-24T06:58:03.446Z"
   },
   {
    "duration": 15,
    "start_time": "2023-03-24T06:58:03.479Z"
   },
   {
    "duration": 251,
    "start_time": "2023-03-24T06:58:03.495Z"
   },
   {
    "duration": 16,
    "start_time": "2023-03-24T06:58:03.748Z"
   },
   {
    "duration": 395,
    "start_time": "2023-03-24T06:58:03.765Z"
   },
   {
    "duration": 12,
    "start_time": "2023-03-24T06:58:04.162Z"
   },
   {
    "duration": 151,
    "start_time": "2023-03-24T06:58:04.176Z"
   },
   {
    "duration": 5,
    "start_time": "2023-03-24T06:58:04.329Z"
   },
   {
    "duration": 155,
    "start_time": "2023-03-24T06:58:04.336Z"
   },
   {
    "duration": 188,
    "start_time": "2023-03-24T06:58:04.493Z"
   },
   {
    "duration": 5,
    "start_time": "2023-03-24T06:58:04.684Z"
   },
   {
    "duration": 20,
    "start_time": "2023-03-24T06:58:04.691Z"
   },
   {
    "duration": 20,
    "start_time": "2023-03-24T06:58:04.712Z"
   },
   {
    "duration": 11,
    "start_time": "2023-03-24T06:58:04.734Z"
   },
   {
    "duration": 32,
    "start_time": "2023-03-24T06:58:04.747Z"
   },
   {
    "duration": 24,
    "start_time": "2023-03-24T06:58:04.781Z"
   },
   {
    "duration": 35,
    "start_time": "2023-03-24T06:58:04.808Z"
   },
   {
    "duration": 30,
    "start_time": "2023-03-24T06:58:04.845Z"
   },
   {
    "duration": 36,
    "start_time": "2023-03-24T06:58:04.877Z"
   },
   {
    "duration": 189,
    "start_time": "2023-03-24T06:58:04.914Z"
   },
   {
    "duration": 17,
    "start_time": "2023-03-24T06:58:05.105Z"
   },
   {
    "duration": 18,
    "start_time": "2023-03-24T06:58:05.124Z"
   },
   {
    "duration": 32,
    "start_time": "2023-03-24T06:58:05.144Z"
   },
   {
    "duration": 391,
    "start_time": "2023-03-24T06:58:05.178Z"
   },
   {
    "duration": 6,
    "start_time": "2023-03-24T06:58:05.571Z"
   },
   {
    "duration": 23,
    "start_time": "2023-03-24T06:58:05.579Z"
   },
   {
    "duration": 40,
    "start_time": "2023-03-24T06:58:05.604Z"
   },
   {
    "duration": 321,
    "start_time": "2023-03-24T06:58:05.647Z"
   },
   {
    "duration": 278,
    "start_time": "2023-03-24T06:58:55.789Z"
   },
   {
    "duration": 335,
    "start_time": "2023-03-24T06:59:20.940Z"
   },
   {
    "duration": 145,
    "start_time": "2023-03-24T07:00:08.939Z"
   },
   {
    "duration": 141,
    "start_time": "2023-03-24T07:00:18.601Z"
   },
   {
    "duration": 157,
    "start_time": "2023-03-24T07:00:48.799Z"
   },
   {
    "duration": 243,
    "start_time": "2023-03-24T07:01:02.119Z"
   },
   {
    "duration": 82,
    "start_time": "2023-03-24T07:03:53.839Z"
   },
   {
    "duration": 108,
    "start_time": "2023-03-24T07:12:43.850Z"
   },
   {
    "duration": 233,
    "start_time": "2023-03-24T07:13:50.206Z"
   },
   {
    "duration": 8,
    "start_time": "2023-03-24T07:14:14.832Z"
   },
   {
    "duration": 9,
    "start_time": "2023-03-24T07:14:38.915Z"
   },
   {
    "duration": 92,
    "start_time": "2023-03-24T07:15:10.212Z"
   },
   {
    "duration": 10,
    "start_time": "2023-03-24T07:17:37.234Z"
   },
   {
    "duration": 66,
    "start_time": "2023-03-24T07:19:45.128Z"
   },
   {
    "duration": 121,
    "start_time": "2023-03-24T07:19:57.642Z"
   },
   {
    "duration": 111,
    "start_time": "2023-03-24T07:20:36.309Z"
   },
   {
    "duration": 160,
    "start_time": "2023-03-24T07:21:13.827Z"
   },
   {
    "duration": 29,
    "start_time": "2023-03-24T07:21:39.492Z"
   },
   {
    "duration": 28,
    "start_time": "2023-03-24T07:22:04.384Z"
   },
   {
    "duration": 7,
    "start_time": "2023-03-24T07:22:29.917Z"
   },
   {
    "duration": 5,
    "start_time": "2023-03-24T07:22:37.787Z"
   },
   {
    "duration": 7,
    "start_time": "2023-03-24T07:22:45.408Z"
   },
   {
    "duration": 8,
    "start_time": "2023-03-24T07:23:16.618Z"
   },
   {
    "duration": 23,
    "start_time": "2023-03-24T07:23:57.568Z"
   },
   {
    "duration": 15,
    "start_time": "2023-03-24T07:24:07.216Z"
   },
   {
    "duration": 206,
    "start_time": "2023-03-24T07:29:12.399Z"
   },
   {
    "duration": 10,
    "start_time": "2023-03-24T07:29:17.844Z"
   },
   {
    "duration": 5,
    "start_time": "2023-03-24T07:32:33.285Z"
   },
   {
    "duration": 10,
    "start_time": "2023-03-24T07:32:42.699Z"
   },
   {
    "duration": 4,
    "start_time": "2023-03-24T07:32:49.117Z"
   },
   {
    "duration": 5,
    "start_time": "2023-03-24T07:33:04.396Z"
   },
   {
    "duration": 12,
    "start_time": "2023-03-24T07:36:42.014Z"
   },
   {
    "duration": 7,
    "start_time": "2023-03-24T07:36:47.825Z"
   },
   {
    "duration": 6,
    "start_time": "2023-03-24T07:37:34.628Z"
   },
   {
    "duration": 6,
    "start_time": "2023-03-24T07:37:59.064Z"
   },
   {
    "duration": 6,
    "start_time": "2023-03-24T07:38:09.042Z"
   },
   {
    "duration": 4,
    "start_time": "2023-03-24T07:38:19.406Z"
   },
   {
    "duration": 4,
    "start_time": "2023-03-24T07:39:05.635Z"
   },
   {
    "duration": 6,
    "start_time": "2023-03-24T07:39:11.965Z"
   },
   {
    "duration": 4,
    "start_time": "2023-03-24T07:39:52.851Z"
   },
   {
    "duration": 5,
    "start_time": "2023-03-24T07:39:56.002Z"
   },
   {
    "duration": 15,
    "start_time": "2023-03-24T07:41:03.867Z"
   },
   {
    "duration": 7,
    "start_time": "2023-03-24T07:41:08.785Z"
   },
   {
    "duration": 7,
    "start_time": "2023-03-24T07:41:12.837Z"
   },
   {
    "duration": 5,
    "start_time": "2023-03-24T07:41:21.327Z"
   },
   {
    "duration": 4,
    "start_time": "2023-03-24T07:42:10.781Z"
   },
   {
    "duration": 8,
    "start_time": "2023-03-24T07:42:14.683Z"
   },
   {
    "duration": 10,
    "start_time": "2023-03-24T07:42:38.580Z"
   },
   {
    "duration": 6,
    "start_time": "2023-03-24T07:42:43.145Z"
   },
   {
    "duration": 9,
    "start_time": "2023-03-24T07:42:45.329Z"
   },
   {
    "duration": 10,
    "start_time": "2023-03-24T07:43:08.585Z"
   },
   {
    "duration": 12,
    "start_time": "2023-03-24T07:43:41.723Z"
   },
   {
    "duration": 5,
    "start_time": "2023-03-24T07:44:24.138Z"
   },
   {
    "duration": 8,
    "start_time": "2023-03-24T07:46:38.423Z"
   },
   {
    "duration": 9,
    "start_time": "2023-03-24T07:47:06.381Z"
   },
   {
    "duration": 11,
    "start_time": "2023-03-24T07:47:42.136Z"
   },
   {
    "duration": 11,
    "start_time": "2023-03-24T07:47:53.673Z"
   },
   {
    "duration": 27,
    "start_time": "2023-03-24T07:50:22.989Z"
   },
   {
    "duration": 6,
    "start_time": "2023-03-24T07:50:32.849Z"
   },
   {
    "duration": 168,
    "start_time": "2023-03-24T08:32:22.591Z"
   },
   {
    "duration": 189,
    "start_time": "2023-03-24T08:32:31.665Z"
   },
   {
    "duration": 65,
    "start_time": "2023-03-24T08:33:01.334Z"
   },
   {
    "duration": 366,
    "start_time": "2023-03-24T08:33:25.117Z"
   },
   {
    "duration": 610,
    "start_time": "2023-03-24T08:33:34.039Z"
   },
   {
    "duration": 207,
    "start_time": "2023-03-24T08:34:22.580Z"
   },
   {
    "duration": 234,
    "start_time": "2023-03-24T08:34:30.447Z"
   },
   {
    "duration": 4,
    "start_time": "2023-03-24T08:34:50.411Z"
   },
   {
    "duration": 4,
    "start_time": "2023-03-24T08:36:39.754Z"
   },
   {
    "duration": 10,
    "start_time": "2023-03-24T08:36:43.637Z"
   },
   {
    "duration": 13,
    "start_time": "2023-03-24T08:37:23.537Z"
   },
   {
    "duration": 4,
    "start_time": "2023-03-24T08:38:23.758Z"
   },
   {
    "duration": 5,
    "start_time": "2023-03-24T08:38:24.879Z"
   },
   {
    "duration": 5,
    "start_time": "2023-03-24T08:44:05.695Z"
   },
   {
    "duration": 7,
    "start_time": "2023-03-24T08:45:09.580Z"
   },
   {
    "duration": 6,
    "start_time": "2023-03-24T08:45:14.188Z"
   },
   {
    "duration": 5,
    "start_time": "2023-03-24T08:45:21.347Z"
   },
   {
    "duration": 15,
    "start_time": "2023-03-24T08:47:18.985Z"
   },
   {
    "duration": 7,
    "start_time": "2023-03-24T08:47:24.859Z"
   },
   {
    "duration": 4,
    "start_time": "2023-03-24T08:47:25.775Z"
   },
   {
    "duration": 6,
    "start_time": "2023-03-24T08:47:30.500Z"
   },
   {
    "duration": 5,
    "start_time": "2023-03-24T08:47:56.657Z"
   },
   {
    "duration": 7,
    "start_time": "2023-03-24T08:48:04.590Z"
   },
   {
    "duration": 5,
    "start_time": "2023-03-24T08:48:05.103Z"
   },
   {
    "duration": 5,
    "start_time": "2023-03-24T08:48:05.443Z"
   },
   {
    "duration": 6,
    "start_time": "2023-03-24T08:49:01.255Z"
   },
   {
    "duration": 5,
    "start_time": "2023-03-24T08:49:01.660Z"
   },
   {
    "duration": 4,
    "start_time": "2023-03-24T08:49:03.206Z"
   },
   {
    "duration": 4,
    "start_time": "2023-03-24T08:49:56.051Z"
   },
   {
    "duration": 10,
    "start_time": "2023-03-24T08:49:56.264Z"
   },
   {
    "duration": 5,
    "start_time": "2023-03-24T08:50:00.868Z"
   },
   {
    "duration": 4,
    "start_time": "2023-03-24T08:51:16.466Z"
   },
   {
    "duration": 1739,
    "start_time": "2023-03-24T08:51:41.920Z"
   },
   {
    "duration": 5,
    "start_time": "2023-03-24T08:51:53.275Z"
   },
   {
    "duration": 5,
    "start_time": "2023-03-24T08:52:08.668Z"
   },
   {
    "duration": 7,
    "start_time": "2023-03-24T08:52:13.253Z"
   },
   {
    "duration": 63,
    "start_time": "2023-03-24T08:53:37.172Z"
   },
   {
    "duration": 1445,
    "start_time": "2023-03-24T08:58:09.923Z"
   },
   {
    "duration": 10,
    "start_time": "2023-03-24T08:59:18.541Z"
   },
   {
    "duration": 5,
    "start_time": "2023-03-24T08:59:23.270Z"
   },
   {
    "duration": 13,
    "start_time": "2023-03-24T09:00:24.013Z"
   },
   {
    "duration": 9,
    "start_time": "2023-03-24T09:00:37.871Z"
   },
   {
    "duration": 24,
    "start_time": "2023-03-24T09:00:51.343Z"
   },
   {
    "duration": 5,
    "start_time": "2023-03-24T09:05:48.092Z"
   },
   {
    "duration": 6,
    "start_time": "2023-03-24T09:05:53.407Z"
   },
   {
    "duration": 6,
    "start_time": "2023-03-24T09:06:31.063Z"
   },
   {
    "duration": 8,
    "start_time": "2023-03-24T09:06:44.410Z"
   },
   {
    "duration": 8,
    "start_time": "2023-03-24T09:07:09.561Z"
   },
   {
    "duration": 112,
    "start_time": "2023-03-24T09:23:02.432Z"
   },
   {
    "duration": 1191,
    "start_time": "2023-03-24T09:25:52.133Z"
   },
   {
    "duration": 79,
    "start_time": "2023-03-24T09:25:53.327Z"
   },
   {
    "duration": 25,
    "start_time": "2023-03-24T09:25:53.408Z"
   },
   {
    "duration": 20,
    "start_time": "2023-03-24T09:25:53.436Z"
   },
   {
    "duration": 22,
    "start_time": "2023-03-24T09:25:53.459Z"
   },
   {
    "duration": 58,
    "start_time": "2023-03-24T09:25:53.483Z"
   },
   {
    "duration": 8,
    "start_time": "2023-03-24T09:25:53.543Z"
   },
   {
    "duration": 13,
    "start_time": "2023-03-24T09:25:53.553Z"
   },
   {
    "duration": 6,
    "start_time": "2023-03-24T09:25:53.568Z"
   },
   {
    "duration": 26,
    "start_time": "2023-03-24T09:25:53.575Z"
   },
   {
    "duration": 11,
    "start_time": "2023-03-24T09:25:53.603Z"
   },
   {
    "duration": 22,
    "start_time": "2023-03-24T09:25:53.616Z"
   },
   {
    "duration": 9,
    "start_time": "2023-03-24T09:25:53.640Z"
   },
   {
    "duration": 4,
    "start_time": "2023-03-24T09:25:53.652Z"
   },
   {
    "duration": 20,
    "start_time": "2023-03-24T09:25:53.657Z"
   },
   {
    "duration": 12,
    "start_time": "2023-03-24T09:25:53.679Z"
   },
   {
    "duration": 11,
    "start_time": "2023-03-24T09:25:53.692Z"
   },
   {
    "duration": 10,
    "start_time": "2023-03-24T09:25:53.705Z"
   },
   {
    "duration": 20,
    "start_time": "2023-03-24T09:25:53.716Z"
   },
   {
    "duration": 18,
    "start_time": "2023-03-24T09:25:53.739Z"
   },
   {
    "duration": 16,
    "start_time": "2023-03-24T09:25:53.758Z"
   },
   {
    "duration": 197,
    "start_time": "2023-03-24T09:25:53.776Z"
   },
   {
    "duration": 8,
    "start_time": "2023-03-24T09:25:53.974Z"
   },
   {
    "duration": 17,
    "start_time": "2023-03-24T09:25:53.984Z"
   },
   {
    "duration": 354,
    "start_time": "2023-03-24T09:25:54.003Z"
   },
   {
    "duration": 244,
    "start_time": "2023-03-24T09:25:54.358Z"
   },
   {
    "duration": 15,
    "start_time": "2023-03-24T09:25:54.604Z"
   },
   {
    "duration": 375,
    "start_time": "2023-03-24T09:25:54.621Z"
   },
   {
    "duration": 135,
    "start_time": "2023-03-24T09:25:54.998Z"
   },
   {
    "duration": 8,
    "start_time": "2023-03-24T09:25:55.135Z"
   },
   {
    "duration": 27,
    "start_time": "2023-03-24T09:25:55.145Z"
   },
   {
    "duration": 14,
    "start_time": "2023-03-24T09:25:55.173Z"
   },
   {
    "duration": 314,
    "start_time": "2023-03-24T09:25:55.189Z"
   },
   {
    "duration": 12,
    "start_time": "2023-03-24T09:25:55.505Z"
   },
   {
    "duration": 358,
    "start_time": "2023-03-24T09:25:55.519Z"
   },
   {
    "duration": 11,
    "start_time": "2023-03-24T09:25:55.879Z"
   },
   {
    "duration": 167,
    "start_time": "2023-03-24T09:25:55.892Z"
   },
   {
    "duration": 4,
    "start_time": "2023-03-24T09:25:56.062Z"
   },
   {
    "duration": 178,
    "start_time": "2023-03-24T09:25:56.068Z"
   },
   {
    "duration": 169,
    "start_time": "2023-03-24T09:25:56.249Z"
   },
   {
    "duration": 6,
    "start_time": "2023-03-24T09:25:56.425Z"
   },
   {
    "duration": 18,
    "start_time": "2023-03-24T09:25:56.435Z"
   },
   {
    "duration": 112,
    "start_time": "2023-03-24T09:25:56.455Z"
   },
   {
    "duration": 15,
    "start_time": "2023-03-24T09:25:56.568Z"
   },
   {
    "duration": 133,
    "start_time": "2023-03-24T09:25:56.584Z"
   },
   {
    "duration": 10,
    "start_time": "2023-03-24T09:25:56.719Z"
   },
   {
    "duration": 34,
    "start_time": "2023-03-24T09:25:56.732Z"
   },
   {
    "duration": 18,
    "start_time": "2023-03-24T09:25:56.768Z"
   },
   {
    "duration": 165,
    "start_time": "2023-03-24T09:25:56.788Z"
   },
   {
    "duration": 4,
    "start_time": "2023-03-24T09:25:56.955Z"
   },
   {
    "duration": 23,
    "start_time": "2023-03-24T09:25:56.960Z"
   },
   {
    "duration": 22,
    "start_time": "2023-03-24T09:25:56.984Z"
   },
   {
    "duration": 14,
    "start_time": "2023-03-24T09:25:57.008Z"
   },
   {
    "duration": 20,
    "start_time": "2023-03-24T09:25:57.024Z"
   },
   {
    "duration": 30,
    "start_time": "2023-03-24T09:25:57.046Z"
   },
   {
    "duration": 5,
    "start_time": "2023-03-24T09:25:57.078Z"
   },
   {
    "duration": 8,
    "start_time": "2023-03-24T09:25:57.084Z"
   },
   {
    "duration": 11,
    "start_time": "2023-03-24T09:25:57.093Z"
   },
   {
    "duration": 17,
    "start_time": "2023-03-24T09:25:57.117Z"
   },
   {
    "duration": 8,
    "start_time": "2023-03-24T09:25:57.136Z"
   },
   {
    "duration": 18,
    "start_time": "2023-03-24T09:25:57.146Z"
   },
   {
    "duration": 9,
    "start_time": "2023-03-24T09:25:57.165Z"
   },
   {
    "duration": 38,
    "start_time": "2023-03-24T09:25:57.176Z"
   },
   {
    "duration": 9,
    "start_time": "2023-03-24T09:25:57.216Z"
   },
   {
    "duration": 17,
    "start_time": "2023-03-24T09:25:57.227Z"
   },
   {
    "duration": 1283,
    "start_time": "2023-03-25T07:11:37.691Z"
   },
   {
    "duration": 155,
    "start_time": "2023-03-25T07:11:38.976Z"
   },
   {
    "duration": 15,
    "start_time": "2023-03-25T07:11:39.132Z"
   },
   {
    "duration": 13,
    "start_time": "2023-03-25T07:11:39.149Z"
   },
   {
    "duration": 7,
    "start_time": "2023-03-25T07:11:39.163Z"
   },
   {
    "duration": 154,
    "start_time": "2023-03-25T07:11:39.172Z"
   },
   {
    "duration": 9,
    "start_time": "2023-03-25T07:11:39.328Z"
   },
   {
    "duration": 18,
    "start_time": "2023-03-25T07:11:39.340Z"
   },
   {
    "duration": 4,
    "start_time": "2023-03-25T07:11:39.360Z"
   },
   {
    "duration": 15,
    "start_time": "2023-03-25T07:11:39.367Z"
   },
   {
    "duration": 10,
    "start_time": "2023-03-25T07:11:39.384Z"
   },
   {
    "duration": 11,
    "start_time": "2023-03-25T07:11:39.403Z"
   },
   {
    "duration": 15,
    "start_time": "2023-03-25T07:11:39.416Z"
   },
   {
    "duration": 6,
    "start_time": "2023-03-25T07:11:39.432Z"
   },
   {
    "duration": 8,
    "start_time": "2023-03-25T07:11:39.440Z"
   },
   {
    "duration": 7,
    "start_time": "2023-03-25T07:11:39.449Z"
   },
   {
    "duration": 3,
    "start_time": "2023-03-25T07:11:39.458Z"
   },
   {
    "duration": 41,
    "start_time": "2023-03-25T07:11:39.462Z"
   },
   {
    "duration": 12,
    "start_time": "2023-03-25T07:11:39.505Z"
   },
   {
    "duration": 11,
    "start_time": "2023-03-25T07:11:39.518Z"
   },
   {
    "duration": 12,
    "start_time": "2023-03-25T07:11:39.531Z"
   },
   {
    "duration": 211,
    "start_time": "2023-03-25T07:11:39.544Z"
   },
   {
    "duration": 8,
    "start_time": "2023-03-25T07:11:39.757Z"
   },
   {
    "duration": 8,
    "start_time": "2023-03-25T07:11:39.767Z"
   },
   {
    "duration": 351,
    "start_time": "2023-03-25T07:11:39.777Z"
   },
   {
    "duration": 241,
    "start_time": "2023-03-25T07:11:40.130Z"
   },
   {
    "duration": 12,
    "start_time": "2023-03-25T07:11:40.373Z"
   },
   {
    "duration": 389,
    "start_time": "2023-03-25T07:11:40.405Z"
   },
   {
    "duration": 141,
    "start_time": "2023-03-25T07:11:40.796Z"
   },
   {
    "duration": 7,
    "start_time": "2023-03-25T07:11:40.938Z"
   },
   {
    "duration": 11,
    "start_time": "2023-03-25T07:11:40.947Z"
   },
   {
    "duration": 7,
    "start_time": "2023-03-25T07:11:40.959Z"
   },
   {
    "duration": 324,
    "start_time": "2023-03-25T07:11:40.967Z"
   },
   {
    "duration": 12,
    "start_time": "2023-03-25T07:11:41.293Z"
   },
   {
    "duration": 342,
    "start_time": "2023-03-25T07:11:41.307Z"
   },
   {
    "duration": 11,
    "start_time": "2023-03-25T07:11:41.651Z"
   },
   {
    "duration": 168,
    "start_time": "2023-03-25T07:11:41.664Z"
   },
   {
    "duration": 5,
    "start_time": "2023-03-25T07:11:41.834Z"
   },
   {
    "duration": 195,
    "start_time": "2023-03-25T07:11:41.841Z"
   },
   {
    "duration": 162,
    "start_time": "2023-03-25T07:11:42.038Z"
   },
   {
    "duration": 4,
    "start_time": "2023-03-25T07:11:42.203Z"
   },
   {
    "duration": 10,
    "start_time": "2023-03-25T07:11:42.209Z"
   },
   {
    "duration": 112,
    "start_time": "2023-03-25T07:11:42.221Z"
   },
   {
    "duration": 14,
    "start_time": "2023-03-25T07:11:42.335Z"
   },
   {
    "duration": 121,
    "start_time": "2023-03-25T07:11:42.351Z"
   },
   {
    "duration": 7,
    "start_time": "2023-03-25T07:11:42.473Z"
   },
   {
    "duration": 31,
    "start_time": "2023-03-25T07:11:42.482Z"
   },
   {
    "duration": 9,
    "start_time": "2023-03-25T07:11:42.515Z"
   },
   {
    "duration": 158,
    "start_time": "2023-03-25T07:11:42.526Z"
   },
   {
    "duration": 4,
    "start_time": "2023-03-25T07:11:42.686Z"
   },
   {
    "duration": 16,
    "start_time": "2023-03-25T07:11:42.691Z"
   },
   {
    "duration": 10,
    "start_time": "2023-03-25T07:11:42.708Z"
   },
   {
    "duration": 9,
    "start_time": "2023-03-25T07:11:42.720Z"
   },
   {
    "duration": 7,
    "start_time": "2023-03-25T07:11:42.732Z"
   },
   {
    "duration": 22,
    "start_time": "2023-03-25T07:11:42.740Z"
   },
   {
    "duration": 42,
    "start_time": "2023-03-25T07:11:42.764Z"
   },
   {
    "duration": 14,
    "start_time": "2023-03-25T07:11:42.808Z"
   },
   {
    "duration": 23,
    "start_time": "2023-03-25T07:11:42.824Z"
   },
   {
    "duration": 7,
    "start_time": "2023-03-25T07:11:42.849Z"
   },
   {
    "duration": 6,
    "start_time": "2023-03-25T07:11:42.858Z"
   },
   {
    "duration": 6,
    "start_time": "2023-03-25T07:11:42.866Z"
   },
   {
    "duration": 11,
    "start_time": "2023-03-25T07:11:42.874Z"
   },
   {
    "duration": 32,
    "start_time": "2023-03-25T07:11:42.903Z"
   },
   {
    "duration": 9,
    "start_time": "2023-03-25T07:11:42.937Z"
   },
   {
    "duration": 8,
    "start_time": "2023-03-25T07:11:42.948Z"
   }
  ],
  "kernelspec": {
   "display_name": "Python 3 (ipykernel)",
   "language": "python",
   "name": "python3"
  },
  "language_info": {
   "codemirror_mode": {
    "name": "ipython",
    "version": 3
   },
   "file_extension": ".py",
   "mimetype": "text/x-python",
   "name": "python",
   "nbconvert_exporter": "python",
   "pygments_lexer": "ipython3",
   "version": "3.9.13"
  },
  "toc": {
   "base_numbering": 1,
   "nav_menu": {
    "height": "38.9886px",
    "width": "195px"
   },
   "number_sections": true,
   "sideBar": true,
   "skip_h1_title": true,
   "title_cell": "Table of Contents",
   "title_sidebar": "Contents",
   "toc_cell": false,
   "toc_position": {
    "height": "calc(100% - 180px)",
    "left": "10px",
    "top": "150px",
    "width": "261.523px"
   },
   "toc_section_display": true,
   "toc_window_display": true
  }
 },
 "nbformat": 4,
 "nbformat_minor": 2
}
